{
 "cells": [
  {
   "cell_type": "markdown",
   "id": "de9a8a46",
   "metadata": {
    "_cell_guid": "f2f9f8a0-19ee-4f1b-beb1-24d463773090",
    "_uuid": "98dd585c-e198-4593-9a32-e1207cacdce1",
    "collapsed": false,
    "jupyter": {
     "outputs_hidden": false
    },
    "papermill": {
     "duration": 0.003897,
     "end_time": "2025-06-07T10:31:26.412589",
     "exception": false,
     "start_time": "2025-06-07T10:31:26.408692",
     "status": "completed"
    },
    "tags": []
   },
   "source": [
    "# 🖥️ MNIST Experiment\n",
    "#\n",
    "In this notebook, we train:\n",
    "1. The Bayes by Backprop model on MNIST for every combination of (π, σ₁, σ₂).  \n",
    "2. A standard feedforward neural network (two hidden layers) optimized with SGD and no regularization.  \n",
    "3. The same feedforward network, but with Dropout applied to both hidden layers, still optimized with SGD.  \n",
    "#\n",
    "During each training loop, we display progress bars for both epochs and batches, along with printed outputs of key metrics."
   ]
  },
  {
   "cell_type": "markdown",
   "id": "d85d6a2d",
   "metadata": {},
   "source": [
    "### 🔧 Environment Setup\n",
    "\n",
    "This section initializes the environment for training a PyTorch model:\n",
    "\n",
    "- Imports necessary libraries including PyTorch, NumPy, and torchvision for data handling.\n",
    "- Uses `tqdm` for progress bars during training.\n",
    "- Automatically selects the available device: GPU (`cuda`) if present, otherwise defaults to CPU.\n",
    "- Prints the selected device to confirm which hardware will be used for computations."
   ]
  },
  {
   "cell_type": "code",
   "execution_count": null,
   "id": "73a36c4a",
   "metadata": {
    "_cell_guid": "5e3a1e5d-8775-4c4f-be02-ae0b2e23af1d",
    "_uuid": "094c1940-40a2-41e0-93b5-8b90cb508096",
    "collapsed": false,
    "execution": {
     "iopub.execute_input": "2025-06-13T12:32:01.168972Z",
     "iopub.status.busy": "2025-06-13T12:32:01.168349Z",
     "iopub.status.idle": "2025-06-13T12:32:08.214783Z",
     "shell.execute_reply": "2025-06-13T12:32:08.214017Z",
     "shell.execute_reply.started": "2025-06-13T12:32:01.168919Z"
    },
    "jupyter": {
     "outputs_hidden": false
    },
    "papermill": {
     "duration": 8.652094,
     "end_time": "2025-06-07T10:31:35.067916",
     "exception": false,
     "start_time": "2025-06-07T10:31:26.415822",
     "status": "completed"
    },
    "tags": [],
    "trusted": true
   },
   "outputs": [
    {
     "name": "stdout",
     "output_type": "stream",
     "text": [
      "🚀 Usando device: cuda\n"
     ]
    }
   ],
   "source": [
    "import torch\n",
    "import torch.nn as nn\n",
    "import torch.nn.functional as F\n",
    "import torch.optim as optim\n",
    "import numpy as np\n",
    "import random\n",
    "from torchvision import datasets, transforms\n",
    "from torch.utils.data import DataLoader\n",
    "from tqdm import trange, tqdm\n",
    "import math\n",
    "\n",
    "# Set the device (GPU if available, otherwise CPU)\n",
    "device = torch.device(\"cuda\") if torch.cuda.is_available() else torch.device(\"cpu\")\n",
    "print(f\"🚀 Using device: {device}\")"
   ]
  },
  {
   "cell_type": "markdown",
   "id": "cc2879d3",
   "metadata": {
    "_cell_guid": "03b356fb-af0f-4829-b279-91ac2a37ad59",
    "_uuid": "5ce97bc8-8461-4d2a-9c55-8d193d21d22f",
    "collapsed": false,
    "jupyter": {
     "outputs_hidden": false
    },
    "papermill": {
     "duration": 0.002973,
     "end_time": "2025-06-07T10:31:35.074438",
     "exception": false,
     "start_time": "2025-06-07T10:31:35.071465",
     "status": "completed"
    },
    "tags": []
   },
   "source": [
    "### 📚 Dataset Preparation: TensorFlow and PyTorch Versions of MNIST\n",
    "\n",
    "This section performs the following:\n",
    "\n",
    "#### TensorFlow\n",
    "- Loads the MNIST dataset using `tf.keras.datasets`.\n",
    "- Normalizes pixel values to [0, 1].\n",
    "- Flattens 28×28 images into 784-dimensional vectors.\n",
    "\n",
    "#### PyTorch\n",
    "- Downloads and transforms the MNIST dataset using `torchvision`.\n",
    "- Applies `ToTensor()` and reshapes the images to 1D vectors.\n",
    "- Sets up `DataLoader` objects for training and testing with appropriate batch sizes and performance optimizations.\n",
    "\n",
    "#### Shared Hyperparameters\n",
    "- Defines standard values for learning rate, batch size, input/output dimensions, and number of epochs.\n",
    "- Logs dataset sizes and input dimensions for confirmation."
   ]
  },
  {
   "cell_type": "code",
   "execution_count": null,
   "id": "4037acf5",
   "metadata": {
    "_cell_guid": "144df986-7e27-402a-96a6-8456395e7d1f",
    "_uuid": "c3c5181f-71ad-48b3-8d72-6e1b206cf77c",
    "collapsed": false,
    "execution": {
     "iopub.execute_input": "2025-06-13T12:32:08.216109Z",
     "iopub.status.busy": "2025-06-13T12:32:08.215826Z",
     "iopub.status.idle": "2025-06-13T12:32:23.659195Z",
     "shell.execute_reply": "2025-06-13T12:32:23.658269Z",
     "shell.execute_reply.started": "2025-06-13T12:32:08.216093Z"
    },
    "jupyter": {
     "outputs_hidden": false
    },
    "papermill": {
     "duration": 26.779694,
     "end_time": "2025-06-07T10:32:01.857135",
     "exception": false,
     "start_time": "2025-06-07T10:31:35.077441",
     "status": "completed"
    },
    "tags": [],
    "trusted": true
   },
   "outputs": [
    {
     "name": "stderr",
     "output_type": "stream",
     "text": [
      "2025-06-13 12:32:09.597452: E external/local_xla/xla/stream_executor/cuda/cuda_fft.cc:477] Unable to register cuFFT factory: Attempting to register factory for plugin cuFFT when one has already been registered\n",
      "WARNING: All log messages before absl::InitializeLog() is called are written to STDERR\n",
      "E0000 00:00:1749817929.795861      35 cuda_dnn.cc:8310] Unable to register cuDNN factory: Attempting to register factory for plugin cuDNN when one has already been registered\n",
      "E0000 00:00:1749817929.851427      35 cuda_blas.cc:1418] Unable to register cuBLAS factory: Attempting to register factory for plugin cuBLAS when one has already been registered\n"
     ]
    },
    {
     "name": "stdout",
     "output_type": "stream",
     "text": [
      "Downloading data from https://storage.googleapis.com/tensorflow/tf-keras-datasets/mnist.npz\n",
      "\u001b[1m11490434/11490434\u001b[0m \u001b[32m━━━━━━━━━━━━━━━━━━━━\u001b[0m\u001b[37m\u001b[0m \u001b[1m0s\u001b[0m 0us/step\n",
      "✅ TF MNIST: 60000 train, 10000 test, input_dim = 784\n"
     ]
    },
    {
     "name": "stderr",
     "output_type": "stream",
     "text": [
      "100%|██████████| 9.91M/9.91M [00:00<00:00, 53.0MB/s]\n",
      "100%|██████████| 28.9k/28.9k [00:00<00:00, 1.65MB/s]\n",
      "100%|██████████| 1.65M/1.65M [00:00<00:00, 14.5MB/s]\n",
      "100%|██████████| 4.54k/4.54k [00:00<00:00, 9.72MB/s]"
     ]
    },
    {
     "name": "stdout",
     "output_type": "stream",
     "text": [
      "✅ Torch MNIST: 60000 train, 10000 test, input_dim = 784\n",
      "✅ Caricati MNIST: 60000 train, 10000 test, input_dim = 784\n"
     ]
    },
    {
     "name": "stderr",
     "output_type": "stream",
     "text": [
      "\n"
     ]
    }
   ],
   "source": [
    "# %% [code]\n",
    "# 📦 TensorFlow + TF Probability\n",
    "import tensorflow as tf\n",
    "\n",
    "# Load MNIST dataset\n",
    "(x_train_tf, y_train_tf), (x_test_tf, y_test_tf) = tf.keras.datasets.mnist.load_data()\n",
    "\n",
    "# Normalize and reshape the data\n",
    "x_train_tf = x_train_tf.astype('float32') / 255.0\n",
    "x_test_tf  = x_test_tf.astype('float32') / 255.0\n",
    "x_train_tf = x_train_tf.reshape(-1, 28 * 28)\n",
    "x_test_tf  = x_test_tf.reshape(-1, 28 * 28)\n",
    "\n",
    "print(f\"✅ TF MNIST: {x_train_tf.shape[0]} train, {x_test_tf.shape[0]} test, input_dim = {x_train_tf.shape[1]}\")\n",
    "\n",
    "# %% [code]\n",
    "# 🔥 PyTorch\n",
    "import torch\n",
    "from torchvision import datasets, transforms\n",
    "from torch.utils.data import DataLoader\n",
    "\n",
    "# Transform: convert to Tensor and flatten\n",
    "transform = transforms.Compose([\n",
    "    transforms.ToTensor(),                              # Converts [0,255] to [0,1] and to FloatTensor C×H×W\n",
    "    transforms.Lambda(lambda x: x.view(-1))             # Flattens 28×28 image to a vector of 784\n",
    "])\n",
    "\n",
    "# Download and prepare datasets\n",
    "train_dataset_torch = datasets.MNIST(root='./data', train=True,  download=True, transform=transform)\n",
    "test_dataset_torch  = datasets.MNIST(root='./data', train=False, download=True, transform=transform)\n",
    "\n",
    "# Create DataLoaders\n",
    "BATCH_SIZE_TORCH = 512\n",
    "train_loader_torch = DataLoader(train_dataset_torch, batch_size=BATCH_SIZE_TORCH,\n",
    "                                shuffle=True,  num_workers=4, pin_memory=True)\n",
    "test_loader_torch  = DataLoader(test_dataset_torch,  batch_size=1000,\n",
    "                                shuffle=False, num_workers=2, pin_memory=True)\n",
    "\n",
    "print(f\"✅ Torch MNIST: {len(train_dataset_torch)} train, {len(test_dataset_torch)} test, input_dim = {28*28}\")\n",
    "\n",
    "# Hyperparameters\n",
    "NUM_EPOCHS = 600\n",
    "LR = 1e-3\n",
    "BATCH_SIZE = 1024\n",
    "INPUT_DIM = 28 * 28\n",
    "HIDDEN_DIM = 800\n",
    "OUTPUT_DIM = 10\n",
    "INPUT_DIM = 28 * 28\n",
    "N_TRAIN = len(train_dataset_torch)\n",
    "N_TEST  = len(test_dataset_torch)\n",
    "print(f\"✅ Loaded MNIST: {N_TRAIN} train, {N_TEST} test, input_dim = {INPUT_DIM}\")"
   ]
  },
  {
   "cell_type": "markdown",
   "id": "8485ee3a",
   "metadata": {
    "_cell_guid": "eec43616-1085-4305-a6e2-a431426253ab",
    "_uuid": "63bd25eb-a017-4b56-9f21-ae1227c1a4dc",
    "collapsed": false,
    "jupyter": {
     "outputs_hidden": false
    },
    "papermill": {
     "duration": 0.005001,
     "end_time": "2025-06-07T10:32:01.867918",
     "exception": false,
     "start_time": "2025-06-07T10:32:01.862917",
     "status": "completed"
    },
    "tags": []
   },
   "source": [
    "### 🧠 Model Definitions: Bayesian and Feedforward Networks\n",
    "\n",
    "This section implements three neural network architectures for MNIST classification:\n",
    "\n",
    "#### 1. `BayesianLinear` Layer\n",
    "- Custom fully-connected layer with Bayesian treatment of weights.\n",
    "- Learns distributions (`μ`, `ρ`) instead of point estimates.\n",
    "- Samples weights during training and computes log posterior (`log_qw`).\n",
    "\n",
    "#### 2. `BayesianNet`\n",
    "- A 3-layer fully connected Bayesian neural network using `BayesianLinear`.\n",
    "- Uses a mixture of Gaussians prior (π, σ₁, σ₂).\n",
    "- During forward pass, samples weights and accumulates KL divergence for ELBO.\n",
    "\n",
    "#### 3. `FFNet`\n",
    "- A standard feedforward network with two hidden ReLU layers and no regularization.\n",
    "\n",
    "#### 4. `FFNetDropout`\n",
    "- Identical to `FFNet`, but applies Dropout (p=0.5) after each hidden layer to prevent overfitting.\n",
    "\n",
    "#### Other Elements\n",
    "- `log_mixture_prior`: computes log-probabilities under a mixture Gaussian prior.\n",
    "- `train_loader` and `test_loader`: PyTorch `DataLoader` objects for efficient batching.\n",
    "- `criterion`: Cross-entropy loss used for classification."
   ]
  },
  {
   "cell_type": "code",
   "execution_count": null,
   "id": "ebb38acd",
   "metadata": {
    "_cell_guid": "10be5143-293d-407c-8a6c-74ddac84f893",
    "_uuid": "d4e04a7f-2fda-4c62-89fc-5e0675ba0312",
    "collapsed": false,
    "execution": {
     "iopub.execute_input": "2025-06-13T12:32:23.660544Z",
     "iopub.status.busy": "2025-06-13T12:32:23.660039Z",
     "iopub.status.idle": "2025-06-13T12:32:23.680658Z",
     "shell.execute_reply": "2025-06-13T12:32:23.679891Z",
     "shell.execute_reply.started": "2025-06-13T12:32:23.660524Z"
    },
    "jupyter": {
     "outputs_hidden": false
    },
    "papermill": {
     "duration": 0.02673,
     "end_time": "2025-06-07T10:32:01.899663",
     "exception": false,
     "start_time": "2025-06-07T10:32:01.872933",
     "status": "completed"
    },
    "tags": [],
    "trusted": true
   },
   "outputs": [],
   "source": [
    "# ------------------------------------------------------------\n",
    "# (1) BayesianLinear Layer and BayesianNet Model\n",
    "# ------------------------------------------------------------\n",
    "class BayesianLinear(nn.Module):\n",
    "    \"\"\"\n",
    "    Fully-connected Bayesian layer:\n",
    "     - defines μ and ρ parameters for weights and biases\n",
    "     - σ = log(1 + exp(ρ)) ensures positivity and stability\n",
    "     - log_qw is computed during each forward pass\n",
    "    \"\"\"\n",
    "    def __init__(self, in_features: int, out_features: int):\n",
    "        super().__init__()\n",
    "        self.in_features  = in_features\n",
    "        self.out_features = out_features\n",
    "\n",
    "        # Parameters μ and ρ\n",
    "        self.mu_weight  = nn.Parameter(torch.zeros(out_features, in_features))\n",
    "        self.rho_weight = nn.Parameter(torch.ones(out_features, in_features) * -3.0)\n",
    "        self.mu_bias    = nn.Parameter(torch.zeros(out_features))\n",
    "        self.rho_bias   = nn.Parameter(torch.ones(out_features) * -3.0)\n",
    "\n",
    "        # log_qw will be stored after sampling\n",
    "        self.log_qw = None\n",
    "\n",
    "    def compute_log_qw(self, w: torch.Tensor, sigma_w: torch.Tensor) -> torch.Tensor:\n",
    "        \"\"\"\n",
    "        Compute log q(w) = -0.5 * sum( log(2πσ²) + ((w - μ)² / σ²) )\n",
    "        \"\"\"\n",
    "        return -0.5 * torch.sum(torch.log(2 * torch.pi * sigma_w**2) +\n",
    "                                ((w - self.mu_weight) ** 2) / (sigma_w**2))\n",
    "\n",
    "    def sample_weight_and_bias(self) -> (torch.Tensor, torch.Tensor, torch.Tensor):\n",
    "        \"\"\"\n",
    "        Sample (weights, biases) and return log_qw for KL divergence calculation.\n",
    "        \"\"\"\n",
    "        sigma_w = torch.log1p(torch.exp(self.rho_weight))\n",
    "        sigma_b = torch.log1p(torch.exp(self.rho_bias))\n",
    "\n",
    "        eps_w = torch.randn_like(self.mu_weight)\n",
    "        eps_b = torch.randn_like(self.mu_bias)\n",
    "        w = self.mu_weight + sigma_w * eps_w\n",
    "        b = self.mu_bias   + sigma_b * eps_b\n",
    "\n",
    "        log_qw = self.compute_log_qw(w, sigma_w)\n",
    "        return w, b, log_qw\n",
    "\n",
    "    def forward(self, x: torch.Tensor, sample: bool = True) -> torch.Tensor:\n",
    "        \"\"\"\n",
    "        If sample=True and model is training, sample weights and biases;\n",
    "        otherwise use mean values (μ). Computes and stores log_qw.\n",
    "        \"\"\"\n",
    "        sigma_w = torch.log1p(torch.exp(self.rho_weight))\n",
    "        sigma_b = torch.log1p(torch.exp(self.rho_bias))\n",
    "\n",
    "        if self.training and sample:\n",
    "            eps_w = torch.randn_like(self.mu_weight)\n",
    "            eps_b = torch.randn_like(self.mu_bias)\n",
    "            w = self.mu_weight + sigma_w * eps_w\n",
    "            b = self.mu_bias   + sigma_b * eps_b\n",
    "        else:\n",
    "            w = self.mu_weight\n",
    "            b = self.mu_bias\n",
    "\n",
    "        self.log_qw = -0.5 * torch.sum(torch.log(2 * torch.pi * sigma_w**2) +\n",
    "                                       ((w - self.mu_weight)**2) / (sigma_w**2))\n",
    "\n",
    "        return F.linear(x, w, b)\n",
    "\n",
    "\n",
    "def log_mixture_prior(w_flat: torch.Tensor, pi: float, sigma1: float, sigma2: float) -> torch.Tensor:\n",
    "    \"\"\"\n",
    "    Compute log[ π N(0,σ1²) + (1−π) N(0,σ2²) ] for each element of w_flat,\n",
    "    then return the total log-probability.\n",
    "    \"\"\"\n",
    "    log_const1 = 0.5 * math.log(2 * math.pi * sigma1**2)\n",
    "    log_const2 = 0.5 * math.log(2 * math.pi * sigma2**2)\n",
    "\n",
    "    log_prob1 = -0.5 * (w_flat ** 2) / (sigma1 ** 2) - log_const1\n",
    "    log_prob2 = -0.5 * (w_flat ** 2) / (sigma2 ** 2) - log_const2\n",
    "\n",
    "    log_pi         = math.log(pi)\n",
    "    log_1_minus_pi = math.log(1.0 - pi)\n",
    "\n",
    "    t1 = log_prob1 + log_pi\n",
    "    t2 = log_prob2 + log_1_minus_pi\n",
    "\n",
    "    max_log = torch.max(t1, t2)\n",
    "    log_mix = max_log + torch.log(torch.exp(t1 - max_log) + torch.exp(t2 - max_log))\n",
    "\n",
    "    return log_mix.sum()\n",
    "\n",
    "\n",
    "class BayesianNet(nn.Module):\n",
    "    \"\"\"\n",
    "    Fully-connected Bayesian network with 3 layers (2 hidden + output).\n",
    "    \"\"\"\n",
    "    def __init__(self, input_dim, hidden_dim, output_dim, pi, sigma1, sigma2):\n",
    "        super().__init__()\n",
    "        # Prior parameters\n",
    "        self.pi     = pi\n",
    "        self.sigma1 = sigma1\n",
    "        self.sigma2 = sigma2\n",
    "\n",
    "        # Bayesian layers\n",
    "        self.bl1 = BayesianLinear(input_dim,  hidden_dim)\n",
    "        self.bl2 = BayesianLinear(hidden_dim, hidden_dim)\n",
    "        self.bl3 = BayesianLinear(hidden_dim, output_dim)\n",
    "\n",
    "        # KL divergence accumulator\n",
    "        self.kl = None\n",
    "\n",
    "    def forward(self, x: torch.Tensor) -> torch.Tensor:\n",
    "        self.kl = 0.0\n",
    "\n",
    "        ####### LAYER 1 #######\n",
    "        w1, b1, log_qw1 = self.bl1.sample_weight_and_bias()\n",
    "        w1_flat = torch.cat([w1.view(-1), b1.view(-1)])\n",
    "        log_pw1 = log_mixture_prior(w1_flat, self.pi, self.sigma1, self.sigma2)\n",
    "        self.kl += (log_qw1 - log_pw1)\n",
    "        x1 = F.relu(F.linear(x, w1, b1))\n",
    "\n",
    "        ####### LAYER 2 #######\n",
    "        w2, b2, log_qw2 = self.bl2.sample_weight_and_bias()\n",
    "        w2_flat = torch.cat([w2.view(-1), b2.view(-1)])\n",
    "        log_pw2 = log_mixture_prior(w2_flat, self.pi, self.sigma1, self.sigma2)\n",
    "        self.kl += (log_qw2 - log_pw2)\n",
    "        x2 = F.relu(F.linear(x1, w2, b2))\n",
    "\n",
    "        ####### OUTPUT LAYER #######\n",
    "        w3, b3, log_qw3 = self.bl3.sample_weight_and_bias()\n",
    "        w3_flat = torch.cat([w3.view(-1), b3.view(-1)])\n",
    "        log_pw3 = log_mixture_prior(w3_flat, self.pi, self.sigma1, self.sigma2)\n",
    "        self.kl += (log_qw3 - log_pw3)\n",
    "        logits = F.linear(x2, w3, b3)\n",
    "\n",
    "        return logits\n",
    "\n",
    "\n",
    "# DataLoaders for training and testing\n",
    "train_loader = DataLoader(\n",
    "    train_dataset_torch,\n",
    "    batch_size=BATCH_SIZE,\n",
    "    shuffle=True,\n",
    "    num_workers=4,\n",
    "    pin_memory=True\n",
    ")\n",
    "test_loader = DataLoader(\n",
    "    test_dataset_torch,\n",
    "    batch_size=BATCH_SIZE,\n",
    "    shuffle=False,\n",
    "    num_workers=2,\n",
    "    pin_memory=True\n",
    ")\n",
    "\n",
    "class FFNet(nn.Module):\n",
    "    \"\"\"\n",
    "    Standard feedforward neural network with 2 hidden ReLU layers.\n",
    "    \"\"\"\n",
    "    def __init__(self, input_dim, hidden_dim, output_dim):\n",
    "        super().__init__()\n",
    "        self.fc1 = nn.Linear(input_dim,  hidden_dim)\n",
    "        self.fc2 = nn.Linear(hidden_dim, hidden_dim)\n",
    "        self.fc3 = nn.Linear(hidden_dim, output_dim)\n",
    "\n",
    "    def forward(self, x):\n",
    "        x = F.relu(self.fc1(x))\n",
    "        x = F.relu(self.fc2(x))\n",
    "        x = self.fc3(x)\n",
    "        return x\n",
    "\n",
    "class FFNetDropout(nn.Module):\n",
    "    \"\"\"\n",
    "    Same architecture as FFNet, but with Dropout (p=0.5) after each hidden layer.\n",
    "    \"\"\"\n",
    "    def __init__(self, input_dim, hidden_dim, output_dim, p: float = 0.5):\n",
    "        super().__init__()\n",
    "        self.fc1 = nn.Linear(input_dim,  hidden_dim)\n",
    "        self.fc2 = nn.Linear(hidden_dim, hidden_dim)\n",
    "        self.fc3 = nn.Linear(hidden_dim, output_dim)\n",
    "        self.dropout = nn.Dropout(p)\n",
    "\n",
    "    def forward(self, x):\n",
    "        x = F.relu(self.fc1(x))\n",
    "        x = self.dropout(x)\n",
    "        x = F.relu(self.fc2(x))\n",
    "        x = self.dropout(x)\n",
    "        x = self.fc3(x)\n",
    "        return x\n",
    "\n",
    "# Loss function\n",
    "criterion = nn.CrossEntropyLoss()"
   ]
  },
  {
   "cell_type": "markdown",
   "id": "5f765622",
   "metadata": {
    "_cell_guid": "fcd87bc7-f72a-405e-9ba8-9158db443fb7",
    "_uuid": "1aa96202-0c10-4eec-99f7-360f1a4f32b4",
    "collapsed": false,
    "jupyter": {
     "outputs_hidden": false
    },
    "papermill": {
     "duration": 0.004819,
     "end_time": "2025-06-07T10:32:01.909604",
     "exception": false,
     "start_time": "2025-06-07T10:32:01.904785",
     "status": "completed"
    },
    "tags": []
   },
   "source": [
    "### ⚙️ Hyperparameter Configuration\n",
    "\n",
    "This section defines the training settings for two model types:\n",
    "\n",
    "#### 🧪 Bayes by Backprop\n",
    "- **Epochs**: 600\n",
    "- **Learning rate**: 1e-3\n",
    "- **Prior parameters**:\n",
    "  - `π = 0.75`\n",
    "  - `σ₁ = exp(−2)`\n",
    "  - `σ₂ = exp(−6)`\n",
    "- These are used in the mixture Gaussian prior for Bayesian layers.\n",
    "\n",
    "#### 🧪 Baseline SGD (Standard & Dropout Networks)\n",
    "- **Epochs**: 20\n",
    "- **Learning rate**: 1e-3\n",
    "- Same loss function (`CrossEntropyLoss`) is used for both Bayesian and baseline models.\n",
    "\n",
    "The goal is to ensure a consistent and fair comparison between the Bayesian and non-Bayesian approaches."
   ]
  },
  {
   "cell_type": "code",
   "execution_count": null,
   "id": "1a97634e",
   "metadata": {
    "_cell_guid": "a51fdcd4-789a-42e6-ba85-58948ca289b6",
    "_uuid": "ae8e9399-6218-4b5c-a7c1-654e4988954e",
    "collapsed": false,
    "execution": {
     "iopub.execute_input": "2025-06-13T12:32:23.682934Z",
     "iopub.status.busy": "2025-06-13T12:32:23.682356Z",
     "iopub.status.idle": "2025-06-13T12:32:23.703692Z",
     "shell.execute_reply": "2025-06-13T12:32:23.703117Z",
     "shell.execute_reply.started": "2025-06-13T12:32:23.682916Z"
    },
    "jupyter": {
     "outputs_hidden": false
    },
    "papermill": {
     "duration": 0.011673,
     "end_time": "2025-06-07T10:32:01.926188",
     "exception": false,
     "start_time": "2025-06-07T10:32:01.914515",
     "status": "completed"
    },
    "tags": [],
    "trusted": true
   },
   "outputs": [
    {
     "name": "stdout",
     "output_type": "stream",
     "text": [
      "ℹ️ Iperparametri:\n",
      "  Bayes by Backprop: NUM_EPOCHS = 600, LR = 0.001\n",
      "    PI_LIST     = [0.75]\n",
      "    SIGMA1_LIST = [0.1353352832366127]\n",
      "    SIGMA2_LIST = [0.0024787521766663585]\n",
      "\n",
      "  Baseline SGD: NUM_EPOCHS = 20, LR = 0.001\n",
      "\n"
     ]
    }
   ],
   "source": [
    "# Hyperparameters for Bayes by Backprop training\n",
    "NUM_EPOCHS_BBB = 600\n",
    "LR_BBB = 1e-3\n",
    "PI_LIST = [0.75]\n",
    "SIGMA1_LIST = [np.exp(-2)]\n",
    "SIGMA2_LIST = [np.exp(-6)]\n",
    "\n",
    "# Hyperparameters for baseline SGD models (aligned to BBB for fair comparison)\n",
    "NUM_EPOCHS_SGD = 20\n",
    "LR_SGD = 1e-3\n",
    "\n",
    "# Loss function for classification\n",
    "criterion = nn.CrossEntropyLoss()\n",
    "\n",
    "# Display configured hyperparameters\n",
    "print(\"ℹ️ Hyperparameters:\")\n",
    "print(f\"  Bayes by Backprop: NUM_EPOCHS = {NUM_EPOCHS_BBB}, LR = {LR_BBB}\")\n",
    "print(f\"    PI_LIST     = {PI_LIST}\")\n",
    "print(f\"    SIGMA1_LIST = {SIGMA1_LIST}\")\n",
    "print(f\"    SIGMA2_LIST = {SIGMA2_LIST}\")\n",
    "print(f\"\\n  Baseline SGD: NUM_EPOCHS = {NUM_EPOCHS_SGD}, LR = {LR_SGD}\\n\")"
   ]
  },
  {
   "cell_type": "markdown",
   "id": "851703e8",
   "metadata": {
    "_cell_guid": "ff79a938-79ed-4ee9-adc5-83c3fd10131f",
    "_uuid": "465cb22e-34da-43f8-82e2-1209a3bfb3b9",
    "collapsed": false,
    "jupyter": {
     "outputs_hidden": false
    },
    "papermill": {
     "duration": 0.00509,
     "end_time": "2025-06-07T10:32:01.936435",
     "exception": false,
     "start_time": "2025-06-07T10:32:01.931345",
     "status": "completed"
    },
    "tags": []
   },
   "source": [
    "### 🤖 Training Feedforward Models in TensorFlow\n",
    "\n",
    "This section implements and trains two neural network models using TensorFlow:\n",
    "\n",
    "#### 🏗️ Model Definitions\n",
    "- `build_sgd_model()`: A plain feedforward neural network with two hidden ReLU layers.\n",
    "- `build_dropout_model()`: Same as above, but includes Dropout (p=0.5) after each hidden layer to act as a regularizer.\n",
    "\n",
    "#### 🏋️ Training\n",
    "- Both models are compiled with the Adam optimizer and trained using cross-entropy loss.\n",
    "- A `train_model()` function wraps training logic and logs progress.\n",
    "- Training is performed on the MNIST dataset using `validation_split=0.1`.\n",
    "\n",
    "#### 📊 Evaluation\n",
    "- After training, both models are evaluated on the test set.\n",
    "- Final test accuracies are printed to compare:\n",
    "  - **SGD without regularization**\n",
    "  - **SGD with Dropout**\n",
    "\n",
    "This setup provides a performance baseline for comparison against Bayesian models."
   ]
  },
  {
   "cell_type": "code",
   "execution_count": 12,
   "id": "32c33589",
   "metadata": {
    "_cell_guid": "485a254f-6f18-4aa8-96b3-19181ce4cb16",
    "_uuid": "1d556ac9-6cf1-4789-82eb-078c7e5fa052",
    "collapsed": false,
    "execution": {
     "iopub.execute_input": "2025-06-13T13:25:23.405994Z",
     "iopub.status.busy": "2025-06-13T13:25:23.405657Z",
     "iopub.status.idle": "2025-06-13T13:26:56.263527Z",
     "shell.execute_reply": "2025-06-13T13:26:56.262707Z",
     "shell.execute_reply.started": "2025-06-13T13:25:23.405948Z"
    },
    "jupyter": {
     "outputs_hidden": false
    },
    "papermill": {
     "duration": 56.175785,
     "end_time": "2025-06-07T10:32:58.117257",
     "exception": false,
     "start_time": "2025-06-07T10:32:01.941472",
     "status": "completed"
    },
    "tags": [],
    "trusted": true
   },
   "outputs": [
    {
     "name": "stdout",
     "output_type": "stream",
     "text": [
      "\n",
      "🔧 Training SGD\n",
      "Epoch 1/20\n",
      "844/844 - 5s - 6ms/step - accuracy: 0.8852 - loss: 0.3968 - val_accuracy: 0.9475 - val_loss: 0.1928\n",
      "Epoch 2/20\n",
      "844/844 - 2s - 2ms/step - accuracy: 0.9418 - loss: 0.1987 - val_accuracy: 0.9578 - val_loss: 0.1517\n",
      "Epoch 3/20\n",
      "844/844 - 2s - 2ms/step - accuracy: 0.9553 - loss: 0.1520 - val_accuracy: 0.9637 - val_loss: 0.1238\n",
      "Epoch 4/20\n",
      "844/844 - 2s - 2ms/step - accuracy: 0.9635 - loss: 0.1239 - val_accuracy: 0.9677 - val_loss: 0.1136\n",
      "Epoch 5/20\n",
      "844/844 - 2s - 2ms/step - accuracy: 0.9679 - loss: 0.1066 - val_accuracy: 0.9660 - val_loss: 0.1145\n",
      "Epoch 6/20\n",
      "844/844 - 2s - 2ms/step - accuracy: 0.9720 - loss: 0.0918 - val_accuracy: 0.9678 - val_loss: 0.1123\n",
      "Epoch 7/20\n",
      "844/844 - 2s - 2ms/step - accuracy: 0.9750 - loss: 0.0825 - val_accuracy: 0.9715 - val_loss: 0.0985\n",
      "Epoch 8/20\n",
      "844/844 - 2s - 2ms/step - accuracy: 0.9768 - loss: 0.0726 - val_accuracy: 0.9735 - val_loss: 0.0952\n",
      "Epoch 9/20\n",
      "844/844 - 2s - 2ms/step - accuracy: 0.9794 - loss: 0.0654 - val_accuracy: 0.9717 - val_loss: 0.1000\n",
      "Epoch 10/20\n",
      "844/844 - 2s - 2ms/step - accuracy: 0.9811 - loss: 0.0596 - val_accuracy: 0.9710 - val_loss: 0.0983\n",
      "Epoch 11/20\n",
      "844/844 - 2s - 2ms/step - accuracy: 0.9835 - loss: 0.0529 - val_accuracy: 0.9708 - val_loss: 0.1052\n",
      "Epoch 12/20\n",
      "844/844 - 2s - 2ms/step - accuracy: 0.9846 - loss: 0.0491 - val_accuracy: 0.9742 - val_loss: 0.1045\n",
      "Epoch 13/20\n",
      "844/844 - 2s - 2ms/step - accuracy: 0.9852 - loss: 0.0452 - val_accuracy: 0.9743 - val_loss: 0.1006\n",
      "Epoch 14/20\n",
      "844/844 - 2s - 2ms/step - accuracy: 0.9861 - loss: 0.0422 - val_accuracy: 0.9730 - val_loss: 0.1044\n",
      "Epoch 15/20\n",
      "844/844 - 2s - 2ms/step - accuracy: 0.9881 - loss: 0.0375 - val_accuracy: 0.9703 - val_loss: 0.1098\n",
      "Epoch 16/20\n",
      "844/844 - 2s - 2ms/step - accuracy: 0.9888 - loss: 0.0354 - val_accuracy: 0.9720 - val_loss: 0.1079\n",
      "Epoch 17/20\n",
      "844/844 - 2s - 2ms/step - accuracy: 0.9901 - loss: 0.0316 - val_accuracy: 0.9735 - val_loss: 0.1156\n",
      "Epoch 18/20\n",
      "844/844 - 2s - 2ms/step - accuracy: 0.9905 - loss: 0.0296 - val_accuracy: 0.9727 - val_loss: 0.1100\n",
      "Epoch 19/20\n",
      "844/844 - 2s - 2ms/step - accuracy: 0.9911 - loss: 0.0288 - val_accuracy: 0.9710 - val_loss: 0.1211\n",
      "Epoch 20/20\n",
      "844/844 - 2s - 2ms/step - accuracy: 0.9925 - loss: 0.0246 - val_accuracy: 0.9747 - val_loss: 0.1107\n",
      "✅ Finished training SGD\n",
      "\n",
      "🔧 Training Dropout\n",
      "Epoch 1/20\n",
      "844/844 - 6s - 8ms/step - accuracy: 0.7928 - loss: 0.6676 - val_accuracy: 0.9488 - val_loss: 0.1852\n",
      "Epoch 2/20\n",
      "844/844 - 2s - 2ms/step - accuracy: 0.8998 - loss: 0.3553 - val_accuracy: 0.9612 - val_loss: 0.1370\n",
      "Epoch 3/20\n",
      "844/844 - 2s - 2ms/step - accuracy: 0.9192 - loss: 0.2858 - val_accuracy: 0.9685 - val_loss: 0.1186\n",
      "Epoch 4/20\n",
      "844/844 - 2s - 2ms/step - accuracy: 0.9279 - loss: 0.2576 - val_accuracy: 0.9657 - val_loss: 0.1142\n",
      "Epoch 5/20\n",
      "844/844 - 2s - 2ms/step - accuracy: 0.9352 - loss: 0.2316 - val_accuracy: 0.9718 - val_loss: 0.1045\n",
      "Epoch 6/20\n",
      "844/844 - 2s - 2ms/step - accuracy: 0.9392 - loss: 0.2180 - val_accuracy: 0.9747 - val_loss: 0.0927\n",
      "Epoch 7/20\n",
      "844/844 - 2s - 2ms/step - accuracy: 0.9427 - loss: 0.2058 - val_accuracy: 0.9722 - val_loss: 0.0946\n",
      "Epoch 8/20\n",
      "844/844 - 2s - 2ms/step - accuracy: 0.9440 - loss: 0.1938 - val_accuracy: 0.9753 - val_loss: 0.0870\n",
      "Epoch 9/20\n",
      "844/844 - 2s - 3ms/step - accuracy: 0.9475 - loss: 0.1844 - val_accuracy: 0.9757 - val_loss: 0.0832\n",
      "Epoch 10/20\n",
      "844/844 - 2s - 3ms/step - accuracy: 0.9489 - loss: 0.1786 - val_accuracy: 0.9753 - val_loss: 0.0914\n",
      "Epoch 11/20\n",
      "844/844 - 2s - 2ms/step - accuracy: 0.9494 - loss: 0.1795 - val_accuracy: 0.9788 - val_loss: 0.0824\n",
      "Epoch 12/20\n",
      "844/844 - 2s - 2ms/step - accuracy: 0.9516 - loss: 0.1692 - val_accuracy: 0.9792 - val_loss: 0.0808\n",
      "Epoch 13/20\n",
      "844/844 - 2s - 2ms/step - accuracy: 0.9532 - loss: 0.1627 - val_accuracy: 0.9777 - val_loss: 0.0775\n",
      "Epoch 14/20\n",
      "844/844 - 2s - 2ms/step - accuracy: 0.9532 - loss: 0.1648 - val_accuracy: 0.9768 - val_loss: 0.0838\n",
      "Epoch 15/20\n",
      "844/844 - 2s - 2ms/step - accuracy: 0.9541 - loss: 0.1585 - val_accuracy: 0.9775 - val_loss: 0.0766\n",
      "Epoch 16/20\n",
      "844/844 - 2s - 2ms/step - accuracy: 0.9559 - loss: 0.1520 - val_accuracy: 0.9767 - val_loss: 0.0800\n",
      "Epoch 17/20\n",
      "844/844 - 2s - 2ms/step - accuracy: 0.9556 - loss: 0.1569 - val_accuracy: 0.9772 - val_loss: 0.0817\n",
      "Epoch 18/20\n",
      "844/844 - 2s - 2ms/step - accuracy: 0.9576 - loss: 0.1483 - val_accuracy: 0.9800 - val_loss: 0.0778\n",
      "Epoch 19/20\n",
      "844/844 - 2s - 2ms/step - accuracy: 0.9568 - loss: 0.1461 - val_accuracy: 0.9773 - val_loss: 0.0856\n",
      "Epoch 20/20\n",
      "844/844 - 2s - 2ms/step - accuracy: 0.9590 - loss: 0.1403 - val_accuracy: 0.9793 - val_loss: 0.0790\n",
      "✅ Finished training Dropout\n",
      "📈 SGD senza regularizzazione Accuracy: 0.9720\n",
      "📈 SGD + Dropout (p=0.5) Accuracy: 0.9739\n"
     ]
    }
   ],
   "source": [
    "import tensorflow as tf\n",
    "import tensorflow_probability as tfp\n",
    "import numpy as np\n",
    "\n",
    "# 1️⃣ Model construction\n",
    "def build_sgd_model():\n",
    "    return tf.keras.Sequential([\n",
    "        tf.keras.layers.Dense(128, activation='relu'),\n",
    "        tf.keras.layers.Dense(64, activation='relu'),\n",
    "        tf.keras.layers.Dense(10)  # Output layer (logits)\n",
    "    ])\n",
    "\n",
    "def build_dropout_model():\n",
    "    return tf.keras.Sequential([\n",
    "        tf.keras.layers.Dense(128, activation='relu'),\n",
    "        tf.keras.layers.Dropout(0.5),\n",
    "        tf.keras.layers.Dense(64, activation='relu'),\n",
    "        tf.keras.layers.Dropout(0.5),\n",
    "        tf.keras.layers.Dense(10)  # Output layer (logits)\n",
    "    ])\n",
    "\n",
    "# 2️⃣ Training function\n",
    "def train_model(model, name, x_train, y_train, epochs=10):\n",
    "    model.compile(\n",
    "        optimizer=tf.keras.optimizers.Adam(),\n",
    "        loss=tf.keras.losses.SparseCategoricalCrossentropy(from_logits=True),\n",
    "        metrics=['accuracy']\n",
    "    )\n",
    "    print(f\"\\n🔧 Training {name}\")\n",
    "    model.fit(x_train, y_train,\n",
    "              batch_size=64,\n",
    "              epochs=epochs,\n",
    "              validation_split=0.1,\n",
    "              verbose=2)\n",
    "    print(f\"✅ Finished training {name}\")\n",
    "    return model\n",
    "\n",
    "# Train plain SGD model (no regularization)\n",
    "sgd_model = train_model(build_sgd_model(), \"SGD\", x_train_tf, y_train_tf, epochs=NUM_EPOCHS_SGD)\n",
    "\n",
    "# Train SGD + Dropout model\n",
    "dropout_model = train_model(build_dropout_model(), \"Dropout\", x_train_tf, y_train_tf, epochs=NUM_EPOCHS_SGD)\n",
    "\n",
    "# Evaluate both models on the test set\n",
    "loss_sgd, acc_sgd = sgd_model.evaluate(x_test_tf, y_test_tf, verbose=0)\n",
    "loss_do,  acc_do  = dropout_model.evaluate(x_test_tf, y_test_tf, verbose=0)\n",
    "\n",
    "# Print results\n",
    "print(f\"📈 SGD without regularization Accuracy: {acc_sgd:.4f}\")\n",
    "print(f\"📈 SGD + Dropout (p=0.5) Accuracy: {acc_do:.4f}\")"
   ]
  },
  {
   "cell_type": "markdown",
   "id": "8cd886dc",
   "metadata": {
    "_cell_guid": "0bd0afe3-19cd-4dab-9f9c-0a1324c71de7",
    "_uuid": "93c6ae86-7736-4407-85f1-cb3edb71a6f4",
    "collapsed": false,
    "jupyter": {
     "outputs_hidden": false
    },
    "papermill": {
     "duration": 0.008105,
     "end_time": "2025-06-07T10:32:58.176078",
     "exception": false,
     "start_time": "2025-06-07T10:32:58.167973",
     "status": "completed"
    },
    "tags": []
   },
   "source": [
    "### 🔁 Training Bayesian Neural Networks with All Prior Combinations\n",
    "\n",
    "This block performs a full sweep over different combinations of prior parameters for the **Bayes by Backprop** model:\n",
    "\n",
    "#### 🔧 What happens:\n",
    "- For each combination of:\n",
    "  - π (mixing coefficient)\n",
    "  - σ₁, σ₂ (standard deviations for the mixture prior)\n",
    "- A new `BayesianNet` is initialized and trained on MNIST.\n",
    "- The model uses:\n",
    "  - **Adam** optimizer\n",
    "  - **600 epochs** of training\n",
    "  - **KL-divergence regularization** added to the negative log-likelihood\n",
    "\n",
    "#### 🧠 Evaluation:\n",
    "- After each epoch:\n",
    "  - The model is evaluated on the test set using the **mean weights (μ)** (i.e., deterministic mode).\n",
    "  - If the current test accuracy exceeds the best so far, it is stored.\n",
    "\n",
    "#### 📦 Output:\n",
    "- Metrics such as training loss, accuracy, and test accuracy are printed for every epoch.\n",
    "- The best test accuracy for each parameter combination is stored in the `results_bbb` list.\n",
    "\n",
    "This process helps identify which prior configuration leads to the most accurate Bayesian model."
   ]
  },
  {
   "cell_type": "code",
   "execution_count": null,
   "id": "e9684744",
   "metadata": {
    "_cell_guid": "15c08c1b-6fa4-4b51-bc88-889a1d341f53",
    "_uuid": "5137ae04-770b-45ae-adb6-ff26b7b03d1f",
    "collapsed": false,
    "execution": {
     "iopub.execute_input": "2025-06-13T12:33:19.970813Z",
     "iopub.status.busy": "2025-06-13T12:33:19.970652Z",
     "iopub.status.idle": "2025-06-13T13:18:18.574156Z",
     "shell.execute_reply": "2025-06-13T13:18:18.573137Z",
     "shell.execute_reply.started": "2025-06-13T12:33:19.970800Z"
    },
    "jupyter": {
     "outputs_hidden": false
    },
    "papermill": {
     "duration": 2229.815846,
     "end_time": "2025-06-07T11:10:08.000279",
     "exception": false,
     "start_time": "2025-06-07T10:32:58.184433",
     "status": "completed"
    },
    "tags": [],
    "trusted": true
   },
   "outputs": [
    {
     "name": "stderr",
     "output_type": "stream",
     "text": [
      "BBB π=0.75 σ₁=1.4e-01 σ₂=2.5e-03:   0%|          | 1/600 [00:05<55:59,  5.61s/it]"
     ]
    },
    {
     "name": "stdout",
     "output_type": "stream",
     "text": [
      "  Epoca 01/600 | Train Loss=16.2261 | Train Acc=10.13% | Test Acc=35.54%\n"
     ]
    },
    {
     "name": "stderr",
     "output_type": "stream",
     "text": [
      "BBB π=0.75 σ₁=1.4e-01 σ₂=2.5e-03:   0%|          | 2/600 [00:10<54:03,  5.42s/it]"
     ]
    },
    {
     "name": "stdout",
     "output_type": "stream",
     "text": [
      "  Epoca 02/600 | Train Loss=15.9518 | Train Acc=13.33% | Test Acc=28.44%\n"
     ]
    },
    {
     "name": "stderr",
     "output_type": "stream",
     "text": [
      "BBB π=0.75 σ₁=1.4e-01 σ₂=2.5e-03:   0%|          | 3/600 [00:16<53:49,  5.41s/it]"
     ]
    },
    {
     "name": "stdout",
     "output_type": "stream",
     "text": [
      "  Epoca 03/600 | Train Loss=15.2604 | Train Acc=34.91% | Test Acc=52.15%\n"
     ]
    },
    {
     "name": "stderr",
     "output_type": "stream",
     "text": [
      "BBB π=0.75 σ₁=1.4e-01 σ₂=2.5e-03:   1%|          | 4/600 [00:21<53:22,  5.37s/it]"
     ]
    },
    {
     "name": "stdout",
     "output_type": "stream",
     "text": [
      "  Epoca 04/600 | Train Loss=14.4377 | Train Acc=56.68% | Test Acc=70.54%\n"
     ]
    },
    {
     "name": "stderr",
     "output_type": "stream",
     "text": [
      "BBB π=0.75 σ₁=1.4e-01 σ₂=2.5e-03:   1%|          | 5/600 [00:27<54:04,  5.45s/it]"
     ]
    },
    {
     "name": "stdout",
     "output_type": "stream",
     "text": [
      "  Epoca 05/600 | Train Loss=13.9477 | Train Acc=70.48% | Test Acc=80.17%\n"
     ]
    },
    {
     "name": "stderr",
     "output_type": "stream",
     "text": [
      "BBB π=0.75 σ₁=1.4e-01 σ₂=2.5e-03:   1%|          | 6/600 [00:32<53:44,  5.43s/it]"
     ]
    },
    {
     "name": "stdout",
     "output_type": "stream",
     "text": [
      "  Epoca 06/600 | Train Loss=13.5922 | Train Acc=77.81% | Test Acc=87.28%\n"
     ]
    },
    {
     "name": "stderr",
     "output_type": "stream",
     "text": [
      "BBB π=0.75 σ₁=1.4e-01 σ₂=2.5e-03:   1%|          | 7/600 [00:37<53:12,  5.38s/it]"
     ]
    },
    {
     "name": "stdout",
     "output_type": "stream",
     "text": [
      "  Epoca 07/600 | Train Loss=13.2922 | Train Acc=82.41% | Test Acc=88.70%\n"
     ]
    },
    {
     "name": "stderr",
     "output_type": "stream",
     "text": [
      "BBB π=0.75 σ₁=1.4e-01 σ₂=2.5e-03:   1%|▏         | 8/600 [00:43<53:09,  5.39s/it]"
     ]
    },
    {
     "name": "stdout",
     "output_type": "stream",
     "text": [
      "  Epoca 08/600 | Train Loss=13.0276 | Train Acc=84.91% | Test Acc=89.98%\n"
     ]
    },
    {
     "name": "stderr",
     "output_type": "stream",
     "text": [
      "BBB π=0.75 σ₁=1.4e-01 σ₂=2.5e-03:   2%|▏         | 9/600 [00:48<52:42,  5.35s/it]"
     ]
    },
    {
     "name": "stdout",
     "output_type": "stream",
     "text": [
      "  Epoca 09/600 | Train Loss=12.7839 | Train Acc=86.90% | Test Acc=90.29%\n"
     ]
    },
    {
     "name": "stderr",
     "output_type": "stream",
     "text": [
      "BBB π=0.75 σ₁=1.4e-01 σ₂=2.5e-03:   2%|▏         | 10/600 [00:54<53:03,  5.40s/it]"
     ]
    },
    {
     "name": "stdout",
     "output_type": "stream",
     "text": [
      "  Epoca 10/600 | Train Loss=12.5502 | Train Acc=88.27% | Test Acc=91.23%\n"
     ]
    },
    {
     "name": "stderr",
     "output_type": "stream",
     "text": [
      "BBB π=0.75 σ₁=1.4e-01 σ₂=2.5e-03:   2%|▏         | 11/600 [00:59<53:33,  5.46s/it]"
     ]
    },
    {
     "name": "stdout",
     "output_type": "stream",
     "text": [
      "  Epoca 11/600 | Train Loss=12.3387 | Train Acc=88.77% | Test Acc=91.89%\n"
     ]
    },
    {
     "name": "stderr",
     "output_type": "stream",
     "text": [
      "BBB π=0.75 σ₁=1.4e-01 σ₂=2.5e-03:   2%|▏         | 12/600 [01:05<53:27,  5.46s/it]"
     ]
    },
    {
     "name": "stdout",
     "output_type": "stream",
     "text": [
      "  Epoca 12/600 | Train Loss=12.1279 | Train Acc=89.29% | Test Acc=92.99%\n"
     ]
    },
    {
     "name": "stderr",
     "output_type": "stream",
     "text": [
      "BBB π=0.75 σ₁=1.4e-01 σ₂=2.5e-03:   2%|▏         | 13/600 [01:10<52:49,  5.40s/it]"
     ]
    },
    {
     "name": "stdout",
     "output_type": "stream",
     "text": [
      "  Epoca 13/600 | Train Loss=11.9129 | Train Acc=90.22% | Test Acc=93.00%\n"
     ]
    },
    {
     "name": "stderr",
     "output_type": "stream",
     "text": [
      "BBB π=0.75 σ₁=1.4e-01 σ₂=2.5e-03:   2%|▏         | 14/600 [01:16<53:44,  5.50s/it]"
     ]
    },
    {
     "name": "stdout",
     "output_type": "stream",
     "text": [
      "  Epoca 14/600 | Train Loss=11.7110 | Train Acc=90.46% | Test Acc=92.97%\n"
     ]
    },
    {
     "name": "stderr",
     "output_type": "stream",
     "text": [
      "BBB π=0.75 σ₁=1.4e-01 σ₂=2.5e-03:   2%|▎         | 15/600 [01:21<52:51,  5.42s/it]"
     ]
    },
    {
     "name": "stdout",
     "output_type": "stream",
     "text": [
      "  Epoca 15/600 | Train Loss=11.5152 | Train Acc=91.03% | Test Acc=93.22%\n"
     ]
    },
    {
     "name": "stderr",
     "output_type": "stream",
     "text": [
      "BBB π=0.75 σ₁=1.4e-01 σ₂=2.5e-03:   3%|▎         | 16/600 [01:26<52:41,  5.41s/it]"
     ]
    },
    {
     "name": "stdout",
     "output_type": "stream",
     "text": [
      "  Epoca 16/600 | Train Loss=11.3228 | Train Acc=91.35% | Test Acc=93.77%\n"
     ]
    },
    {
     "name": "stderr",
     "output_type": "stream",
     "text": [
      "BBB π=0.75 σ₁=1.4e-01 σ₂=2.5e-03:   3%|▎         | 17/600 [01:32<53:32,  5.51s/it]"
     ]
    },
    {
     "name": "stdout",
     "output_type": "stream",
     "text": [
      "  Epoca 17/600 | Train Loss=11.1391 | Train Acc=91.47% | Test Acc=94.02%\n"
     ]
    },
    {
     "name": "stderr",
     "output_type": "stream",
     "text": [
      "BBB π=0.75 σ₁=1.4e-01 σ₂=2.5e-03:   3%|▎         | 18/600 [01:37<52:32,  5.42s/it]"
     ]
    },
    {
     "name": "stdout",
     "output_type": "stream",
     "text": [
      "  Epoca 18/600 | Train Loss=10.9497 | Train Acc=91.66% | Test Acc=94.10%\n"
     ]
    },
    {
     "name": "stderr",
     "output_type": "stream",
     "text": [
      "BBB π=0.75 σ₁=1.4e-01 σ₂=2.5e-03:   3%|▎         | 19/600 [01:43<52:15,  5.40s/it]"
     ]
    },
    {
     "name": "stdout",
     "output_type": "stream",
     "text": [
      "  Epoca 19/600 | Train Loss=10.7719 | Train Acc=92.16% | Test Acc=94.20%\n"
     ]
    },
    {
     "name": "stderr",
     "output_type": "stream",
     "text": [
      "BBB π=0.75 σ₁=1.4e-01 σ₂=2.5e-03:   3%|▎         | 20/600 [01:48<51:42,  5.35s/it]"
     ]
    },
    {
     "name": "stdout",
     "output_type": "stream",
     "text": [
      "  Epoca 20/600 | Train Loss=10.5913 | Train Acc=92.35% | Test Acc=94.55%\n"
     ]
    },
    {
     "name": "stderr",
     "output_type": "stream",
     "text": [
      "BBB π=0.75 σ₁=1.4e-01 σ₂=2.5e-03:   4%|▎         | 21/600 [01:53<51:45,  5.36s/it]"
     ]
    },
    {
     "name": "stdout",
     "output_type": "stream",
     "text": [
      "  Epoca 21/600 | Train Loss=10.4132 | Train Acc=92.90% | Test Acc=94.85%\n"
     ]
    },
    {
     "name": "stderr",
     "output_type": "stream",
     "text": [
      "BBB π=0.75 σ₁=1.4e-01 σ₂=2.5e-03:   4%|▎         | 22/600 [01:58<51:19,  5.33s/it]"
     ]
    },
    {
     "name": "stdout",
     "output_type": "stream",
     "text": [
      "  Epoca 22/600 | Train Loss=10.2526 | Train Acc=92.74% | Test Acc=94.78%\n"
     ]
    },
    {
     "name": "stderr",
     "output_type": "stream",
     "text": [
      "BBB π=0.75 σ₁=1.4e-01 σ₂=2.5e-03:   4%|▍         | 23/600 [02:04<52:29,  5.46s/it]"
     ]
    },
    {
     "name": "stdout",
     "output_type": "stream",
     "text": [
      "  Epoca 23/600 | Train Loss=10.0924 | Train Acc=92.81% | Test Acc=95.01%\n"
     ]
    },
    {
     "name": "stderr",
     "output_type": "stream",
     "text": [
      "BBB π=0.75 σ₁=1.4e-01 σ₂=2.5e-03:   4%|▍         | 24/600 [02:09<51:54,  5.41s/it]"
     ]
    },
    {
     "name": "stdout",
     "output_type": "stream",
     "text": [
      "  Epoca 24/600 | Train Loss=9.9286 | Train Acc=93.08% | Test Acc=95.54%\n"
     ]
    },
    {
     "name": "stderr",
     "output_type": "stream",
     "text": [
      "BBB π=0.75 σ₁=1.4e-01 σ₂=2.5e-03:   4%|▍         | 25/600 [02:15<51:50,  5.41s/it]"
     ]
    },
    {
     "name": "stdout",
     "output_type": "stream",
     "text": [
      "  Epoca 25/600 | Train Loss=9.7753 | Train Acc=93.31% | Test Acc=95.49%\n"
     ]
    },
    {
     "name": "stderr",
     "output_type": "stream",
     "text": [
      "BBB π=0.75 σ₁=1.4e-01 σ₂=2.5e-03:   4%|▍         | 26/600 [02:20<51:20,  5.37s/it]"
     ]
    },
    {
     "name": "stdout",
     "output_type": "stream",
     "text": [
      "  Epoca 26/600 | Train Loss=9.6263 | Train Acc=93.23% | Test Acc=95.53%\n"
     ]
    },
    {
     "name": "stderr",
     "output_type": "stream",
     "text": [
      "BBB π=0.75 σ₁=1.4e-01 σ₂=2.5e-03:   4%|▍         | 27/600 [02:26<51:19,  5.37s/it]"
     ]
    },
    {
     "name": "stdout",
     "output_type": "stream",
     "text": [
      "  Epoca 27/600 | Train Loss=9.4795 | Train Acc=93.52% | Test Acc=95.84%\n"
     ]
    },
    {
     "name": "stderr",
     "output_type": "stream",
     "text": [
      "BBB π=0.75 σ₁=1.4e-01 σ₂=2.5e-03:   5%|▍         | 28/600 [02:31<50:56,  5.34s/it]"
     ]
    },
    {
     "name": "stdout",
     "output_type": "stream",
     "text": [
      "  Epoca 28/600 | Train Loss=9.3396 | Train Acc=93.57% | Test Acc=95.79%\n"
     ]
    },
    {
     "name": "stderr",
     "output_type": "stream",
     "text": [
      "BBB π=0.75 σ₁=1.4e-01 σ₂=2.5e-03:   5%|▍         | 29/600 [02:37<52:13,  5.49s/it]"
     ]
    },
    {
     "name": "stdout",
     "output_type": "stream",
     "text": [
      "  Epoca 29/600 | Train Loss=9.1949 | Train Acc=93.89% | Test Acc=96.10%\n"
     ]
    },
    {
     "name": "stderr",
     "output_type": "stream",
     "text": [
      "BBB π=0.75 σ₁=1.4e-01 σ₂=2.5e-03:   5%|▌         | 30/600 [02:42<51:33,  5.43s/it]"
     ]
    },
    {
     "name": "stdout",
     "output_type": "stream",
     "text": [
      "  Epoca 30/600 | Train Loss=9.0586 | Train Acc=93.94% | Test Acc=96.04%\n"
     ]
    },
    {
     "name": "stderr",
     "output_type": "stream",
     "text": [
      "BBB π=0.75 σ₁=1.4e-01 σ₂=2.5e-03:   5%|▌         | 31/600 [02:47<51:13,  5.40s/it]"
     ]
    },
    {
     "name": "stdout",
     "output_type": "stream",
     "text": [
      "  Epoca 31/600 | Train Loss=8.9347 | Train Acc=94.00% | Test Acc=96.19%\n"
     ]
    },
    {
     "name": "stderr",
     "output_type": "stream",
     "text": [
      "BBB π=0.75 σ₁=1.4e-01 σ₂=2.5e-03:   5%|▌         | 32/600 [02:53<50:52,  5.37s/it]"
     ]
    },
    {
     "name": "stdout",
     "output_type": "stream",
     "text": [
      "  Epoca 32/600 | Train Loss=8.8078 | Train Acc=94.14% | Test Acc=96.20%\n"
     ]
    },
    {
     "name": "stderr",
     "output_type": "stream",
     "text": [
      "BBB π=0.75 σ₁=1.4e-01 σ₂=2.5e-03:   6%|▌         | 33/600 [02:58<50:36,  5.35s/it]"
     ]
    },
    {
     "name": "stdout",
     "output_type": "stream",
     "text": [
      "  Epoca 33/600 | Train Loss=8.6823 | Train Acc=94.01% | Test Acc=95.79%\n"
     ]
    },
    {
     "name": "stderr",
     "output_type": "stream",
     "text": [
      "BBB π=0.75 σ₁=1.4e-01 σ₂=2.5e-03:   6%|▌         | 34/600 [03:03<50:42,  5.37s/it]"
     ]
    },
    {
     "name": "stdout",
     "output_type": "stream",
     "text": [
      "  Epoca 34/600 | Train Loss=8.5590 | Train Acc=94.28% | Test Acc=96.26%\n"
     ]
    },
    {
     "name": "stderr",
     "output_type": "stream",
     "text": [
      "BBB π=0.75 σ₁=1.4e-01 σ₂=2.5e-03:   6%|▌         | 35/600 [03:09<51:31,  5.47s/it]"
     ]
    },
    {
     "name": "stdout",
     "output_type": "stream",
     "text": [
      "  Epoca 35/600 | Train Loss=8.4539 | Train Acc=94.15% | Test Acc=96.21%\n"
     ]
    },
    {
     "name": "stderr",
     "output_type": "stream",
     "text": [
      "BBB π=0.75 σ₁=1.4e-01 σ₂=2.5e-03:   6%|▌         | 36/600 [03:14<51:21,  5.46s/it]"
     ]
    },
    {
     "name": "stdout",
     "output_type": "stream",
     "text": [
      "  Epoca 36/600 | Train Loss=8.3389 | Train Acc=94.26% | Test Acc=96.32%\n"
     ]
    },
    {
     "name": "stderr",
     "output_type": "stream",
     "text": [
      "BBB π=0.75 σ₁=1.4e-01 σ₂=2.5e-03:   6%|▌         | 37/600 [03:20<50:49,  5.42s/it]"
     ]
    },
    {
     "name": "stdout",
     "output_type": "stream",
     "text": [
      "  Epoca 37/600 | Train Loss=8.2336 | Train Acc=94.28% | Test Acc=96.22%\n"
     ]
    },
    {
     "name": "stderr",
     "output_type": "stream",
     "text": [
      "BBB π=0.75 σ₁=1.4e-01 σ₂=2.5e-03:   6%|▋         | 38/600 [03:25<50:41,  5.41s/it]"
     ]
    },
    {
     "name": "stdout",
     "output_type": "stream",
     "text": [
      "  Epoca 38/600 | Train Loss=8.1254 | Train Acc=94.45% | Test Acc=96.50%\n"
     ]
    },
    {
     "name": "stderr",
     "output_type": "stream",
     "text": [
      "BBB π=0.75 σ₁=1.4e-01 σ₂=2.5e-03:   6%|▋         | 39/600 [03:30<50:08,  5.36s/it]"
     ]
    },
    {
     "name": "stdout",
     "output_type": "stream",
     "text": [
      "  Epoca 39/600 | Train Loss=8.0255 | Train Acc=94.41% | Test Acc=96.60%\n"
     ]
    },
    {
     "name": "stderr",
     "output_type": "stream",
     "text": [
      "BBB π=0.75 σ₁=1.4e-01 σ₂=2.5e-03:   7%|▋         | 40/600 [03:36<50:07,  5.37s/it]"
     ]
    },
    {
     "name": "stdout",
     "output_type": "stream",
     "text": [
      "  Epoca 40/600 | Train Loss=7.9268 | Train Acc=94.58% | Test Acc=96.47%\n"
     ]
    },
    {
     "name": "stderr",
     "output_type": "stream",
     "text": [
      "BBB π=0.75 σ₁=1.4e-01 σ₂=2.5e-03:   7%|▋         | 41/600 [03:42<51:07,  5.49s/it]"
     ]
    },
    {
     "name": "stdout",
     "output_type": "stream",
     "text": [
      "  Epoca 41/600 | Train Loss=7.8373 | Train Acc=94.44% | Test Acc=96.59%\n"
     ]
    },
    {
     "name": "stderr",
     "output_type": "stream",
     "text": [
      "BBB π=0.75 σ₁=1.4e-01 σ₂=2.5e-03:   7%|▋         | 42/600 [03:47<50:27,  5.43s/it]"
     ]
    },
    {
     "name": "stdout",
     "output_type": "stream",
     "text": [
      "  Epoca 42/600 | Train Loss=7.7398 | Train Acc=94.56% | Test Acc=96.73%\n"
     ]
    },
    {
     "name": "stderr",
     "output_type": "stream",
     "text": [
      "BBB π=0.75 σ₁=1.4e-01 σ₂=2.5e-03:   7%|▋         | 43/600 [03:52<50:00,  5.39s/it]"
     ]
    },
    {
     "name": "stdout",
     "output_type": "stream",
     "text": [
      "  Epoca 43/600 | Train Loss=7.6506 | Train Acc=94.69% | Test Acc=96.61%\n"
     ]
    },
    {
     "name": "stderr",
     "output_type": "stream",
     "text": [
      "BBB π=0.75 σ₁=1.4e-01 σ₂=2.5e-03:   7%|▋         | 44/600 [03:57<49:41,  5.36s/it]"
     ]
    },
    {
     "name": "stdout",
     "output_type": "stream",
     "text": [
      "  Epoca 44/600 | Train Loss=7.5584 | Train Acc=94.82% | Test Acc=96.91%\n"
     ]
    },
    {
     "name": "stderr",
     "output_type": "stream",
     "text": [
      "BBB π=0.75 σ₁=1.4e-01 σ₂=2.5e-03:   8%|▊         | 45/600 [04:03<49:40,  5.37s/it]"
     ]
    },
    {
     "name": "stdout",
     "output_type": "stream",
     "text": [
      "  Epoca 45/600 | Train Loss=7.4831 | Train Acc=94.58% | Test Acc=96.53%\n"
     ]
    },
    {
     "name": "stderr",
     "output_type": "stream",
     "text": [
      "BBB π=0.75 σ₁=1.4e-01 σ₂=2.5e-03:   8%|▊         | 46/600 [04:08<49:17,  5.34s/it]"
     ]
    },
    {
     "name": "stdout",
     "output_type": "stream",
     "text": [
      "  Epoca 46/600 | Train Loss=7.3997 | Train Acc=94.68% | Test Acc=96.75%\n"
     ]
    },
    {
     "name": "stderr",
     "output_type": "stream",
     "text": [
      "BBB π=0.75 σ₁=1.4e-01 σ₂=2.5e-03:   8%|▊         | 47/600 [04:14<50:38,  5.49s/it]"
     ]
    },
    {
     "name": "stdout",
     "output_type": "stream",
     "text": [
      "  Epoca 47/600 | Train Loss=7.3227 | Train Acc=94.73% | Test Acc=96.72%\n"
     ]
    },
    {
     "name": "stderr",
     "output_type": "stream",
     "text": [
      "BBB π=0.75 σ₁=1.4e-01 σ₂=2.5e-03:   8%|▊         | 48/600 [04:19<50:05,  5.44s/it]"
     ]
    },
    {
     "name": "stdout",
     "output_type": "stream",
     "text": [
      "  Epoca 48/600 | Train Loss=7.2553 | Train Acc=94.53% | Test Acc=97.03%\n"
     ]
    },
    {
     "name": "stderr",
     "output_type": "stream",
     "text": [
      "BBB π=0.75 σ₁=1.4e-01 σ₂=2.5e-03:   8%|▊         | 49/600 [04:25<50:01,  5.45s/it]"
     ]
    },
    {
     "name": "stdout",
     "output_type": "stream",
     "text": [
      "  Epoca 49/600 | Train Loss=7.1727 | Train Acc=95.04% | Test Acc=96.82%\n"
     ]
    },
    {
     "name": "stderr",
     "output_type": "stream",
     "text": [
      "BBB π=0.75 σ₁=1.4e-01 σ₂=2.5e-03:   8%|▊         | 50/600 [04:30<49:19,  5.38s/it]"
     ]
    },
    {
     "name": "stdout",
     "output_type": "stream",
     "text": [
      "  Epoca 50/600 | Train Loss=7.1015 | Train Acc=94.97% | Test Acc=96.81%\n"
     ]
    },
    {
     "name": "stderr",
     "output_type": "stream",
     "text": [
      "BBB π=0.75 σ₁=1.4e-01 σ₂=2.5e-03:   8%|▊         | 51/600 [04:35<49:04,  5.36s/it]"
     ]
    },
    {
     "name": "stdout",
     "output_type": "stream",
     "text": [
      "  Epoca 51/600 | Train Loss=7.0381 | Train Acc=94.70% | Test Acc=97.04%\n"
     ]
    },
    {
     "name": "stderr",
     "output_type": "stream",
     "text": [
      "BBB π=0.75 σ₁=1.4e-01 σ₂=2.5e-03:   9%|▊         | 52/600 [04:41<48:42,  5.33s/it]"
     ]
    },
    {
     "name": "stdout",
     "output_type": "stream",
     "text": [
      "  Epoca 52/600 | Train Loss=6.9741 | Train Acc=94.80% | Test Acc=96.77%\n"
     ]
    },
    {
     "name": "stderr",
     "output_type": "stream",
     "text": [
      "BBB π=0.75 σ₁=1.4e-01 σ₂=2.5e-03:   9%|▉         | 53/600 [04:46<49:40,  5.45s/it]"
     ]
    },
    {
     "name": "stdout",
     "output_type": "stream",
     "text": [
      "  Epoca 53/600 | Train Loss=6.9098 | Train Acc=94.97% | Test Acc=96.94%\n"
     ]
    },
    {
     "name": "stderr",
     "output_type": "stream",
     "text": [
      "BBB π=0.75 σ₁=1.4e-01 σ₂=2.5e-03:   9%|▉         | 54/600 [04:52<49:11,  5.41s/it]"
     ]
    },
    {
     "name": "stdout",
     "output_type": "stream",
     "text": [
      "  Epoca 54/600 | Train Loss=6.8474 | Train Acc=95.00% | Test Acc=97.13%\n"
     ]
    },
    {
     "name": "stderr",
     "output_type": "stream",
     "text": [
      "BBB π=0.75 σ₁=1.4e-01 σ₂=2.5e-03:   9%|▉         | 55/600 [04:57<48:38,  5.36s/it]"
     ]
    },
    {
     "name": "stdout",
     "output_type": "stream",
     "text": [
      "  Epoca 55/600 | Train Loss=6.7891 | Train Acc=95.06% | Test Acc=96.94%\n"
     ]
    },
    {
     "name": "stderr",
     "output_type": "stream",
     "text": [
      "BBB π=0.75 σ₁=1.4e-01 σ₂=2.5e-03:   9%|▉         | 56/600 [05:02<48:31,  5.35s/it]"
     ]
    },
    {
     "name": "stdout",
     "output_type": "stream",
     "text": [
      "  Epoca 56/600 | Train Loss=6.7323 | Train Acc=94.85% | Test Acc=96.92%\n"
     ]
    },
    {
     "name": "stderr",
     "output_type": "stream",
     "text": [
      "BBB π=0.75 σ₁=1.4e-01 σ₂=2.5e-03:  10%|▉         | 57/600 [05:07<48:20,  5.34s/it]"
     ]
    },
    {
     "name": "stdout",
     "output_type": "stream",
     "text": [
      "  Epoca 57/600 | Train Loss=6.6819 | Train Acc=94.85% | Test Acc=97.08%\n"
     ]
    },
    {
     "name": "stderr",
     "output_type": "stream",
     "text": [
      "BBB π=0.75 σ₁=1.4e-01 σ₂=2.5e-03:  10%|▉         | 58/600 [05:13<48:20,  5.35s/it]"
     ]
    },
    {
     "name": "stdout",
     "output_type": "stream",
     "text": [
      "  Epoca 58/600 | Train Loss=6.6174 | Train Acc=95.23% | Test Acc=97.03%\n"
     ]
    },
    {
     "name": "stderr",
     "output_type": "stream",
     "text": [
      "BBB π=0.75 σ₁=1.4e-01 σ₂=2.5e-03:  10%|▉         | 59/600 [05:19<49:12,  5.46s/it]"
     ]
    },
    {
     "name": "stdout",
     "output_type": "stream",
     "text": [
      "  Epoca 59/600 | Train Loss=6.5699 | Train Acc=95.10% | Test Acc=97.10%\n"
     ]
    },
    {
     "name": "stderr",
     "output_type": "stream",
     "text": [
      "BBB π=0.75 σ₁=1.4e-01 σ₂=2.5e-03:  10%|█         | 60/600 [05:24<48:44,  5.42s/it]"
     ]
    },
    {
     "name": "stdout",
     "output_type": "stream",
     "text": [
      "  Epoca 60/600 | Train Loss=6.5207 | Train Acc=95.22% | Test Acc=96.76%\n"
     ]
    },
    {
     "name": "stderr",
     "output_type": "stream",
     "text": [
      "BBB π=0.75 σ₁=1.4e-01 σ₂=2.5e-03:  10%|█         | 61/600 [05:29<48:19,  5.38s/it]"
     ]
    },
    {
     "name": "stdout",
     "output_type": "stream",
     "text": [
      "  Epoca 61/600 | Train Loss=6.4729 | Train Acc=95.11% | Test Acc=97.16%\n"
     ]
    },
    {
     "name": "stderr",
     "output_type": "stream",
     "text": [
      "BBB π=0.75 σ₁=1.4e-01 σ₂=2.5e-03:  10%|█         | 62/600 [05:35<48:13,  5.38s/it]"
     ]
    },
    {
     "name": "stdout",
     "output_type": "stream",
     "text": [
      "  Epoca 62/600 | Train Loss=6.4268 | Train Acc=95.33% | Test Acc=97.02%\n"
     ]
    },
    {
     "name": "stderr",
     "output_type": "stream",
     "text": [
      "BBB π=0.75 σ₁=1.4e-01 σ₂=2.5e-03:  10%|█         | 63/600 [05:40<47:48,  5.34s/it]"
     ]
    },
    {
     "name": "stdout",
     "output_type": "stream",
     "text": [
      "  Epoca 63/600 | Train Loss=6.3890 | Train Acc=95.06% | Test Acc=96.92%\n"
     ]
    },
    {
     "name": "stderr",
     "output_type": "stream",
     "text": [
      "BBB π=0.75 σ₁=1.4e-01 σ₂=2.5e-03:  11%|█         | 64/600 [05:45<47:44,  5.34s/it]"
     ]
    },
    {
     "name": "stdout",
     "output_type": "stream",
     "text": [
      "  Epoca 64/600 | Train Loss=6.3416 | Train Acc=95.08% | Test Acc=97.23%\n"
     ]
    },
    {
     "name": "stderr",
     "output_type": "stream",
     "text": [
      "BBB π=0.75 σ₁=1.4e-01 σ₂=2.5e-03:  11%|█         | 65/600 [05:51<48:36,  5.45s/it]"
     ]
    },
    {
     "name": "stdout",
     "output_type": "stream",
     "text": [
      "  Epoca 65/600 | Train Loss=6.3082 | Train Acc=95.03% | Test Acc=97.26%\n"
     ]
    },
    {
     "name": "stderr",
     "output_type": "stream",
     "text": [
      "BBB π=0.75 σ₁=1.4e-01 σ₂=2.5e-03:  11%|█         | 66/600 [05:56<48:13,  5.42s/it]"
     ]
    },
    {
     "name": "stdout",
     "output_type": "stream",
     "text": [
      "  Epoca 66/600 | Train Loss=6.2643 | Train Acc=95.16% | Test Acc=97.12%\n"
     ]
    },
    {
     "name": "stderr",
     "output_type": "stream",
     "text": [
      "BBB π=0.75 σ₁=1.4e-01 σ₂=2.5e-03:  11%|█         | 67/600 [06:01<47:50,  5.39s/it]"
     ]
    },
    {
     "name": "stdout",
     "output_type": "stream",
     "text": [
      "  Epoca 67/600 | Train Loss=6.2277 | Train Acc=95.10% | Test Acc=97.22%\n"
     ]
    },
    {
     "name": "stderr",
     "output_type": "stream",
     "text": [
      "BBB π=0.75 σ₁=1.4e-01 σ₂=2.5e-03:  11%|█▏        | 68/600 [06:07<47:23,  5.35s/it]"
     ]
    },
    {
     "name": "stdout",
     "output_type": "stream",
     "text": [
      "  Epoca 68/600 | Train Loss=6.1955 | Train Acc=95.05% | Test Acc=97.23%\n"
     ]
    },
    {
     "name": "stderr",
     "output_type": "stream",
     "text": [
      "BBB π=0.75 σ₁=1.4e-01 σ₂=2.5e-03:  12%|█▏        | 69/600 [06:12<47:08,  5.33s/it]"
     ]
    },
    {
     "name": "stdout",
     "output_type": "stream",
     "text": [
      "  Epoca 69/600 | Train Loss=6.1519 | Train Acc=95.35% | Test Acc=97.26%\n"
     ]
    },
    {
     "name": "stderr",
     "output_type": "stream",
     "text": [
      "BBB π=0.75 σ₁=1.4e-01 σ₂=2.5e-03:  12%|█▏        | 70/600 [06:17<46:56,  5.32s/it]"
     ]
    },
    {
     "name": "stdout",
     "output_type": "stream",
     "text": [
      "  Epoca 70/600 | Train Loss=6.1217 | Train Acc=95.18% | Test Acc=97.23%\n"
     ]
    },
    {
     "name": "stderr",
     "output_type": "stream",
     "text": [
      "BBB π=0.75 σ₁=1.4e-01 σ₂=2.5e-03:  12%|█▏        | 71/600 [06:23<48:00,  5.44s/it]"
     ]
    },
    {
     "name": "stdout",
     "output_type": "stream",
     "text": [
      "  Epoca 71/600 | Train Loss=6.0984 | Train Acc=94.94% | Test Acc=97.14%\n"
     ]
    },
    {
     "name": "stderr",
     "output_type": "stream",
     "text": [
      "BBB π=0.75 σ₁=1.4e-01 σ₂=2.5e-03:  12%|█▏        | 72/600 [06:28<47:34,  5.41s/it]"
     ]
    },
    {
     "name": "stdout",
     "output_type": "stream",
     "text": [
      "  Epoca 72/600 | Train Loss=6.0563 | Train Acc=95.25% | Test Acc=97.16%\n"
     ]
    },
    {
     "name": "stderr",
     "output_type": "stream",
     "text": [
      "BBB π=0.75 σ₁=1.4e-01 σ₂=2.5e-03:  12%|█▏        | 73/600 [06:34<47:11,  5.37s/it]"
     ]
    },
    {
     "name": "stdout",
     "output_type": "stream",
     "text": [
      "  Epoca 73/600 | Train Loss=6.0265 | Train Acc=95.39% | Test Acc=97.32%\n"
     ]
    },
    {
     "name": "stderr",
     "output_type": "stream",
     "text": [
      "BBB π=0.75 σ₁=1.4e-01 σ₂=2.5e-03:  12%|█▏        | 74/600 [06:39<46:51,  5.34s/it]"
     ]
    },
    {
     "name": "stdout",
     "output_type": "stream",
     "text": [
      "  Epoca 74/600 | Train Loss=6.0045 | Train Acc=95.13% | Test Acc=97.21%\n"
     ]
    },
    {
     "name": "stderr",
     "output_type": "stream",
     "text": [
      "BBB π=0.75 σ₁=1.4e-01 σ₂=2.5e-03:  12%|█▎        | 75/600 [06:44<46:42,  5.34s/it]"
     ]
    },
    {
     "name": "stdout",
     "output_type": "stream",
     "text": [
      "  Epoca 75/600 | Train Loss=5.9709 | Train Acc=95.41% | Test Acc=97.18%\n"
     ]
    },
    {
     "name": "stderr",
     "output_type": "stream",
     "text": [
      "BBB π=0.75 σ₁=1.4e-01 σ₂=2.5e-03:  13%|█▎        | 76/600 [06:50<46:28,  5.32s/it]"
     ]
    },
    {
     "name": "stdout",
     "output_type": "stream",
     "text": [
      "  Epoca 76/600 | Train Loss=5.9460 | Train Acc=95.23% | Test Acc=97.22%\n"
     ]
    },
    {
     "name": "stderr",
     "output_type": "stream",
     "text": [
      "BBB π=0.75 σ₁=1.4e-01 σ₂=2.5e-03:  13%|█▎        | 77/600 [06:55<47:29,  5.45s/it]"
     ]
    },
    {
     "name": "stdout",
     "output_type": "stream",
     "text": [
      "  Epoca 77/600 | Train Loss=5.9230 | Train Acc=95.17% | Test Acc=97.18%\n"
     ]
    },
    {
     "name": "stderr",
     "output_type": "stream",
     "text": [
      "BBB π=0.75 σ₁=1.4e-01 σ₂=2.5e-03:  13%|█▎        | 78/600 [07:01<46:53,  5.39s/it]"
     ]
    },
    {
     "name": "stdout",
     "output_type": "stream",
     "text": [
      "  Epoca 78/600 | Train Loss=5.8907 | Train Acc=95.42% | Test Acc=97.25%\n"
     ]
    },
    {
     "name": "stderr",
     "output_type": "stream",
     "text": [
      "BBB π=0.75 σ₁=1.4e-01 σ₂=2.5e-03:  13%|█▎        | 79/600 [07:06<46:38,  5.37s/it]"
     ]
    },
    {
     "name": "stdout",
     "output_type": "stream",
     "text": [
      "  Epoca 79/600 | Train Loss=5.8679 | Train Acc=95.46% | Test Acc=97.15%\n"
     ]
    },
    {
     "name": "stderr",
     "output_type": "stream",
     "text": [
      "BBB π=0.75 σ₁=1.4e-01 σ₂=2.5e-03:  13%|█▎        | 80/600 [07:11<46:20,  5.35s/it]"
     ]
    },
    {
     "name": "stdout",
     "output_type": "stream",
     "text": [
      "  Epoca 80/600 | Train Loss=5.8500 | Train Acc=95.29% | Test Acc=97.45%\n"
     ]
    },
    {
     "name": "stderr",
     "output_type": "stream",
     "text": [
      "BBB π=0.75 σ₁=1.4e-01 σ₂=2.5e-03:  14%|█▎        | 81/600 [07:16<46:03,  5.32s/it]"
     ]
    },
    {
     "name": "stdout",
     "output_type": "stream",
     "text": [
      "  Epoca 81/600 | Train Loss=5.8261 | Train Acc=95.26% | Test Acc=97.03%\n"
     ]
    },
    {
     "name": "stderr",
     "output_type": "stream",
     "text": [
      "BBB π=0.75 σ₁=1.4e-01 σ₂=2.5e-03:  14%|█▎        | 82/600 [07:22<45:54,  5.32s/it]"
     ]
    },
    {
     "name": "stdout",
     "output_type": "stream",
     "text": [
      "  Epoca 82/600 | Train Loss=5.8073 | Train Acc=95.34% | Test Acc=97.25%\n"
     ]
    },
    {
     "name": "stderr",
     "output_type": "stream",
     "text": [
      "BBB π=0.75 σ₁=1.4e-01 σ₂=2.5e-03:  14%|█▍        | 83/600 [07:27<46:51,  5.44s/it]"
     ]
    },
    {
     "name": "stdout",
     "output_type": "stream",
     "text": [
      "  Epoca 83/600 | Train Loss=5.7855 | Train Acc=95.34% | Test Acc=97.18%\n"
     ]
    },
    {
     "name": "stderr",
     "output_type": "stream",
     "text": [
      "BBB π=0.75 σ₁=1.4e-01 σ₂=2.5e-03:  14%|█▍        | 84/600 [07:33<46:23,  5.39s/it]"
     ]
    },
    {
     "name": "stdout",
     "output_type": "stream",
     "text": [
      "  Epoca 84/600 | Train Loss=5.7688 | Train Acc=95.22% | Test Acc=97.22%\n"
     ]
    },
    {
     "name": "stderr",
     "output_type": "stream",
     "text": [
      "BBB π=0.75 σ₁=1.4e-01 σ₂=2.5e-03:  14%|█▍        | 85/600 [07:38<45:58,  5.36s/it]"
     ]
    },
    {
     "name": "stdout",
     "output_type": "stream",
     "text": [
      "  Epoca 85/600 | Train Loss=5.7427 | Train Acc=95.35% | Test Acc=97.31%\n"
     ]
    },
    {
     "name": "stderr",
     "output_type": "stream",
     "text": [
      "BBB π=0.75 σ₁=1.4e-01 σ₂=2.5e-03:  14%|█▍        | 86/600 [07:43<45:44,  5.34s/it]"
     ]
    },
    {
     "name": "stdout",
     "output_type": "stream",
     "text": [
      "  Epoca 86/600 | Train Loss=5.7294 | Train Acc=95.29% | Test Acc=97.28%\n"
     ]
    },
    {
     "name": "stderr",
     "output_type": "stream",
     "text": [
      "BBB π=0.75 σ₁=1.4e-01 σ₂=2.5e-03:  14%|█▍        | 87/600 [07:49<45:26,  5.31s/it]"
     ]
    },
    {
     "name": "stdout",
     "output_type": "stream",
     "text": [
      "  Epoca 87/600 | Train Loss=5.7121 | Train Acc=95.21% | Test Acc=97.22%\n"
     ]
    },
    {
     "name": "stderr",
     "output_type": "stream",
     "text": [
      "BBB π=0.75 σ₁=1.4e-01 σ₂=2.5e-03:  15%|█▍        | 88/600 [07:54<45:24,  5.32s/it]"
     ]
    },
    {
     "name": "stdout",
     "output_type": "stream",
     "text": [
      "  Epoca 88/600 | Train Loss=5.7043 | Train Acc=95.08% | Test Acc=97.32%\n"
     ]
    },
    {
     "name": "stderr",
     "output_type": "stream",
     "text": [
      "BBB π=0.75 σ₁=1.4e-01 σ₂=2.5e-03:  15%|█▍        | 89/600 [08:00<46:14,  5.43s/it]"
     ]
    },
    {
     "name": "stdout",
     "output_type": "stream",
     "text": [
      "  Epoca 89/600 | Train Loss=5.6812 | Train Acc=95.29% | Test Acc=97.59%\n"
     ]
    },
    {
     "name": "stderr",
     "output_type": "stream",
     "text": [
      "BBB π=0.75 σ₁=1.4e-01 σ₂=2.5e-03:  15%|█▌        | 90/600 [08:05<45:49,  5.39s/it]"
     ]
    },
    {
     "name": "stdout",
     "output_type": "stream",
     "text": [
      "  Epoca 90/600 | Train Loss=5.6708 | Train Acc=95.22% | Test Acc=97.30%\n"
     ]
    },
    {
     "name": "stderr",
     "output_type": "stream",
     "text": [
      "BBB π=0.75 σ₁=1.4e-01 σ₂=2.5e-03:  15%|█▌        | 91/600 [08:10<45:30,  5.37s/it]"
     ]
    },
    {
     "name": "stdout",
     "output_type": "stream",
     "text": [
      "  Epoca 91/600 | Train Loss=5.6519 | Train Acc=95.25% | Test Acc=97.35%\n"
     ]
    },
    {
     "name": "stderr",
     "output_type": "stream",
     "text": [
      "BBB π=0.75 σ₁=1.4e-01 σ₂=2.5e-03:  15%|█▌        | 92/600 [08:16<45:22,  5.36s/it]"
     ]
    },
    {
     "name": "stdout",
     "output_type": "stream",
     "text": [
      "  Epoca 92/600 | Train Loss=5.6404 | Train Acc=95.17% | Test Acc=97.37%\n"
     ]
    },
    {
     "name": "stderr",
     "output_type": "stream",
     "text": [
      "BBB π=0.75 σ₁=1.4e-01 σ₂=2.5e-03:  16%|█▌        | 93/600 [08:21<44:59,  5.32s/it]"
     ]
    },
    {
     "name": "stdout",
     "output_type": "stream",
     "text": [
      "  Epoca 93/600 | Train Loss=5.6200 | Train Acc=95.32% | Test Acc=97.53%\n"
     ]
    },
    {
     "name": "stderr",
     "output_type": "stream",
     "text": [
      "BBB π=0.75 σ₁=1.4e-01 σ₂=2.5e-03:  16%|█▌        | 94/600 [08:26<44:55,  5.33s/it]"
     ]
    },
    {
     "name": "stdout",
     "output_type": "stream",
     "text": [
      "  Epoca 94/600 | Train Loss=5.6032 | Train Acc=95.52% | Test Acc=97.41%\n"
     ]
    },
    {
     "name": "stderr",
     "output_type": "stream",
     "text": [
      "BBB π=0.75 σ₁=1.4e-01 σ₂=2.5e-03:  16%|█▌        | 95/600 [08:32<45:50,  5.45s/it]"
     ]
    },
    {
     "name": "stdout",
     "output_type": "stream",
     "text": [
      "  Epoca 95/600 | Train Loss=5.5963 | Train Acc=95.34% | Test Acc=97.52%\n"
     ]
    },
    {
     "name": "stderr",
     "output_type": "stream",
     "text": [
      "BBB π=0.75 σ₁=1.4e-01 σ₂=2.5e-03:  16%|█▌        | 96/600 [08:37<45:15,  5.39s/it]"
     ]
    },
    {
     "name": "stdout",
     "output_type": "stream",
     "text": [
      "  Epoca 96/600 | Train Loss=5.5907 | Train Acc=95.06% | Test Acc=97.24%\n"
     ]
    },
    {
     "name": "stderr",
     "output_type": "stream",
     "text": [
      "BBB π=0.75 σ₁=1.4e-01 σ₂=2.5e-03:  16%|█▌        | 97/600 [08:42<44:58,  5.37s/it]"
     ]
    },
    {
     "name": "stdout",
     "output_type": "stream",
     "text": [
      "  Epoca 97/600 | Train Loss=5.5682 | Train Acc=95.51% | Test Acc=97.40%\n"
     ]
    },
    {
     "name": "stderr",
     "output_type": "stream",
     "text": [
      "BBB π=0.75 σ₁=1.4e-01 σ₂=2.5e-03:  16%|█▋        | 98/600 [08:48<44:35,  5.33s/it]"
     ]
    },
    {
     "name": "stdout",
     "output_type": "stream",
     "text": [
      "  Epoca 98/600 | Train Loss=5.5650 | Train Acc=95.27% | Test Acc=97.40%\n"
     ]
    },
    {
     "name": "stderr",
     "output_type": "stream",
     "text": [
      "BBB π=0.75 σ₁=1.4e-01 σ₂=2.5e-03:  16%|█▋        | 99/600 [08:53<44:24,  5.32s/it]"
     ]
    },
    {
     "name": "stdout",
     "output_type": "stream",
     "text": [
      "  Epoca 99/600 | Train Loss=5.5493 | Train Acc=95.34% | Test Acc=97.19%\n"
     ]
    },
    {
     "name": "stderr",
     "output_type": "stream",
     "text": [
      "BBB π=0.75 σ₁=1.4e-01 σ₂=2.5e-03:  17%|█▋        | 100/600 [08:58<44:09,  5.30s/it]"
     ]
    },
    {
     "name": "stdout",
     "output_type": "stream",
     "text": [
      "  Epoca 100/600 | Train Loss=5.5324 | Train Acc=95.54% | Test Acc=97.49%\n"
     ]
    },
    {
     "name": "stderr",
     "output_type": "stream",
     "text": [
      "BBB π=0.75 σ₁=1.4e-01 σ₂=2.5e-03:  17%|█▋        | 101/600 [09:04<45:16,  5.44s/it]"
     ]
    },
    {
     "name": "stdout",
     "output_type": "stream",
     "text": [
      "  Epoca 101/600 | Train Loss=5.5273 | Train Acc=95.44% | Test Acc=97.43%\n"
     ]
    },
    {
     "name": "stderr",
     "output_type": "stream",
     "text": [
      "BBB π=0.75 σ₁=1.4e-01 σ₂=2.5e-03:  17%|█▋        | 102/600 [09:09<44:49,  5.40s/it]"
     ]
    },
    {
     "name": "stdout",
     "output_type": "stream",
     "text": [
      "  Epoca 102/600 | Train Loss=5.5200 | Train Acc=95.42% | Test Acc=97.17%\n"
     ]
    },
    {
     "name": "stderr",
     "output_type": "stream",
     "text": [
      "BBB π=0.75 σ₁=1.4e-01 σ₂=2.5e-03:  17%|█▋        | 103/600 [09:15<44:42,  5.40s/it]"
     ]
    },
    {
     "name": "stdout",
     "output_type": "stream",
     "text": [
      "  Epoca 103/600 | Train Loss=5.5203 | Train Acc=95.23% | Test Acc=97.44%\n"
     ]
    },
    {
     "name": "stderr",
     "output_type": "stream",
     "text": [
      "BBB π=0.75 σ₁=1.4e-01 σ₂=2.5e-03:  17%|█▋        | 104/600 [09:20<44:14,  5.35s/it]"
     ]
    },
    {
     "name": "stdout",
     "output_type": "stream",
     "text": [
      "  Epoca 104/600 | Train Loss=5.5010 | Train Acc=95.40% | Test Acc=97.45%\n"
     ]
    },
    {
     "name": "stderr",
     "output_type": "stream",
     "text": [
      "BBB π=0.75 σ₁=1.4e-01 σ₂=2.5e-03:  18%|█▊        | 105/600 [09:25<44:02,  5.34s/it]"
     ]
    },
    {
     "name": "stdout",
     "output_type": "stream",
     "text": [
      "  Epoca 105/600 | Train Loss=5.4990 | Train Acc=95.30% | Test Acc=97.45%\n"
     ]
    },
    {
     "name": "stderr",
     "output_type": "stream",
     "text": [
      "BBB π=0.75 σ₁=1.4e-01 σ₂=2.5e-03:  18%|█▊        | 106/600 [09:30<43:44,  5.31s/it]"
     ]
    },
    {
     "name": "stdout",
     "output_type": "stream",
     "text": [
      "  Epoca 106/600 | Train Loss=5.4893 | Train Acc=95.39% | Test Acc=97.06%\n"
     ]
    },
    {
     "name": "stderr",
     "output_type": "stream",
     "text": [
      "BBB π=0.75 σ₁=1.4e-01 σ₂=2.5e-03:  18%|█▊        | 107/600 [09:36<44:51,  5.46s/it]"
     ]
    },
    {
     "name": "stdout",
     "output_type": "stream",
     "text": [
      "  Epoca 107/600 | Train Loss=5.4779 | Train Acc=95.37% | Test Acc=97.34%\n"
     ]
    },
    {
     "name": "stderr",
     "output_type": "stream",
     "text": [
      "BBB π=0.75 σ₁=1.4e-01 σ₂=2.5e-03:  18%|█▊        | 108/600 [09:42<44:21,  5.41s/it]"
     ]
    },
    {
     "name": "stdout",
     "output_type": "stream",
     "text": [
      "  Epoca 108/600 | Train Loss=5.4695 | Train Acc=95.41% | Test Acc=97.42%\n"
     ]
    },
    {
     "name": "stderr",
     "output_type": "stream",
     "text": [
      "BBB π=0.75 σ₁=1.4e-01 σ₂=2.5e-03:  18%|█▊        | 109/600 [09:47<43:53,  5.36s/it]"
     ]
    },
    {
     "name": "stdout",
     "output_type": "stream",
     "text": [
      "  Epoca 109/600 | Train Loss=5.4663 | Train Acc=95.27% | Test Acc=97.37%\n"
     ]
    },
    {
     "name": "stderr",
     "output_type": "stream",
     "text": [
      "BBB π=0.75 σ₁=1.4e-01 σ₂=2.5e-03:  18%|█▊        | 110/600 [09:52<43:38,  5.34s/it]"
     ]
    },
    {
     "name": "stdout",
     "output_type": "stream",
     "text": [
      "  Epoca 110/600 | Train Loss=5.4572 | Train Acc=95.39% | Test Acc=97.36%\n"
     ]
    },
    {
     "name": "stderr",
     "output_type": "stream",
     "text": [
      "BBB π=0.75 σ₁=1.4e-01 σ₂=2.5e-03:  18%|█▊        | 111/600 [09:57<43:21,  5.32s/it]"
     ]
    },
    {
     "name": "stdout",
     "output_type": "stream",
     "text": [
      "  Epoca 111/600 | Train Loss=5.4583 | Train Acc=95.19% | Test Acc=97.51%\n"
     ]
    },
    {
     "name": "stderr",
     "output_type": "stream",
     "text": [
      "BBB π=0.75 σ₁=1.4e-01 σ₂=2.5e-03:  19%|█▊        | 112/600 [10:03<43:14,  5.32s/it]"
     ]
    },
    {
     "name": "stdout",
     "output_type": "stream",
     "text": [
      "  Epoca 112/600 | Train Loss=5.4466 | Train Acc=95.42% | Test Acc=97.42%\n"
     ]
    },
    {
     "name": "stderr",
     "output_type": "stream",
     "text": [
      "BBB π=0.75 σ₁=1.4e-01 σ₂=2.5e-03:  19%|█▉        | 113/600 [10:08<44:12,  5.45s/it]"
     ]
    },
    {
     "name": "stdout",
     "output_type": "stream",
     "text": [
      "  Epoca 113/600 | Train Loss=5.4351 | Train Acc=95.47% | Test Acc=97.46%\n"
     ]
    },
    {
     "name": "stderr",
     "output_type": "stream",
     "text": [
      "BBB π=0.75 σ₁=1.4e-01 σ₂=2.5e-03:  19%|█▉        | 114/600 [10:14<44:00,  5.43s/it]"
     ]
    },
    {
     "name": "stdout",
     "output_type": "stream",
     "text": [
      "  Epoca 114/600 | Train Loss=5.4395 | Train Acc=95.12% | Test Acc=97.19%\n"
     ]
    },
    {
     "name": "stderr",
     "output_type": "stream",
     "text": [
      "BBB π=0.75 σ₁=1.4e-01 σ₂=2.5e-03:  19%|█▉        | 115/600 [10:19<43:37,  5.40s/it]"
     ]
    },
    {
     "name": "stdout",
     "output_type": "stream",
     "text": [
      "  Epoca 115/600 | Train Loss=5.4222 | Train Acc=95.49% | Test Acc=97.47%\n"
     ]
    },
    {
     "name": "stderr",
     "output_type": "stream",
     "text": [
      "BBB π=0.75 σ₁=1.4e-01 σ₂=2.5e-03:  19%|█▉        | 116/600 [10:25<43:26,  5.38s/it]"
     ]
    },
    {
     "name": "stdout",
     "output_type": "stream",
     "text": [
      "  Epoca 116/600 | Train Loss=5.4192 | Train Acc=95.35% | Test Acc=97.51%\n"
     ]
    },
    {
     "name": "stderr",
     "output_type": "stream",
     "text": [
      "BBB π=0.75 σ₁=1.4e-01 σ₂=2.5e-03:  20%|█▉        | 117/600 [10:30<43:02,  5.35s/it]"
     ]
    },
    {
     "name": "stdout",
     "output_type": "stream",
     "text": [
      "  Epoca 117/600 | Train Loss=5.4126 | Train Acc=95.42% | Test Acc=97.53%\n"
     ]
    },
    {
     "name": "stderr",
     "output_type": "stream",
     "text": [
      "BBB π=0.75 σ₁=1.4e-01 σ₂=2.5e-03:  20%|█▉        | 118/600 [10:35<43:09,  5.37s/it]"
     ]
    },
    {
     "name": "stdout",
     "output_type": "stream",
     "text": [
      "  Epoca 118/600 | Train Loss=5.4081 | Train Acc=95.51% | Test Acc=97.52%\n"
     ]
    },
    {
     "name": "stderr",
     "output_type": "stream",
     "text": [
      "BBB π=0.75 σ₁=1.4e-01 σ₂=2.5e-03:  20%|█▉        | 119/600 [10:41<43:38,  5.44s/it]"
     ]
    },
    {
     "name": "stdout",
     "output_type": "stream",
     "text": [
      "  Epoca 119/600 | Train Loss=5.4041 | Train Acc=95.47% | Test Acc=97.58%\n"
     ]
    },
    {
     "name": "stderr",
     "output_type": "stream",
     "text": [
      "BBB π=0.75 σ₁=1.4e-01 σ₂=2.5e-03:  20%|██        | 120/600 [10:46<43:14,  5.41s/it]"
     ]
    },
    {
     "name": "stdout",
     "output_type": "stream",
     "text": [
      "  Epoca 120/600 | Train Loss=5.4017 | Train Acc=95.36% | Test Acc=97.50%\n"
     ]
    },
    {
     "name": "stderr",
     "output_type": "stream",
     "text": [
      "BBB π=0.75 σ₁=1.4e-01 σ₂=2.5e-03:  20%|██        | 121/600 [10:51<42:58,  5.38s/it]"
     ]
    },
    {
     "name": "stdout",
     "output_type": "stream",
     "text": [
      "  Epoca 121/600 | Train Loss=5.3955 | Train Acc=95.37% | Test Acc=97.51%\n"
     ]
    },
    {
     "name": "stderr",
     "output_type": "stream",
     "text": [
      "BBB π=0.75 σ₁=1.4e-01 σ₂=2.5e-03:  20%|██        | 122/600 [10:57<42:37,  5.35s/it]"
     ]
    },
    {
     "name": "stdout",
     "output_type": "stream",
     "text": [
      "  Epoca 122/600 | Train Loss=5.3901 | Train Acc=95.41% | Test Acc=97.52%\n"
     ]
    },
    {
     "name": "stderr",
     "output_type": "stream",
     "text": [
      "BBB π=0.75 σ₁=1.4e-01 σ₂=2.5e-03:  20%|██        | 123/600 [11:02<42:14,  5.31s/it]"
     ]
    },
    {
     "name": "stdout",
     "output_type": "stream",
     "text": [
      "  Epoca 123/600 | Train Loss=5.3883 | Train Acc=95.38% | Test Acc=97.42%\n"
     ]
    },
    {
     "name": "stderr",
     "output_type": "stream",
     "text": [
      "BBB π=0.75 σ₁=1.4e-01 σ₂=2.5e-03:  21%|██        | 124/600 [11:07<42:05,  5.31s/it]"
     ]
    },
    {
     "name": "stdout",
     "output_type": "stream",
     "text": [
      "  Epoca 124/600 | Train Loss=5.3764 | Train Acc=95.58% | Test Acc=97.46%\n"
     ]
    },
    {
     "name": "stderr",
     "output_type": "stream",
     "text": [
      "BBB π=0.75 σ₁=1.4e-01 σ₂=2.5e-03:  21%|██        | 125/600 [11:13<42:49,  5.41s/it]"
     ]
    },
    {
     "name": "stdout",
     "output_type": "stream",
     "text": [
      "  Epoca 125/600 | Train Loss=5.3754 | Train Acc=95.44% | Test Acc=97.48%\n"
     ]
    },
    {
     "name": "stderr",
     "output_type": "stream",
     "text": [
      "BBB π=0.75 σ₁=1.4e-01 σ₂=2.5e-03:  21%|██        | 126/600 [11:18<42:28,  5.38s/it]"
     ]
    },
    {
     "name": "stdout",
     "output_type": "stream",
     "text": [
      "  Epoca 126/600 | Train Loss=5.3686 | Train Acc=95.52% | Test Acc=97.44%\n"
     ]
    },
    {
     "name": "stderr",
     "output_type": "stream",
     "text": [
      "BBB π=0.75 σ₁=1.4e-01 σ₂=2.5e-03:  21%|██        | 127/600 [11:23<42:07,  5.34s/it]"
     ]
    },
    {
     "name": "stdout",
     "output_type": "stream",
     "text": [
      "  Epoca 127/600 | Train Loss=5.3668 | Train Acc=95.41% | Test Acc=97.45%\n"
     ]
    },
    {
     "name": "stderr",
     "output_type": "stream",
     "text": [
      "BBB π=0.75 σ₁=1.4e-01 σ₂=2.5e-03:  21%|██▏       | 128/600 [11:29<41:50,  5.32s/it]"
     ]
    },
    {
     "name": "stdout",
     "output_type": "stream",
     "text": [
      "  Epoca 128/600 | Train Loss=5.3634 | Train Acc=95.44% | Test Acc=97.46%\n"
     ]
    },
    {
     "name": "stderr",
     "output_type": "stream",
     "text": [
      "BBB π=0.75 σ₁=1.4e-01 σ₂=2.5e-03:  22%|██▏       | 129/600 [11:34<41:43,  5.31s/it]"
     ]
    },
    {
     "name": "stdout",
     "output_type": "stream",
     "text": [
      "  Epoca 129/600 | Train Loss=5.3611 | Train Acc=95.35% | Test Acc=97.47%\n"
     ]
    },
    {
     "name": "stderr",
     "output_type": "stream",
     "text": [
      "BBB π=0.75 σ₁=1.4e-01 σ₂=2.5e-03:  22%|██▏       | 130/600 [11:39<41:52,  5.35s/it]"
     ]
    },
    {
     "name": "stdout",
     "output_type": "stream",
     "text": [
      "  Epoca 130/600 | Train Loss=5.3536 | Train Acc=95.56% | Test Acc=97.39%\n"
     ]
    },
    {
     "name": "stderr",
     "output_type": "stream",
     "text": [
      "BBB π=0.75 σ₁=1.4e-01 σ₂=2.5e-03:  22%|██▏       | 131/600 [11:45<42:33,  5.44s/it]"
     ]
    },
    {
     "name": "stdout",
     "output_type": "stream",
     "text": [
      "  Epoca 131/600 | Train Loss=5.3604 | Train Acc=95.30% | Test Acc=97.35%\n"
     ]
    },
    {
     "name": "stderr",
     "output_type": "stream",
     "text": [
      "BBB π=0.75 σ₁=1.4e-01 σ₂=2.5e-03:  22%|██▏       | 132/600 [11:50<42:02,  5.39s/it]"
     ]
    },
    {
     "name": "stdout",
     "output_type": "stream",
     "text": [
      "  Epoca 132/600 | Train Loss=5.3525 | Train Acc=95.48% | Test Acc=97.57%\n"
     ]
    },
    {
     "name": "stderr",
     "output_type": "stream",
     "text": [
      "BBB π=0.75 σ₁=1.4e-01 σ₂=2.5e-03:  22%|██▏       | 133/600 [11:56<41:44,  5.36s/it]"
     ]
    },
    {
     "name": "stdout",
     "output_type": "stream",
     "text": [
      "  Epoca 133/600 | Train Loss=5.3462 | Train Acc=95.48% | Test Acc=97.58%\n"
     ]
    },
    {
     "name": "stderr",
     "output_type": "stream",
     "text": [
      "BBB π=0.75 σ₁=1.4e-01 σ₂=2.5e-03:  22%|██▏       | 134/600 [12:01<41:16,  5.32s/it]"
     ]
    },
    {
     "name": "stdout",
     "output_type": "stream",
     "text": [
      "  Epoca 134/600 | Train Loss=5.3547 | Train Acc=95.17% | Test Acc=97.45%\n"
     ]
    },
    {
     "name": "stderr",
     "output_type": "stream",
     "text": [
      "BBB π=0.75 σ₁=1.4e-01 σ₂=2.5e-03:  22%|██▎       | 135/600 [12:06<41:16,  5.33s/it]"
     ]
    },
    {
     "name": "stdout",
     "output_type": "stream",
     "text": [
      "  Epoca 135/600 | Train Loss=5.3421 | Train Acc=95.44% | Test Acc=97.52%\n"
     ]
    },
    {
     "name": "stderr",
     "output_type": "stream",
     "text": [
      "BBB π=0.75 σ₁=1.4e-01 σ₂=2.5e-03:  23%|██▎       | 136/600 [12:12<41:36,  5.38s/it]"
     ]
    },
    {
     "name": "stdout",
     "output_type": "stream",
     "text": [
      "  Epoca 136/600 | Train Loss=5.3413 | Train Acc=95.44% | Test Acc=97.42%\n"
     ]
    },
    {
     "name": "stderr",
     "output_type": "stream",
     "text": [
      "BBB π=0.75 σ₁=1.4e-01 σ₂=2.5e-03:  23%|██▎       | 137/600 [12:17<41:41,  5.40s/it]"
     ]
    },
    {
     "name": "stdout",
     "output_type": "stream",
     "text": [
      "  Epoca 137/600 | Train Loss=5.3389 | Train Acc=95.49% | Test Acc=97.49%\n"
     ]
    },
    {
     "name": "stderr",
     "output_type": "stream",
     "text": [
      "BBB π=0.75 σ₁=1.4e-01 σ₂=2.5e-03:  23%|██▎       | 138/600 [12:23<41:23,  5.37s/it]"
     ]
    },
    {
     "name": "stdout",
     "output_type": "stream",
     "text": [
      "  Epoca 138/600 | Train Loss=5.3321 | Train Acc=95.53% | Test Acc=97.28%\n"
     ]
    },
    {
     "name": "stderr",
     "output_type": "stream",
     "text": [
      "BBB π=0.75 σ₁=1.4e-01 σ₂=2.5e-03:  23%|██▎       | 139/600 [12:28<40:57,  5.33s/it]"
     ]
    },
    {
     "name": "stdout",
     "output_type": "stream",
     "text": [
      "  Epoca 139/600 | Train Loss=5.3359 | Train Acc=95.43% | Test Acc=97.64%\n"
     ]
    },
    {
     "name": "stderr",
     "output_type": "stream",
     "text": [
      "BBB π=0.75 σ₁=1.4e-01 σ₂=2.5e-03:  23%|██▎       | 140/600 [12:33<40:55,  5.34s/it]"
     ]
    },
    {
     "name": "stdout",
     "output_type": "stream",
     "text": [
      "  Epoca 140/600 | Train Loss=5.3322 | Train Acc=95.36% | Test Acc=97.44%\n"
     ]
    },
    {
     "name": "stderr",
     "output_type": "stream",
     "text": [
      "BBB π=0.75 σ₁=1.4e-01 σ₂=2.5e-03:  24%|██▎       | 141/600 [12:38<40:52,  5.34s/it]"
     ]
    },
    {
     "name": "stdout",
     "output_type": "stream",
     "text": [
      "  Epoca 141/600 | Train Loss=5.3301 | Train Acc=95.47% | Test Acc=97.62%\n"
     ]
    },
    {
     "name": "stderr",
     "output_type": "stream",
     "text": [
      "BBB π=0.75 σ₁=1.4e-01 σ₂=2.5e-03:  24%|██▎       | 142/600 [12:44<41:21,  5.42s/it]"
     ]
    },
    {
     "name": "stdout",
     "output_type": "stream",
     "text": [
      "  Epoca 142/600 | Train Loss=5.3280 | Train Acc=95.42% | Test Acc=97.54%\n"
     ]
    },
    {
     "name": "stderr",
     "output_type": "stream",
     "text": [
      "BBB π=0.75 σ₁=1.4e-01 σ₂=2.5e-03:  24%|██▍       | 143/600 [12:49<41:15,  5.42s/it]"
     ]
    },
    {
     "name": "stdout",
     "output_type": "stream",
     "text": [
      "  Epoca 143/600 | Train Loss=5.3203 | Train Acc=95.62% | Test Acc=97.56%\n"
     ]
    },
    {
     "name": "stderr",
     "output_type": "stream",
     "text": [
      "BBB π=0.75 σ₁=1.4e-01 σ₂=2.5e-03:  24%|██▍       | 144/600 [12:55<40:54,  5.38s/it]"
     ]
    },
    {
     "name": "stdout",
     "output_type": "stream",
     "text": [
      "  Epoca 144/600 | Train Loss=5.3228 | Train Acc=95.41% | Test Acc=97.63%\n"
     ]
    },
    {
     "name": "stderr",
     "output_type": "stream",
     "text": [
      "BBB π=0.75 σ₁=1.4e-01 σ₂=2.5e-03:  24%|██▍       | 145/600 [13:00<40:34,  5.35s/it]"
     ]
    },
    {
     "name": "stdout",
     "output_type": "stream",
     "text": [
      "  Epoca 145/600 | Train Loss=5.3180 | Train Acc=95.51% | Test Acc=97.48%\n"
     ]
    },
    {
     "name": "stderr",
     "output_type": "stream",
     "text": [
      "BBB π=0.75 σ₁=1.4e-01 σ₂=2.5e-03:  24%|██▍       | 146/600 [13:05<40:24,  5.34s/it]"
     ]
    },
    {
     "name": "stdout",
     "output_type": "stream",
     "text": [
      "  Epoca 146/600 | Train Loss=5.3173 | Train Acc=95.44% | Test Acc=97.34%\n"
     ]
    },
    {
     "name": "stderr",
     "output_type": "stream",
     "text": [
      "BBB π=0.75 σ₁=1.4e-01 σ₂=2.5e-03:  24%|██▍       | 147/600 [13:11<40:11,  5.32s/it]"
     ]
    },
    {
     "name": "stdout",
     "output_type": "stream",
     "text": [
      "  Epoca 147/600 | Train Loss=5.3170 | Train Acc=95.42% | Test Acc=97.46%\n"
     ]
    },
    {
     "name": "stderr",
     "output_type": "stream",
     "text": [
      "BBB π=0.75 σ₁=1.4e-01 σ₂=2.5e-03:  25%|██▍       | 148/600 [13:16<40:46,  5.41s/it]"
     ]
    },
    {
     "name": "stdout",
     "output_type": "stream",
     "text": [
      "  Epoca 148/600 | Train Loss=5.3154 | Train Acc=95.34% | Test Acc=97.47%\n"
     ]
    },
    {
     "name": "stderr",
     "output_type": "stream",
     "text": [
      "BBB π=0.75 σ₁=1.4e-01 σ₂=2.5e-03:  25%|██▍       | 149/600 [13:22<40:31,  5.39s/it]"
     ]
    },
    {
     "name": "stdout",
     "output_type": "stream",
     "text": [
      "  Epoca 149/600 | Train Loss=5.3102 | Train Acc=95.47% | Test Acc=97.49%\n"
     ]
    },
    {
     "name": "stderr",
     "output_type": "stream",
     "text": [
      "BBB π=0.75 σ₁=1.4e-01 σ₂=2.5e-03:  25%|██▌       | 150/600 [13:27<40:08,  5.35s/it]"
     ]
    },
    {
     "name": "stdout",
     "output_type": "stream",
     "text": [
      "  Epoca 150/600 | Train Loss=5.3097 | Train Acc=95.42% | Test Acc=97.42%\n"
     ]
    },
    {
     "name": "stderr",
     "output_type": "stream",
     "text": [
      "BBB π=0.75 σ₁=1.4e-01 σ₂=2.5e-03:  25%|██▌       | 151/600 [13:32<39:49,  5.32s/it]"
     ]
    },
    {
     "name": "stdout",
     "output_type": "stream",
     "text": [
      "  Epoca 151/600 | Train Loss=5.3081 | Train Acc=95.51% | Test Acc=97.52%\n"
     ]
    },
    {
     "name": "stderr",
     "output_type": "stream",
     "text": [
      "BBB π=0.75 σ₁=1.4e-01 σ₂=2.5e-03:  25%|██▌       | 152/600 [13:37<39:36,  5.31s/it]"
     ]
    },
    {
     "name": "stdout",
     "output_type": "stream",
     "text": [
      "  Epoca 152/600 | Train Loss=5.3128 | Train Acc=95.35% | Test Acc=97.61%\n"
     ]
    },
    {
     "name": "stderr",
     "output_type": "stream",
     "text": [
      "BBB π=0.75 σ₁=1.4e-01 σ₂=2.5e-03:  26%|██▌       | 153/600 [13:43<39:29,  5.30s/it]"
     ]
    },
    {
     "name": "stdout",
     "output_type": "stream",
     "text": [
      "  Epoca 153/600 | Train Loss=5.3080 | Train Acc=95.39% | Test Acc=97.43%\n"
     ]
    },
    {
     "name": "stderr",
     "output_type": "stream",
     "text": [
      "BBB π=0.75 σ₁=1.4e-01 σ₂=2.5e-03:  26%|██▌       | 154/600 [13:48<40:05,  5.39s/it]"
     ]
    },
    {
     "name": "stdout",
     "output_type": "stream",
     "text": [
      "  Epoca 154/600 | Train Loss=5.3039 | Train Acc=95.62% | Test Acc=97.57%\n"
     ]
    },
    {
     "name": "stderr",
     "output_type": "stream",
     "text": [
      "BBB π=0.75 σ₁=1.4e-01 σ₂=2.5e-03:  26%|██▌       | 155/600 [13:54<39:51,  5.38s/it]"
     ]
    },
    {
     "name": "stdout",
     "output_type": "stream",
     "text": [
      "  Epoca 155/600 | Train Loss=5.3013 | Train Acc=95.44% | Test Acc=97.47%\n"
     ]
    },
    {
     "name": "stderr",
     "output_type": "stream",
     "text": [
      "BBB π=0.75 σ₁=1.4e-01 σ₂=2.5e-03:  26%|██▌       | 156/600 [13:59<39:30,  5.34s/it]"
     ]
    },
    {
     "name": "stdout",
     "output_type": "stream",
     "text": [
      "  Epoca 156/600 | Train Loss=5.3018 | Train Acc=95.46% | Test Acc=97.50%\n"
     ]
    },
    {
     "name": "stderr",
     "output_type": "stream",
     "text": [
      "BBB π=0.75 σ₁=1.4e-01 σ₂=2.5e-03:  26%|██▌       | 157/600 [14:04<39:18,  5.32s/it]"
     ]
    },
    {
     "name": "stdout",
     "output_type": "stream",
     "text": [
      "  Epoca 157/600 | Train Loss=5.3039 | Train Acc=95.40% | Test Acc=97.35%\n"
     ]
    },
    {
     "name": "stderr",
     "output_type": "stream",
     "text": [
      "BBB π=0.75 σ₁=1.4e-01 σ₂=2.5e-03:  26%|██▋       | 158/600 [14:09<39:10,  5.32s/it]"
     ]
    },
    {
     "name": "stdout",
     "output_type": "stream",
     "text": [
      "  Epoca 158/600 | Train Loss=5.3008 | Train Acc=95.48% | Test Acc=97.39%\n"
     ]
    },
    {
     "name": "stderr",
     "output_type": "stream",
     "text": [
      "BBB π=0.75 σ₁=1.4e-01 σ₂=2.5e-03:  26%|██▋       | 159/600 [14:15<39:10,  5.33s/it]"
     ]
    },
    {
     "name": "stdout",
     "output_type": "stream",
     "text": [
      "  Epoca 159/600 | Train Loss=5.2955 | Train Acc=95.45% | Test Acc=97.33%\n"
     ]
    },
    {
     "name": "stderr",
     "output_type": "stream",
     "text": [
      "BBB π=0.75 σ₁=1.4e-01 σ₂=2.5e-03:  27%|██▋       | 160/600 [14:20<39:47,  5.43s/it]"
     ]
    },
    {
     "name": "stdout",
     "output_type": "stream",
     "text": [
      "  Epoca 160/600 | Train Loss=5.2942 | Train Acc=95.55% | Test Acc=97.56%\n"
     ]
    },
    {
     "name": "stderr",
     "output_type": "stream",
     "text": [
      "BBB π=0.75 σ₁=1.4e-01 σ₂=2.5e-03:  27%|██▋       | 161/600 [14:26<39:34,  5.41s/it]"
     ]
    },
    {
     "name": "stdout",
     "output_type": "stream",
     "text": [
      "  Epoca 161/600 | Train Loss=5.2920 | Train Acc=95.62% | Test Acc=97.48%\n"
     ]
    },
    {
     "name": "stderr",
     "output_type": "stream",
     "text": [
      "BBB π=0.75 σ₁=1.4e-01 σ₂=2.5e-03:  27%|██▋       | 162/600 [14:31<39:14,  5.38s/it]"
     ]
    },
    {
     "name": "stdout",
     "output_type": "stream",
     "text": [
      "  Epoca 162/600 | Train Loss=5.2959 | Train Acc=95.39% | Test Acc=97.38%\n"
     ]
    },
    {
     "name": "stderr",
     "output_type": "stream",
     "text": [
      "BBB π=0.75 σ₁=1.4e-01 σ₂=2.5e-03:  27%|██▋       | 163/600 [14:36<38:57,  5.35s/it]"
     ]
    },
    {
     "name": "stdout",
     "output_type": "stream",
     "text": [
      "  Epoca 163/600 | Train Loss=5.2931 | Train Acc=95.47% | Test Acc=97.50%\n"
     ]
    },
    {
     "name": "stderr",
     "output_type": "stream",
     "text": [
      "BBB π=0.75 σ₁=1.4e-01 σ₂=2.5e-03:  27%|██▋       | 164/600 [14:42<38:41,  5.33s/it]"
     ]
    },
    {
     "name": "stdout",
     "output_type": "stream",
     "text": [
      "  Epoca 164/600 | Train Loss=5.2931 | Train Acc=95.42% | Test Acc=97.47%\n"
     ]
    },
    {
     "name": "stderr",
     "output_type": "stream",
     "text": [
      "BBB π=0.75 σ₁=1.4e-01 σ₂=2.5e-03:  28%|██▊       | 165/600 [14:47<38:25,  5.30s/it]"
     ]
    },
    {
     "name": "stdout",
     "output_type": "stream",
     "text": [
      "  Epoca 165/600 | Train Loss=5.2933 | Train Acc=95.35% | Test Acc=97.40%\n"
     ]
    },
    {
     "name": "stderr",
     "output_type": "stream",
     "text": [
      "BBB π=0.75 σ₁=1.4e-01 σ₂=2.5e-03:  28%|██▊       | 166/600 [14:53<39:14,  5.43s/it]"
     ]
    },
    {
     "name": "stdout",
     "output_type": "stream",
     "text": [
      "  Epoca 166/600 | Train Loss=5.2831 | Train Acc=95.59% | Test Acc=97.36%\n"
     ]
    },
    {
     "name": "stderr",
     "output_type": "stream",
     "text": [
      "BBB π=0.75 σ₁=1.4e-01 σ₂=2.5e-03:  28%|██▊       | 167/600 [14:58<38:44,  5.37s/it]"
     ]
    },
    {
     "name": "stdout",
     "output_type": "stream",
     "text": [
      "  Epoca 167/600 | Train Loss=5.2857 | Train Acc=95.43% | Test Acc=97.24%\n"
     ]
    },
    {
     "name": "stderr",
     "output_type": "stream",
     "text": [
      "BBB π=0.75 σ₁=1.4e-01 σ₂=2.5e-03:  28%|██▊       | 168/600 [15:03<38:34,  5.36s/it]"
     ]
    },
    {
     "name": "stdout",
     "output_type": "stream",
     "text": [
      "  Epoca 168/600 | Train Loss=5.2830 | Train Acc=95.53% | Test Acc=97.58%\n"
     ]
    },
    {
     "name": "stderr",
     "output_type": "stream",
     "text": [
      "BBB π=0.75 σ₁=1.4e-01 σ₂=2.5e-03:  28%|██▊       | 169/600 [15:09<38:20,  5.34s/it]"
     ]
    },
    {
     "name": "stdout",
     "output_type": "stream",
     "text": [
      "  Epoca 169/600 | Train Loss=5.2786 | Train Acc=95.66% | Test Acc=97.51%\n"
     ]
    },
    {
     "name": "stderr",
     "output_type": "stream",
     "text": [
      "BBB π=0.75 σ₁=1.4e-01 σ₂=2.5e-03:  28%|██▊       | 170/600 [15:14<38:09,  5.32s/it]"
     ]
    },
    {
     "name": "stdout",
     "output_type": "stream",
     "text": [
      "  Epoca 170/600 | Train Loss=5.2808 | Train Acc=95.55% | Test Acc=97.47%\n"
     ]
    },
    {
     "name": "stderr",
     "output_type": "stream",
     "text": [
      "BBB π=0.75 σ₁=1.4e-01 σ₂=2.5e-03:  28%|██▊       | 171/600 [15:19<37:57,  5.31s/it]"
     ]
    },
    {
     "name": "stdout",
     "output_type": "stream",
     "text": [
      "  Epoca 171/600 | Train Loss=5.2801 | Train Acc=95.50% | Test Acc=97.49%\n"
     ]
    },
    {
     "name": "stderr",
     "output_type": "stream",
     "text": [
      "BBB π=0.75 σ₁=1.4e-01 σ₂=2.5e-03:  29%|██▊       | 172/600 [15:25<38:46,  5.44s/it]"
     ]
    },
    {
     "name": "stdout",
     "output_type": "stream",
     "text": [
      "  Epoca 172/600 | Train Loss=5.2817 | Train Acc=95.47% | Test Acc=97.54%\n"
     ]
    },
    {
     "name": "stderr",
     "output_type": "stream",
     "text": [
      "BBB π=0.75 σ₁=1.4e-01 σ₂=2.5e-03:  29%|██▉       | 173/600 [15:30<38:22,  5.39s/it]"
     ]
    },
    {
     "name": "stdout",
     "output_type": "stream",
     "text": [
      "  Epoca 173/600 | Train Loss=5.2784 | Train Acc=95.57% | Test Acc=97.39%\n"
     ]
    },
    {
     "name": "stderr",
     "output_type": "stream",
     "text": [
      "BBB π=0.75 σ₁=1.4e-01 σ₂=2.5e-03:  29%|██▉       | 174/600 [15:35<38:12,  5.38s/it]"
     ]
    },
    {
     "name": "stdout",
     "output_type": "stream",
     "text": [
      "  Epoca 174/600 | Train Loss=5.2816 | Train Acc=95.37% | Test Acc=97.60%\n"
     ]
    },
    {
     "name": "stderr",
     "output_type": "stream",
     "text": [
      "BBB π=0.75 σ₁=1.4e-01 σ₂=2.5e-03:  29%|██▉       | 175/600 [15:41<37:58,  5.36s/it]"
     ]
    },
    {
     "name": "stdout",
     "output_type": "stream",
     "text": [
      "  Epoca 175/600 | Train Loss=5.2736 | Train Acc=95.63% | Test Acc=97.64%\n"
     ]
    },
    {
     "name": "stderr",
     "output_type": "stream",
     "text": [
      "BBB π=0.75 σ₁=1.4e-01 σ₂=2.5e-03:  29%|██▉       | 176/600 [15:46<37:47,  5.35s/it]"
     ]
    },
    {
     "name": "stdout",
     "output_type": "stream",
     "text": [
      "  Epoca 176/600 | Train Loss=5.2785 | Train Acc=95.50% | Test Acc=97.56%\n"
     ]
    },
    {
     "name": "stderr",
     "output_type": "stream",
     "text": [
      "BBB π=0.75 σ₁=1.4e-01 σ₂=2.5e-03:  30%|██▉       | 177/600 [15:51<37:34,  5.33s/it]"
     ]
    },
    {
     "name": "stdout",
     "output_type": "stream",
     "text": [
      "  Epoca 177/600 | Train Loss=5.2773 | Train Acc=95.51% | Test Acc=97.51%\n"
     ]
    },
    {
     "name": "stderr",
     "output_type": "stream",
     "text": [
      "BBB π=0.75 σ₁=1.4e-01 σ₂=2.5e-03:  30%|██▉       | 178/600 [15:57<38:17,  5.44s/it]"
     ]
    },
    {
     "name": "stdout",
     "output_type": "stream",
     "text": [
      "  Epoca 178/600 | Train Loss=5.2731 | Train Acc=95.54% | Test Acc=97.45%\n"
     ]
    },
    {
     "name": "stderr",
     "output_type": "stream",
     "text": [
      "BBB π=0.75 σ₁=1.4e-01 σ₂=2.5e-03:  30%|██▉       | 179/600 [16:02<37:51,  5.40s/it]"
     ]
    },
    {
     "name": "stdout",
     "output_type": "stream",
     "text": [
      "  Epoca 179/600 | Train Loss=5.2676 | Train Acc=95.68% | Test Acc=97.53%\n"
     ]
    },
    {
     "name": "stderr",
     "output_type": "stream",
     "text": [
      "BBB π=0.75 σ₁=1.4e-01 σ₂=2.5e-03:  30%|███       | 180/600 [16:08<37:26,  5.35s/it]"
     ]
    },
    {
     "name": "stdout",
     "output_type": "stream",
     "text": [
      "  Epoca 180/600 | Train Loss=5.2705 | Train Acc=95.53% | Test Acc=97.62%\n"
     ]
    },
    {
     "name": "stderr",
     "output_type": "stream",
     "text": [
      "BBB π=0.75 σ₁=1.4e-01 σ₂=2.5e-03:  30%|███       | 181/600 [16:13<37:16,  5.34s/it]"
     ]
    },
    {
     "name": "stdout",
     "output_type": "stream",
     "text": [
      "  Epoca 181/600 | Train Loss=5.2672 | Train Acc=95.60% | Test Acc=97.58%\n"
     ]
    },
    {
     "name": "stderr",
     "output_type": "stream",
     "text": [
      "BBB π=0.75 σ₁=1.4e-01 σ₂=2.5e-03:  30%|███       | 182/600 [16:18<37:00,  5.31s/it]"
     ]
    },
    {
     "name": "stdout",
     "output_type": "stream",
     "text": [
      "  Epoca 182/600 | Train Loss=5.2700 | Train Acc=95.49% | Test Acc=97.47%\n"
     ]
    },
    {
     "name": "stderr",
     "output_type": "stream",
     "text": [
      "BBB π=0.75 σ₁=1.4e-01 σ₂=2.5e-03:  30%|███       | 183/600 [16:23<36:48,  5.30s/it]"
     ]
    },
    {
     "name": "stdout",
     "output_type": "stream",
     "text": [
      "  Epoca 183/600 | Train Loss=5.2688 | Train Acc=95.48% | Test Acc=97.58%\n"
     ]
    },
    {
     "name": "stderr",
     "output_type": "stream",
     "text": [
      "BBB π=0.75 σ₁=1.4e-01 σ₂=2.5e-03:  31%|███       | 184/600 [16:29<37:29,  5.41s/it]"
     ]
    },
    {
     "name": "stdout",
     "output_type": "stream",
     "text": [
      "  Epoca 184/600 | Train Loss=5.2691 | Train Acc=95.42% | Test Acc=97.41%\n"
     ]
    },
    {
     "name": "stderr",
     "output_type": "stream",
     "text": [
      "BBB π=0.75 σ₁=1.4e-01 σ₂=2.5e-03:  31%|███       | 185/600 [16:34<37:12,  5.38s/it]"
     ]
    },
    {
     "name": "stdout",
     "output_type": "stream",
     "text": [
      "  Epoca 185/600 | Train Loss=5.2628 | Train Acc=95.61% | Test Acc=97.25%\n"
     ]
    },
    {
     "name": "stderr",
     "output_type": "stream",
     "text": [
      "BBB π=0.75 σ₁=1.4e-01 σ₂=2.5e-03:  31%|███       | 186/600 [16:40<36:52,  5.34s/it]"
     ]
    },
    {
     "name": "stdout",
     "output_type": "stream",
     "text": [
      "  Epoca 186/600 | Train Loss=5.2680 | Train Acc=95.56% | Test Acc=97.53%\n"
     ]
    },
    {
     "name": "stderr",
     "output_type": "stream",
     "text": [
      "BBB π=0.75 σ₁=1.4e-01 σ₂=2.5e-03:  31%|███       | 187/600 [16:45<36:45,  5.34s/it]"
     ]
    },
    {
     "name": "stdout",
     "output_type": "stream",
     "text": [
      "  Epoca 187/600 | Train Loss=5.2659 | Train Acc=95.45% | Test Acc=97.48%\n"
     ]
    },
    {
     "name": "stderr",
     "output_type": "stream",
     "text": [
      "BBB π=0.75 σ₁=1.4e-01 σ₂=2.5e-03:  31%|███▏      | 188/600 [16:50<36:27,  5.31s/it]"
     ]
    },
    {
     "name": "stdout",
     "output_type": "stream",
     "text": [
      "  Epoca 188/600 | Train Loss=5.2604 | Train Acc=95.69% | Test Acc=97.50%\n"
     ]
    },
    {
     "name": "stderr",
     "output_type": "stream",
     "text": [
      "BBB π=0.75 σ₁=1.4e-01 σ₂=2.5e-03:  32%|███▏      | 189/600 [16:56<36:22,  5.31s/it]"
     ]
    },
    {
     "name": "stdout",
     "output_type": "stream",
     "text": [
      "  Epoca 189/600 | Train Loss=5.2619 | Train Acc=95.52% | Test Acc=97.66%\n"
     ]
    },
    {
     "name": "stderr",
     "output_type": "stream",
     "text": [
      "BBB π=0.75 σ₁=1.4e-01 σ₂=2.5e-03:  32%|███▏      | 190/600 [17:01<37:01,  5.42s/it]"
     ]
    },
    {
     "name": "stdout",
     "output_type": "stream",
     "text": [
      "  Epoca 190/600 | Train Loss=5.2659 | Train Acc=95.44% | Test Acc=97.23%\n"
     ]
    },
    {
     "name": "stderr",
     "output_type": "stream",
     "text": [
      "BBB π=0.75 σ₁=1.4e-01 σ₂=2.5e-03:  32%|███▏      | 191/600 [17:06<36:34,  5.36s/it]"
     ]
    },
    {
     "name": "stdout",
     "output_type": "stream",
     "text": [
      "  Epoca 191/600 | Train Loss=5.2568 | Train Acc=95.60% | Test Acc=97.52%\n"
     ]
    },
    {
     "name": "stderr",
     "output_type": "stream",
     "text": [
      "BBB π=0.75 σ₁=1.4e-01 σ₂=2.5e-03:  32%|███▏      | 192/600 [17:12<36:20,  5.34s/it]"
     ]
    },
    {
     "name": "stdout",
     "output_type": "stream",
     "text": [
      "  Epoca 192/600 | Train Loss=5.2549 | Train Acc=95.73% | Test Acc=97.23%\n"
     ]
    },
    {
     "name": "stderr",
     "output_type": "stream",
     "text": [
      "BBB π=0.75 σ₁=1.4e-01 σ₂=2.5e-03:  32%|███▏      | 193/600 [17:17<36:06,  5.32s/it]"
     ]
    },
    {
     "name": "stdout",
     "output_type": "stream",
     "text": [
      "  Epoca 193/600 | Train Loss=5.2617 | Train Acc=95.48% | Test Acc=97.47%\n"
     ]
    },
    {
     "name": "stderr",
     "output_type": "stream",
     "text": [
      "BBB π=0.75 σ₁=1.4e-01 σ₂=2.5e-03:  32%|███▏      | 194/600 [17:22<35:58,  5.32s/it]"
     ]
    },
    {
     "name": "stdout",
     "output_type": "stream",
     "text": [
      "  Epoca 194/600 | Train Loss=5.2585 | Train Acc=95.47% | Test Acc=97.42%\n"
     ]
    },
    {
     "name": "stderr",
     "output_type": "stream",
     "text": [
      "BBB π=0.75 σ₁=1.4e-01 σ₂=2.5e-03:  32%|███▎      | 195/600 [17:28<35:43,  5.29s/it]"
     ]
    },
    {
     "name": "stdout",
     "output_type": "stream",
     "text": [
      "  Epoca 195/600 | Train Loss=5.2659 | Train Acc=95.47% | Test Acc=97.63%\n"
     ]
    },
    {
     "name": "stderr",
     "output_type": "stream",
     "text": [
      "BBB π=0.75 σ₁=1.4e-01 σ₂=2.5e-03:  33%|███▎      | 196/600 [17:33<36:30,  5.42s/it]"
     ]
    },
    {
     "name": "stdout",
     "output_type": "stream",
     "text": [
      "  Epoca 196/600 | Train Loss=5.2571 | Train Acc=95.62% | Test Acc=97.35%\n"
     ]
    },
    {
     "name": "stderr",
     "output_type": "stream",
     "text": [
      "BBB π=0.75 σ₁=1.4e-01 σ₂=2.5e-03:  33%|███▎      | 197/600 [17:39<36:10,  5.39s/it]"
     ]
    },
    {
     "name": "stdout",
     "output_type": "stream",
     "text": [
      "  Epoca 197/600 | Train Loss=5.2564 | Train Acc=95.64% | Test Acc=97.41%\n"
     ]
    },
    {
     "name": "stderr",
     "output_type": "stream",
     "text": [
      "BBB π=0.75 σ₁=1.4e-01 σ₂=2.5e-03:  33%|███▎      | 198/600 [17:44<35:53,  5.36s/it]"
     ]
    },
    {
     "name": "stdout",
     "output_type": "stream",
     "text": [
      "  Epoca 198/600 | Train Loss=5.2581 | Train Acc=95.55% | Test Acc=97.62%\n"
     ]
    },
    {
     "name": "stderr",
     "output_type": "stream",
     "text": [
      "BBB π=0.75 σ₁=1.4e-01 σ₂=2.5e-03:  33%|███▎      | 199/600 [17:49<35:41,  5.34s/it]"
     ]
    },
    {
     "name": "stdout",
     "output_type": "stream",
     "text": [
      "  Epoca 199/600 | Train Loss=5.2588 | Train Acc=95.44% | Test Acc=97.58%\n"
     ]
    },
    {
     "name": "stderr",
     "output_type": "stream",
     "text": [
      "BBB π=0.75 σ₁=1.4e-01 σ₂=2.5e-03:  33%|███▎      | 200/600 [17:54<35:27,  5.32s/it]"
     ]
    },
    {
     "name": "stdout",
     "output_type": "stream",
     "text": [
      "  Epoca 200/600 | Train Loss=5.2563 | Train Acc=95.55% | Test Acc=97.67%\n"
     ]
    },
    {
     "name": "stderr",
     "output_type": "stream",
     "text": [
      "BBB π=0.75 σ₁=1.4e-01 σ₂=2.5e-03:  34%|███▎      | 201/600 [18:00<35:10,  5.29s/it]"
     ]
    },
    {
     "name": "stdout",
     "output_type": "stream",
     "text": [
      "  Epoca 201/600 | Train Loss=5.2517 | Train Acc=95.56% | Test Acc=97.39%\n"
     ]
    },
    {
     "name": "stderr",
     "output_type": "stream",
     "text": [
      "BBB π=0.75 σ₁=1.4e-01 σ₂=2.5e-03:  34%|███▎      | 202/600 [18:05<35:53,  5.41s/it]"
     ]
    },
    {
     "name": "stdout",
     "output_type": "stream",
     "text": [
      "  Epoca 202/600 | Train Loss=5.2531 | Train Acc=95.46% | Test Acc=97.43%\n"
     ]
    },
    {
     "name": "stderr",
     "output_type": "stream",
     "text": [
      "BBB π=0.75 σ₁=1.4e-01 σ₂=2.5e-03:  34%|███▍      | 203/600 [18:11<35:32,  5.37s/it]"
     ]
    },
    {
     "name": "stdout",
     "output_type": "stream",
     "text": [
      "  Epoca 203/600 | Train Loss=5.2524 | Train Acc=95.53% | Test Acc=97.47%\n"
     ]
    },
    {
     "name": "stderr",
     "output_type": "stream",
     "text": [
      "BBB π=0.75 σ₁=1.4e-01 σ₂=2.5e-03:  34%|███▍      | 204/600 [18:16<35:21,  5.36s/it]"
     ]
    },
    {
     "name": "stdout",
     "output_type": "stream",
     "text": [
      "  Epoca 204/600 | Train Loss=5.2543 | Train Acc=95.44% | Test Acc=97.46%\n"
     ]
    },
    {
     "name": "stderr",
     "output_type": "stream",
     "text": [
      "BBB π=0.75 σ₁=1.4e-01 σ₂=2.5e-03:  34%|███▍      | 205/600 [18:21<35:13,  5.35s/it]"
     ]
    },
    {
     "name": "stdout",
     "output_type": "stream",
     "text": [
      "  Epoca 205/600 | Train Loss=5.2485 | Train Acc=95.64% | Test Acc=97.35%\n"
     ]
    },
    {
     "name": "stderr",
     "output_type": "stream",
     "text": [
      "BBB π=0.75 σ₁=1.4e-01 σ₂=2.5e-03:  34%|███▍      | 206/600 [18:27<35:01,  5.33s/it]"
     ]
    },
    {
     "name": "stdout",
     "output_type": "stream",
     "text": [
      "  Epoca 206/600 | Train Loss=5.2504 | Train Acc=95.58% | Test Acc=97.49%\n"
     ]
    },
    {
     "name": "stderr",
     "output_type": "stream",
     "text": [
      "BBB π=0.75 σ₁=1.4e-01 σ₂=2.5e-03:  34%|███▍      | 207/600 [18:32<34:48,  5.31s/it]"
     ]
    },
    {
     "name": "stdout",
     "output_type": "stream",
     "text": [
      "  Epoca 207/600 | Train Loss=5.2495 | Train Acc=95.64% | Test Acc=97.43%\n"
     ]
    },
    {
     "name": "stderr",
     "output_type": "stream",
     "text": [
      "BBB π=0.75 σ₁=1.4e-01 σ₂=2.5e-03:  35%|███▍      | 208/600 [18:38<35:35,  5.45s/it]"
     ]
    },
    {
     "name": "stdout",
     "output_type": "stream",
     "text": [
      "  Epoca 208/600 | Train Loss=5.2513 | Train Acc=95.62% | Test Acc=97.52%\n"
     ]
    },
    {
     "name": "stderr",
     "output_type": "stream",
     "text": [
      "BBB π=0.75 σ₁=1.4e-01 σ₂=2.5e-03:  35%|███▍      | 209/600 [18:43<35:14,  5.41s/it]"
     ]
    },
    {
     "name": "stdout",
     "output_type": "stream",
     "text": [
      "  Epoca 209/600 | Train Loss=5.2508 | Train Acc=95.33% | Test Acc=97.45%\n"
     ]
    },
    {
     "name": "stderr",
     "output_type": "stream",
     "text": [
      "BBB π=0.75 σ₁=1.4e-01 σ₂=2.5e-03:  35%|███▌      | 210/600 [18:48<34:49,  5.36s/it]"
     ]
    },
    {
     "name": "stdout",
     "output_type": "stream",
     "text": [
      "  Epoca 210/600 | Train Loss=5.2416 | Train Acc=95.60% | Test Acc=97.42%\n"
     ]
    },
    {
     "name": "stderr",
     "output_type": "stream",
     "text": [
      "BBB π=0.75 σ₁=1.4e-01 σ₂=2.5e-03:  35%|███▌      | 211/600 [18:54<34:38,  5.34s/it]"
     ]
    },
    {
     "name": "stdout",
     "output_type": "stream",
     "text": [
      "  Epoca 211/600 | Train Loss=5.2533 | Train Acc=95.38% | Test Acc=97.24%\n"
     ]
    },
    {
     "name": "stderr",
     "output_type": "stream",
     "text": [
      "BBB π=0.75 σ₁=1.4e-01 σ₂=2.5e-03:  35%|███▌      | 212/600 [18:59<34:25,  5.32s/it]"
     ]
    },
    {
     "name": "stdout",
     "output_type": "stream",
     "text": [
      "  Epoca 212/600 | Train Loss=5.2440 | Train Acc=95.54% | Test Acc=97.48%\n"
     ]
    },
    {
     "name": "stderr",
     "output_type": "stream",
     "text": [
      "BBB π=0.75 σ₁=1.4e-01 σ₂=2.5e-03:  36%|███▌      | 213/600 [19:04<34:15,  5.31s/it]"
     ]
    },
    {
     "name": "stdout",
     "output_type": "stream",
     "text": [
      "  Epoca 213/600 | Train Loss=5.2440 | Train Acc=95.58% | Test Acc=97.48%\n"
     ]
    },
    {
     "name": "stderr",
     "output_type": "stream",
     "text": [
      "BBB π=0.75 σ₁=1.4e-01 σ₂=2.5e-03:  36%|███▌      | 214/600 [19:10<34:55,  5.43s/it]"
     ]
    },
    {
     "name": "stdout",
     "output_type": "stream",
     "text": [
      "  Epoca 214/600 | Train Loss=5.2412 | Train Acc=95.63% | Test Acc=97.50%\n"
     ]
    },
    {
     "name": "stderr",
     "output_type": "stream",
     "text": [
      "BBB π=0.75 σ₁=1.4e-01 σ₂=2.5e-03:  36%|███▌      | 215/600 [19:15<34:42,  5.41s/it]"
     ]
    },
    {
     "name": "stdout",
     "output_type": "stream",
     "text": [
      "  Epoca 215/600 | Train Loss=5.2448 | Train Acc=95.53% | Test Acc=97.43%\n"
     ]
    },
    {
     "name": "stderr",
     "output_type": "stream",
     "text": [
      "BBB π=0.75 σ₁=1.4e-01 σ₂=2.5e-03:  36%|███▌      | 216/600 [19:20<34:20,  5.37s/it]"
     ]
    },
    {
     "name": "stdout",
     "output_type": "stream",
     "text": [
      "  Epoca 216/600 | Train Loss=5.2387 | Train Acc=95.73% | Test Acc=97.66%\n"
     ]
    },
    {
     "name": "stderr",
     "output_type": "stream",
     "text": [
      "BBB π=0.75 σ₁=1.4e-01 σ₂=2.5e-03:  36%|███▌      | 217/600 [19:26<34:05,  5.34s/it]"
     ]
    },
    {
     "name": "stdout",
     "output_type": "stream",
     "text": [
      "  Epoca 217/600 | Train Loss=5.2397 | Train Acc=95.58% | Test Acc=97.33%\n"
     ]
    },
    {
     "name": "stderr",
     "output_type": "stream",
     "text": [
      "BBB π=0.75 σ₁=1.4e-01 σ₂=2.5e-03:  36%|███▋      | 218/600 [19:31<33:51,  5.32s/it]"
     ]
    },
    {
     "name": "stdout",
     "output_type": "stream",
     "text": [
      "  Epoca 218/600 | Train Loss=5.2437 | Train Acc=95.39% | Test Acc=97.53%\n"
     ]
    },
    {
     "name": "stderr",
     "output_type": "stream",
     "text": [
      "BBB π=0.75 σ₁=1.4e-01 σ₂=2.5e-03:  36%|███▋      | 219/600 [19:36<33:46,  5.32s/it]"
     ]
    },
    {
     "name": "stdout",
     "output_type": "stream",
     "text": [
      "  Epoca 219/600 | Train Loss=5.2417 | Train Acc=95.47% | Test Acc=97.41%\n"
     ]
    },
    {
     "name": "stderr",
     "output_type": "stream",
     "text": [
      "BBB π=0.75 σ₁=1.4e-01 σ₂=2.5e-03:  37%|███▋      | 220/600 [19:42<34:26,  5.44s/it]"
     ]
    },
    {
     "name": "stdout",
     "output_type": "stream",
     "text": [
      "  Epoca 220/600 | Train Loss=5.2350 | Train Acc=95.66% | Test Acc=97.39%\n"
     ]
    },
    {
     "name": "stderr",
     "output_type": "stream",
     "text": [
      "BBB π=0.75 σ₁=1.4e-01 σ₂=2.5e-03:  37%|███▋      | 221/600 [19:47<33:59,  5.38s/it]"
     ]
    },
    {
     "name": "stdout",
     "output_type": "stream",
     "text": [
      "  Epoca 221/600 | Train Loss=5.2348 | Train Acc=95.57% | Test Acc=97.36%\n"
     ]
    },
    {
     "name": "stderr",
     "output_type": "stream",
     "text": [
      "BBB π=0.75 σ₁=1.4e-01 σ₂=2.5e-03:  37%|███▋      | 222/600 [19:53<33:42,  5.35s/it]"
     ]
    },
    {
     "name": "stdout",
     "output_type": "stream",
     "text": [
      "  Epoca 222/600 | Train Loss=5.2299 | Train Acc=95.61% | Test Acc=97.52%\n"
     ]
    },
    {
     "name": "stderr",
     "output_type": "stream",
     "text": [
      "BBB π=0.75 σ₁=1.4e-01 σ₂=2.5e-03:  37%|███▋      | 223/600 [19:58<33:24,  5.32s/it]"
     ]
    },
    {
     "name": "stdout",
     "output_type": "stream",
     "text": [
      "  Epoca 223/600 | Train Loss=5.2339 | Train Acc=95.70% | Test Acc=97.65%\n"
     ]
    },
    {
     "name": "stderr",
     "output_type": "stream",
     "text": [
      "BBB π=0.75 σ₁=1.4e-01 σ₂=2.5e-03:  37%|███▋      | 224/600 [20:03<33:16,  5.31s/it]"
     ]
    },
    {
     "name": "stdout",
     "output_type": "stream",
     "text": [
      "  Epoca 224/600 | Train Loss=5.2340 | Train Acc=95.57% | Test Acc=97.33%\n"
     ]
    },
    {
     "name": "stderr",
     "output_type": "stream",
     "text": [
      "BBB π=0.75 σ₁=1.4e-01 σ₂=2.5e-03:  38%|███▊      | 225/600 [20:08<33:15,  5.32s/it]"
     ]
    },
    {
     "name": "stdout",
     "output_type": "stream",
     "text": [
      "  Epoca 225/600 | Train Loss=5.2328 | Train Acc=95.62% | Test Acc=97.46%\n"
     ]
    },
    {
     "name": "stderr",
     "output_type": "stream",
     "text": [
      "BBB π=0.75 σ₁=1.4e-01 σ₂=2.5e-03:  38%|███▊      | 226/600 [20:14<34:01,  5.46s/it]"
     ]
    },
    {
     "name": "stdout",
     "output_type": "stream",
     "text": [
      "  Epoca 226/600 | Train Loss=5.2267 | Train Acc=95.64% | Test Acc=97.47%\n"
     ]
    },
    {
     "name": "stderr",
     "output_type": "stream",
     "text": [
      "BBB π=0.75 σ₁=1.4e-01 σ₂=2.5e-03:  38%|███▊      | 227/600 [20:20<33:48,  5.44s/it]"
     ]
    },
    {
     "name": "stdout",
     "output_type": "stream",
     "text": [
      "  Epoca 227/600 | Train Loss=5.2336 | Train Acc=95.47% | Test Acc=97.45%\n"
     ]
    },
    {
     "name": "stderr",
     "output_type": "stream",
     "text": [
      "BBB π=0.75 σ₁=1.4e-01 σ₂=2.5e-03:  38%|███▊      | 228/600 [20:25<34:22,  5.55s/it]"
     ]
    },
    {
     "name": "stdout",
     "output_type": "stream",
     "text": [
      "  Epoca 228/600 | Train Loss=5.2314 | Train Acc=95.59% | Test Acc=97.44%\n"
     ]
    },
    {
     "name": "stderr",
     "output_type": "stream",
     "text": [
      "BBB π=0.75 σ₁=1.4e-01 σ₂=2.5e-03:  38%|███▊      | 229/600 [20:31<33:52,  5.48s/it]"
     ]
    },
    {
     "name": "stdout",
     "output_type": "stream",
     "text": [
      "  Epoca 229/600 | Train Loss=5.2377 | Train Acc=95.36% | Test Acc=97.31%\n"
     ]
    },
    {
     "name": "stderr",
     "output_type": "stream",
     "text": [
      "BBB π=0.75 σ₁=1.4e-01 σ₂=2.5e-03:  38%|███▊      | 230/600 [20:36<33:43,  5.47s/it]"
     ]
    },
    {
     "name": "stdout",
     "output_type": "stream",
     "text": [
      "  Epoca 230/600 | Train Loss=5.2315 | Train Acc=95.53% | Test Acc=97.37%\n"
     ]
    },
    {
     "name": "stderr",
     "output_type": "stream",
     "text": [
      "BBB π=0.75 σ₁=1.4e-01 σ₂=2.5e-03:  38%|███▊      | 231/600 [20:42<33:34,  5.46s/it]"
     ]
    },
    {
     "name": "stdout",
     "output_type": "stream",
     "text": [
      "  Epoca 231/600 | Train Loss=5.2266 | Train Acc=95.70% | Test Acc=97.28%\n"
     ]
    },
    {
     "name": "stderr",
     "output_type": "stream",
     "text": [
      "BBB π=0.75 σ₁=1.4e-01 σ₂=2.5e-03:  39%|███▊      | 232/600 [20:47<34:16,  5.59s/it]"
     ]
    },
    {
     "name": "stdout",
     "output_type": "stream",
     "text": [
      "  Epoca 232/600 | Train Loss=5.2268 | Train Acc=95.59% | Test Acc=97.40%\n"
     ]
    },
    {
     "name": "stderr",
     "output_type": "stream",
     "text": [
      "BBB π=0.75 σ₁=1.4e-01 σ₂=2.5e-03:  39%|███▉      | 233/600 [20:53<33:44,  5.52s/it]"
     ]
    },
    {
     "name": "stdout",
     "output_type": "stream",
     "text": [
      "  Epoca 233/600 | Train Loss=5.2248 | Train Acc=95.63% | Test Acc=97.23%\n"
     ]
    },
    {
     "name": "stderr",
     "output_type": "stream",
     "text": [
      "BBB π=0.75 σ₁=1.4e-01 σ₂=2.5e-03:  39%|███▉      | 234/600 [20:58<33:16,  5.45s/it]"
     ]
    },
    {
     "name": "stdout",
     "output_type": "stream",
     "text": [
      "  Epoca 234/600 | Train Loss=5.2312 | Train Acc=95.36% | Test Acc=97.75%\n"
     ]
    },
    {
     "name": "stderr",
     "output_type": "stream",
     "text": [
      "BBB π=0.75 σ₁=1.4e-01 σ₂=2.5e-03:  39%|███▉      | 235/600 [21:03<32:59,  5.42s/it]"
     ]
    },
    {
     "name": "stdout",
     "output_type": "stream",
     "text": [
      "  Epoca 235/600 | Train Loss=5.2227 | Train Acc=95.62% | Test Acc=97.57%\n"
     ]
    },
    {
     "name": "stderr",
     "output_type": "stream",
     "text": [
      "BBB π=0.75 σ₁=1.4e-01 σ₂=2.5e-03:  39%|███▉      | 236/600 [21:09<32:50,  5.41s/it]"
     ]
    },
    {
     "name": "stdout",
     "output_type": "stream",
     "text": [
      "  Epoca 236/600 | Train Loss=5.2230 | Train Acc=95.64% | Test Acc=97.30%\n"
     ]
    },
    {
     "name": "stderr",
     "output_type": "stream",
     "text": [
      "BBB π=0.75 σ₁=1.4e-01 σ₂=2.5e-03:  40%|███▉      | 237/600 [21:14<32:50,  5.43s/it]"
     ]
    },
    {
     "name": "stdout",
     "output_type": "stream",
     "text": [
      "  Epoca 237/600 | Train Loss=5.2301 | Train Acc=95.45% | Test Acc=97.40%\n"
     ]
    },
    {
     "name": "stderr",
     "output_type": "stream",
     "text": [
      "BBB π=0.75 σ₁=1.4e-01 σ₂=2.5e-03:  40%|███▉      | 238/600 [21:20<33:24,  5.54s/it]"
     ]
    },
    {
     "name": "stdout",
     "output_type": "stream",
     "text": [
      "  Epoca 238/600 | Train Loss=5.2211 | Train Acc=95.65% | Test Acc=97.31%\n"
     ]
    },
    {
     "name": "stderr",
     "output_type": "stream",
     "text": [
      "BBB π=0.75 σ₁=1.4e-01 σ₂=2.5e-03:  40%|███▉      | 239/600 [21:26<33:04,  5.50s/it]"
     ]
    },
    {
     "name": "stdout",
     "output_type": "stream",
     "text": [
      "  Epoca 239/600 | Train Loss=5.2235 | Train Acc=95.51% | Test Acc=97.53%\n"
     ]
    },
    {
     "name": "stderr",
     "output_type": "stream",
     "text": [
      "BBB π=0.75 σ₁=1.4e-01 σ₂=2.5e-03:  40%|████      | 240/600 [21:31<32:38,  5.44s/it]"
     ]
    },
    {
     "name": "stdout",
     "output_type": "stream",
     "text": [
      "  Epoca 240/600 | Train Loss=5.2258 | Train Acc=95.56% | Test Acc=97.40%\n"
     ]
    },
    {
     "name": "stderr",
     "output_type": "stream",
     "text": [
      "BBB π=0.75 σ₁=1.4e-01 σ₂=2.5e-03:  40%|████      | 241/600 [21:36<32:31,  5.44s/it]"
     ]
    },
    {
     "name": "stdout",
     "output_type": "stream",
     "text": [
      "  Epoca 241/600 | Train Loss=5.2263 | Train Acc=95.53% | Test Acc=97.36%\n"
     ]
    },
    {
     "name": "stderr",
     "output_type": "stream",
     "text": [
      "BBB π=0.75 σ₁=1.4e-01 σ₂=2.5e-03:  40%|████      | 242/600 [21:42<32:19,  5.42s/it]"
     ]
    },
    {
     "name": "stdout",
     "output_type": "stream",
     "text": [
      "  Epoca 242/600 | Train Loss=5.2175 | Train Acc=95.70% | Test Acc=97.55%\n"
     ]
    },
    {
     "name": "stderr",
     "output_type": "stream",
     "text": [
      "BBB π=0.75 σ₁=1.4e-01 σ₂=2.5e-03:  40%|████      | 243/600 [21:47<32:02,  5.39s/it]"
     ]
    },
    {
     "name": "stdout",
     "output_type": "stream",
     "text": [
      "  Epoca 243/600 | Train Loss=5.2145 | Train Acc=95.70% | Test Acc=97.39%\n"
     ]
    },
    {
     "name": "stderr",
     "output_type": "stream",
     "text": [
      "BBB π=0.75 σ₁=1.4e-01 σ₂=2.5e-03:  41%|████      | 244/600 [21:53<32:43,  5.52s/it]"
     ]
    },
    {
     "name": "stdout",
     "output_type": "stream",
     "text": [
      "  Epoca 244/600 | Train Loss=5.2143 | Train Acc=95.71% | Test Acc=97.36%\n"
     ]
    },
    {
     "name": "stderr",
     "output_type": "stream",
     "text": [
      "BBB π=0.75 σ₁=1.4e-01 σ₂=2.5e-03:  41%|████      | 245/600 [21:58<32:24,  5.48s/it]"
     ]
    },
    {
     "name": "stdout",
     "output_type": "stream",
     "text": [
      "  Epoca 245/600 | Train Loss=5.2128 | Train Acc=95.64% | Test Acc=97.47%\n"
     ]
    },
    {
     "name": "stderr",
     "output_type": "stream",
     "text": [
      "BBB π=0.75 σ₁=1.4e-01 σ₂=2.5e-03:  41%|████      | 246/600 [22:04<32:07,  5.44s/it]"
     ]
    },
    {
     "name": "stdout",
     "output_type": "stream",
     "text": [
      "  Epoca 246/600 | Train Loss=5.2135 | Train Acc=95.67% | Test Acc=97.29%\n"
     ]
    },
    {
     "name": "stderr",
     "output_type": "stream",
     "text": [
      "BBB π=0.75 σ₁=1.4e-01 σ₂=2.5e-03:  41%|████      | 247/600 [22:09<31:49,  5.41s/it]"
     ]
    },
    {
     "name": "stdout",
     "output_type": "stream",
     "text": [
      "  Epoca 247/600 | Train Loss=5.2115 | Train Acc=95.59% | Test Acc=97.25%\n"
     ]
    },
    {
     "name": "stderr",
     "output_type": "stream",
     "text": [
      "BBB π=0.75 σ₁=1.4e-01 σ₂=2.5e-03:  41%|████▏     | 248/600 [22:14<31:47,  5.42s/it]"
     ]
    },
    {
     "name": "stdout",
     "output_type": "stream",
     "text": [
      "  Epoca 248/600 | Train Loss=5.2135 | Train Acc=95.54% | Test Acc=97.60%\n"
     ]
    },
    {
     "name": "stderr",
     "output_type": "stream",
     "text": [
      "BBB π=0.75 σ₁=1.4e-01 σ₂=2.5e-03:  42%|████▏     | 249/600 [22:20<32:08,  5.49s/it]"
     ]
    },
    {
     "name": "stdout",
     "output_type": "stream",
     "text": [
      "  Epoca 249/600 | Train Loss=5.2127 | Train Acc=95.50% | Test Acc=97.36%\n"
     ]
    },
    {
     "name": "stderr",
     "output_type": "stream",
     "text": [
      "BBB π=0.75 σ₁=1.4e-01 σ₂=2.5e-03:  42%|████▏     | 250/600 [22:25<32:08,  5.51s/it]"
     ]
    },
    {
     "name": "stdout",
     "output_type": "stream",
     "text": [
      "  Epoca 250/600 | Train Loss=5.2100 | Train Acc=95.69% | Test Acc=97.33%\n"
     ]
    },
    {
     "name": "stderr",
     "output_type": "stream",
     "text": [
      "BBB π=0.75 σ₁=1.4e-01 σ₂=2.5e-03:  42%|████▏     | 251/600 [22:31<31:39,  5.44s/it]"
     ]
    },
    {
     "name": "stdout",
     "output_type": "stream",
     "text": [
      "  Epoca 251/600 | Train Loss=5.2114 | Train Acc=95.69% | Test Acc=97.50%\n"
     ]
    },
    {
     "name": "stderr",
     "output_type": "stream",
     "text": [
      "BBB π=0.75 σ₁=1.4e-01 σ₂=2.5e-03:  42%|████▏     | 252/600 [22:36<31:26,  5.42s/it]"
     ]
    },
    {
     "name": "stdout",
     "output_type": "stream",
     "text": [
      "  Epoca 252/600 | Train Loss=5.2109 | Train Acc=95.44% | Test Acc=97.11%\n"
     ]
    },
    {
     "name": "stderr",
     "output_type": "stream",
     "text": [
      "BBB π=0.75 σ₁=1.4e-01 σ₂=2.5e-03:  42%|████▏     | 253/600 [22:41<31:14,  5.40s/it]"
     ]
    },
    {
     "name": "stdout",
     "output_type": "stream",
     "text": [
      "  Epoca 253/600 | Train Loss=5.2067 | Train Acc=95.67% | Test Acc=97.40%\n"
     ]
    },
    {
     "name": "stderr",
     "output_type": "stream",
     "text": [
      "BBB π=0.75 σ₁=1.4e-01 σ₂=2.5e-03:  42%|████▏     | 254/600 [22:46<30:21,  5.26s/it]"
     ]
    },
    {
     "name": "stdout",
     "output_type": "stream",
     "text": [
      "  Epoca 254/600 | Train Loss=5.2090 | Train Acc=95.54% | Test Acc=97.30%\n"
     ]
    },
    {
     "name": "stderr",
     "output_type": "stream",
     "text": [
      "BBB π=0.75 σ₁=1.4e-01 σ₂=2.5e-03:  42%|████▎     | 255/600 [22:50<27:31,  4.79s/it]"
     ]
    },
    {
     "name": "stdout",
     "output_type": "stream",
     "text": [
      "  Epoca 255/600 | Train Loss=5.2085 | Train Acc=95.59% | Test Acc=97.42%\n"
     ]
    },
    {
     "name": "stderr",
     "output_type": "stream",
     "text": [
      "BBB π=0.75 σ₁=1.4e-01 σ₂=2.5e-03:  43%|████▎     | 256/600 [22:54<26:19,  4.59s/it]"
     ]
    },
    {
     "name": "stdout",
     "output_type": "stream",
     "text": [
      "  Epoca 256/600 | Train Loss=5.2049 | Train Acc=95.68% | Test Acc=97.32%\n"
     ]
    },
    {
     "name": "stderr",
     "output_type": "stream",
     "text": [
      "BBB π=0.75 σ₁=1.4e-01 σ₂=2.5e-03:  43%|████▎     | 257/600 [22:58<24:39,  4.31s/it]"
     ]
    },
    {
     "name": "stdout",
     "output_type": "stream",
     "text": [
      "  Epoca 257/600 | Train Loss=5.2070 | Train Acc=95.61% | Test Acc=97.38%\n"
     ]
    },
    {
     "name": "stderr",
     "output_type": "stream",
     "text": [
      "BBB π=0.75 σ₁=1.4e-01 σ₂=2.5e-03:  43%|████▎     | 258/600 [23:02<23:33,  4.13s/it]"
     ]
    },
    {
     "name": "stdout",
     "output_type": "stream",
     "text": [
      "  Epoca 258/600 | Train Loss=5.2080 | Train Acc=95.52% | Test Acc=97.49%\n"
     ]
    },
    {
     "name": "stderr",
     "output_type": "stream",
     "text": [
      "BBB π=0.75 σ₁=1.4e-01 σ₂=2.5e-03:  43%|████▎     | 259/600 [23:05<22:38,  3.98s/it]"
     ]
    },
    {
     "name": "stdout",
     "output_type": "stream",
     "text": [
      "  Epoca 259/600 | Train Loss=5.2048 | Train Acc=95.70% | Test Acc=97.43%\n"
     ]
    },
    {
     "name": "stderr",
     "output_type": "stream",
     "text": [
      "BBB π=0.75 σ₁=1.4e-01 σ₂=2.5e-03:  43%|████▎     | 260/600 [23:09<22:04,  3.89s/it]"
     ]
    },
    {
     "name": "stdout",
     "output_type": "stream",
     "text": [
      "  Epoca 260/600 | Train Loss=5.1961 | Train Acc=95.78% | Test Acc=97.45%\n"
     ]
    },
    {
     "name": "stderr",
     "output_type": "stream",
     "text": [
      "BBB π=0.75 σ₁=1.4e-01 σ₂=2.5e-03:  44%|████▎     | 261/600 [23:13<21:44,  3.85s/it]"
     ]
    },
    {
     "name": "stdout",
     "output_type": "stream",
     "text": [
      "  Epoca 261/600 | Train Loss=5.2106 | Train Acc=95.39% | Test Acc=97.41%\n"
     ]
    },
    {
     "name": "stderr",
     "output_type": "stream",
     "text": [
      "BBB π=0.75 σ₁=1.4e-01 σ₂=2.5e-03:  44%|████▎     | 262/600 [23:16<21:28,  3.81s/it]"
     ]
    },
    {
     "name": "stdout",
     "output_type": "stream",
     "text": [
      "  Epoca 262/600 | Train Loss=5.2021 | Train Acc=95.70% | Test Acc=97.34%\n"
     ]
    },
    {
     "name": "stderr",
     "output_type": "stream",
     "text": [
      "BBB π=0.75 σ₁=1.4e-01 σ₂=2.5e-03:  44%|████▍     | 263/600 [23:20<21:09,  3.77s/it]"
     ]
    },
    {
     "name": "stdout",
     "output_type": "stream",
     "text": [
      "  Epoca 263/600 | Train Loss=5.1969 | Train Acc=95.76% | Test Acc=97.27%\n"
     ]
    },
    {
     "name": "stderr",
     "output_type": "stream",
     "text": [
      "BBB π=0.75 σ₁=1.4e-01 σ₂=2.5e-03:  44%|████▍     | 264/600 [23:24<21:32,  3.85s/it]"
     ]
    },
    {
     "name": "stdout",
     "output_type": "stream",
     "text": [
      "  Epoca 264/600 | Train Loss=5.2055 | Train Acc=95.56% | Test Acc=97.43%\n"
     ]
    },
    {
     "name": "stderr",
     "output_type": "stream",
     "text": [
      "BBB π=0.75 σ₁=1.4e-01 σ₂=2.5e-03:  44%|████▍     | 265/600 [23:28<21:20,  3.82s/it]"
     ]
    },
    {
     "name": "stdout",
     "output_type": "stream",
     "text": [
      "  Epoca 265/600 | Train Loss=5.2025 | Train Acc=95.60% | Test Acc=97.32%\n"
     ]
    },
    {
     "name": "stderr",
     "output_type": "stream",
     "text": [
      "BBB π=0.75 σ₁=1.4e-01 σ₂=2.5e-03:  44%|████▍     | 266/600 [23:32<21:07,  3.79s/it]"
     ]
    },
    {
     "name": "stdout",
     "output_type": "stream",
     "text": [
      "  Epoca 266/600 | Train Loss=5.1954 | Train Acc=95.70% | Test Acc=97.24%\n"
     ]
    },
    {
     "name": "stderr",
     "output_type": "stream",
     "text": [
      "BBB π=0.75 σ₁=1.4e-01 σ₂=2.5e-03:  44%|████▍     | 267/600 [23:35<20:53,  3.76s/it]"
     ]
    },
    {
     "name": "stdout",
     "output_type": "stream",
     "text": [
      "  Epoca 267/600 | Train Loss=5.1984 | Train Acc=95.51% | Test Acc=97.33%\n"
     ]
    },
    {
     "name": "stderr",
     "output_type": "stream",
     "text": [
      "BBB π=0.75 σ₁=1.4e-01 σ₂=2.5e-03:  45%|████▍     | 268/600 [23:39<20:41,  3.74s/it]"
     ]
    },
    {
     "name": "stdout",
     "output_type": "stream",
     "text": [
      "  Epoca 268/600 | Train Loss=5.1971 | Train Acc=95.65% | Test Acc=97.35%\n"
     ]
    },
    {
     "name": "stderr",
     "output_type": "stream",
     "text": [
      "BBB π=0.75 σ₁=1.4e-01 σ₂=2.5e-03:  45%|████▍     | 269/600 [23:43<20:34,  3.73s/it]"
     ]
    },
    {
     "name": "stdout",
     "output_type": "stream",
     "text": [
      "  Epoca 269/600 | Train Loss=5.1934 | Train Acc=95.68% | Test Acc=97.43%\n"
     ]
    },
    {
     "name": "stderr",
     "output_type": "stream",
     "text": [
      "BBB π=0.75 σ₁=1.4e-01 σ₂=2.5e-03:  45%|████▌     | 270/600 [23:46<20:22,  3.70s/it]"
     ]
    },
    {
     "name": "stdout",
     "output_type": "stream",
     "text": [
      "  Epoca 270/600 | Train Loss=5.1936 | Train Acc=95.77% | Test Acc=97.43%\n"
     ]
    },
    {
     "name": "stderr",
     "output_type": "stream",
     "text": [
      "BBB π=0.75 σ₁=1.4e-01 σ₂=2.5e-03:  45%|████▌     | 271/600 [23:50<20:16,  3.70s/it]"
     ]
    },
    {
     "name": "stdout",
     "output_type": "stream",
     "text": [
      "  Epoca 271/600 | Train Loss=5.1910 | Train Acc=95.71% | Test Acc=97.38%\n"
     ]
    },
    {
     "name": "stderr",
     "output_type": "stream",
     "text": [
      "BBB π=0.75 σ₁=1.4e-01 σ₂=2.5e-03:  45%|████▌     | 272/600 [23:54<20:15,  3.70s/it]"
     ]
    },
    {
     "name": "stdout",
     "output_type": "stream",
     "text": [
      "  Epoca 272/600 | Train Loss=5.1903 | Train Acc=95.75% | Test Acc=97.43%\n"
     ]
    },
    {
     "name": "stderr",
     "output_type": "stream",
     "text": [
      "BBB π=0.75 σ₁=1.4e-01 σ₂=2.5e-03:  46%|████▌     | 273/600 [23:58<20:49,  3.82s/it]"
     ]
    },
    {
     "name": "stdout",
     "output_type": "stream",
     "text": [
      "  Epoca 273/600 | Train Loss=5.1932 | Train Acc=95.54% | Test Acc=97.45%\n"
     ]
    },
    {
     "name": "stderr",
     "output_type": "stream",
     "text": [
      "BBB π=0.75 σ₁=1.4e-01 σ₂=2.5e-03:  46%|████▌     | 274/600 [24:02<20:36,  3.79s/it]"
     ]
    },
    {
     "name": "stdout",
     "output_type": "stream",
     "text": [
      "  Epoca 274/600 | Train Loss=5.1894 | Train Acc=95.72% | Test Acc=97.29%\n"
     ]
    },
    {
     "name": "stderr",
     "output_type": "stream",
     "text": [
      "BBB π=0.75 σ₁=1.4e-01 σ₂=2.5e-03:  46%|████▌     | 275/600 [24:05<20:22,  3.76s/it]"
     ]
    },
    {
     "name": "stdout",
     "output_type": "stream",
     "text": [
      "  Epoca 275/600 | Train Loss=5.1927 | Train Acc=95.66% | Test Acc=97.46%\n"
     ]
    },
    {
     "name": "stderr",
     "output_type": "stream",
     "text": [
      "BBB π=0.75 σ₁=1.4e-01 σ₂=2.5e-03:  46%|████▌     | 276/600 [24:09<20:10,  3.74s/it]"
     ]
    },
    {
     "name": "stdout",
     "output_type": "stream",
     "text": [
      "  Epoca 276/600 | Train Loss=5.1892 | Train Acc=95.60% | Test Acc=97.37%\n"
     ]
    },
    {
     "name": "stderr",
     "output_type": "stream",
     "text": [
      "BBB π=0.75 σ₁=1.4e-01 σ₂=2.5e-03:  46%|████▌     | 277/600 [24:13<20:06,  3.74s/it]"
     ]
    },
    {
     "name": "stdout",
     "output_type": "stream",
     "text": [
      "  Epoca 277/600 | Train Loss=5.1847 | Train Acc=95.72% | Test Acc=97.14%\n"
     ]
    },
    {
     "name": "stderr",
     "output_type": "stream",
     "text": [
      "BBB π=0.75 σ₁=1.4e-01 σ₂=2.5e-03:  46%|████▋     | 278/600 [24:16<20:00,  3.73s/it]"
     ]
    },
    {
     "name": "stdout",
     "output_type": "stream",
     "text": [
      "  Epoca 278/600 | Train Loss=5.1845 | Train Acc=95.76% | Test Acc=97.35%\n"
     ]
    },
    {
     "name": "stderr",
     "output_type": "stream",
     "text": [
      "BBB π=0.75 σ₁=1.4e-01 σ₂=2.5e-03:  46%|████▋     | 279/600 [24:20<19:55,  3.73s/it]"
     ]
    },
    {
     "name": "stdout",
     "output_type": "stream",
     "text": [
      "  Epoca 279/600 | Train Loss=5.1883 | Train Acc=95.65% | Test Acc=97.12%\n"
     ]
    },
    {
     "name": "stderr",
     "output_type": "stream",
     "text": [
      "BBB π=0.75 σ₁=1.4e-01 σ₂=2.5e-03:  47%|████▋     | 280/600 [24:24<19:55,  3.74s/it]"
     ]
    },
    {
     "name": "stdout",
     "output_type": "stream",
     "text": [
      "  Epoca 280/600 | Train Loss=5.1838 | Train Acc=95.85% | Test Acc=97.32%\n"
     ]
    },
    {
     "name": "stderr",
     "output_type": "stream",
     "text": [
      "BBB π=0.75 σ₁=1.4e-01 σ₂=2.5e-03:  47%|████▋     | 281/600 [24:28<20:17,  3.82s/it]"
     ]
    },
    {
     "name": "stdout",
     "output_type": "stream",
     "text": [
      "  Epoca 281/600 | Train Loss=5.1854 | Train Acc=95.51% | Test Acc=97.44%\n"
     ]
    },
    {
     "name": "stderr",
     "output_type": "stream",
     "text": [
      "BBB π=0.75 σ₁=1.4e-01 σ₂=2.5e-03:  47%|████▋     | 282/600 [24:32<20:17,  3.83s/it]"
     ]
    },
    {
     "name": "stdout",
     "output_type": "stream",
     "text": [
      "  Epoca 282/600 | Train Loss=5.1849 | Train Acc=95.62% | Test Acc=97.35%\n"
     ]
    },
    {
     "name": "stderr",
     "output_type": "stream",
     "text": [
      "BBB π=0.75 σ₁=1.4e-01 σ₂=2.5e-03:  47%|████▋     | 283/600 [24:35<20:03,  3.80s/it]"
     ]
    },
    {
     "name": "stdout",
     "output_type": "stream",
     "text": [
      "  Epoca 283/600 | Train Loss=5.1839 | Train Acc=95.63% | Test Acc=97.38%\n"
     ]
    },
    {
     "name": "stderr",
     "output_type": "stream",
     "text": [
      "BBB π=0.75 σ₁=1.4e-01 σ₂=2.5e-03:  47%|████▋     | 284/600 [24:39<19:47,  3.76s/it]"
     ]
    },
    {
     "name": "stdout",
     "output_type": "stream",
     "text": [
      "  Epoca 284/600 | Train Loss=5.1829 | Train Acc=95.63% | Test Acc=97.43%\n"
     ]
    },
    {
     "name": "stderr",
     "output_type": "stream",
     "text": [
      "BBB π=0.75 σ₁=1.4e-01 σ₂=2.5e-03:  48%|████▊     | 285/600 [24:43<19:43,  3.76s/it]"
     ]
    },
    {
     "name": "stdout",
     "output_type": "stream",
     "text": [
      "  Epoca 285/600 | Train Loss=5.1866 | Train Acc=95.53% | Test Acc=97.34%\n"
     ]
    },
    {
     "name": "stderr",
     "output_type": "stream",
     "text": [
      "BBB π=0.75 σ₁=1.4e-01 σ₂=2.5e-03:  48%|████▊     | 286/600 [24:47<19:36,  3.75s/it]"
     ]
    },
    {
     "name": "stdout",
     "output_type": "stream",
     "text": [
      "  Epoca 286/600 | Train Loss=5.1775 | Train Acc=95.80% | Test Acc=97.48%\n"
     ]
    },
    {
     "name": "stderr",
     "output_type": "stream",
     "text": [
      "BBB π=0.75 σ₁=1.4e-01 σ₂=2.5e-03:  48%|████▊     | 287/600 [24:50<19:25,  3.73s/it]"
     ]
    },
    {
     "name": "stdout",
     "output_type": "stream",
     "text": [
      "  Epoca 287/600 | Train Loss=5.1816 | Train Acc=95.62% | Test Acc=97.39%\n"
     ]
    },
    {
     "name": "stderr",
     "output_type": "stream",
     "text": [
      "BBB π=0.75 σ₁=1.4e-01 σ₂=2.5e-03:  48%|████▊     | 288/600 [24:54<19:28,  3.75s/it]"
     ]
    },
    {
     "name": "stdout",
     "output_type": "stream",
     "text": [
      "  Epoca 288/600 | Train Loss=5.1803 | Train Acc=95.59% | Test Acc=97.36%\n"
     ]
    },
    {
     "name": "stderr",
     "output_type": "stream",
     "text": [
      "BBB π=0.75 σ₁=1.4e-01 σ₂=2.5e-03:  48%|████▊     | 289/600 [24:58<19:18,  3.72s/it]"
     ]
    },
    {
     "name": "stdout",
     "output_type": "stream",
     "text": [
      "  Epoca 289/600 | Train Loss=5.1801 | Train Acc=95.58% | Test Acc=97.30%\n"
     ]
    },
    {
     "name": "stderr",
     "output_type": "stream",
     "text": [
      "BBB π=0.75 σ₁=1.4e-01 σ₂=2.5e-03:  48%|████▊     | 290/600 [25:02<19:55,  3.86s/it]"
     ]
    },
    {
     "name": "stdout",
     "output_type": "stream",
     "text": [
      "  Epoca 290/600 | Train Loss=5.1772 | Train Acc=95.67% | Test Acc=97.26%\n"
     ]
    },
    {
     "name": "stderr",
     "output_type": "stream",
     "text": [
      "BBB π=0.75 σ₁=1.4e-01 σ₂=2.5e-03:  48%|████▊     | 291/600 [25:06<19:36,  3.81s/it]"
     ]
    },
    {
     "name": "stdout",
     "output_type": "stream",
     "text": [
      "  Epoca 291/600 | Train Loss=5.1822 | Train Acc=95.57% | Test Acc=97.37%\n"
     ]
    },
    {
     "name": "stderr",
     "output_type": "stream",
     "text": [
      "BBB π=0.75 σ₁=1.4e-01 σ₂=2.5e-03:  49%|████▊     | 292/600 [25:09<19:25,  3.78s/it]"
     ]
    },
    {
     "name": "stdout",
     "output_type": "stream",
     "text": [
      "  Epoca 292/600 | Train Loss=5.1775 | Train Acc=95.68% | Test Acc=97.22%\n"
     ]
    },
    {
     "name": "stderr",
     "output_type": "stream",
     "text": [
      "BBB π=0.75 σ₁=1.4e-01 σ₂=2.5e-03:  49%|████▉     | 293/600 [25:13<19:15,  3.76s/it]"
     ]
    },
    {
     "name": "stdout",
     "output_type": "stream",
     "text": [
      "  Epoca 293/600 | Train Loss=5.1785 | Train Acc=95.73% | Test Acc=97.35%\n"
     ]
    },
    {
     "name": "stderr",
     "output_type": "stream",
     "text": [
      "BBB π=0.75 σ₁=1.4e-01 σ₂=2.5e-03:  49%|████▉     | 294/600 [25:17<19:00,  3.73s/it]"
     ]
    },
    {
     "name": "stdout",
     "output_type": "stream",
     "text": [
      "  Epoca 294/600 | Train Loss=5.1719 | Train Acc=95.78% | Test Acc=97.27%\n"
     ]
    },
    {
     "name": "stderr",
     "output_type": "stream",
     "text": [
      "BBB π=0.75 σ₁=1.4e-01 σ₂=2.5e-03:  49%|████▉     | 295/600 [25:20<18:57,  3.73s/it]"
     ]
    },
    {
     "name": "stdout",
     "output_type": "stream",
     "text": [
      "  Epoca 295/600 | Train Loss=5.1752 | Train Acc=95.64% | Test Acc=97.34%\n"
     ]
    },
    {
     "name": "stderr",
     "output_type": "stream",
     "text": [
      "BBB π=0.75 σ₁=1.4e-01 σ₂=2.5e-03:  49%|████▉     | 296/600 [25:24<18:57,  3.74s/it]"
     ]
    },
    {
     "name": "stdout",
     "output_type": "stream",
     "text": [
      "  Epoca 296/600 | Train Loss=5.1706 | Train Acc=95.88% | Test Acc=97.27%\n"
     ]
    },
    {
     "name": "stderr",
     "output_type": "stream",
     "text": [
      "BBB π=0.75 σ₁=1.4e-01 σ₂=2.5e-03:  50%|████▉     | 297/600 [25:28<18:48,  3.73s/it]"
     ]
    },
    {
     "name": "stdout",
     "output_type": "stream",
     "text": [
      "  Epoca 297/600 | Train Loss=5.1714 | Train Acc=95.69% | Test Acc=97.41%\n"
     ]
    },
    {
     "name": "stderr",
     "output_type": "stream",
     "text": [
      "BBB π=0.75 σ₁=1.4e-01 σ₂=2.5e-03:  50%|████▉     | 298/600 [25:32<19:12,  3.82s/it]"
     ]
    },
    {
     "name": "stdout",
     "output_type": "stream",
     "text": [
      "  Epoca 298/600 | Train Loss=5.1712 | Train Acc=95.82% | Test Acc=97.25%\n"
     ]
    },
    {
     "name": "stderr",
     "output_type": "stream",
     "text": [
      "BBB π=0.75 σ₁=1.4e-01 σ₂=2.5e-03:  50%|████▉     | 299/600 [25:36<19:09,  3.82s/it]"
     ]
    },
    {
     "name": "stdout",
     "output_type": "stream",
     "text": [
      "  Epoca 299/600 | Train Loss=5.1668 | Train Acc=95.81% | Test Acc=97.29%\n"
     ]
    },
    {
     "name": "stderr",
     "output_type": "stream",
     "text": [
      "BBB π=0.75 σ₁=1.4e-01 σ₂=2.5e-03:  50%|█████     | 300/600 [25:39<18:54,  3.78s/it]"
     ]
    },
    {
     "name": "stdout",
     "output_type": "stream",
     "text": [
      "  Epoca 300/600 | Train Loss=5.1714 | Train Acc=95.63% | Test Acc=97.25%\n"
     ]
    },
    {
     "name": "stderr",
     "output_type": "stream",
     "text": [
      "BBB π=0.75 σ₁=1.4e-01 σ₂=2.5e-03:  50%|█████     | 301/600 [25:43<18:54,  3.79s/it]"
     ]
    },
    {
     "name": "stdout",
     "output_type": "stream",
     "text": [
      "  Epoca 301/600 | Train Loss=5.1711 | Train Acc=95.59% | Test Acc=97.26%\n"
     ]
    },
    {
     "name": "stderr",
     "output_type": "stream",
     "text": [
      "BBB π=0.75 σ₁=1.4e-01 σ₂=2.5e-03:  50%|█████     | 302/600 [25:47<18:46,  3.78s/it]"
     ]
    },
    {
     "name": "stdout",
     "output_type": "stream",
     "text": [
      "  Epoca 302/600 | Train Loss=5.1644 | Train Acc=95.91% | Test Acc=97.25%\n"
     ]
    },
    {
     "name": "stderr",
     "output_type": "stream",
     "text": [
      "BBB π=0.75 σ₁=1.4e-01 σ₂=2.5e-03:  50%|█████     | 303/600 [25:51<18:39,  3.77s/it]"
     ]
    },
    {
     "name": "stdout",
     "output_type": "stream",
     "text": [
      "  Epoca 303/600 | Train Loss=5.1713 | Train Acc=95.61% | Test Acc=97.48%\n"
     ]
    },
    {
     "name": "stderr",
     "output_type": "stream",
     "text": [
      "BBB π=0.75 σ₁=1.4e-01 σ₂=2.5e-03:  51%|█████     | 304/600 [25:54<18:36,  3.77s/it]"
     ]
    },
    {
     "name": "stdout",
     "output_type": "stream",
     "text": [
      "  Epoca 304/600 | Train Loss=5.1706 | Train Acc=95.63% | Test Acc=97.43%\n"
     ]
    },
    {
     "name": "stderr",
     "output_type": "stream",
     "text": [
      "BBB π=0.75 σ₁=1.4e-01 σ₂=2.5e-03:  51%|█████     | 305/600 [25:58<18:25,  3.75s/it]"
     ]
    },
    {
     "name": "stdout",
     "output_type": "stream",
     "text": [
      "  Epoca 305/600 | Train Loss=5.1645 | Train Acc=95.69% | Test Acc=97.27%\n"
     ]
    },
    {
     "name": "stderr",
     "output_type": "stream",
     "text": [
      "BBB π=0.75 σ₁=1.4e-01 σ₂=2.5e-03:  51%|█████     | 306/600 [26:02<18:19,  3.74s/it]"
     ]
    },
    {
     "name": "stdout",
     "output_type": "stream",
     "text": [
      "  Epoca 306/600 | Train Loss=5.1668 | Train Acc=95.79% | Test Acc=97.31%\n"
     ]
    },
    {
     "name": "stderr",
     "output_type": "stream",
     "text": [
      "BBB π=0.75 σ₁=1.4e-01 σ₂=2.5e-03:  51%|█████     | 307/600 [26:06<18:50,  3.86s/it]"
     ]
    },
    {
     "name": "stdout",
     "output_type": "stream",
     "text": [
      "  Epoca 307/600 | Train Loss=5.1686 | Train Acc=95.68% | Test Acc=97.37%\n"
     ]
    },
    {
     "name": "stderr",
     "output_type": "stream",
     "text": [
      "BBB π=0.75 σ₁=1.4e-01 σ₂=2.5e-03:  51%|█████▏    | 308/600 [26:10<18:31,  3.81s/it]"
     ]
    },
    {
     "name": "stdout",
     "output_type": "stream",
     "text": [
      "  Epoca 308/600 | Train Loss=5.1690 | Train Acc=95.59% | Test Acc=97.38%\n"
     ]
    },
    {
     "name": "stderr",
     "output_type": "stream",
     "text": [
      "BBB π=0.75 σ₁=1.4e-01 σ₂=2.5e-03:  52%|█████▏    | 309/600 [26:14<18:26,  3.80s/it]"
     ]
    },
    {
     "name": "stdout",
     "output_type": "stream",
     "text": [
      "  Epoca 309/600 | Train Loss=5.1678 | Train Acc=95.69% | Test Acc=97.40%\n"
     ]
    },
    {
     "name": "stderr",
     "output_type": "stream",
     "text": [
      "BBB π=0.75 σ₁=1.4e-01 σ₂=2.5e-03:  52%|█████▏    | 310/600 [26:17<18:12,  3.77s/it]"
     ]
    },
    {
     "name": "stdout",
     "output_type": "stream",
     "text": [
      "  Epoca 310/600 | Train Loss=5.1645 | Train Acc=95.66% | Test Acc=97.40%\n"
     ]
    },
    {
     "name": "stderr",
     "output_type": "stream",
     "text": [
      "BBB π=0.75 σ₁=1.4e-01 σ₂=2.5e-03:  52%|█████▏    | 311/600 [26:21<18:04,  3.75s/it]"
     ]
    },
    {
     "name": "stdout",
     "output_type": "stream",
     "text": [
      "  Epoca 311/600 | Train Loss=5.1632 | Train Acc=95.80% | Test Acc=97.42%\n"
     ]
    },
    {
     "name": "stderr",
     "output_type": "stream",
     "text": [
      "BBB π=0.75 σ₁=1.4e-01 σ₂=2.5e-03:  52%|█████▏    | 312/600 [26:25<18:00,  3.75s/it]"
     ]
    },
    {
     "name": "stdout",
     "output_type": "stream",
     "text": [
      "  Epoca 312/600 | Train Loss=5.1647 | Train Acc=95.60% | Test Acc=97.55%\n"
     ]
    },
    {
     "name": "stderr",
     "output_type": "stream",
     "text": [
      "BBB π=0.75 σ₁=1.4e-01 σ₂=2.5e-03:  52%|█████▏    | 313/600 [26:28<17:49,  3.73s/it]"
     ]
    },
    {
     "name": "stdout",
     "output_type": "stream",
     "text": [
      "  Epoca 313/600 | Train Loss=5.1641 | Train Acc=95.69% | Test Acc=97.35%\n"
     ]
    },
    {
     "name": "stderr",
     "output_type": "stream",
     "text": [
      "BBB π=0.75 σ₁=1.4e-01 σ₂=2.5e-03:  52%|█████▏    | 314/600 [26:32<17:47,  3.73s/it]"
     ]
    },
    {
     "name": "stdout",
     "output_type": "stream",
     "text": [
      "  Epoca 314/600 | Train Loss=5.1631 | Train Acc=95.70% | Test Acc=97.28%\n"
     ]
    },
    {
     "name": "stderr",
     "output_type": "stream",
     "text": [
      "BBB π=0.75 σ₁=1.4e-01 σ₂=2.5e-03:  52%|█████▎    | 315/600 [26:36<18:10,  3.83s/it]"
     ]
    },
    {
     "name": "stdout",
     "output_type": "stream",
     "text": [
      "  Epoca 315/600 | Train Loss=5.1669 | Train Acc=95.59% | Test Acc=97.24%\n"
     ]
    },
    {
     "name": "stderr",
     "output_type": "stream",
     "text": [
      "BBB π=0.75 σ₁=1.4e-01 σ₂=2.5e-03:  53%|█████▎    | 316/600 [26:40<18:01,  3.81s/it]"
     ]
    },
    {
     "name": "stdout",
     "output_type": "stream",
     "text": [
      "  Epoca 316/600 | Train Loss=5.1621 | Train Acc=95.68% | Test Acc=97.37%\n"
     ]
    },
    {
     "name": "stderr",
     "output_type": "stream",
     "text": [
      "BBB π=0.75 σ₁=1.4e-01 σ₂=2.5e-03:  53%|█████▎    | 317/600 [26:44<17:54,  3.80s/it]"
     ]
    },
    {
     "name": "stdout",
     "output_type": "stream",
     "text": [
      "  Epoca 317/600 | Train Loss=5.1619 | Train Acc=95.66% | Test Acc=97.28%\n"
     ]
    },
    {
     "name": "stderr",
     "output_type": "stream",
     "text": [
      "BBB π=0.75 σ₁=1.4e-01 σ₂=2.5e-03:  53%|█████▎    | 318/600 [26:47<17:40,  3.76s/it]"
     ]
    },
    {
     "name": "stdout",
     "output_type": "stream",
     "text": [
      "  Epoca 318/600 | Train Loss=5.1605 | Train Acc=95.72% | Test Acc=97.39%\n"
     ]
    },
    {
     "name": "stderr",
     "output_type": "stream",
     "text": [
      "BBB π=0.75 σ₁=1.4e-01 σ₂=2.5e-03:  53%|█████▎    | 319/600 [26:51<17:35,  3.76s/it]"
     ]
    },
    {
     "name": "stdout",
     "output_type": "stream",
     "text": [
      "  Epoca 319/600 | Train Loss=5.1623 | Train Acc=95.69% | Test Acc=97.36%\n"
     ]
    },
    {
     "name": "stderr",
     "output_type": "stream",
     "text": [
      "BBB π=0.75 σ₁=1.4e-01 σ₂=2.5e-03:  53%|█████▎    | 320/600 [26:55<17:23,  3.73s/it]"
     ]
    },
    {
     "name": "stdout",
     "output_type": "stream",
     "text": [
      "  Epoca 320/600 | Train Loss=5.1539 | Train Acc=95.92% | Test Acc=97.30%\n"
     ]
    },
    {
     "name": "stderr",
     "output_type": "stream",
     "text": [
      "BBB π=0.75 σ₁=1.4e-01 σ₂=2.5e-03:  54%|█████▎    | 321/600 [26:58<17:13,  3.71s/it]"
     ]
    },
    {
     "name": "stdout",
     "output_type": "stream",
     "text": [
      "  Epoca 321/600 | Train Loss=5.1533 | Train Acc=95.83% | Test Acc=97.45%\n"
     ]
    },
    {
     "name": "stderr",
     "output_type": "stream",
     "text": [
      "BBB π=0.75 σ₁=1.4e-01 σ₂=2.5e-03:  54%|█████▎    | 322/600 [27:02<17:09,  3.70s/it]"
     ]
    },
    {
     "name": "stdout",
     "output_type": "stream",
     "text": [
      "  Epoca 322/600 | Train Loss=5.1573 | Train Acc=95.73% | Test Acc=97.30%\n"
     ]
    },
    {
     "name": "stderr",
     "output_type": "stream",
     "text": [
      "BBB π=0.75 σ₁=1.4e-01 σ₂=2.5e-03:  54%|█████▍    | 323/600 [27:06<17:03,  3.69s/it]"
     ]
    },
    {
     "name": "stdout",
     "output_type": "stream",
     "text": [
      "  Epoca 323/600 | Train Loss=5.1560 | Train Acc=95.65% | Test Acc=97.41%\n"
     ]
    },
    {
     "name": "stderr",
     "output_type": "stream",
     "text": [
      "BBB π=0.75 σ₁=1.4e-01 σ₂=2.5e-03:  54%|█████▍    | 324/600 [27:10<17:32,  3.81s/it]"
     ]
    },
    {
     "name": "stdout",
     "output_type": "stream",
     "text": [
      "  Epoca 324/600 | Train Loss=5.1622 | Train Acc=95.54% | Test Acc=97.45%\n"
     ]
    },
    {
     "name": "stderr",
     "output_type": "stream",
     "text": [
      "BBB π=0.75 σ₁=1.4e-01 σ₂=2.5e-03:  54%|█████▍    | 325/600 [27:14<17:26,  3.81s/it]"
     ]
    },
    {
     "name": "stdout",
     "output_type": "stream",
     "text": [
      "  Epoca 325/600 | Train Loss=5.1585 | Train Acc=95.58% | Test Acc=97.38%\n"
     ]
    },
    {
     "name": "stderr",
     "output_type": "stream",
     "text": [
      "BBB π=0.75 σ₁=1.4e-01 σ₂=2.5e-03:  54%|█████▍    | 326/600 [27:17<17:11,  3.76s/it]"
     ]
    },
    {
     "name": "stdout",
     "output_type": "stream",
     "text": [
      "  Epoca 326/600 | Train Loss=5.1571 | Train Acc=95.83% | Test Acc=97.34%\n"
     ]
    },
    {
     "name": "stderr",
     "output_type": "stream",
     "text": [
      "BBB π=0.75 σ₁=1.4e-01 σ₂=2.5e-03:  55%|█████▍    | 327/600 [27:21<16:59,  3.73s/it]"
     ]
    },
    {
     "name": "stdout",
     "output_type": "stream",
     "text": [
      "  Epoca 327/600 | Train Loss=5.1516 | Train Acc=95.75% | Test Acc=97.30%\n"
     ]
    },
    {
     "name": "stderr",
     "output_type": "stream",
     "text": [
      "BBB π=0.75 σ₁=1.4e-01 σ₂=2.5e-03:  55%|█████▍    | 328/600 [27:25<16:53,  3.73s/it]"
     ]
    },
    {
     "name": "stdout",
     "output_type": "stream",
     "text": [
      "  Epoca 328/600 | Train Loss=5.1559 | Train Acc=95.68% | Test Acc=97.36%\n"
     ]
    },
    {
     "name": "stderr",
     "output_type": "stream",
     "text": [
      "BBB π=0.75 σ₁=1.4e-01 σ₂=2.5e-03:  55%|█████▍    | 329/600 [27:28<16:45,  3.71s/it]"
     ]
    },
    {
     "name": "stdout",
     "output_type": "stream",
     "text": [
      "  Epoca 329/600 | Train Loss=5.1596 | Train Acc=95.59% | Test Acc=97.15%\n"
     ]
    },
    {
     "name": "stderr",
     "output_type": "stream",
     "text": [
      "BBB π=0.75 σ₁=1.4e-01 σ₂=2.5e-03:  55%|█████▌    | 330/600 [27:32<16:47,  3.73s/it]"
     ]
    },
    {
     "name": "stdout",
     "output_type": "stream",
     "text": [
      "  Epoca 330/600 | Train Loss=5.1497 | Train Acc=95.84% | Test Acc=97.41%\n"
     ]
    },
    {
     "name": "stderr",
     "output_type": "stream",
     "text": [
      "BBB π=0.75 σ₁=1.4e-01 σ₂=2.5e-03:  55%|█████▌    | 331/600 [27:36<16:42,  3.73s/it]"
     ]
    },
    {
     "name": "stdout",
     "output_type": "stream",
     "text": [
      "  Epoca 331/600 | Train Loss=5.1548 | Train Acc=95.74% | Test Acc=97.14%\n"
     ]
    },
    {
     "name": "stderr",
     "output_type": "stream",
     "text": [
      "BBB π=0.75 σ₁=1.4e-01 σ₂=2.5e-03:  55%|█████▌    | 332/600 [27:40<17:11,  3.85s/it]"
     ]
    },
    {
     "name": "stdout",
     "output_type": "stream",
     "text": [
      "  Epoca 332/600 | Train Loss=5.1571 | Train Acc=95.60% | Test Acc=97.39%\n"
     ]
    },
    {
     "name": "stderr",
     "output_type": "stream",
     "text": [
      "BBB π=0.75 σ₁=1.4e-01 σ₂=2.5e-03:  56%|█████▌    | 333/600 [27:44<16:59,  3.82s/it]"
     ]
    },
    {
     "name": "stdout",
     "output_type": "stream",
     "text": [
      "  Epoca 333/600 | Train Loss=5.1552 | Train Acc=95.66% | Test Acc=97.31%\n"
     ]
    },
    {
     "name": "stderr",
     "output_type": "stream",
     "text": [
      "BBB π=0.75 σ₁=1.4e-01 σ₂=2.5e-03:  56%|█████▌    | 334/600 [27:47<16:43,  3.77s/it]"
     ]
    },
    {
     "name": "stdout",
     "output_type": "stream",
     "text": [
      "  Epoca 334/600 | Train Loss=5.1507 | Train Acc=95.73% | Test Acc=97.11%\n"
     ]
    },
    {
     "name": "stderr",
     "output_type": "stream",
     "text": [
      "BBB π=0.75 σ₁=1.4e-01 σ₂=2.5e-03:  56%|█████▌    | 335/600 [27:51<16:31,  3.74s/it]"
     ]
    },
    {
     "name": "stdout",
     "output_type": "stream",
     "text": [
      "  Epoca 335/600 | Train Loss=5.1503 | Train Acc=95.72% | Test Acc=97.22%\n"
     ]
    },
    {
     "name": "stderr",
     "output_type": "stream",
     "text": [
      "BBB π=0.75 σ₁=1.4e-01 σ₂=2.5e-03:  56%|█████▌    | 336/600 [27:55<16:24,  3.73s/it]"
     ]
    },
    {
     "name": "stdout",
     "output_type": "stream",
     "text": [
      "  Epoca 336/600 | Train Loss=5.1504 | Train Acc=95.72% | Test Acc=97.23%\n"
     ]
    },
    {
     "name": "stderr",
     "output_type": "stream",
     "text": [
      "BBB π=0.75 σ₁=1.4e-01 σ₂=2.5e-03:  56%|█████▌    | 337/600 [27:58<16:17,  3.72s/it]"
     ]
    },
    {
     "name": "stdout",
     "output_type": "stream",
     "text": [
      "  Epoca 337/600 | Train Loss=5.1456 | Train Acc=95.84% | Test Acc=97.30%\n"
     ]
    },
    {
     "name": "stderr",
     "output_type": "stream",
     "text": [
      "BBB π=0.75 σ₁=1.4e-01 σ₂=2.5e-03:  56%|█████▋    | 338/600 [28:02<16:15,  3.72s/it]"
     ]
    },
    {
     "name": "stdout",
     "output_type": "stream",
     "text": [
      "  Epoca 338/600 | Train Loss=5.1503 | Train Acc=95.73% | Test Acc=97.36%\n"
     ]
    },
    {
     "name": "stderr",
     "output_type": "stream",
     "text": [
      "BBB π=0.75 σ₁=1.4e-01 σ₂=2.5e-03:  56%|█████▋    | 339/600 [28:06<16:10,  3.72s/it]"
     ]
    },
    {
     "name": "stdout",
     "output_type": "stream",
     "text": [
      "  Epoca 339/600 | Train Loss=5.1496 | Train Acc=95.70% | Test Acc=97.42%\n"
     ]
    },
    {
     "name": "stderr",
     "output_type": "stream",
     "text": [
      "BBB π=0.75 σ₁=1.4e-01 σ₂=2.5e-03:  57%|█████▋    | 340/600 [28:10<16:03,  3.71s/it]"
     ]
    },
    {
     "name": "stdout",
     "output_type": "stream",
     "text": [
      "  Epoca 340/600 | Train Loss=5.1481 | Train Acc=95.80% | Test Acc=97.37%\n"
     ]
    },
    {
     "name": "stderr",
     "output_type": "stream",
     "text": [
      "BBB π=0.75 σ₁=1.4e-01 σ₂=2.5e-03:  57%|█████▋    | 341/600 [28:14<16:40,  3.86s/it]"
     ]
    },
    {
     "name": "stdout",
     "output_type": "stream",
     "text": [
      "  Epoca 341/600 | Train Loss=5.1489 | Train Acc=95.68% | Test Acc=97.31%\n"
     ]
    },
    {
     "name": "stderr",
     "output_type": "stream",
     "text": [
      "BBB π=0.75 σ₁=1.4e-01 σ₂=2.5e-03:  57%|█████▋    | 342/600 [28:18<16:23,  3.81s/it]"
     ]
    },
    {
     "name": "stdout",
     "output_type": "stream",
     "text": [
      "  Epoca 342/600 | Train Loss=5.1477 | Train Acc=95.77% | Test Acc=97.32%\n"
     ]
    },
    {
     "name": "stderr",
     "output_type": "stream",
     "text": [
      "BBB π=0.75 σ₁=1.4e-01 σ₂=2.5e-03:  57%|█████▋    | 343/600 [28:21<16:13,  3.79s/it]"
     ]
    },
    {
     "name": "stdout",
     "output_type": "stream",
     "text": [
      "  Epoca 343/600 | Train Loss=5.1459 | Train Acc=95.82% | Test Acc=97.39%\n"
     ]
    },
    {
     "name": "stderr",
     "output_type": "stream",
     "text": [
      "BBB π=0.75 σ₁=1.4e-01 σ₂=2.5e-03:  57%|█████▋    | 344/600 [28:25<16:04,  3.77s/it]"
     ]
    },
    {
     "name": "stdout",
     "output_type": "stream",
     "text": [
      "  Epoca 344/600 | Train Loss=5.1480 | Train Acc=95.76% | Test Acc=97.53%\n"
     ]
    },
    {
     "name": "stderr",
     "output_type": "stream",
     "text": [
      "BBB π=0.75 σ₁=1.4e-01 σ₂=2.5e-03:  57%|█████▊    | 345/600 [28:29<15:53,  3.74s/it]"
     ]
    },
    {
     "name": "stdout",
     "output_type": "stream",
     "text": [
      "  Epoca 345/600 | Train Loss=5.1446 | Train Acc=95.84% | Test Acc=97.51%\n"
     ]
    },
    {
     "name": "stderr",
     "output_type": "stream",
     "text": [
      "BBB π=0.75 σ₁=1.4e-01 σ₂=2.5e-03:  58%|█████▊    | 346/600 [28:32<15:50,  3.74s/it]"
     ]
    },
    {
     "name": "stdout",
     "output_type": "stream",
     "text": [
      "  Epoca 346/600 | Train Loss=5.1453 | Train Acc=95.78% | Test Acc=97.35%\n"
     ]
    },
    {
     "name": "stderr",
     "output_type": "stream",
     "text": [
      "BBB π=0.75 σ₁=1.4e-01 σ₂=2.5e-03:  58%|█████▊    | 347/600 [28:36<15:44,  3.73s/it]"
     ]
    },
    {
     "name": "stdout",
     "output_type": "stream",
     "text": [
      "  Epoca 347/600 | Train Loss=5.1457 | Train Acc=95.73% | Test Acc=97.28%\n"
     ]
    },
    {
     "name": "stderr",
     "output_type": "stream",
     "text": [
      "BBB π=0.75 σ₁=1.4e-01 σ₂=2.5e-03:  58%|█████▊    | 348/600 [28:40<15:34,  3.71s/it]"
     ]
    },
    {
     "name": "stdout",
     "output_type": "stream",
     "text": [
      "  Epoca 348/600 | Train Loss=5.1459 | Train Acc=95.74% | Test Acc=97.02%\n"
     ]
    },
    {
     "name": "stderr",
     "output_type": "stream",
     "text": [
      "BBB π=0.75 σ₁=1.4e-01 σ₂=2.5e-03:  58%|█████▊    | 349/600 [28:44<15:54,  3.80s/it]"
     ]
    },
    {
     "name": "stdout",
     "output_type": "stream",
     "text": [
      "  Epoca 349/600 | Train Loss=5.1508 | Train Acc=95.64% | Test Acc=97.14%\n"
     ]
    },
    {
     "name": "stderr",
     "output_type": "stream",
     "text": [
      "BBB π=0.75 σ₁=1.4e-01 σ₂=2.5e-03:  58%|█████▊    | 350/600 [28:48<15:47,  3.79s/it]"
     ]
    },
    {
     "name": "stdout",
     "output_type": "stream",
     "text": [
      "  Epoca 350/600 | Train Loss=5.1522 | Train Acc=95.66% | Test Acc=97.44%\n"
     ]
    },
    {
     "name": "stderr",
     "output_type": "stream",
     "text": [
      "BBB π=0.75 σ₁=1.4e-01 σ₂=2.5e-03:  58%|█████▊    | 351/600 [28:51<15:37,  3.77s/it]"
     ]
    },
    {
     "name": "stdout",
     "output_type": "stream",
     "text": [
      "  Epoca 351/600 | Train Loss=5.1448 | Train Acc=95.75% | Test Acc=97.26%\n"
     ]
    },
    {
     "name": "stderr",
     "output_type": "stream",
     "text": [
      "BBB π=0.75 σ₁=1.4e-01 σ₂=2.5e-03:  59%|█████▊    | 352/600 [28:55<15:27,  3.74s/it]"
     ]
    },
    {
     "name": "stdout",
     "output_type": "stream",
     "text": [
      "  Epoca 352/600 | Train Loss=5.1443 | Train Acc=95.81% | Test Acc=97.31%\n"
     ]
    },
    {
     "name": "stderr",
     "output_type": "stream",
     "text": [
      "BBB π=0.75 σ₁=1.4e-01 σ₂=2.5e-03:  59%|█████▉    | 353/600 [28:59<15:17,  3.71s/it]"
     ]
    },
    {
     "name": "stdout",
     "output_type": "stream",
     "text": [
      "  Epoca 353/600 | Train Loss=5.1422 | Train Acc=95.81% | Test Acc=97.09%\n"
     ]
    },
    {
     "name": "stderr",
     "output_type": "stream",
     "text": [
      "BBB π=0.75 σ₁=1.4e-01 σ₂=2.5e-03:  59%|█████▉    | 354/600 [29:02<15:17,  3.73s/it]"
     ]
    },
    {
     "name": "stdout",
     "output_type": "stream",
     "text": [
      "  Epoca 354/600 | Train Loss=5.1473 | Train Acc=95.73% | Test Acc=97.38%\n"
     ]
    },
    {
     "name": "stderr",
     "output_type": "stream",
     "text": [
      "BBB π=0.75 σ₁=1.4e-01 σ₂=2.5e-03:  59%|█████▉    | 355/600 [29:06<15:11,  3.72s/it]"
     ]
    },
    {
     "name": "stdout",
     "output_type": "stream",
     "text": [
      "  Epoca 355/600 | Train Loss=5.1489 | Train Acc=95.62% | Test Acc=97.21%\n"
     ]
    },
    {
     "name": "stderr",
     "output_type": "stream",
     "text": [
      "BBB π=0.75 σ₁=1.4e-01 σ₂=2.5e-03:  59%|█████▉    | 356/600 [29:10<15:03,  3.70s/it]"
     ]
    },
    {
     "name": "stdout",
     "output_type": "stream",
     "text": [
      "  Epoca 356/600 | Train Loss=5.1503 | Train Acc=95.58% | Test Acc=97.37%\n"
     ]
    },
    {
     "name": "stderr",
     "output_type": "stream",
     "text": [
      "BBB π=0.75 σ₁=1.4e-01 σ₂=2.5e-03:  60%|█████▉    | 357/600 [29:13<15:02,  3.71s/it]"
     ]
    },
    {
     "name": "stdout",
     "output_type": "stream",
     "text": [
      "  Epoca 357/600 | Train Loss=5.1443 | Train Acc=95.81% | Test Acc=97.28%\n"
     ]
    },
    {
     "name": "stderr",
     "output_type": "stream",
     "text": [
      "BBB π=0.75 σ₁=1.4e-01 σ₂=2.5e-03:  60%|█████▉    | 358/600 [29:18<15:28,  3.84s/it]"
     ]
    },
    {
     "name": "stdout",
     "output_type": "stream",
     "text": [
      "  Epoca 358/600 | Train Loss=5.1368 | Train Acc=95.95% | Test Acc=97.50%\n"
     ]
    },
    {
     "name": "stderr",
     "output_type": "stream",
     "text": [
      "BBB π=0.75 σ₁=1.4e-01 σ₂=2.5e-03:  60%|█████▉    | 359/600 [29:21<15:19,  3.82s/it]"
     ]
    },
    {
     "name": "stdout",
     "output_type": "stream",
     "text": [
      "  Epoca 359/600 | Train Loss=5.1401 | Train Acc=95.82% | Test Acc=97.20%\n"
     ]
    },
    {
     "name": "stderr",
     "output_type": "stream",
     "text": [
      "BBB π=0.75 σ₁=1.4e-01 σ₂=2.5e-03:  60%|██████    | 360/600 [29:25<15:02,  3.76s/it]"
     ]
    },
    {
     "name": "stdout",
     "output_type": "stream",
     "text": [
      "  Epoca 360/600 | Train Loss=5.1451 | Train Acc=95.80% | Test Acc=97.18%\n"
     ]
    },
    {
     "name": "stderr",
     "output_type": "stream",
     "text": [
      "BBB π=0.75 σ₁=1.4e-01 σ₂=2.5e-03:  60%|██████    | 361/600 [29:29<14:51,  3.73s/it]"
     ]
    },
    {
     "name": "stdout",
     "output_type": "stream",
     "text": [
      "  Epoca 361/600 | Train Loss=5.1397 | Train Acc=95.82% | Test Acc=97.31%\n"
     ]
    },
    {
     "name": "stderr",
     "output_type": "stream",
     "text": [
      "BBB π=0.75 σ₁=1.4e-01 σ₂=2.5e-03:  60%|██████    | 362/600 [29:32<14:50,  3.74s/it]"
     ]
    },
    {
     "name": "stdout",
     "output_type": "stream",
     "text": [
      "  Epoca 362/600 | Train Loss=5.1454 | Train Acc=95.67% | Test Acc=97.32%\n"
     ]
    },
    {
     "name": "stderr",
     "output_type": "stream",
     "text": [
      "BBB π=0.75 σ₁=1.4e-01 σ₂=2.5e-03:  60%|██████    | 363/600 [29:36<14:44,  3.73s/it]"
     ]
    },
    {
     "name": "stdout",
     "output_type": "stream",
     "text": [
      "  Epoca 363/600 | Train Loss=5.1428 | Train Acc=95.68% | Test Acc=97.38%\n"
     ]
    },
    {
     "name": "stderr",
     "output_type": "stream",
     "text": [
      "BBB π=0.75 σ₁=1.4e-01 σ₂=2.5e-03:  61%|██████    | 364/600 [29:40<14:37,  3.72s/it]"
     ]
    },
    {
     "name": "stdout",
     "output_type": "stream",
     "text": [
      "  Epoca 364/600 | Train Loss=5.1411 | Train Acc=95.70% | Test Acc=97.38%\n"
     ]
    },
    {
     "name": "stderr",
     "output_type": "stream",
     "text": [
      "BBB π=0.75 σ₁=1.4e-01 σ₂=2.5e-03:  61%|██████    | 365/600 [29:44<14:34,  3.72s/it]"
     ]
    },
    {
     "name": "stdout",
     "output_type": "stream",
     "text": [
      "  Epoca 365/600 | Train Loss=5.1356 | Train Acc=95.92% | Test Acc=97.27%\n"
     ]
    },
    {
     "name": "stderr",
     "output_type": "stream",
     "text": [
      "BBB π=0.75 σ₁=1.4e-01 σ₂=2.5e-03:  61%|██████    | 366/600 [29:48<14:53,  3.82s/it]"
     ]
    },
    {
     "name": "stdout",
     "output_type": "stream",
     "text": [
      "  Epoca 366/600 | Train Loss=5.1408 | Train Acc=95.83% | Test Acc=97.05%\n"
     ]
    },
    {
     "name": "stderr",
     "output_type": "stream",
     "text": [
      "BBB π=0.75 σ₁=1.4e-01 σ₂=2.5e-03:  61%|██████    | 367/600 [29:51<14:48,  3.81s/it]"
     ]
    },
    {
     "name": "stdout",
     "output_type": "stream",
     "text": [
      "  Epoca 367/600 | Train Loss=5.1438 | Train Acc=95.64% | Test Acc=97.31%\n"
     ]
    },
    {
     "name": "stderr",
     "output_type": "stream",
     "text": [
      "BBB π=0.75 σ₁=1.4e-01 σ₂=2.5e-03:  61%|██████▏   | 368/600 [29:55<14:34,  3.77s/it]"
     ]
    },
    {
     "name": "stdout",
     "output_type": "stream",
     "text": [
      "  Epoca 368/600 | Train Loss=5.1394 | Train Acc=95.70% | Test Acc=97.32%\n"
     ]
    },
    {
     "name": "stderr",
     "output_type": "stream",
     "text": [
      "BBB π=0.75 σ₁=1.4e-01 σ₂=2.5e-03:  62%|██████▏   | 369/600 [29:59<14:26,  3.75s/it]"
     ]
    },
    {
     "name": "stdout",
     "output_type": "stream",
     "text": [
      "  Epoca 369/600 | Train Loss=5.1427 | Train Acc=95.69% | Test Acc=97.22%\n"
     ]
    },
    {
     "name": "stderr",
     "output_type": "stream",
     "text": [
      "BBB π=0.75 σ₁=1.4e-01 σ₂=2.5e-03:  62%|██████▏   | 370/600 [30:02<14:22,  3.75s/it]"
     ]
    },
    {
     "name": "stdout",
     "output_type": "stream",
     "text": [
      "  Epoca 370/600 | Train Loss=5.1362 | Train Acc=95.79% | Test Acc=97.29%\n"
     ]
    },
    {
     "name": "stderr",
     "output_type": "stream",
     "text": [
      "BBB π=0.75 σ₁=1.4e-01 σ₂=2.5e-03:  62%|██████▏   | 371/600 [30:06<14:15,  3.73s/it]"
     ]
    },
    {
     "name": "stdout",
     "output_type": "stream",
     "text": [
      "  Epoca 371/600 | Train Loss=5.1431 | Train Acc=95.72% | Test Acc=97.36%\n"
     ]
    },
    {
     "name": "stderr",
     "output_type": "stream",
     "text": [
      "BBB π=0.75 σ₁=1.4e-01 σ₂=2.5e-03:  62%|██████▏   | 372/600 [30:10<14:07,  3.72s/it]"
     ]
    },
    {
     "name": "stdout",
     "output_type": "stream",
     "text": [
      "  Epoca 372/600 | Train Loss=5.1334 | Train Acc=95.99% | Test Acc=97.39%\n"
     ]
    },
    {
     "name": "stderr",
     "output_type": "stream",
     "text": [
      "BBB π=0.75 σ₁=1.4e-01 σ₂=2.5e-03:  62%|██████▏   | 373/600 [30:14<14:06,  3.73s/it]"
     ]
    },
    {
     "name": "stdout",
     "output_type": "stream",
     "text": [
      "  Epoca 373/600 | Train Loss=5.1327 | Train Acc=95.89% | Test Acc=97.19%\n"
     ]
    },
    {
     "name": "stderr",
     "output_type": "stream",
     "text": [
      "BBB π=0.75 σ₁=1.4e-01 σ₂=2.5e-03:  62%|██████▏   | 374/600 [30:17<13:57,  3.70s/it]"
     ]
    },
    {
     "name": "stdout",
     "output_type": "stream",
     "text": [
      "  Epoca 374/600 | Train Loss=5.1359 | Train Acc=95.76% | Test Acc=97.41%\n"
     ]
    },
    {
     "name": "stderr",
     "output_type": "stream",
     "text": [
      "BBB π=0.75 σ₁=1.4e-01 σ₂=2.5e-03:  62%|██████▎   | 375/600 [30:21<14:26,  3.85s/it]"
     ]
    },
    {
     "name": "stdout",
     "output_type": "stream",
     "text": [
      "  Epoca 375/600 | Train Loss=5.1352 | Train Acc=95.87% | Test Acc=97.34%\n"
     ]
    },
    {
     "name": "stderr",
     "output_type": "stream",
     "text": [
      "BBB π=0.75 σ₁=1.4e-01 σ₂=2.5e-03:  63%|██████▎   | 376/600 [30:25<14:12,  3.81s/it]"
     ]
    },
    {
     "name": "stdout",
     "output_type": "stream",
     "text": [
      "  Epoca 376/600 | Train Loss=5.1348 | Train Acc=95.93% | Test Acc=97.20%\n"
     ]
    },
    {
     "name": "stderr",
     "output_type": "stream",
     "text": [
      "BBB π=0.75 σ₁=1.4e-01 σ₂=2.5e-03:  63%|██████▎   | 377/600 [30:29<13:58,  3.76s/it]"
     ]
    },
    {
     "name": "stdout",
     "output_type": "stream",
     "text": [
      "  Epoca 377/600 | Train Loss=5.1420 | Train Acc=95.58% | Test Acc=97.27%\n"
     ]
    },
    {
     "name": "stderr",
     "output_type": "stream",
     "text": [
      "BBB π=0.75 σ₁=1.4e-01 σ₂=2.5e-03:  63%|██████▎   | 378/600 [30:33<13:55,  3.77s/it]"
     ]
    },
    {
     "name": "stdout",
     "output_type": "stream",
     "text": [
      "  Epoca 378/600 | Train Loss=5.1363 | Train Acc=95.80% | Test Acc=97.32%\n"
     ]
    },
    {
     "name": "stderr",
     "output_type": "stream",
     "text": [
      "BBB π=0.75 σ₁=1.4e-01 σ₂=2.5e-03:  63%|██████▎   | 379/600 [30:36<13:45,  3.74s/it]"
     ]
    },
    {
     "name": "stdout",
     "output_type": "stream",
     "text": [
      "  Epoca 379/600 | Train Loss=5.1313 | Train Acc=95.83% | Test Acc=97.27%\n"
     ]
    },
    {
     "name": "stderr",
     "output_type": "stream",
     "text": [
      "BBB π=0.75 σ₁=1.4e-01 σ₂=2.5e-03:  63%|██████▎   | 380/600 [30:40<13:42,  3.74s/it]"
     ]
    },
    {
     "name": "stdout",
     "output_type": "stream",
     "text": [
      "  Epoca 380/600 | Train Loss=5.1362 | Train Acc=95.72% | Test Acc=97.30%\n"
     ]
    },
    {
     "name": "stderr",
     "output_type": "stream",
     "text": [
      "BBB π=0.75 σ₁=1.4e-01 σ₂=2.5e-03:  64%|██████▎   | 381/600 [30:44<13:38,  3.74s/it]"
     ]
    },
    {
     "name": "stdout",
     "output_type": "stream",
     "text": [
      "  Epoca 381/600 | Train Loss=5.1393 | Train Acc=95.78% | Test Acc=97.25%\n"
     ]
    },
    {
     "name": "stderr",
     "output_type": "stream",
     "text": [
      "BBB π=0.75 σ₁=1.4e-01 σ₂=2.5e-03:  64%|██████▎   | 382/600 [30:47<13:32,  3.72s/it]"
     ]
    },
    {
     "name": "stdout",
     "output_type": "stream",
     "text": [
      "  Epoca 382/600 | Train Loss=5.1391 | Train Acc=95.69% | Test Acc=97.08%\n"
     ]
    },
    {
     "name": "stderr",
     "output_type": "stream",
     "text": [
      "BBB π=0.75 σ₁=1.4e-01 σ₂=2.5e-03:  64%|██████▍   | 383/600 [30:52<13:54,  3.85s/it]"
     ]
    },
    {
     "name": "stdout",
     "output_type": "stream",
     "text": [
      "  Epoca 383/600 | Train Loss=5.1362 | Train Acc=95.78% | Test Acc=97.34%\n"
     ]
    },
    {
     "name": "stderr",
     "output_type": "stream",
     "text": [
      "BBB π=0.75 σ₁=1.4e-01 σ₂=2.5e-03:  64%|██████▍   | 384/600 [30:55<13:51,  3.85s/it]"
     ]
    },
    {
     "name": "stdout",
     "output_type": "stream",
     "text": [
      "  Epoca 384/600 | Train Loss=5.1330 | Train Acc=95.96% | Test Acc=97.31%\n"
     ]
    },
    {
     "name": "stderr",
     "output_type": "stream",
     "text": [
      "BBB π=0.75 σ₁=1.4e-01 σ₂=2.5e-03:  64%|██████▍   | 385/600 [30:59<13:38,  3.81s/it]"
     ]
    },
    {
     "name": "stdout",
     "output_type": "stream",
     "text": [
      "  Epoca 385/600 | Train Loss=5.1370 | Train Acc=95.74% | Test Acc=97.52%\n"
     ]
    },
    {
     "name": "stderr",
     "output_type": "stream",
     "text": [
      "BBB π=0.75 σ₁=1.4e-01 σ₂=2.5e-03:  64%|██████▍   | 386/600 [31:03<13:30,  3.79s/it]"
     ]
    },
    {
     "name": "stdout",
     "output_type": "stream",
     "text": [
      "  Epoca 386/600 | Train Loss=5.1357 | Train Acc=95.86% | Test Acc=97.29%\n"
     ]
    },
    {
     "name": "stderr",
     "output_type": "stream",
     "text": [
      "BBB π=0.75 σ₁=1.4e-01 σ₂=2.5e-03:  64%|██████▍   | 387/600 [31:07<13:19,  3.75s/it]"
     ]
    },
    {
     "name": "stdout",
     "output_type": "stream",
     "text": [
      "  Epoca 387/600 | Train Loss=5.1291 | Train Acc=95.89% | Test Acc=97.38%\n"
     ]
    },
    {
     "name": "stderr",
     "output_type": "stream",
     "text": [
      "BBB π=0.75 σ₁=1.4e-01 σ₂=2.5e-03:  65%|██████▍   | 388/600 [31:10<13:12,  3.74s/it]"
     ]
    },
    {
     "name": "stdout",
     "output_type": "stream",
     "text": [
      "  Epoca 388/600 | Train Loss=5.1319 | Train Acc=95.82% | Test Acc=97.44%\n"
     ]
    },
    {
     "name": "stderr",
     "output_type": "stream",
     "text": [
      "BBB π=0.75 σ₁=1.4e-01 σ₂=2.5e-03:  65%|██████▍   | 389/600 [31:14<13:12,  3.75s/it]"
     ]
    },
    {
     "name": "stdout",
     "output_type": "stream",
     "text": [
      "  Epoca 389/600 | Train Loss=5.1318 | Train Acc=95.90% | Test Acc=97.48%\n"
     ]
    },
    {
     "name": "stderr",
     "output_type": "stream",
     "text": [
      "BBB π=0.75 σ₁=1.4e-01 σ₂=2.5e-03:  65%|██████▌   | 390/600 [31:18<13:05,  3.74s/it]"
     ]
    },
    {
     "name": "stdout",
     "output_type": "stream",
     "text": [
      "  Epoca 390/600 | Train Loss=5.1307 | Train Acc=95.86% | Test Acc=97.45%\n"
     ]
    },
    {
     "name": "stderr",
     "output_type": "stream",
     "text": [
      "BBB π=0.75 σ₁=1.4e-01 σ₂=2.5e-03:  65%|██████▌   | 391/600 [31:21<12:59,  3.73s/it]"
     ]
    },
    {
     "name": "stdout",
     "output_type": "stream",
     "text": [
      "  Epoca 391/600 | Train Loss=5.1340 | Train Acc=95.73% | Test Acc=97.33%\n"
     ]
    },
    {
     "name": "stderr",
     "output_type": "stream",
     "text": [
      "BBB π=0.75 σ₁=1.4e-01 σ₂=2.5e-03:  65%|██████▌   | 392/600 [31:26<13:19,  3.84s/it]"
     ]
    },
    {
     "name": "stdout",
     "output_type": "stream",
     "text": [
      "  Epoca 392/600 | Train Loss=5.1368 | Train Acc=95.68% | Test Acc=97.34%\n"
     ]
    },
    {
     "name": "stderr",
     "output_type": "stream",
     "text": [
      "BBB π=0.75 σ₁=1.4e-01 σ₂=2.5e-03:  66%|██████▌   | 393/600 [31:29<13:02,  3.78s/it]"
     ]
    },
    {
     "name": "stdout",
     "output_type": "stream",
     "text": [
      "  Epoca 393/600 | Train Loss=5.1392 | Train Acc=95.61% | Test Acc=97.25%\n"
     ]
    },
    {
     "name": "stderr",
     "output_type": "stream",
     "text": [
      "BBB π=0.75 σ₁=1.4e-01 σ₂=2.5e-03:  66%|██████▌   | 394/600 [31:33<12:54,  3.76s/it]"
     ]
    },
    {
     "name": "stdout",
     "output_type": "stream",
     "text": [
      "  Epoca 394/600 | Train Loss=5.1285 | Train Acc=95.86% | Test Acc=97.19%\n"
     ]
    },
    {
     "name": "stderr",
     "output_type": "stream",
     "text": [
      "BBB π=0.75 σ₁=1.4e-01 σ₂=2.5e-03:  66%|██████▌   | 395/600 [31:37<12:43,  3.73s/it]"
     ]
    },
    {
     "name": "stdout",
     "output_type": "stream",
     "text": [
      "  Epoca 395/600 | Train Loss=5.1350 | Train Acc=95.72% | Test Acc=97.39%\n"
     ]
    },
    {
     "name": "stderr",
     "output_type": "stream",
     "text": [
      "BBB π=0.75 σ₁=1.4e-01 σ₂=2.5e-03:  66%|██████▌   | 396/600 [31:40<12:38,  3.72s/it]"
     ]
    },
    {
     "name": "stdout",
     "output_type": "stream",
     "text": [
      "  Epoca 396/600 | Train Loss=5.1337 | Train Acc=95.85% | Test Acc=97.38%\n"
     ]
    },
    {
     "name": "stderr",
     "output_type": "stream",
     "text": [
      "BBB π=0.75 σ₁=1.4e-01 σ₂=2.5e-03:  66%|██████▌   | 397/600 [31:44<12:36,  3.72s/it]"
     ]
    },
    {
     "name": "stdout",
     "output_type": "stream",
     "text": [
      "  Epoca 397/600 | Train Loss=5.1362 | Train Acc=95.65% | Test Acc=97.39%\n"
     ]
    },
    {
     "name": "stderr",
     "output_type": "stream",
     "text": [
      "BBB π=0.75 σ₁=1.4e-01 σ₂=2.5e-03:  66%|██████▋   | 398/600 [31:48<12:30,  3.71s/it]"
     ]
    },
    {
     "name": "stdout",
     "output_type": "stream",
     "text": [
      "  Epoca 398/600 | Train Loss=5.1353 | Train Acc=95.75% | Test Acc=97.27%\n"
     ]
    },
    {
     "name": "stderr",
     "output_type": "stream",
     "text": [
      "BBB π=0.75 σ₁=1.4e-01 σ₂=2.5e-03:  66%|██████▋   | 399/600 [31:51<12:26,  3.71s/it]"
     ]
    },
    {
     "name": "stdout",
     "output_type": "stream",
     "text": [
      "  Epoca 399/600 | Train Loss=5.1272 | Train Acc=95.99% | Test Acc=97.33%\n"
     ]
    },
    {
     "name": "stderr",
     "output_type": "stream",
     "text": [
      "BBB π=0.75 σ₁=1.4e-01 σ₂=2.5e-03:  67%|██████▋   | 400/600 [31:55<12:36,  3.78s/it]"
     ]
    },
    {
     "name": "stdout",
     "output_type": "stream",
     "text": [
      "  Epoca 400/600 | Train Loss=5.1347 | Train Acc=95.70% | Test Acc=97.39%\n"
     ]
    },
    {
     "name": "stderr",
     "output_type": "stream",
     "text": [
      "BBB π=0.75 σ₁=1.4e-01 σ₂=2.5e-03:  67%|██████▋   | 401/600 [31:59<12:33,  3.79s/it]"
     ]
    },
    {
     "name": "stdout",
     "output_type": "stream",
     "text": [
      "  Epoca 401/600 | Train Loss=5.1290 | Train Acc=95.86% | Test Acc=97.38%\n"
     ]
    },
    {
     "name": "stderr",
     "output_type": "stream",
     "text": [
      "BBB π=0.75 σ₁=1.4e-01 σ₂=2.5e-03:  67%|██████▋   | 402/600 [32:03<12:27,  3.77s/it]"
     ]
    },
    {
     "name": "stdout",
     "output_type": "stream",
     "text": [
      "  Epoca 402/600 | Train Loss=5.1334 | Train Acc=95.79% | Test Acc=97.46%\n"
     ]
    },
    {
     "name": "stderr",
     "output_type": "stream",
     "text": [
      "BBB π=0.75 σ₁=1.4e-01 σ₂=2.5e-03:  67%|██████▋   | 403/600 [32:07<12:16,  3.74s/it]"
     ]
    },
    {
     "name": "stdout",
     "output_type": "stream",
     "text": [
      "  Epoca 403/600 | Train Loss=5.1314 | Train Acc=95.89% | Test Acc=97.39%\n"
     ]
    },
    {
     "name": "stderr",
     "output_type": "stream",
     "text": [
      "BBB π=0.75 σ₁=1.4e-01 σ₂=2.5e-03:  67%|██████▋   | 404/600 [32:10<12:09,  3.72s/it]"
     ]
    },
    {
     "name": "stdout",
     "output_type": "stream",
     "text": [
      "  Epoca 404/600 | Train Loss=5.1340 | Train Acc=95.71% | Test Acc=97.25%\n"
     ]
    },
    {
     "name": "stderr",
     "output_type": "stream",
     "text": [
      "BBB π=0.75 σ₁=1.4e-01 σ₂=2.5e-03:  68%|██████▊   | 405/600 [32:14<12:10,  3.75s/it]"
     ]
    },
    {
     "name": "stdout",
     "output_type": "stream",
     "text": [
      "  Epoca 405/600 | Train Loss=5.1313 | Train Acc=95.71% | Test Acc=97.40%\n"
     ]
    },
    {
     "name": "stderr",
     "output_type": "stream",
     "text": [
      "BBB π=0.75 σ₁=1.4e-01 σ₂=2.5e-03:  68%|██████▊   | 406/600 [32:18<12:02,  3.72s/it]"
     ]
    },
    {
     "name": "stdout",
     "output_type": "stream",
     "text": [
      "  Epoca 406/600 | Train Loss=5.1273 | Train Acc=95.88% | Test Acc=97.43%\n"
     ]
    },
    {
     "name": "stderr",
     "output_type": "stream",
     "text": [
      "BBB π=0.75 σ₁=1.4e-01 σ₂=2.5e-03:  68%|██████▊   | 407/600 [32:21<11:59,  3.73s/it]"
     ]
    },
    {
     "name": "stdout",
     "output_type": "stream",
     "text": [
      "  Epoca 407/600 | Train Loss=5.1312 | Train Acc=95.83% | Test Acc=97.36%\n"
     ]
    },
    {
     "name": "stderr",
     "output_type": "stream",
     "text": [
      "BBB π=0.75 σ₁=1.4e-01 σ₂=2.5e-03:  68%|██████▊   | 408/600 [32:25<11:52,  3.71s/it]"
     ]
    },
    {
     "name": "stdout",
     "output_type": "stream",
     "text": [
      "  Epoca 408/600 | Train Loss=5.1311 | Train Acc=95.80% | Test Acc=97.42%\n"
     ]
    },
    {
     "name": "stderr",
     "output_type": "stream",
     "text": [
      "BBB π=0.75 σ₁=1.4e-01 σ₂=2.5e-03:  68%|██████▊   | 409/600 [32:29<12:12,  3.83s/it]"
     ]
    },
    {
     "name": "stdout",
     "output_type": "stream",
     "text": [
      "  Epoca 409/600 | Train Loss=5.1267 | Train Acc=95.96% | Test Acc=97.29%\n"
     ]
    },
    {
     "name": "stderr",
     "output_type": "stream",
     "text": [
      "BBB π=0.75 σ₁=1.4e-01 σ₂=2.5e-03:  68%|██████▊   | 410/600 [32:33<12:03,  3.81s/it]"
     ]
    },
    {
     "name": "stdout",
     "output_type": "stream",
     "text": [
      "  Epoca 410/600 | Train Loss=5.1330 | Train Acc=95.71% | Test Acc=97.35%\n"
     ]
    },
    {
     "name": "stderr",
     "output_type": "stream",
     "text": [
      "BBB π=0.75 σ₁=1.4e-01 σ₂=2.5e-03:  68%|██████▊   | 411/600 [32:37<11:53,  3.77s/it]"
     ]
    },
    {
     "name": "stdout",
     "output_type": "stream",
     "text": [
      "  Epoca 411/600 | Train Loss=5.1304 | Train Acc=95.71% | Test Acc=97.26%\n"
     ]
    },
    {
     "name": "stderr",
     "output_type": "stream",
     "text": [
      "BBB π=0.75 σ₁=1.4e-01 σ₂=2.5e-03:  69%|██████▊   | 412/600 [32:40<11:45,  3.75s/it]"
     ]
    },
    {
     "name": "stdout",
     "output_type": "stream",
     "text": [
      "  Epoca 412/600 | Train Loss=5.1272 | Train Acc=95.90% | Test Acc=97.23%\n"
     ]
    },
    {
     "name": "stderr",
     "output_type": "stream",
     "text": [
      "BBB π=0.75 σ₁=1.4e-01 σ₂=2.5e-03:  69%|██████▉   | 413/600 [32:44<11:42,  3.76s/it]"
     ]
    },
    {
     "name": "stdout",
     "output_type": "stream",
     "text": [
      "  Epoca 413/600 | Train Loss=5.1297 | Train Acc=95.80% | Test Acc=97.30%\n"
     ]
    },
    {
     "name": "stderr",
     "output_type": "stream",
     "text": [
      "BBB π=0.75 σ₁=1.4e-01 σ₂=2.5e-03:  69%|██████▉   | 414/600 [32:48<11:33,  3.73s/it]"
     ]
    },
    {
     "name": "stdout",
     "output_type": "stream",
     "text": [
      "  Epoca 414/600 | Train Loss=5.1343 | Train Acc=95.69% | Test Acc=97.46%\n"
     ]
    },
    {
     "name": "stderr",
     "output_type": "stream",
     "text": [
      "BBB π=0.75 σ₁=1.4e-01 σ₂=2.5e-03:  69%|██████▉   | 415/600 [32:52<11:28,  3.72s/it]"
     ]
    },
    {
     "name": "stdout",
     "output_type": "stream",
     "text": [
      "  Epoca 415/600 | Train Loss=5.1293 | Train Acc=95.91% | Test Acc=97.26%\n"
     ]
    },
    {
     "name": "stderr",
     "output_type": "stream",
     "text": [
      "BBB π=0.75 σ₁=1.4e-01 σ₂=2.5e-03:  69%|██████▉   | 416/600 [32:55<11:22,  3.71s/it]"
     ]
    },
    {
     "name": "stdout",
     "output_type": "stream",
     "text": [
      "  Epoca 416/600 | Train Loss=5.1278 | Train Acc=95.93% | Test Acc=97.23%\n"
     ]
    },
    {
     "name": "stderr",
     "output_type": "stream",
     "text": [
      "BBB π=0.75 σ₁=1.4e-01 σ₂=2.5e-03:  70%|██████▉   | 417/600 [32:59<11:30,  3.77s/it]"
     ]
    },
    {
     "name": "stdout",
     "output_type": "stream",
     "text": [
      "  Epoca 417/600 | Train Loss=5.1308 | Train Acc=95.76% | Test Acc=97.33%\n"
     ]
    },
    {
     "name": "stderr",
     "output_type": "stream",
     "text": [
      "BBB π=0.75 σ₁=1.4e-01 σ₂=2.5e-03:  70%|██████▉   | 418/600 [33:03<11:32,  3.80s/it]"
     ]
    },
    {
     "name": "stdout",
     "output_type": "stream",
     "text": [
      "  Epoca 418/600 | Train Loss=5.1306 | Train Acc=95.80% | Test Acc=97.34%\n"
     ]
    },
    {
     "name": "stderr",
     "output_type": "stream",
     "text": [
      "BBB π=0.75 σ₁=1.4e-01 σ₂=2.5e-03:  70%|██████▉   | 419/600 [33:07<11:22,  3.77s/it]"
     ]
    },
    {
     "name": "stdout",
     "output_type": "stream",
     "text": [
      "  Epoca 419/600 | Train Loss=5.1296 | Train Acc=95.83% | Test Acc=97.49%\n"
     ]
    },
    {
     "name": "stderr",
     "output_type": "stream",
     "text": [
      "BBB π=0.75 σ₁=1.4e-01 σ₂=2.5e-03:  70%|███████   | 420/600 [33:10<11:14,  3.74s/it]"
     ]
    },
    {
     "name": "stdout",
     "output_type": "stream",
     "text": [
      "  Epoca 420/600 | Train Loss=5.1300 | Train Acc=95.81% | Test Acc=97.23%\n"
     ]
    },
    {
     "name": "stderr",
     "output_type": "stream",
     "text": [
      "BBB π=0.75 σ₁=1.4e-01 σ₂=2.5e-03:  70%|███████   | 421/600 [33:14<11:14,  3.77s/it]"
     ]
    },
    {
     "name": "stdout",
     "output_type": "stream",
     "text": [
      "  Epoca 421/600 | Train Loss=5.1306 | Train Acc=95.73% | Test Acc=97.40%\n"
     ]
    },
    {
     "name": "stderr",
     "output_type": "stream",
     "text": [
      "BBB π=0.75 σ₁=1.4e-01 σ₂=2.5e-03:  70%|███████   | 422/600 [33:18<11:09,  3.76s/it]"
     ]
    },
    {
     "name": "stdout",
     "output_type": "stream",
     "text": [
      "  Epoca 422/600 | Train Loss=5.1291 | Train Acc=95.86% | Test Acc=97.38%\n"
     ]
    },
    {
     "name": "stderr",
     "output_type": "stream",
     "text": [
      "BBB π=0.75 σ₁=1.4e-01 σ₂=2.5e-03:  70%|███████   | 423/600 [33:22<11:08,  3.78s/it]"
     ]
    },
    {
     "name": "stdout",
     "output_type": "stream",
     "text": [
      "  Epoca 423/600 | Train Loss=5.1287 | Train Acc=95.90% | Test Acc=97.24%\n"
     ]
    },
    {
     "name": "stderr",
     "output_type": "stream",
     "text": [
      "BBB π=0.75 σ₁=1.4e-01 σ₂=2.5e-03:  71%|███████   | 424/600 [33:25<10:59,  3.75s/it]"
     ]
    },
    {
     "name": "stdout",
     "output_type": "stream",
     "text": [
      "  Epoca 424/600 | Train Loss=5.1310 | Train Acc=95.81% | Test Acc=97.54%\n"
     ]
    },
    {
     "name": "stderr",
     "output_type": "stream",
     "text": [
      "BBB π=0.75 σ₁=1.4e-01 σ₂=2.5e-03:  71%|███████   | 425/600 [33:29<10:53,  3.73s/it]"
     ]
    },
    {
     "name": "stdout",
     "output_type": "stream",
     "text": [
      "  Epoca 425/600 | Train Loss=5.1264 | Train Acc=95.82% | Test Acc=97.42%\n"
     ]
    },
    {
     "name": "stderr",
     "output_type": "stream",
     "text": [
      "BBB π=0.75 σ₁=1.4e-01 σ₂=2.5e-03:  71%|███████   | 426/600 [33:33<11:11,  3.86s/it]"
     ]
    },
    {
     "name": "stdout",
     "output_type": "stream",
     "text": [
      "  Epoca 426/600 | Train Loss=5.1274 | Train Acc=95.90% | Test Acc=97.54%\n"
     ]
    },
    {
     "name": "stderr",
     "output_type": "stream",
     "text": [
      "BBB π=0.75 σ₁=1.4e-01 σ₂=2.5e-03:  71%|███████   | 427/600 [33:37<10:59,  3.81s/it]"
     ]
    },
    {
     "name": "stdout",
     "output_type": "stream",
     "text": [
      "  Epoca 427/600 | Train Loss=5.1259 | Train Acc=95.87% | Test Acc=97.33%\n"
     ]
    },
    {
     "name": "stderr",
     "output_type": "stream",
     "text": [
      "BBB π=0.75 σ₁=1.4e-01 σ₂=2.5e-03:  71%|███████▏  | 428/600 [33:41<10:49,  3.77s/it]"
     ]
    },
    {
     "name": "stdout",
     "output_type": "stream",
     "text": [
      "  Epoca 428/600 | Train Loss=5.1295 | Train Acc=95.76% | Test Acc=97.36%\n"
     ]
    },
    {
     "name": "stderr",
     "output_type": "stream",
     "text": [
      "BBB π=0.75 σ₁=1.4e-01 σ₂=2.5e-03:  72%|███████▏  | 429/600 [33:44<10:43,  3.77s/it]"
     ]
    },
    {
     "name": "stdout",
     "output_type": "stream",
     "text": [
      "  Epoca 429/600 | Train Loss=5.1291 | Train Acc=95.74% | Test Acc=97.37%\n"
     ]
    },
    {
     "name": "stderr",
     "output_type": "stream",
     "text": [
      "BBB π=0.75 σ₁=1.4e-01 σ₂=2.5e-03:  72%|███████▏  | 430/600 [33:48<10:36,  3.75s/it]"
     ]
    },
    {
     "name": "stdout",
     "output_type": "stream",
     "text": [
      "  Epoca 430/600 | Train Loss=5.1249 | Train Acc=95.86% | Test Acc=97.43%\n"
     ]
    },
    {
     "name": "stderr",
     "output_type": "stream",
     "text": [
      "BBB π=0.75 σ₁=1.4e-01 σ₂=2.5e-03:  72%|███████▏  | 431/600 [33:52<10:31,  3.73s/it]"
     ]
    },
    {
     "name": "stdout",
     "output_type": "stream",
     "text": [
      "  Epoca 431/600 | Train Loss=5.1278 | Train Acc=95.87% | Test Acc=97.27%\n"
     ]
    },
    {
     "name": "stderr",
     "output_type": "stream",
     "text": [
      "BBB π=0.75 σ₁=1.4e-01 σ₂=2.5e-03:  72%|███████▏  | 432/600 [33:55<10:23,  3.71s/it]"
     ]
    },
    {
     "name": "stdout",
     "output_type": "stream",
     "text": [
      "  Epoca 432/600 | Train Loss=5.1294 | Train Acc=95.89% | Test Acc=97.41%\n"
     ]
    },
    {
     "name": "stderr",
     "output_type": "stream",
     "text": [
      "BBB π=0.75 σ₁=1.4e-01 σ₂=2.5e-03:  72%|███████▏  | 433/600 [33:59<10:18,  3.70s/it]"
     ]
    },
    {
     "name": "stdout",
     "output_type": "stream",
     "text": [
      "  Epoca 433/600 | Train Loss=5.1326 | Train Acc=95.74% | Test Acc=97.37%\n"
     ]
    },
    {
     "name": "stderr",
     "output_type": "stream",
     "text": [
      "BBB π=0.75 σ₁=1.4e-01 σ₂=2.5e-03:  72%|███████▏  | 434/600 [34:03<10:35,  3.83s/it]"
     ]
    },
    {
     "name": "stdout",
     "output_type": "stream",
     "text": [
      "  Epoca 434/600 | Train Loss=5.1223 | Train Acc=95.96% | Test Acc=97.44%\n"
     ]
    },
    {
     "name": "stderr",
     "output_type": "stream",
     "text": [
      "BBB π=0.75 σ₁=1.4e-01 σ₂=2.5e-03:  72%|███████▎  | 435/600 [34:07<10:32,  3.84s/it]"
     ]
    },
    {
     "name": "stdout",
     "output_type": "stream",
     "text": [
      "  Epoca 435/600 | Train Loss=5.1271 | Train Acc=95.88% | Test Acc=97.38%\n"
     ]
    },
    {
     "name": "stderr",
     "output_type": "stream",
     "text": [
      "BBB π=0.75 σ₁=1.4e-01 σ₂=2.5e-03:  73%|███████▎  | 436/600 [34:11<10:23,  3.80s/it]"
     ]
    },
    {
     "name": "stdout",
     "output_type": "stream",
     "text": [
      "  Epoca 436/600 | Train Loss=5.1259 | Train Acc=95.81% | Test Acc=97.22%\n"
     ]
    },
    {
     "name": "stderr",
     "output_type": "stream",
     "text": [
      "BBB π=0.75 σ₁=1.4e-01 σ₂=2.5e-03:  73%|███████▎  | 437/600 [34:15<10:19,  3.80s/it]"
     ]
    },
    {
     "name": "stdout",
     "output_type": "stream",
     "text": [
      "  Epoca 437/600 | Train Loss=5.1280 | Train Acc=95.71% | Test Acc=97.44%\n"
     ]
    },
    {
     "name": "stderr",
     "output_type": "stream",
     "text": [
      "BBB π=0.75 σ₁=1.4e-01 σ₂=2.5e-03:  73%|███████▎  | 438/600 [34:18<10:12,  3.78s/it]"
     ]
    },
    {
     "name": "stdout",
     "output_type": "stream",
     "text": [
      "  Epoca 438/600 | Train Loss=5.1265 | Train Acc=95.81% | Test Acc=97.36%\n"
     ]
    },
    {
     "name": "stderr",
     "output_type": "stream",
     "text": [
      "BBB π=0.75 σ₁=1.4e-01 σ₂=2.5e-03:  73%|███████▎  | 439/600 [34:22<10:06,  3.76s/it]"
     ]
    },
    {
     "name": "stdout",
     "output_type": "stream",
     "text": [
      "  Epoca 439/600 | Train Loss=5.1240 | Train Acc=95.93% | Test Acc=97.20%\n"
     ]
    },
    {
     "name": "stderr",
     "output_type": "stream",
     "text": [
      "BBB π=0.75 σ₁=1.4e-01 σ₂=2.5e-03:  73%|███████▎  | 440/600 [34:26<10:00,  3.75s/it]"
     ]
    },
    {
     "name": "stdout",
     "output_type": "stream",
     "text": [
      "  Epoca 440/600 | Train Loss=5.1235 | Train Acc=95.97% | Test Acc=97.46%\n"
     ]
    },
    {
     "name": "stderr",
     "output_type": "stream",
     "text": [
      "BBB π=0.75 σ₁=1.4e-01 σ₂=2.5e-03:  74%|███████▎  | 441/600 [34:30<09:52,  3.73s/it]"
     ]
    },
    {
     "name": "stdout",
     "output_type": "stream",
     "text": [
      "  Epoca 441/600 | Train Loss=5.1277 | Train Acc=95.80% | Test Acc=97.24%\n"
     ]
    },
    {
     "name": "stderr",
     "output_type": "stream",
     "text": [
      "BBB π=0.75 σ₁=1.4e-01 σ₂=2.5e-03:  74%|███████▎  | 442/600 [34:33<09:48,  3.73s/it]"
     ]
    },
    {
     "name": "stdout",
     "output_type": "stream",
     "text": [
      "  Epoca 442/600 | Train Loss=5.1265 | Train Acc=95.86% | Test Acc=97.46%\n"
     ]
    },
    {
     "name": "stderr",
     "output_type": "stream",
     "text": [
      "BBB π=0.75 σ₁=1.4e-01 σ₂=2.5e-03:  74%|███████▍  | 443/600 [34:37<10:01,  3.83s/it]"
     ]
    },
    {
     "name": "stdout",
     "output_type": "stream",
     "text": [
      "  Epoca 443/600 | Train Loss=5.1255 | Train Acc=95.84% | Test Acc=97.31%\n"
     ]
    },
    {
     "name": "stderr",
     "output_type": "stream",
     "text": [
      "BBB π=0.75 σ₁=1.4e-01 σ₂=2.5e-03:  74%|███████▍  | 444/600 [34:41<09:49,  3.78s/it]"
     ]
    },
    {
     "name": "stdout",
     "output_type": "stream",
     "text": [
      "  Epoca 444/600 | Train Loss=5.1240 | Train Acc=95.99% | Test Acc=97.36%\n"
     ]
    },
    {
     "name": "stderr",
     "output_type": "stream",
     "text": [
      "BBB π=0.75 σ₁=1.4e-01 σ₂=2.5e-03:  74%|███████▍  | 445/600 [34:45<09:43,  3.77s/it]"
     ]
    },
    {
     "name": "stdout",
     "output_type": "stream",
     "text": [
      "  Epoca 445/600 | Train Loss=5.1245 | Train Acc=95.84% | Test Acc=97.38%\n"
     ]
    },
    {
     "name": "stderr",
     "output_type": "stream",
     "text": [
      "BBB π=0.75 σ₁=1.4e-01 σ₂=2.5e-03:  74%|███████▍  | 446/600 [34:48<09:36,  3.74s/it]"
     ]
    },
    {
     "name": "stdout",
     "output_type": "stream",
     "text": [
      "  Epoca 446/600 | Train Loss=5.1259 | Train Acc=95.82% | Test Acc=97.33%\n"
     ]
    },
    {
     "name": "stderr",
     "output_type": "stream",
     "text": [
      "BBB π=0.75 σ₁=1.4e-01 σ₂=2.5e-03:  74%|███████▍  | 447/600 [34:52<09:33,  3.75s/it]"
     ]
    },
    {
     "name": "stdout",
     "output_type": "stream",
     "text": [
      "  Epoca 447/600 | Train Loss=5.1263 | Train Acc=95.80% | Test Acc=97.29%\n"
     ]
    },
    {
     "name": "stderr",
     "output_type": "stream",
     "text": [
      "BBB π=0.75 σ₁=1.4e-01 σ₂=2.5e-03:  75%|███████▍  | 448/600 [34:56<09:26,  3.73s/it]"
     ]
    },
    {
     "name": "stdout",
     "output_type": "stream",
     "text": [
      "  Epoca 448/600 | Train Loss=5.1259 | Train Acc=95.90% | Test Acc=97.44%\n"
     ]
    },
    {
     "name": "stderr",
     "output_type": "stream",
     "text": [
      "BBB π=0.75 σ₁=1.4e-01 σ₂=2.5e-03:  75%|███████▍  | 449/600 [35:00<09:20,  3.71s/it]"
     ]
    },
    {
     "name": "stdout",
     "output_type": "stream",
     "text": [
      "  Epoca 449/600 | Train Loss=5.1236 | Train Acc=95.82% | Test Acc=97.34%\n"
     ]
    },
    {
     "name": "stderr",
     "output_type": "stream",
     "text": [
      "BBB π=0.75 σ₁=1.4e-01 σ₂=2.5e-03:  75%|███████▌  | 450/600 [35:03<09:16,  3.71s/it]"
     ]
    },
    {
     "name": "stdout",
     "output_type": "stream",
     "text": [
      "  Epoca 450/600 | Train Loss=5.1235 | Train Acc=95.92% | Test Acc=97.54%\n"
     ]
    },
    {
     "name": "stderr",
     "output_type": "stream",
     "text": [
      "BBB π=0.75 σ₁=1.4e-01 σ₂=2.5e-03:  75%|███████▌  | 451/600 [35:07<09:23,  3.78s/it]"
     ]
    },
    {
     "name": "stdout",
     "output_type": "stream",
     "text": [
      "  Epoca 451/600 | Train Loss=5.1246 | Train Acc=95.83% | Test Acc=97.36%\n"
     ]
    },
    {
     "name": "stderr",
     "output_type": "stream",
     "text": [
      "BBB π=0.75 σ₁=1.4e-01 σ₂=2.5e-03:  75%|███████▌  | 452/600 [35:11<09:19,  3.78s/it]"
     ]
    },
    {
     "name": "stdout",
     "output_type": "stream",
     "text": [
      "  Epoca 452/600 | Train Loss=5.1283 | Train Acc=95.77% | Test Acc=97.33%\n"
     ]
    },
    {
     "name": "stderr",
     "output_type": "stream",
     "text": [
      "BBB π=0.75 σ₁=1.4e-01 σ₂=2.5e-03:  76%|███████▌  | 453/600 [35:15<09:14,  3.77s/it]"
     ]
    },
    {
     "name": "stdout",
     "output_type": "stream",
     "text": [
      "  Epoca 453/600 | Train Loss=5.1270 | Train Acc=95.86% | Test Acc=97.26%\n"
     ]
    },
    {
     "name": "stderr",
     "output_type": "stream",
     "text": [
      "BBB π=0.75 σ₁=1.4e-01 σ₂=2.5e-03:  76%|███████▌  | 454/600 [35:18<09:05,  3.74s/it]"
     ]
    },
    {
     "name": "stdout",
     "output_type": "stream",
     "text": [
      "  Epoca 454/600 | Train Loss=5.1224 | Train Acc=95.96% | Test Acc=97.51%\n"
     ]
    },
    {
     "name": "stderr",
     "output_type": "stream",
     "text": [
      "BBB π=0.75 σ₁=1.4e-01 σ₂=2.5e-03:  76%|███████▌  | 455/600 [35:22<09:04,  3.76s/it]"
     ]
    },
    {
     "name": "stdout",
     "output_type": "stream",
     "text": [
      "  Epoca 455/600 | Train Loss=5.1246 | Train Acc=95.92% | Test Acc=97.27%\n"
     ]
    },
    {
     "name": "stderr",
     "output_type": "stream",
     "text": [
      "BBB π=0.75 σ₁=1.4e-01 σ₂=2.5e-03:  76%|███████▌  | 456/600 [35:26<08:57,  3.73s/it]"
     ]
    },
    {
     "name": "stdout",
     "output_type": "stream",
     "text": [
      "  Epoca 456/600 | Train Loss=5.1235 | Train Acc=95.88% | Test Acc=97.53%\n"
     ]
    },
    {
     "name": "stderr",
     "output_type": "stream",
     "text": [
      "BBB π=0.75 σ₁=1.4e-01 σ₂=2.5e-03:  76%|███████▌  | 457/600 [35:29<08:51,  3.72s/it]"
     ]
    },
    {
     "name": "stdout",
     "output_type": "stream",
     "text": [
      "  Epoca 457/600 | Train Loss=5.1221 | Train Acc=95.84% | Test Acc=97.48%\n"
     ]
    },
    {
     "name": "stderr",
     "output_type": "stream",
     "text": [
      "BBB π=0.75 σ₁=1.4e-01 σ₂=2.5e-03:  76%|███████▋  | 458/600 [35:33<08:48,  3.73s/it]"
     ]
    },
    {
     "name": "stdout",
     "output_type": "stream",
     "text": [
      "  Epoca 458/600 | Train Loss=5.1248 | Train Acc=95.90% | Test Acc=97.54%\n"
     ]
    },
    {
     "name": "stderr",
     "output_type": "stream",
     "text": [
      "BBB π=0.75 σ₁=1.4e-01 σ₂=2.5e-03:  76%|███████▋  | 459/600 [35:37<08:43,  3.71s/it]"
     ]
    },
    {
     "name": "stdout",
     "output_type": "stream",
     "text": [
      "  Epoca 459/600 | Train Loss=5.1253 | Train Acc=95.80% | Test Acc=97.54%\n"
     ]
    },
    {
     "name": "stderr",
     "output_type": "stream",
     "text": [
      "BBB π=0.75 σ₁=1.4e-01 σ₂=2.5e-03:  77%|███████▋  | 460/600 [35:41<08:54,  3.82s/it]"
     ]
    },
    {
     "name": "stdout",
     "output_type": "stream",
     "text": [
      "  Epoca 460/600 | Train Loss=5.1240 | Train Acc=95.81% | Test Acc=97.30%\n"
     ]
    },
    {
     "name": "stderr",
     "output_type": "stream",
     "text": [
      "BBB π=0.75 σ₁=1.4e-01 σ₂=2.5e-03:  77%|███████▋  | 461/600 [35:45<08:47,  3.79s/it]"
     ]
    },
    {
     "name": "stdout",
     "output_type": "stream",
     "text": [
      "  Epoca 461/600 | Train Loss=5.1204 | Train Acc=95.87% | Test Acc=97.59%\n"
     ]
    },
    {
     "name": "stderr",
     "output_type": "stream",
     "text": [
      "BBB π=0.75 σ₁=1.4e-01 σ₂=2.5e-03:  77%|███████▋  | 462/600 [35:48<08:38,  3.76s/it]"
     ]
    },
    {
     "name": "stdout",
     "output_type": "stream",
     "text": [
      "  Epoca 462/600 | Train Loss=5.1229 | Train Acc=95.79% | Test Acc=97.39%\n"
     ]
    },
    {
     "name": "stderr",
     "output_type": "stream",
     "text": [
      "BBB π=0.75 σ₁=1.4e-01 σ₂=2.5e-03:  77%|███████▋  | 463/600 [35:52<08:35,  3.76s/it]"
     ]
    },
    {
     "name": "stdout",
     "output_type": "stream",
     "text": [
      "  Epoca 463/600 | Train Loss=5.1240 | Train Acc=95.81% | Test Acc=97.42%\n"
     ]
    },
    {
     "name": "stderr",
     "output_type": "stream",
     "text": [
      "BBB π=0.75 σ₁=1.4e-01 σ₂=2.5e-03:  77%|███████▋  | 464/600 [35:56<08:29,  3.75s/it]"
     ]
    },
    {
     "name": "stdout",
     "output_type": "stream",
     "text": [
      "  Epoca 464/600 | Train Loss=5.1215 | Train Acc=96.07% | Test Acc=97.29%\n"
     ]
    },
    {
     "name": "stderr",
     "output_type": "stream",
     "text": [
      "BBB π=0.75 σ₁=1.4e-01 σ₂=2.5e-03:  78%|███████▊  | 465/600 [36:00<08:23,  3.73s/it]"
     ]
    },
    {
     "name": "stdout",
     "output_type": "stream",
     "text": [
      "  Epoca 465/600 | Train Loss=5.1261 | Train Acc=95.78% | Test Acc=97.35%\n"
     ]
    },
    {
     "name": "stderr",
     "output_type": "stream",
     "text": [
      "BBB π=0.75 σ₁=1.4e-01 σ₂=2.5e-03:  78%|███████▊  | 466/600 [36:03<08:20,  3.74s/it]"
     ]
    },
    {
     "name": "stdout",
     "output_type": "stream",
     "text": [
      "  Epoca 466/600 | Train Loss=5.1233 | Train Acc=95.87% | Test Acc=97.43%\n"
     ]
    },
    {
     "name": "stderr",
     "output_type": "stream",
     "text": [
      "BBB π=0.75 σ₁=1.4e-01 σ₂=2.5e-03:  78%|███████▊  | 467/600 [36:07<08:17,  3.74s/it]"
     ]
    },
    {
     "name": "stdout",
     "output_type": "stream",
     "text": [
      "  Epoca 467/600 | Train Loss=5.1307 | Train Acc=95.75% | Test Acc=97.41%\n"
     ]
    },
    {
     "name": "stderr",
     "output_type": "stream",
     "text": [
      "BBB π=0.75 σ₁=1.4e-01 σ₂=2.5e-03:  78%|███████▊  | 468/600 [36:11<08:23,  3.81s/it]"
     ]
    },
    {
     "name": "stdout",
     "output_type": "stream",
     "text": [
      "  Epoca 468/600 | Train Loss=5.1213 | Train Acc=95.90% | Test Acc=97.35%\n"
     ]
    },
    {
     "name": "stderr",
     "output_type": "stream",
     "text": [
      "BBB π=0.75 σ₁=1.4e-01 σ₂=2.5e-03:  78%|███████▊  | 469/600 [36:15<08:19,  3.82s/it]"
     ]
    },
    {
     "name": "stdout",
     "output_type": "stream",
     "text": [
      "  Epoca 469/600 | Train Loss=5.1168 | Train Acc=95.96% | Test Acc=97.32%\n"
     ]
    },
    {
     "name": "stderr",
     "output_type": "stream",
     "text": [
      "BBB π=0.75 σ₁=1.4e-01 σ₂=2.5e-03:  78%|███████▊  | 470/600 [36:19<08:12,  3.79s/it]"
     ]
    },
    {
     "name": "stdout",
     "output_type": "stream",
     "text": [
      "  Epoca 470/600 | Train Loss=5.1223 | Train Acc=95.83% | Test Acc=97.30%\n"
     ]
    },
    {
     "name": "stderr",
     "output_type": "stream",
     "text": [
      "BBB π=0.75 σ₁=1.4e-01 σ₂=2.5e-03:  78%|███████▊  | 471/600 [36:22<08:05,  3.77s/it]"
     ]
    },
    {
     "name": "stdout",
     "output_type": "stream",
     "text": [
      "  Epoca 471/600 | Train Loss=5.1229 | Train Acc=95.93% | Test Acc=97.21%\n"
     ]
    },
    {
     "name": "stderr",
     "output_type": "stream",
     "text": [
      "BBB π=0.75 σ₁=1.4e-01 σ₂=2.5e-03:  79%|███████▊  | 472/600 [36:26<07:59,  3.75s/it]"
     ]
    },
    {
     "name": "stdout",
     "output_type": "stream",
     "text": [
      "  Epoca 472/600 | Train Loss=5.1217 | Train Acc=95.84% | Test Acc=97.41%\n"
     ]
    },
    {
     "name": "stderr",
     "output_type": "stream",
     "text": [
      "BBB π=0.75 σ₁=1.4e-01 σ₂=2.5e-03:  79%|███████▉  | 473/600 [36:30<07:54,  3.73s/it]"
     ]
    },
    {
     "name": "stdout",
     "output_type": "stream",
     "text": [
      "  Epoca 473/600 | Train Loss=5.1178 | Train Acc=95.96% | Test Acc=97.35%\n"
     ]
    },
    {
     "name": "stderr",
     "output_type": "stream",
     "text": [
      "BBB π=0.75 σ₁=1.4e-01 σ₂=2.5e-03:  79%|███████▉  | 474/600 [36:34<07:52,  3.75s/it]"
     ]
    },
    {
     "name": "stdout",
     "output_type": "stream",
     "text": [
      "  Epoca 474/600 | Train Loss=5.1212 | Train Acc=95.81% | Test Acc=97.56%\n"
     ]
    },
    {
     "name": "stderr",
     "output_type": "stream",
     "text": [
      "BBB π=0.75 σ₁=1.4e-01 σ₂=2.5e-03:  79%|███████▉  | 475/600 [36:37<07:46,  3.73s/it]"
     ]
    },
    {
     "name": "stdout",
     "output_type": "stream",
     "text": [
      "  Epoca 475/600 | Train Loss=5.1227 | Train Acc=95.76% | Test Acc=97.49%\n"
     ]
    },
    {
     "name": "stderr",
     "output_type": "stream",
     "text": [
      "BBB π=0.75 σ₁=1.4e-01 σ₂=2.5e-03:  79%|███████▉  | 476/600 [36:41<07:40,  3.71s/it]"
     ]
    },
    {
     "name": "stdout",
     "output_type": "stream",
     "text": [
      "  Epoca 476/600 | Train Loss=5.1213 | Train Acc=95.84% | Test Acc=97.48%\n"
     ]
    },
    {
     "name": "stderr",
     "output_type": "stream",
     "text": [
      "BBB π=0.75 σ₁=1.4e-01 σ₂=2.5e-03:  80%|███████▉  | 477/600 [36:45<07:54,  3.86s/it]"
     ]
    },
    {
     "name": "stdout",
     "output_type": "stream",
     "text": [
      "  Epoca 477/600 | Train Loss=5.1227 | Train Acc=95.75% | Test Acc=97.38%\n"
     ]
    },
    {
     "name": "stderr",
     "output_type": "stream",
     "text": [
      "BBB π=0.75 σ₁=1.4e-01 σ₂=2.5e-03:  80%|███████▉  | 478/600 [36:49<07:45,  3.82s/it]"
     ]
    },
    {
     "name": "stdout",
     "output_type": "stream",
     "text": [
      "  Epoca 478/600 | Train Loss=5.1246 | Train Acc=95.79% | Test Acc=97.37%\n"
     ]
    },
    {
     "name": "stderr",
     "output_type": "stream",
     "text": [
      "BBB π=0.75 σ₁=1.4e-01 σ₂=2.5e-03:  80%|███████▉  | 479/600 [36:53<07:39,  3.80s/it]"
     ]
    },
    {
     "name": "stdout",
     "output_type": "stream",
     "text": [
      "  Epoca 479/600 | Train Loss=5.1244 | Train Acc=95.83% | Test Acc=97.47%\n"
     ]
    },
    {
     "name": "stderr",
     "output_type": "stream",
     "text": [
      "BBB π=0.75 σ₁=1.4e-01 σ₂=2.5e-03:  80%|████████  | 480/600 [36:56<07:32,  3.77s/it]"
     ]
    },
    {
     "name": "stdout",
     "output_type": "stream",
     "text": [
      "  Epoca 480/600 | Train Loss=5.1219 | Train Acc=95.84% | Test Acc=97.48%\n"
     ]
    },
    {
     "name": "stderr",
     "output_type": "stream",
     "text": [
      "BBB π=0.75 σ₁=1.4e-01 σ₂=2.5e-03:  80%|████████  | 481/600 [37:00<07:27,  3.76s/it]"
     ]
    },
    {
     "name": "stdout",
     "output_type": "stream",
     "text": [
      "  Epoca 481/600 | Train Loss=5.1201 | Train Acc=96.05% | Test Acc=97.44%\n"
     ]
    },
    {
     "name": "stderr",
     "output_type": "stream",
     "text": [
      "BBB π=0.75 σ₁=1.4e-01 σ₂=2.5e-03:  80%|████████  | 482/600 [37:04<07:25,  3.77s/it]"
     ]
    },
    {
     "name": "stdout",
     "output_type": "stream",
     "text": [
      "  Epoca 482/600 | Train Loss=5.1227 | Train Acc=95.92% | Test Acc=97.48%\n"
     ]
    },
    {
     "name": "stderr",
     "output_type": "stream",
     "text": [
      "BBB π=0.75 σ₁=1.4e-01 σ₂=2.5e-03:  80%|████████  | 483/600 [37:07<07:17,  3.74s/it]"
     ]
    },
    {
     "name": "stdout",
     "output_type": "stream",
     "text": [
      "  Epoca 483/600 | Train Loss=5.1180 | Train Acc=95.84% | Test Acc=97.48%\n"
     ]
    },
    {
     "name": "stderr",
     "output_type": "stream",
     "text": [
      "BBB π=0.75 σ₁=1.4e-01 σ₂=2.5e-03:  81%|████████  | 484/600 [37:11<07:11,  3.72s/it]"
     ]
    },
    {
     "name": "stdout",
     "output_type": "stream",
     "text": [
      "  Epoca 484/600 | Train Loss=5.1270 | Train Acc=95.72% | Test Acc=97.38%\n"
     ]
    },
    {
     "name": "stderr",
     "output_type": "stream",
     "text": [
      "BBB π=0.75 σ₁=1.4e-01 σ₂=2.5e-03:  81%|████████  | 485/600 [37:15<07:16,  3.80s/it]"
     ]
    },
    {
     "name": "stdout",
     "output_type": "stream",
     "text": [
      "  Epoca 485/600 | Train Loss=5.1186 | Train Acc=95.95% | Test Acc=97.45%\n"
     ]
    },
    {
     "name": "stderr",
     "output_type": "stream",
     "text": [
      "BBB π=0.75 σ₁=1.4e-01 σ₂=2.5e-03:  81%|████████  | 486/600 [37:19<07:12,  3.79s/it]"
     ]
    },
    {
     "name": "stdout",
     "output_type": "stream",
     "text": [
      "  Epoca 486/600 | Train Loss=5.1184 | Train Acc=95.99% | Test Acc=97.47%\n"
     ]
    },
    {
     "name": "stderr",
     "output_type": "stream",
     "text": [
      "BBB π=0.75 σ₁=1.4e-01 σ₂=2.5e-03:  81%|████████  | 487/600 [37:23<07:06,  3.78s/it]"
     ]
    },
    {
     "name": "stdout",
     "output_type": "stream",
     "text": [
      "  Epoca 487/600 | Train Loss=5.1222 | Train Acc=95.86% | Test Acc=97.36%\n"
     ]
    },
    {
     "name": "stderr",
     "output_type": "stream",
     "text": [
      "BBB π=0.75 σ₁=1.4e-01 σ₂=2.5e-03:  81%|████████▏ | 488/600 [37:26<06:59,  3.74s/it]"
     ]
    },
    {
     "name": "stdout",
     "output_type": "stream",
     "text": [
      "  Epoca 488/600 | Train Loss=5.1196 | Train Acc=95.91% | Test Acc=97.43%\n"
     ]
    },
    {
     "name": "stderr",
     "output_type": "stream",
     "text": [
      "BBB π=0.75 σ₁=1.4e-01 σ₂=2.5e-03:  82%|████████▏ | 489/600 [37:30<06:55,  3.74s/it]"
     ]
    },
    {
     "name": "stdout",
     "output_type": "stream",
     "text": [
      "  Epoca 489/600 | Train Loss=5.1199 | Train Acc=95.94% | Test Acc=97.52%\n"
     ]
    },
    {
     "name": "stderr",
     "output_type": "stream",
     "text": [
      "BBB π=0.75 σ₁=1.4e-01 σ₂=2.5e-03:  82%|████████▏ | 490/600 [37:34<06:52,  3.75s/it]"
     ]
    },
    {
     "name": "stdout",
     "output_type": "stream",
     "text": [
      "  Epoca 490/600 | Train Loss=5.1193 | Train Acc=95.92% | Test Acc=97.55%\n"
     ]
    },
    {
     "name": "stderr",
     "output_type": "stream",
     "text": [
      "BBB π=0.75 σ₁=1.4e-01 σ₂=2.5e-03:  82%|████████▏ | 491/600 [37:37<06:45,  3.72s/it]"
     ]
    },
    {
     "name": "stdout",
     "output_type": "stream",
     "text": [
      "  Epoca 491/600 | Train Loss=5.1183 | Train Acc=95.92% | Test Acc=97.23%\n"
     ]
    },
    {
     "name": "stderr",
     "output_type": "stream",
     "text": [
      "BBB π=0.75 σ₁=1.4e-01 σ₂=2.5e-03:  82%|████████▏ | 492/600 [37:41<06:41,  3.71s/it]"
     ]
    },
    {
     "name": "stdout",
     "output_type": "stream",
     "text": [
      "  Epoca 492/600 | Train Loss=5.1182 | Train Acc=95.87% | Test Acc=97.39%\n"
     ]
    },
    {
     "name": "stderr",
     "output_type": "stream",
     "text": [
      "BBB π=0.75 σ₁=1.4e-01 σ₂=2.5e-03:  82%|████████▏ | 493/600 [37:45<06:36,  3.71s/it]"
     ]
    },
    {
     "name": "stdout",
     "output_type": "stream",
     "text": [
      "  Epoca 493/600 | Train Loss=5.1200 | Train Acc=95.74% | Test Acc=97.49%\n"
     ]
    },
    {
     "name": "stderr",
     "output_type": "stream",
     "text": [
      "BBB π=0.75 σ₁=1.4e-01 σ₂=2.5e-03:  82%|████████▏ | 494/600 [37:49<06:45,  3.83s/it]"
     ]
    },
    {
     "name": "stdout",
     "output_type": "stream",
     "text": [
      "  Epoca 494/600 | Train Loss=5.1146 | Train Acc=95.90% | Test Acc=97.53%\n"
     ]
    },
    {
     "name": "stderr",
     "output_type": "stream",
     "text": [
      "BBB π=0.75 σ₁=1.4e-01 σ₂=2.5e-03:  82%|████████▎ | 495/600 [37:53<06:38,  3.79s/it]"
     ]
    },
    {
     "name": "stdout",
     "output_type": "stream",
     "text": [
      "  Epoca 495/600 | Train Loss=5.1198 | Train Acc=95.90% | Test Acc=97.36%\n"
     ]
    },
    {
     "name": "stderr",
     "output_type": "stream",
     "text": [
      "BBB π=0.75 σ₁=1.4e-01 σ₂=2.5e-03:  83%|████████▎ | 496/600 [37:56<06:30,  3.76s/it]"
     ]
    },
    {
     "name": "stdout",
     "output_type": "stream",
     "text": [
      "  Epoca 496/600 | Train Loss=5.1227 | Train Acc=95.78% | Test Acc=97.51%\n"
     ]
    },
    {
     "name": "stderr",
     "output_type": "stream",
     "text": [
      "BBB π=0.75 σ₁=1.4e-01 σ₂=2.5e-03:  83%|████████▎ | 497/600 [38:00<06:23,  3.73s/it]"
     ]
    },
    {
     "name": "stdout",
     "output_type": "stream",
     "text": [
      "  Epoca 497/600 | Train Loss=5.1151 | Train Acc=95.89% | Test Acc=97.53%\n"
     ]
    },
    {
     "name": "stderr",
     "output_type": "stream",
     "text": [
      "BBB π=0.75 σ₁=1.4e-01 σ₂=2.5e-03:  83%|████████▎ | 498/600 [38:04<06:19,  3.72s/it]"
     ]
    },
    {
     "name": "stdout",
     "output_type": "stream",
     "text": [
      "  Epoca 498/600 | Train Loss=5.1196 | Train Acc=95.83% | Test Acc=97.38%\n"
     ]
    },
    {
     "name": "stderr",
     "output_type": "stream",
     "text": [
      "BBB π=0.75 σ₁=1.4e-01 σ₂=2.5e-03:  83%|████████▎ | 499/600 [38:07<06:15,  3.72s/it]"
     ]
    },
    {
     "name": "stdout",
     "output_type": "stream",
     "text": [
      "  Epoca 499/600 | Train Loss=5.1116 | Train Acc=96.06% | Test Acc=97.42%\n"
     ]
    },
    {
     "name": "stderr",
     "output_type": "stream",
     "text": [
      "BBB π=0.75 σ₁=1.4e-01 σ₂=2.5e-03:  83%|████████▎ | 500/600 [38:11<06:09,  3.70s/it]"
     ]
    },
    {
     "name": "stdout",
     "output_type": "stream",
     "text": [
      "  Epoca 500/600 | Train Loss=5.1170 | Train Acc=95.95% | Test Acc=97.51%\n"
     ]
    },
    {
     "name": "stderr",
     "output_type": "stream",
     "text": [
      "BBB π=0.75 σ₁=1.4e-01 σ₂=2.5e-03:  84%|████████▎ | 501/600 [38:15<06:07,  3.71s/it]"
     ]
    },
    {
     "name": "stdout",
     "output_type": "stream",
     "text": [
      "  Epoca 501/600 | Train Loss=5.1204 | Train Acc=95.88% | Test Acc=97.30%\n"
     ]
    },
    {
     "name": "stderr",
     "output_type": "stream",
     "text": [
      "BBB π=0.75 σ₁=1.4e-01 σ₂=2.5e-03:  84%|████████▎ | 502/600 [38:19<06:09,  3.77s/it]"
     ]
    },
    {
     "name": "stdout",
     "output_type": "stream",
     "text": [
      "  Epoca 502/600 | Train Loss=5.1199 | Train Acc=95.92% | Test Acc=97.32%\n"
     ]
    },
    {
     "name": "stderr",
     "output_type": "stream",
     "text": [
      "BBB π=0.75 σ₁=1.4e-01 σ₂=2.5e-03:  84%|████████▍ | 503/600 [38:23<06:08,  3.80s/it]"
     ]
    },
    {
     "name": "stdout",
     "output_type": "stream",
     "text": [
      "  Epoca 503/600 | Train Loss=5.1215 | Train Acc=95.86% | Test Acc=97.54%\n"
     ]
    },
    {
     "name": "stderr",
     "output_type": "stream",
     "text": [
      "BBB π=0.75 σ₁=1.4e-01 σ₂=2.5e-03:  84%|████████▍ | 504/600 [38:26<06:00,  3.76s/it]"
     ]
    },
    {
     "name": "stdout",
     "output_type": "stream",
     "text": [
      "  Epoca 504/600 | Train Loss=5.1169 | Train Acc=95.98% | Test Acc=97.51%\n"
     ]
    },
    {
     "name": "stderr",
     "output_type": "stream",
     "text": [
      "BBB π=0.75 σ₁=1.4e-01 σ₂=2.5e-03:  84%|████████▍ | 505/600 [38:30<05:54,  3.73s/it]"
     ]
    },
    {
     "name": "stdout",
     "output_type": "stream",
     "text": [
      "  Epoca 505/600 | Train Loss=5.1198 | Train Acc=95.85% | Test Acc=97.31%\n"
     ]
    },
    {
     "name": "stderr",
     "output_type": "stream",
     "text": [
      "BBB π=0.75 σ₁=1.4e-01 σ₂=2.5e-03:  84%|████████▍ | 506/600 [38:34<05:51,  3.74s/it]"
     ]
    },
    {
     "name": "stdout",
     "output_type": "stream",
     "text": [
      "  Epoca 506/600 | Train Loss=5.1176 | Train Acc=95.90% | Test Acc=97.49%\n"
     ]
    },
    {
     "name": "stderr",
     "output_type": "stream",
     "text": [
      "BBB π=0.75 σ₁=1.4e-01 σ₂=2.5e-03:  84%|████████▍ | 507/600 [38:37<05:45,  3.71s/it]"
     ]
    },
    {
     "name": "stdout",
     "output_type": "stream",
     "text": [
      "  Epoca 507/600 | Train Loss=5.1220 | Train Acc=95.80% | Test Acc=97.40%\n"
     ]
    },
    {
     "name": "stderr",
     "output_type": "stream",
     "text": [
      "BBB π=0.75 σ₁=1.4e-01 σ₂=2.5e-03:  85%|████████▍ | 508/600 [38:41<05:40,  3.70s/it]"
     ]
    },
    {
     "name": "stdout",
     "output_type": "stream",
     "text": [
      "  Epoca 508/600 | Train Loss=5.1187 | Train Acc=95.91% | Test Acc=97.48%\n"
     ]
    },
    {
     "name": "stderr",
     "output_type": "stream",
     "text": [
      "BBB π=0.75 σ₁=1.4e-01 σ₂=2.5e-03:  85%|████████▍ | 509/600 [38:45<05:36,  3.70s/it]"
     ]
    },
    {
     "name": "stdout",
     "output_type": "stream",
     "text": [
      "  Epoca 509/600 | Train Loss=5.1189 | Train Acc=95.85% | Test Acc=97.56%\n"
     ]
    },
    {
     "name": "stderr",
     "output_type": "stream",
     "text": [
      "BBB π=0.75 σ₁=1.4e-01 σ₂=2.5e-03:  85%|████████▌ | 510/600 [38:48<05:33,  3.71s/it]"
     ]
    },
    {
     "name": "stdout",
     "output_type": "stream",
     "text": [
      "  Epoca 510/600 | Train Loss=5.1205 | Train Acc=95.91% | Test Acc=97.65%\n"
     ]
    },
    {
     "name": "stderr",
     "output_type": "stream",
     "text": [
      "BBB π=0.75 σ₁=1.4e-01 σ₂=2.5e-03:  85%|████████▌ | 511/600 [38:53<05:42,  3.85s/it]"
     ]
    },
    {
     "name": "stdout",
     "output_type": "stream",
     "text": [
      "  Epoca 511/600 | Train Loss=5.1214 | Train Acc=95.81% | Test Acc=97.41%\n"
     ]
    },
    {
     "name": "stderr",
     "output_type": "stream",
     "text": [
      "BBB π=0.75 σ₁=1.4e-01 σ₂=2.5e-03:  85%|████████▌ | 512/600 [38:56<05:35,  3.81s/it]"
     ]
    },
    {
     "name": "stdout",
     "output_type": "stream",
     "text": [
      "  Epoca 512/600 | Train Loss=5.1173 | Train Acc=96.03% | Test Acc=97.35%\n"
     ]
    },
    {
     "name": "stderr",
     "output_type": "stream",
     "text": [
      "BBB π=0.75 σ₁=1.4e-01 σ₂=2.5e-03:  86%|████████▌ | 513/600 [39:00<05:28,  3.77s/it]"
     ]
    },
    {
     "name": "stdout",
     "output_type": "stream",
     "text": [
      "  Epoca 513/600 | Train Loss=5.1218 | Train Acc=95.85% | Test Acc=97.53%\n"
     ]
    },
    {
     "name": "stderr",
     "output_type": "stream",
     "text": [
      "BBB π=0.75 σ₁=1.4e-01 σ₂=2.5e-03:  86%|████████▌ | 514/600 [39:04<05:23,  3.77s/it]"
     ]
    },
    {
     "name": "stdout",
     "output_type": "stream",
     "text": [
      "  Epoca 514/600 | Train Loss=5.1178 | Train Acc=95.94% | Test Acc=97.49%\n"
     ]
    },
    {
     "name": "stderr",
     "output_type": "stream",
     "text": [
      "BBB π=0.75 σ₁=1.4e-01 σ₂=2.5e-03:  86%|████████▌ | 515/600 [39:07<05:17,  3.74s/it]"
     ]
    },
    {
     "name": "stdout",
     "output_type": "stream",
     "text": [
      "  Epoca 515/600 | Train Loss=5.1227 | Train Acc=95.72% | Test Acc=97.35%\n"
     ]
    },
    {
     "name": "stderr",
     "output_type": "stream",
     "text": [
      "BBB π=0.75 σ₁=1.4e-01 σ₂=2.5e-03:  86%|████████▌ | 516/600 [39:11<05:14,  3.74s/it]"
     ]
    },
    {
     "name": "stdout",
     "output_type": "stream",
     "text": [
      "  Epoca 516/600 | Train Loss=5.1236 | Train Acc=95.77% | Test Acc=97.49%\n"
     ]
    },
    {
     "name": "stderr",
     "output_type": "stream",
     "text": [
      "BBB π=0.75 σ₁=1.4e-01 σ₂=2.5e-03:  86%|████████▌ | 517/600 [39:15<05:11,  3.75s/it]"
     ]
    },
    {
     "name": "stdout",
     "output_type": "stream",
     "text": [
      "  Epoca 517/600 | Train Loss=5.1221 | Train Acc=95.95% | Test Acc=97.53%\n"
     ]
    },
    {
     "name": "stderr",
     "output_type": "stream",
     "text": [
      "BBB π=0.75 σ₁=1.4e-01 σ₂=2.5e-03:  86%|████████▋ | 518/600 [39:19<05:08,  3.76s/it]"
     ]
    },
    {
     "name": "stdout",
     "output_type": "stream",
     "text": [
      "  Epoca 518/600 | Train Loss=5.1209 | Train Acc=95.79% | Test Acc=97.58%\n"
     ]
    },
    {
     "name": "stderr",
     "output_type": "stream",
     "text": [
      "BBB π=0.75 σ₁=1.4e-01 σ₂=2.5e-03:  86%|████████▋ | 519/600 [39:23<05:09,  3.82s/it]"
     ]
    },
    {
     "name": "stdout",
     "output_type": "stream",
     "text": [
      "  Epoca 519/600 | Train Loss=5.1228 | Train Acc=95.86% | Test Acc=97.56%\n"
     ]
    },
    {
     "name": "stderr",
     "output_type": "stream",
     "text": [
      "BBB π=0.75 σ₁=1.4e-01 σ₂=2.5e-03:  87%|████████▋ | 520/600 [39:27<05:07,  3.85s/it]"
     ]
    },
    {
     "name": "stdout",
     "output_type": "stream",
     "text": [
      "  Epoca 520/600 | Train Loss=5.1192 | Train Acc=95.91% | Test Acc=97.54%\n"
     ]
    },
    {
     "name": "stderr",
     "output_type": "stream",
     "text": [
      "BBB π=0.75 σ₁=1.4e-01 σ₂=2.5e-03:  87%|████████▋ | 521/600 [39:30<05:01,  3.82s/it]"
     ]
    },
    {
     "name": "stdout",
     "output_type": "stream",
     "text": [
      "  Epoca 521/600 | Train Loss=5.1146 | Train Acc=96.00% | Test Acc=97.37%\n"
     ]
    },
    {
     "name": "stderr",
     "output_type": "stream",
     "text": [
      "BBB π=0.75 σ₁=1.4e-01 σ₂=2.5e-03:  87%|████████▋ | 522/600 [39:34<04:59,  3.84s/it]"
     ]
    },
    {
     "name": "stdout",
     "output_type": "stream",
     "text": [
      "  Epoca 522/600 | Train Loss=5.1220 | Train Acc=95.79% | Test Acc=97.42%\n"
     ]
    },
    {
     "name": "stderr",
     "output_type": "stream",
     "text": [
      "BBB π=0.75 σ₁=1.4e-01 σ₂=2.5e-03:  87%|████████▋ | 523/600 [39:38<04:54,  3.82s/it]"
     ]
    },
    {
     "name": "stdout",
     "output_type": "stream",
     "text": [
      "  Epoca 523/600 | Train Loss=5.1192 | Train Acc=95.83% | Test Acc=97.58%\n"
     ]
    },
    {
     "name": "stderr",
     "output_type": "stream",
     "text": [
      "BBB π=0.75 σ₁=1.4e-01 σ₂=2.5e-03:  87%|████████▋ | 524/600 [39:42<04:49,  3.81s/it]"
     ]
    },
    {
     "name": "stdout",
     "output_type": "stream",
     "text": [
      "  Epoca 524/600 | Train Loss=5.1169 | Train Acc=95.97% | Test Acc=97.49%\n"
     ]
    },
    {
     "name": "stderr",
     "output_type": "stream",
     "text": [
      "BBB π=0.75 σ₁=1.4e-01 σ₂=2.5e-03:  88%|████████▊ | 525/600 [39:46<04:44,  3.79s/it]"
     ]
    },
    {
     "name": "stdout",
     "output_type": "stream",
     "text": [
      "  Epoca 525/600 | Train Loss=5.1143 | Train Acc=96.05% | Test Acc=97.65%\n"
     ]
    },
    {
     "name": "stderr",
     "output_type": "stream",
     "text": [
      "BBB π=0.75 σ₁=1.4e-01 σ₂=2.5e-03:  88%|████████▊ | 526/600 [39:49<04:38,  3.76s/it]"
     ]
    },
    {
     "name": "stdout",
     "output_type": "stream",
     "text": [
      "  Epoca 526/600 | Train Loss=5.1144 | Train Acc=96.10% | Test Acc=97.48%\n"
     ]
    },
    {
     "name": "stderr",
     "output_type": "stream",
     "text": [
      "BBB π=0.75 σ₁=1.4e-01 σ₂=2.5e-03:  88%|████████▊ | 527/600 [39:53<04:33,  3.75s/it]"
     ]
    },
    {
     "name": "stdout",
     "output_type": "stream",
     "text": [
      "  Epoca 527/600 | Train Loss=5.1191 | Train Acc=95.89% | Test Acc=97.23%\n"
     ]
    },
    {
     "name": "stderr",
     "output_type": "stream",
     "text": [
      "BBB π=0.75 σ₁=1.4e-01 σ₂=2.5e-03:  88%|████████▊ | 528/600 [39:57<04:38,  3.86s/it]"
     ]
    },
    {
     "name": "stdout",
     "output_type": "stream",
     "text": [
      "  Epoca 528/600 | Train Loss=5.1223 | Train Acc=95.84% | Test Acc=97.69%\n"
     ]
    },
    {
     "name": "stderr",
     "output_type": "stream",
     "text": [
      "BBB π=0.75 σ₁=1.4e-01 σ₂=2.5e-03:  88%|████████▊ | 529/600 [40:01<04:30,  3.81s/it]"
     ]
    },
    {
     "name": "stdout",
     "output_type": "stream",
     "text": [
      "  Epoca 529/600 | Train Loss=5.1210 | Train Acc=95.79% | Test Acc=97.45%\n"
     ]
    },
    {
     "name": "stderr",
     "output_type": "stream",
     "text": [
      "BBB π=0.75 σ₁=1.4e-01 σ₂=2.5e-03:  88%|████████▊ | 530/600 [40:04<04:24,  3.78s/it]"
     ]
    },
    {
     "name": "stdout",
     "output_type": "stream",
     "text": [
      "  Epoca 530/600 | Train Loss=5.1187 | Train Acc=95.92% | Test Acc=97.51%\n"
     ]
    },
    {
     "name": "stderr",
     "output_type": "stream",
     "text": [
      "BBB π=0.75 σ₁=1.4e-01 σ₂=2.5e-03:  88%|████████▊ | 531/600 [40:08<04:19,  3.76s/it]"
     ]
    },
    {
     "name": "stdout",
     "output_type": "stream",
     "text": [
      "  Epoca 531/600 | Train Loss=5.1188 | Train Acc=95.88% | Test Acc=97.43%\n"
     ]
    },
    {
     "name": "stderr",
     "output_type": "stream",
     "text": [
      "BBB π=0.75 σ₁=1.4e-01 σ₂=2.5e-03:  89%|████████▊ | 532/600 [40:12<04:13,  3.73s/it]"
     ]
    },
    {
     "name": "stdout",
     "output_type": "stream",
     "text": [
      "  Epoca 532/600 | Train Loss=5.1165 | Train Acc=95.92% | Test Acc=97.48%\n"
     ]
    },
    {
     "name": "stderr",
     "output_type": "stream",
     "text": [
      "BBB π=0.75 σ₁=1.4e-01 σ₂=2.5e-03:  89%|████████▉ | 533/600 [40:16<04:08,  3.71s/it]"
     ]
    },
    {
     "name": "stdout",
     "output_type": "stream",
     "text": [
      "  Epoca 533/600 | Train Loss=5.1175 | Train Acc=95.97% | Test Acc=97.61%\n"
     ]
    },
    {
     "name": "stderr",
     "output_type": "stream",
     "text": [
      "BBB π=0.75 σ₁=1.4e-01 σ₂=2.5e-03:  89%|████████▉ | 534/600 [40:19<04:04,  3.71s/it]"
     ]
    },
    {
     "name": "stdout",
     "output_type": "stream",
     "text": [
      "  Epoca 534/600 | Train Loss=5.1130 | Train Acc=96.08% | Test Acc=97.54%\n"
     ]
    },
    {
     "name": "stderr",
     "output_type": "stream",
     "text": [
      "BBB π=0.75 σ₁=1.4e-01 σ₂=2.5e-03:  89%|████████▉ | 535/600 [40:23<04:01,  3.71s/it]"
     ]
    },
    {
     "name": "stdout",
     "output_type": "stream",
     "text": [
      "  Epoca 535/600 | Train Loss=5.1187 | Train Acc=95.74% | Test Acc=97.41%\n"
     ]
    },
    {
     "name": "stderr",
     "output_type": "stream",
     "text": [
      "BBB π=0.75 σ₁=1.4e-01 σ₂=2.5e-03:  89%|████████▉ | 536/600 [40:27<04:01,  3.77s/it]"
     ]
    },
    {
     "name": "stdout",
     "output_type": "stream",
     "text": [
      "  Epoca 536/600 | Train Loss=5.1178 | Train Acc=95.85% | Test Acc=97.60%\n"
     ]
    },
    {
     "name": "stderr",
     "output_type": "stream",
     "text": [
      "BBB π=0.75 σ₁=1.4e-01 σ₂=2.5e-03:  90%|████████▉ | 537/600 [40:31<03:58,  3.78s/it]"
     ]
    },
    {
     "name": "stdout",
     "output_type": "stream",
     "text": [
      "  Epoca 537/600 | Train Loss=5.1166 | Train Acc=95.90% | Test Acc=97.39%\n"
     ]
    },
    {
     "name": "stderr",
     "output_type": "stream",
     "text": [
      "BBB π=0.75 σ₁=1.4e-01 σ₂=2.5e-03:  90%|████████▉ | 538/600 [40:34<03:52,  3.76s/it]"
     ]
    },
    {
     "name": "stdout",
     "output_type": "stream",
     "text": [
      "  Epoca 538/600 | Train Loss=5.1138 | Train Acc=96.00% | Test Acc=97.47%\n"
     ]
    },
    {
     "name": "stderr",
     "output_type": "stream",
     "text": [
      "BBB π=0.75 σ₁=1.4e-01 σ₂=2.5e-03:  90%|████████▉ | 539/600 [40:38<03:47,  3.73s/it]"
     ]
    },
    {
     "name": "stdout",
     "output_type": "stream",
     "text": [
      "  Epoca 539/600 | Train Loss=5.1171 | Train Acc=95.86% | Test Acc=97.50%\n"
     ]
    },
    {
     "name": "stderr",
     "output_type": "stream",
     "text": [
      "BBB π=0.75 σ₁=1.4e-01 σ₂=2.5e-03:  90%|█████████ | 540/600 [40:42<03:43,  3.72s/it]"
     ]
    },
    {
     "name": "stdout",
     "output_type": "stream",
     "text": [
      "  Epoca 540/600 | Train Loss=5.1216 | Train Acc=95.90% | Test Acc=97.34%\n"
     ]
    },
    {
     "name": "stderr",
     "output_type": "stream",
     "text": [
      "BBB π=0.75 σ₁=1.4e-01 σ₂=2.5e-03:  90%|█████████ | 541/600 [40:45<03:38,  3.70s/it]"
     ]
    },
    {
     "name": "stdout",
     "output_type": "stream",
     "text": [
      "  Epoca 541/600 | Train Loss=5.1236 | Train Acc=95.77% | Test Acc=97.50%\n"
     ]
    },
    {
     "name": "stderr",
     "output_type": "stream",
     "text": [
      "BBB π=0.75 σ₁=1.4e-01 σ₂=2.5e-03:  90%|█████████ | 542/600 [40:49<03:33,  3.68s/it]"
     ]
    },
    {
     "name": "stdout",
     "output_type": "stream",
     "text": [
      "  Epoca 542/600 | Train Loss=5.1150 | Train Acc=95.99% | Test Acc=97.36%\n"
     ]
    },
    {
     "name": "stderr",
     "output_type": "stream",
     "text": [
      "BBB π=0.75 σ₁=1.4e-01 σ₂=2.5e-03:  90%|█████████ | 543/600 [40:53<03:30,  3.69s/it]"
     ]
    },
    {
     "name": "stdout",
     "output_type": "stream",
     "text": [
      "  Epoca 543/600 | Train Loss=5.1131 | Train Acc=95.96% | Test Acc=97.43%\n"
     ]
    },
    {
     "name": "stderr",
     "output_type": "stream",
     "text": [
      "BBB π=0.75 σ₁=1.4e-01 σ₂=2.5e-03:  91%|█████████ | 544/600 [40:57<03:28,  3.72s/it]"
     ]
    },
    {
     "name": "stdout",
     "output_type": "stream",
     "text": [
      "  Epoca 544/600 | Train Loss=5.1151 | Train Acc=95.93% | Test Acc=97.59%\n"
     ]
    },
    {
     "name": "stderr",
     "output_type": "stream",
     "text": [
      "BBB π=0.75 σ₁=1.4e-01 σ₂=2.5e-03:  91%|█████████ | 545/600 [41:01<03:32,  3.87s/it]"
     ]
    },
    {
     "name": "stdout",
     "output_type": "stream",
     "text": [
      "  Epoca 545/600 | Train Loss=5.1192 | Train Acc=95.97% | Test Acc=97.54%\n"
     ]
    },
    {
     "name": "stderr",
     "output_type": "stream",
     "text": [
      "BBB π=0.75 σ₁=1.4e-01 σ₂=2.5e-03:  91%|█████████ | 546/600 [41:05<03:27,  3.85s/it]"
     ]
    },
    {
     "name": "stdout",
     "output_type": "stream",
     "text": [
      "  Epoca 546/600 | Train Loss=5.1179 | Train Acc=95.99% | Test Acc=97.43%\n"
     ]
    },
    {
     "name": "stderr",
     "output_type": "stream",
     "text": [
      "BBB π=0.75 σ₁=1.4e-01 σ₂=2.5e-03:  91%|█████████ | 547/600 [41:08<03:24,  3.86s/it]"
     ]
    },
    {
     "name": "stdout",
     "output_type": "stream",
     "text": [
      "  Epoca 547/600 | Train Loss=5.1160 | Train Acc=96.07% | Test Acc=97.54%\n"
     ]
    },
    {
     "name": "stderr",
     "output_type": "stream",
     "text": [
      "BBB π=0.75 σ₁=1.4e-01 σ₂=2.5e-03:  91%|█████████▏| 548/600 [41:13<03:37,  4.18s/it]"
     ]
    },
    {
     "name": "stdout",
     "output_type": "stream",
     "text": [
      "  Epoca 548/600 | Train Loss=5.1140 | Train Acc=95.97% | Test Acc=97.62%\n"
     ]
    },
    {
     "name": "stderr",
     "output_type": "stream",
     "text": [
      "BBB π=0.75 σ₁=1.4e-01 σ₂=2.5e-03:  92%|█████████▏| 549/600 [41:18<03:34,  4.20s/it]"
     ]
    },
    {
     "name": "stdout",
     "output_type": "stream",
     "text": [
      "  Epoca 549/600 | Train Loss=5.1147 | Train Acc=95.99% | Test Acc=97.38%\n"
     ]
    },
    {
     "name": "stderr",
     "output_type": "stream",
     "text": [
      "BBB π=0.75 σ₁=1.4e-01 σ₂=2.5e-03:  92%|█████████▏| 550/600 [41:22<03:27,  4.16s/it]"
     ]
    },
    {
     "name": "stdout",
     "output_type": "stream",
     "text": [
      "  Epoca 550/600 | Train Loss=5.1139 | Train Acc=96.03% | Test Acc=97.42%\n"
     ]
    },
    {
     "name": "stderr",
     "output_type": "stream",
     "text": [
      "BBB π=0.75 σ₁=1.4e-01 σ₂=2.5e-03:  92%|█████████▏| 551/600 [41:26<03:25,  4.19s/it]"
     ]
    },
    {
     "name": "stdout",
     "output_type": "stream",
     "text": [
      "  Epoca 551/600 | Train Loss=5.1169 | Train Acc=95.88% | Test Acc=97.45%\n"
     ]
    },
    {
     "name": "stderr",
     "output_type": "stream",
     "text": [
      "BBB π=0.75 σ₁=1.4e-01 σ₂=2.5e-03:  92%|█████████▏| 552/600 [41:30<03:20,  4.18s/it]"
     ]
    },
    {
     "name": "stdout",
     "output_type": "stream",
     "text": [
      "  Epoca 552/600 | Train Loss=5.1205 | Train Acc=95.88% | Test Acc=97.35%\n"
     ]
    },
    {
     "name": "stderr",
     "output_type": "stream",
     "text": [
      "BBB π=0.75 σ₁=1.4e-01 σ₂=2.5e-03:  92%|█████████▏| 553/600 [41:35<03:19,  4.25s/it]"
     ]
    },
    {
     "name": "stdout",
     "output_type": "stream",
     "text": [
      "  Epoca 553/600 | Train Loss=5.1154 | Train Acc=96.13% | Test Acc=97.44%\n"
     ]
    },
    {
     "name": "stderr",
     "output_type": "stream",
     "text": [
      "BBB π=0.75 σ₁=1.4e-01 σ₂=2.5e-03:  92%|█████████▏| 554/600 [41:39<03:14,  4.23s/it]"
     ]
    },
    {
     "name": "stdout",
     "output_type": "stream",
     "text": [
      "  Epoca 554/600 | Train Loss=5.1144 | Train Acc=95.91% | Test Acc=97.38%\n"
     ]
    },
    {
     "name": "stderr",
     "output_type": "stream",
     "text": [
      "BBB π=0.75 σ₁=1.4e-01 σ₂=2.5e-03:  92%|█████████▎| 555/600 [41:43<03:12,  4.27s/it]"
     ]
    },
    {
     "name": "stdout",
     "output_type": "stream",
     "text": [
      "  Epoca 555/600 | Train Loss=5.1184 | Train Acc=95.88% | Test Acc=97.49%\n"
     ]
    },
    {
     "name": "stderr",
     "output_type": "stream",
     "text": [
      "BBB π=0.75 σ₁=1.4e-01 σ₂=2.5e-03:  93%|█████████▎| 556/600 [41:47<03:08,  4.29s/it]"
     ]
    },
    {
     "name": "stdout",
     "output_type": "stream",
     "text": [
      "  Epoca 556/600 | Train Loss=5.1156 | Train Acc=95.99% | Test Acc=97.29%\n"
     ]
    },
    {
     "name": "stderr",
     "output_type": "stream",
     "text": [
      "BBB π=0.75 σ₁=1.4e-01 σ₂=2.5e-03:  93%|█████████▎| 557/600 [41:52<03:06,  4.33s/it]"
     ]
    },
    {
     "name": "stdout",
     "output_type": "stream",
     "text": [
      "  Epoca 557/600 | Train Loss=5.1173 | Train Acc=95.97% | Test Acc=97.51%\n"
     ]
    },
    {
     "name": "stderr",
     "output_type": "stream",
     "text": [
      "BBB π=0.75 σ₁=1.4e-01 σ₂=2.5e-03:  93%|█████████▎| 558/600 [41:56<03:02,  4.35s/it]"
     ]
    },
    {
     "name": "stdout",
     "output_type": "stream",
     "text": [
      "  Epoca 558/600 | Train Loss=5.1141 | Train Acc=95.86% | Test Acc=97.69%\n"
     ]
    },
    {
     "name": "stderr",
     "output_type": "stream",
     "text": [
      "BBB π=0.75 σ₁=1.4e-01 σ₂=2.5e-03:  93%|█████████▎| 559/600 [42:01<02:58,  4.36s/it]"
     ]
    },
    {
     "name": "stdout",
     "output_type": "stream",
     "text": [
      "  Epoca 559/600 | Train Loss=5.1187 | Train Acc=95.86% | Test Acc=97.49%\n"
     ]
    },
    {
     "name": "stderr",
     "output_type": "stream",
     "text": [
      "BBB π=0.75 σ₁=1.4e-01 σ₂=2.5e-03:  93%|█████████▎| 560/600 [42:05<03:00,  4.52s/it]"
     ]
    },
    {
     "name": "stdout",
     "output_type": "stream",
     "text": [
      "  Epoca 560/600 | Train Loss=5.1186 | Train Acc=95.91% | Test Acc=97.38%\n"
     ]
    },
    {
     "name": "stderr",
     "output_type": "stream",
     "text": [
      "BBB π=0.75 σ₁=1.4e-01 σ₂=2.5e-03:  94%|█████████▎| 561/600 [42:10<02:53,  4.46s/it]"
     ]
    },
    {
     "name": "stdout",
     "output_type": "stream",
     "text": [
      "  Epoca 561/600 | Train Loss=5.1192 | Train Acc=95.88% | Test Acc=97.39%\n"
     ]
    },
    {
     "name": "stderr",
     "output_type": "stream",
     "text": [
      "BBB π=0.75 σ₁=1.4e-01 σ₂=2.5e-03:  94%|█████████▎| 562/600 [42:14<02:47,  4.42s/it]"
     ]
    },
    {
     "name": "stdout",
     "output_type": "stream",
     "text": [
      "  Epoca 562/600 | Train Loss=5.1212 | Train Acc=95.78% | Test Acc=97.55%\n"
     ]
    },
    {
     "name": "stderr",
     "output_type": "stream",
     "text": [
      "BBB π=0.75 σ₁=1.4e-01 σ₂=2.5e-03:  94%|█████████▍| 563/600 [42:18<02:41,  4.37s/it]"
     ]
    },
    {
     "name": "stdout",
     "output_type": "stream",
     "text": [
      "  Epoca 563/600 | Train Loss=5.1173 | Train Acc=95.91% | Test Acc=97.46%\n"
     ]
    },
    {
     "name": "stderr",
     "output_type": "stream",
     "text": [
      "BBB π=0.75 σ₁=1.4e-01 σ₂=2.5e-03:  94%|█████████▍| 564/600 [42:23<02:37,  4.36s/it]"
     ]
    },
    {
     "name": "stdout",
     "output_type": "stream",
     "text": [
      "  Epoca 564/600 | Train Loss=5.1172 | Train Acc=95.94% | Test Acc=97.37%\n"
     ]
    },
    {
     "name": "stderr",
     "output_type": "stream",
     "text": [
      "BBB π=0.75 σ₁=1.4e-01 σ₂=2.5e-03:  94%|█████████▍| 565/600 [42:27<02:31,  4.34s/it]"
     ]
    },
    {
     "name": "stdout",
     "output_type": "stream",
     "text": [
      "  Epoca 565/600 | Train Loss=5.1196 | Train Acc=95.78% | Test Acc=97.61%\n"
     ]
    },
    {
     "name": "stderr",
     "output_type": "stream",
     "text": [
      "BBB π=0.75 σ₁=1.4e-01 σ₂=2.5e-03:  94%|█████████▍| 566/600 [42:31<02:27,  4.35s/it]"
     ]
    },
    {
     "name": "stdout",
     "output_type": "stream",
     "text": [
      "  Epoca 566/600 | Train Loss=5.1154 | Train Acc=95.91% | Test Acc=97.32%\n"
     ]
    },
    {
     "name": "stderr",
     "output_type": "stream",
     "text": [
      "BBB π=0.75 σ₁=1.4e-01 σ₂=2.5e-03:  94%|█████████▍| 567/600 [42:36<02:26,  4.44s/it]"
     ]
    },
    {
     "name": "stdout",
     "output_type": "stream",
     "text": [
      "  Epoca 567/600 | Train Loss=5.1159 | Train Acc=95.90% | Test Acc=97.28%\n"
     ]
    },
    {
     "name": "stderr",
     "output_type": "stream",
     "text": [
      "BBB π=0.75 σ₁=1.4e-01 σ₂=2.5e-03:  95%|█████████▍| 568/600 [42:41<02:22,  4.45s/it]"
     ]
    },
    {
     "name": "stdout",
     "output_type": "stream",
     "text": [
      "  Epoca 568/600 | Train Loss=5.1103 | Train Acc=95.97% | Test Acc=97.47%\n"
     ]
    },
    {
     "name": "stderr",
     "output_type": "stream",
     "text": [
      "BBB π=0.75 σ₁=1.4e-01 σ₂=2.5e-03:  95%|█████████▍| 569/600 [42:45<02:17,  4.43s/it]"
     ]
    },
    {
     "name": "stdout",
     "output_type": "stream",
     "text": [
      "  Epoca 569/600 | Train Loss=5.1180 | Train Acc=95.91% | Test Acc=97.24%\n"
     ]
    },
    {
     "name": "stderr",
     "output_type": "stream",
     "text": [
      "BBB π=0.75 σ₁=1.4e-01 σ₂=2.5e-03:  95%|█████████▌| 570/600 [42:49<02:12,  4.40s/it]"
     ]
    },
    {
     "name": "stdout",
     "output_type": "stream",
     "text": [
      "  Epoca 570/600 | Train Loss=5.1143 | Train Acc=95.98% | Test Acc=97.47%\n"
     ]
    },
    {
     "name": "stderr",
     "output_type": "stream",
     "text": [
      "BBB π=0.75 σ₁=1.4e-01 σ₂=2.5e-03:  95%|█████████▌| 571/600 [42:54<02:08,  4.42s/it]"
     ]
    },
    {
     "name": "stdout",
     "output_type": "stream",
     "text": [
      "  Epoca 571/600 | Train Loss=5.1133 | Train Acc=95.96% | Test Acc=97.38%\n"
     ]
    },
    {
     "name": "stderr",
     "output_type": "stream",
     "text": [
      "BBB π=0.75 σ₁=1.4e-01 σ₂=2.5e-03:  95%|█████████▌| 572/600 [42:58<02:02,  4.39s/it]"
     ]
    },
    {
     "name": "stdout",
     "output_type": "stream",
     "text": [
      "  Epoca 572/600 | Train Loss=5.1168 | Train Acc=95.91% | Test Acc=97.60%\n"
     ]
    },
    {
     "name": "stderr",
     "output_type": "stream",
     "text": [
      "BBB π=0.75 σ₁=1.4e-01 σ₂=2.5e-03:  96%|█████████▌| 573/600 [43:02<01:57,  4.37s/it]"
     ]
    },
    {
     "name": "stdout",
     "output_type": "stream",
     "text": [
      "  Epoca 573/600 | Train Loss=5.1166 | Train Acc=95.80% | Test Acc=97.40%\n"
     ]
    },
    {
     "name": "stderr",
     "output_type": "stream",
     "text": [
      "BBB π=0.75 σ₁=1.4e-01 σ₂=2.5e-03:  96%|█████████▌| 574/600 [43:07<01:53,  4.35s/it]"
     ]
    },
    {
     "name": "stdout",
     "output_type": "stream",
     "text": [
      "  Epoca 574/600 | Train Loss=5.1176 | Train Acc=95.82% | Test Acc=97.62%\n"
     ]
    },
    {
     "name": "stderr",
     "output_type": "stream",
     "text": [
      "BBB π=0.75 σ₁=1.4e-01 σ₂=2.5e-03:  96%|█████████▌| 575/600 [43:12<01:53,  4.52s/it]"
     ]
    },
    {
     "name": "stdout",
     "output_type": "stream",
     "text": [
      "  Epoca 575/600 | Train Loss=5.1176 | Train Acc=95.99% | Test Acc=97.42%\n"
     ]
    },
    {
     "name": "stderr",
     "output_type": "stream",
     "text": [
      "BBB π=0.75 σ₁=1.4e-01 σ₂=2.5e-03:  96%|█████████▌| 576/600 [43:16<01:47,  4.49s/it]"
     ]
    },
    {
     "name": "stdout",
     "output_type": "stream",
     "text": [
      "  Epoca 576/600 | Train Loss=5.1142 | Train Acc=95.99% | Test Acc=97.47%\n"
     ]
    },
    {
     "name": "stderr",
     "output_type": "stream",
     "text": [
      "BBB π=0.75 σ₁=1.4e-01 σ₂=2.5e-03:  96%|█████████▌| 577/600 [43:20<01:42,  4.47s/it]"
     ]
    },
    {
     "name": "stdout",
     "output_type": "stream",
     "text": [
      "  Epoca 577/600 | Train Loss=5.1140 | Train Acc=95.89% | Test Acc=97.36%\n"
     ]
    },
    {
     "name": "stderr",
     "output_type": "stream",
     "text": [
      "BBB π=0.75 σ₁=1.4e-01 σ₂=2.5e-03:  96%|█████████▋| 578/600 [43:25<01:38,  4.47s/it]"
     ]
    },
    {
     "name": "stdout",
     "output_type": "stream",
     "text": [
      "  Epoca 578/600 | Train Loss=5.1212 | Train Acc=95.70% | Test Acc=97.64%\n"
     ]
    },
    {
     "name": "stderr",
     "output_type": "stream",
     "text": [
      "BBB π=0.75 σ₁=1.4e-01 σ₂=2.5e-03:  96%|█████████▋| 579/600 [43:29<01:33,  4.44s/it]"
     ]
    },
    {
     "name": "stdout",
     "output_type": "stream",
     "text": [
      "  Epoca 579/600 | Train Loss=5.1168 | Train Acc=95.86% | Test Acc=97.26%\n"
     ]
    },
    {
     "name": "stderr",
     "output_type": "stream",
     "text": [
      "BBB π=0.75 σ₁=1.4e-01 σ₂=2.5e-03:  97%|█████████▋| 580/600 [43:34<01:28,  4.44s/it]"
     ]
    },
    {
     "name": "stdout",
     "output_type": "stream",
     "text": [
      "  Epoca 580/600 | Train Loss=5.1179 | Train Acc=95.88% | Test Acc=97.47%\n"
     ]
    },
    {
     "name": "stderr",
     "output_type": "stream",
     "text": [
      "BBB π=0.75 σ₁=1.4e-01 σ₂=2.5e-03:  97%|█████████▋| 581/600 [43:38<01:23,  4.41s/it]"
     ]
    },
    {
     "name": "stdout",
     "output_type": "stream",
     "text": [
      "  Epoca 581/600 | Train Loss=5.1179 | Train Acc=95.87% | Test Acc=97.53%\n"
     ]
    },
    {
     "name": "stderr",
     "output_type": "stream",
     "text": [
      "BBB π=0.75 σ₁=1.4e-01 σ₂=2.5e-03:  97%|█████████▋| 582/600 [43:43<01:21,  4.53s/it]"
     ]
    },
    {
     "name": "stdout",
     "output_type": "stream",
     "text": [
      "  Epoca 582/600 | Train Loss=5.1184 | Train Acc=95.85% | Test Acc=97.46%\n"
     ]
    },
    {
     "name": "stderr",
     "output_type": "stream",
     "text": [
      "BBB π=0.75 σ₁=1.4e-01 σ₂=2.5e-03:  97%|█████████▋| 583/600 [43:47<01:16,  4.48s/it]"
     ]
    },
    {
     "name": "stdout",
     "output_type": "stream",
     "text": [
      "  Epoca 583/600 | Train Loss=5.1147 | Train Acc=95.96% | Test Acc=97.53%\n"
     ]
    },
    {
     "name": "stderr",
     "output_type": "stream",
     "text": [
      "BBB π=0.75 σ₁=1.4e-01 σ₂=2.5e-03:  97%|█████████▋| 584/600 [43:52<01:10,  4.43s/it]"
     ]
    },
    {
     "name": "stdout",
     "output_type": "stream",
     "text": [
      "  Epoca 584/600 | Train Loss=5.1124 | Train Acc=95.98% | Test Acc=97.40%\n"
     ]
    },
    {
     "name": "stderr",
     "output_type": "stream",
     "text": [
      "BBB π=0.75 σ₁=1.4e-01 σ₂=2.5e-03:  98%|█████████▊| 585/600 [43:56<01:05,  4.37s/it]"
     ]
    },
    {
     "name": "stdout",
     "output_type": "stream",
     "text": [
      "  Epoca 585/600 | Train Loss=5.1176 | Train Acc=95.87% | Test Acc=97.50%\n"
     ]
    },
    {
     "name": "stderr",
     "output_type": "stream",
     "text": [
      "BBB π=0.75 σ₁=1.4e-01 σ₂=2.5e-03:  98%|█████████▊| 586/600 [44:00<01:00,  4.30s/it]"
     ]
    },
    {
     "name": "stdout",
     "output_type": "stream",
     "text": [
      "  Epoca 586/600 | Train Loss=5.1131 | Train Acc=96.03% | Test Acc=97.67%\n"
     ]
    },
    {
     "name": "stderr",
     "output_type": "stream",
     "text": [
      "BBB π=0.75 σ₁=1.4e-01 σ₂=2.5e-03:  98%|█████████▊| 587/600 [44:04<00:55,  4.27s/it]"
     ]
    },
    {
     "name": "stdout",
     "output_type": "stream",
     "text": [
      "  Epoca 587/600 | Train Loss=5.1154 | Train Acc=95.92% | Test Acc=97.30%\n"
     ]
    },
    {
     "name": "stderr",
     "output_type": "stream",
     "text": [
      "BBB π=0.75 σ₁=1.4e-01 σ₂=2.5e-03:  98%|█████████▊| 588/600 [44:08<00:50,  4.17s/it]"
     ]
    },
    {
     "name": "stdout",
     "output_type": "stream",
     "text": [
      "  Epoca 588/600 | Train Loss=5.1160 | Train Acc=95.85% | Test Acc=97.49%\n"
     ]
    },
    {
     "name": "stderr",
     "output_type": "stream",
     "text": [
      "BBB π=0.75 σ₁=1.4e-01 σ₂=2.5e-03:  98%|█████████▊| 589/600 [44:12<00:45,  4.18s/it]"
     ]
    },
    {
     "name": "stdout",
     "output_type": "stream",
     "text": [
      "  Epoca 589/600 | Train Loss=5.1130 | Train Acc=95.91% | Test Acc=97.49%\n"
     ]
    },
    {
     "name": "stderr",
     "output_type": "stream",
     "text": [
      "BBB π=0.75 σ₁=1.4e-01 σ₂=2.5e-03:  98%|█████████▊| 590/600 [44:16<00:41,  4.16s/it]"
     ]
    },
    {
     "name": "stdout",
     "output_type": "stream",
     "text": [
      "  Epoca 590/600 | Train Loss=5.1202 | Train Acc=95.77% | Test Acc=97.36%\n"
     ]
    },
    {
     "name": "stderr",
     "output_type": "stream",
     "text": [
      "BBB π=0.75 σ₁=1.4e-01 σ₂=2.5e-03:  98%|█████████▊| 591/600 [44:20<00:37,  4.11s/it]"
     ]
    },
    {
     "name": "stdout",
     "output_type": "stream",
     "text": [
      "  Epoca 591/600 | Train Loss=5.1175 | Train Acc=95.88% | Test Acc=97.45%\n"
     ]
    },
    {
     "name": "stderr",
     "output_type": "stream",
     "text": [
      "BBB π=0.75 σ₁=1.4e-01 σ₂=2.5e-03:  99%|█████████▊| 592/600 [44:24<00:32,  4.11s/it]"
     ]
    },
    {
     "name": "stdout",
     "output_type": "stream",
     "text": [
      "  Epoca 592/600 | Train Loss=5.1122 | Train Acc=96.04% | Test Acc=97.58%\n"
     ]
    },
    {
     "name": "stderr",
     "output_type": "stream",
     "text": [
      "BBB π=0.75 σ₁=1.4e-01 σ₂=2.5e-03:  99%|█████████▉| 593/600 [44:28<00:28,  4.10s/it]"
     ]
    },
    {
     "name": "stdout",
     "output_type": "stream",
     "text": [
      "  Epoca 593/600 | Train Loss=5.1181 | Train Acc=95.88% | Test Acc=97.35%\n"
     ]
    },
    {
     "name": "stderr",
     "output_type": "stream",
     "text": [
      "BBB π=0.75 σ₁=1.4e-01 σ₂=2.5e-03:  99%|█████████▉| 594/600 [44:33<00:24,  4.11s/it]"
     ]
    },
    {
     "name": "stdout",
     "output_type": "stream",
     "text": [
      "  Epoca 594/600 | Train Loss=5.1126 | Train Acc=95.97% | Test Acc=97.55%\n"
     ]
    },
    {
     "name": "stderr",
     "output_type": "stream",
     "text": [
      "BBB π=0.75 σ₁=1.4e-01 σ₂=2.5e-03:  99%|█████████▉| 595/600 [44:37<00:20,  4.11s/it]"
     ]
    },
    {
     "name": "stdout",
     "output_type": "stream",
     "text": [
      "  Epoca 595/600 | Train Loss=5.1102 | Train Acc=95.97% | Test Acc=97.58%\n"
     ]
    },
    {
     "name": "stderr",
     "output_type": "stream",
     "text": [
      "BBB π=0.75 σ₁=1.4e-01 σ₂=2.5e-03:  99%|█████████▉| 596/600 [44:41<00:16,  4.14s/it]"
     ]
    },
    {
     "name": "stdout",
     "output_type": "stream",
     "text": [
      "  Epoca 596/600 | Train Loss=5.1116 | Train Acc=96.00% | Test Acc=97.63%\n"
     ]
    },
    {
     "name": "stderr",
     "output_type": "stream",
     "text": [
      "BBB π=0.75 σ₁=1.4e-01 σ₂=2.5e-03: 100%|█████████▉| 597/600 [44:46<00:12,  4.32s/it]"
     ]
    },
    {
     "name": "stdout",
     "output_type": "stream",
     "text": [
      "  Epoca 597/600 | Train Loss=5.1145 | Train Acc=95.83% | Test Acc=97.48%\n"
     ]
    },
    {
     "name": "stderr",
     "output_type": "stream",
     "text": [
      "BBB π=0.75 σ₁=1.4e-01 σ₂=2.5e-03: 100%|█████████▉| 598/600 [44:50<00:08,  4.23s/it]"
     ]
    },
    {
     "name": "stdout",
     "output_type": "stream",
     "text": [
      "  Epoca 598/600 | Train Loss=5.1118 | Train Acc=95.95% | Test Acc=97.57%\n"
     ]
    },
    {
     "name": "stderr",
     "output_type": "stream",
     "text": [
      "BBB π=0.75 σ₁=1.4e-01 σ₂=2.5e-03: 100%|█████████▉| 599/600 [44:54<00:04,  4.22s/it]"
     ]
    },
    {
     "name": "stdout",
     "output_type": "stream",
     "text": [
      "  Epoca 599/600 | Train Loss=5.1150 | Train Acc=95.88% | Test Acc=97.50%\n"
     ]
    },
    {
     "name": "stderr",
     "output_type": "stream",
     "text": [
      "BBB π=0.75 σ₁=1.4e-01 σ₂=2.5e-03: 100%|██████████| 600/600 [44:58<00:00,  4.50s/it]"
     ]
    },
    {
     "name": "stdout",
     "output_type": "stream",
     "text": [
      "  Epoca 600/600 | Train Loss=5.1196 | Train Acc=95.86% | Test Acc=97.46%\n",
      "✅ BBB π=0.75, σ₁=1.4e-01, σ₂=2.5e-03 → Best Test Acc = 97.75%\n"
     ]
    },
    {
     "name": "stderr",
     "output_type": "stream",
     "text": [
      "\n"
     ]
    }
   ],
   "source": [
    "results_bbb = []  # Store (pi, sigma1, sigma2, best_test_accuracy)\n",
    "\n",
    "# Iterate over combinations of prior parameters\n",
    "for pi in PI_LIST:\n",
    "    for sigma1 in SIGMA1_LIST:\n",
    "        for sigma2 in SIGMA2_LIST:\n",
    "            # Initialize the Bayesian network with current prior parameters\n",
    "            model = BayesianNet(INPUT_DIM, hidden_dim=800, output_dim=10,\n",
    "                                pi=pi, sigma1=sigma1, sigma2=sigma2).to(device)\n",
    "            optimizer = optim.Adam(model.parameters(), lr=LR_BBB)\n",
    "            best_test_acc = 0.0\n",
    "\n",
    "            # Epoch progress bar\n",
    "            epoch_desc = f\"BBB π={pi:.2f} σ₁={sigma1:.1e} σ₂={sigma2:.1e}\"\n",
    "            for epoch in trange(NUM_EPOCHS_BBB, desc=epoch_desc, leave=True):\n",
    "                model.train()\n",
    "                running_loss = 0.0\n",
    "                total = 0\n",
    "                correct = 0\n",
    "                num_batches = len(train_loader)\n",
    "\n",
    "                # Training loop (no tqdm on batches)\n",
    "                for data, target in train_loader:\n",
    "                    data, target = data.to(device), target.to(device)\n",
    "                    optimizer.zero_grad()\n",
    "                    output = model(data)                              # Bayesian forward pass\n",
    "                    nll = criterion(output, target)                   # Negative log-likelihood\n",
    "                    kl_loss = model.kl / N_TRAIN                      # Normalized KL divergence\n",
    "                    loss = nll + kl_loss\n",
    "                    loss.backward()\n",
    "                    optimizer.step()\n",
    "\n",
    "                    running_loss += loss.item()\n",
    "                    preds = output.argmax(dim=1)\n",
    "                    correct += (preds == target).sum().item()\n",
    "                    total += target.size(0)\n",
    "\n",
    "                train_acc = correct / total * 100\n",
    "\n",
    "                # Evaluation on test set (using deterministic weights: μ)\n",
    "                model.eval()\n",
    "                correct_test = 0\n",
    "                total_test = 0\n",
    "                with torch.no_grad():\n",
    "                    for data, target in test_loader:\n",
    "                        data, target = data.to(device), target.to(device)\n",
    "                        x = F.relu(model.bl1(data, sample=False))\n",
    "                        x = F.relu(model.bl2(x, sample=False))\n",
    "                        logits = model.bl3(x, sample=False)\n",
    "                        preds = logits.argmax(dim=1)\n",
    "                        correct_test += (preds == target).sum().item()\n",
    "                        total_test += target.size(0)\n",
    "                test_acc = correct_test / total_test * 100\n",
    "                if test_acc > best_test_acc:\n",
    "                    best_test_acc = test_acc\n",
    "\n",
    "                # Print metrics at the end of the epoch\n",
    "                print(\n",
    "                    f\"  Epoch {epoch+1:02d}/{NUM_EPOCHS_BBB} | \"\n",
    "                    f\"Train Loss={running_loss/num_batches:.4f} | \"\n",
    "                    f\"Train Acc={train_acc:.2f}% | \"\n",
    "                    f\"Test Acc={test_acc:.2f}%\"\n",
    "                )\n",
    "\n",
    "            print(f\"✅ BBB π={pi:.2f}, σ₁={sigma1:.1e}, σ₂={sigma2:.1e} → \"\n",
    "                  f\"Best Test Acc = {best_test_acc:.2f}%\")\n",
    "            results_bbb.append((pi, sigma1, sigma2, best_test_acc))"
   ]
  },
  {
   "cell_type": "markdown",
   "id": "d00eb838",
   "metadata": {
    "_cell_guid": "8e334925-6487-4b48-b788-053db55e3ce8",
    "_uuid": "3f3cfe84-772d-4660-9d7b-1ea379dbc6dc",
    "collapsed": false,
    "jupyter": {
     "outputs_hidden": false
    },
    "papermill": {
     "duration": 0.053213,
     "end_time": "2025-06-07T11:10:08.108704",
     "exception": false,
     "start_time": "2025-06-07T11:10:08.055491",
     "status": "completed"
    },
    "tags": []
   },
   "source": [
    "### 📈 Final Evaluation Summary\n",
    "\n",
    "This section prints the final test results for all models:\n",
    "\n",
    "#### ✅ Bayes by Backprop\n",
    "- Displays best test accuracy for each combination of prior parameters:\n",
    "  - π (mixture weight)\n",
    "  - σ₁ and σ₂ (standard deviations of the Gaussian mixture prior)\n",
    "\n",
    "#### ✅ TensorFlow Baseline Models\n",
    "- Shows test accuracy for:\n",
    "  - **Standard SGD** (no regularization)\n",
    "  - **SGD + Dropout** (Dropout probability = 0.5)\n",
    "\n",
    "The results allow direct comparison between Bayesian and non-Bayesian training strategies on the MNIST dataset."
   ]
  },
  {
   "cell_type": "code",
   "execution_count": null,
   "id": "795cd339",
   "metadata": {
    "_cell_guid": "ec1e5eb7-6516-4a2e-9ab7-e75219a57a80",
    "_uuid": "f78d6706-9a7e-48d7-b700-73ce51109a0e",
    "collapsed": false,
    "execution": {
     "iopub.execute_input": "2025-06-13T13:27:25.476845Z",
     "iopub.status.busy": "2025-06-13T13:27:25.476479Z",
     "iopub.status.idle": "2025-06-13T13:27:25.481990Z",
     "shell.execute_reply": "2025-06-13T13:27:25.481173Z",
     "shell.execute_reply.started": "2025-06-13T13:27:25.476806Z"
    },
    "jupyter": {
     "outputs_hidden": false
    },
    "papermill": {
     "duration": 0.061935,
     "end_time": "2025-06-07T11:10:08.223793",
     "exception": false,
     "start_time": "2025-06-07T11:10:08.161858",
     "status": "completed"
    },
    "tags": [],
    "trusted": true
   },
   "outputs": [
    {
     "name": "stdout",
     "output_type": "stream",
     "text": [
      "\n",
      "📊 Risultati Bayes by Backprop (π, σ₁, σ₂, Best Test Accuracy):\n",
      "  π=0.75, σ₁=1.3534e-01, σ₂=2.4788e-03  →  Best Test Acc = 97.75%\n",
      "\n",
      "📊 Risultati Baseline TF:\n",
      "  SGD senza regularizzazione       → Best Test Acc = 97.20%\n",
      "  SGD + Dropout (p=0.5)             → Best Test Acc = 97.39%\n"
     ]
    }
   ],
   "source": [
    "# Print results for Bayes by Backprop\n",
    "print(\"\\n📊 Bayes by Backprop Results (π, σ₁, σ₂, Best Test Accuracy):\")\n",
    "for pi, s1, s2, acc in results_bbb:\n",
    "    print(f\"  π={pi:.2f}, σ₁={s1:.4e}, σ₂={s2:.4e}  →  Best Test Acc = {acc:.2f}%\")\n",
    "\n",
    "# Convert TensorFlow baseline accuracies from [0, 1] to percentages\n",
    "acc_baseline_sgd = acc_sgd * 100\n",
    "acc_baseline_do  = acc_do  * 100\n",
    "\n",
    "# Print results for baseline TensorFlow models\n",
    "print(\"\\n📊 Baseline TF Results:\")\n",
    "print(f\"  SGD without regularization       → Best Test Acc = {acc_baseline_sgd:.2f}%\")\n",
    "print(f\"  SGD + Dropout (p=0.5)             → Best Test Acc = {acc_baseline_do:.2f}%\")"
   ]
  }
 ],
 "metadata": {
  "kaggle": {
   "accelerator": "gpu",
   "dataSources": [],
   "dockerImageVersionId": 31040,
   "isGpuEnabled": true,
   "isInternetEnabled": true,
   "language": "python",
   "sourceType": "notebook"
  },
  "kernelspec": {
   "display_name": "Python 3",
   "language": "python",
   "name": "python3"
  },
  "language_info": {
   "codemirror_mode": {
    "name": "ipython",
    "version": 3
   },
   "file_extension": ".py",
   "mimetype": "text/x-python",
   "name": "python",
   "nbconvert_exporter": "python",
   "pygments_lexer": "ipython3",
   "version": "3.11.11"
  },
  "papermill": {
   "default_parameters": {},
   "duration": 2328.808872,
   "end_time": "2025-06-07T11:10:11.222721",
   "environment_variables": {},
   "exception": null,
   "input_path": "__notebook__.ipynb",
   "output_path": "__notebook__.ipynb",
   "parameters": {},
   "start_time": "2025-06-07T10:31:22.413849",
   "version": "2.6.0"
  }
 },
 "nbformat": 4,
 "nbformat_minor": 5
}

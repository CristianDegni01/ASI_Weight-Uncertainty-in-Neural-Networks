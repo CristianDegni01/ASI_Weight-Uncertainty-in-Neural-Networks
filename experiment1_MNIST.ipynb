{
 "cells": [
  {
   "cell_type": "markdown",
   "id": "de9a8a46",
   "metadata": {
    "_cell_guid": "f2f9f8a0-19ee-4f1b-beb1-24d463773090",
    "_uuid": "98dd585c-e198-4593-9a32-e1207cacdce1",
    "collapsed": false,
    "jupyter": {
     "outputs_hidden": false
    },
    "papermill": {
     "duration": 0.003897,
     "end_time": "2025-06-07T10:31:26.412589",
     "exception": false,
     "start_time": "2025-06-07T10:31:26.408692",
     "status": "completed"
    },
    "tags": []
   },
   "source": [
    "# 🖥️ Esperimento MNIST: Bayes by Backprop con tutte le combinazioni di π, σ₁, σ₂ + Baseline SGD e SGD con Dropout\n",
    "#\n",
    "In questo notebook addestriamo:\n",
    "1. Il modello Bayes by Backprop su MNIST per ogni combinazione di (π, σ₁, σ₂).  \n",
    "2. Una rete feedforward standard (due hidden layer) con ottimizzazione SGD senza regularizzazione.  \n",
    "3. La stessa rete feedforward, ma con Dropout sui due hidden layer, sempre ottimizzata con SGD.  \n",
    "#\n",
    "In ogni ciclo di training mostriamo barre di avanzamento sia per le epoche che per i batch, insieme ai print dei principali metriche."
   ]
  },
  {
   "cell_type": "code",
   "execution_count": 1,
   "id": "73a36c4a",
   "metadata": {
    "_cell_guid": "5e3a1e5d-8775-4c4f-be02-ae0b2e23af1d",
    "_uuid": "094c1940-40a2-41e0-93b5-8b90cb508096",
    "collapsed": false,
    "execution": {
     "iopub.execute_input": "2025-06-07T10:31:26.419941Z",
     "iopub.status.busy": "2025-06-07T10:31:26.419668Z",
     "iopub.status.idle": "2025-06-07T10:31:35.066615Z",
     "shell.execute_reply": "2025-06-07T10:31:35.065798Z"
    },
    "jupyter": {
     "outputs_hidden": false
    },
    "papermill": {
     "duration": 8.652094,
     "end_time": "2025-06-07T10:31:35.067916",
     "exception": false,
     "start_time": "2025-06-07T10:31:26.415822",
     "status": "completed"
    },
    "tags": []
   },
   "outputs": [
    {
     "name": "stdout",
     "output_type": "stream",
     "text": [
      "🚀 Usando device: cuda\n"
     ]
    }
   ],
   "source": [
    "import torch\n",
    "import torch.nn as nn\n",
    "import torch.nn.functional as F\n",
    "import torch.optim as optim\n",
    "import numpy as np\n",
    "import random\n",
    "from torchvision import datasets, transforms\n",
    "from torch.utils.data import DataLoader\n",
    "from tqdm import trange, tqdm\n",
    "import math\n",
    "\n",
    "# Impostiamo device (GPU se disponibile)\n",
    "device = torch.device(\"cuda\") if torch.cuda.is_available() else torch.device(\"cpu\")\n",
    "print(f\"🚀 Usando device: {device}\")"
   ]
  },
  {
   "cell_type": "markdown",
   "id": "cc2879d3",
   "metadata": {
    "_cell_guid": "03b356fb-af0f-4829-b279-91ac2a37ad59",
    "_uuid": "5ce97bc8-8461-4d2a-9c55-8d193d21d22f",
    "collapsed": false,
    "jupyter": {
     "outputs_hidden": false
    },
    "papermill": {
     "duration": 0.002973,
     "end_time": "2025-06-07T10:31:35.074438",
     "exception": false,
     "start_time": "2025-06-07T10:31:35.071465",
     "status": "completed"
    },
    "tags": []
   },
   "source": [
    "## 📦 Caricamento e preprocessing del dataset MNIST"
   ]
  },
  {
   "cell_type": "code",
   "execution_count": 2,
   "id": "4037acf5",
   "metadata": {
    "_cell_guid": "144df986-7e27-402a-96a6-8456395e7d1f",
    "_uuid": "c3c5181f-71ad-48b3-8d72-6e1b206cf77c",
    "collapsed": false,
    "execution": {
     "iopub.execute_input": "2025-06-07T10:31:35.081725Z",
     "iopub.status.busy": "2025-06-07T10:31:35.081383Z",
     "iopub.status.idle": "2025-06-07T10:32:01.855879Z",
     "shell.execute_reply": "2025-06-07T10:32:01.854753Z"
    },
    "jupyter": {
     "outputs_hidden": false
    },
    "papermill": {
     "duration": 26.779694,
     "end_time": "2025-06-07T10:32:01.857135",
     "exception": false,
     "start_time": "2025-06-07T10:31:35.077441",
     "status": "completed"
    },
    "tags": []
   },
   "outputs": [
    {
     "name": "stderr",
     "output_type": "stream",
     "text": [
      "2025-06-07 10:31:36.326954: E external/local_xla/xla/stream_executor/cuda/cuda_fft.cc:477] Unable to register cuFFT factory: Attempting to register factory for plugin cuFFT when one has already been registered\n",
      "WARNING: All log messages before absl::InitializeLog() is called are written to STDERR\n",
      "E0000 00:00:1749292296.503649      19 cuda_dnn.cc:8310] Unable to register cuDNN factory: Attempting to register factory for plugin cuDNN when one has already been registered\n",
      "E0000 00:00:1749292296.555963      19 cuda_blas.cc:1418] Unable to register cuBLAS factory: Attempting to register factory for plugin cuBLAS when one has already been registered\n"
     ]
    },
    {
     "name": "stdout",
     "output_type": "stream",
     "text": [
      "Downloading data from https://storage.googleapis.com/tensorflow/tf-keras-datasets/mnist.npz\n",
      "\u001b[1m11490434/11490434\u001b[0m \u001b[32m━━━━━━━━━━━━━━━━━━━━\u001b[0m\u001b[37m\u001b[0m \u001b[1m1s\u001b[0m 0us/step\n",
      "✅ TF MNIST: 60000 train, 10000 test, input_dim = 784\n"
     ]
    },
    {
     "name": "stderr",
     "output_type": "stream",
     "text": [
      "100%|██████████| 9.91M/9.91M [00:01<00:00, 5.63MB/s]\n",
      "100%|██████████| 28.9k/28.9k [00:00<00:00, 148kB/s]\n",
      "100%|██████████| 1.65M/1.65M [00:01<00:00, 1.41MB/s]\n",
      "100%|██████████| 4.54k/4.54k [00:00<00:00, 7.56MB/s]"
     ]
    },
    {
     "name": "stdout",
     "output_type": "stream",
     "text": [
      "✅ Torch MNIST: 60000 train, 10000 test, input_dim = 784\n",
      "✅ Caricati MNIST: 60000 train, 10000 test, input_dim = 784\n"
     ]
    },
    {
     "name": "stderr",
     "output_type": "stream",
     "text": [
      "\n"
     ]
    }
   ],
   "source": [
    "# %% [code]\n",
    "# 📦 TensorFlow + TF Probability\n",
    "import tensorflow as tf\n",
    "\n",
    "# Caricamento dataset\n",
    "(x_train_tf, y_train_tf), (x_test_tf, y_test_tf) = tf.keras.datasets.mnist.load_data()\n",
    "\n",
    "# Normalizzazione e reshape\n",
    "x_train_tf = x_train_tf.astype('float32') / 255.0\n",
    "x_test_tf  = x_test_tf.astype('float32') / 255.0\n",
    "x_train_tf = x_train_tf.reshape(-1, 28 * 28)\n",
    "x_test_tf  = x_test_tf.reshape(-1, 28 * 28)\n",
    "\n",
    "print(f\"✅ TF MNIST: {x_train_tf.shape[0]} train, {x_test_tf.shape[0]} test, input_dim = {x_train_tf.shape[1]}\")\n",
    "\n",
    "# %% [code]\n",
    "# 🔥 PyTorch\n",
    "import torch\n",
    "from torchvision import datasets, transforms\n",
    "from torch.utils.data import DataLoader\n",
    "\n",
    "# Trasformazione: ToTensor + flatten\n",
    "transform = transforms.Compose([\n",
    "    transforms.ToTensor(),                              # [0,255]→[0,1], C×H×W→FloatTensor\n",
    "    transforms.Lambda(lambda x: x.view(-1))             # 28×28 → vettore 784\n",
    "])\n",
    "\n",
    "# Download e dataset\n",
    "train_dataset_torch = datasets.MNIST(root='./data', train=True,  download=True, transform=transform)\n",
    "test_dataset_torch  = datasets.MNIST(root='./data', train=False, download=True, transform=transform)\n",
    "\n",
    "# DataLoader\n",
    "BATCH_SIZE_TORCH = 512\n",
    "train_loader_torch = DataLoader(train_dataset_torch, batch_size=BATCH_SIZE_TORCH,\n",
    "                                shuffle=True,  num_workers=4, pin_memory=True)\n",
    "test_loader_torch  = DataLoader(test_dataset_torch,  batch_size=1000,\n",
    "                                shuffle=False, num_workers=2, pin_memory=True)\n",
    "\n",
    "print(f\"✅ Torch MNIST: {len(train_dataset_torch)} train, {len(test_dataset_torch)} test, input_dim = {28*28}\")\n",
    "\n",
    "# Iperparametri\n",
    "NUM_EPOCHS = 600\n",
    "LR = 1e-3\n",
    "BATCH_SIZE = 1024\n",
    "INPUT_DIM = 28 * 28\n",
    "HIDDEN_DIM = 400\n",
    "OUTPUT_DIM = 10\n",
    "INPUT_DIM = 28 * 28\n",
    "N_TRAIN = len(train_dataset_torch)\n",
    "N_TEST  = len(test_dataset_torch)\n",
    "print(f\"✅ Caricati MNIST: {N_TRAIN} train, {N_TEST} test, input_dim = {INPUT_DIM}\")"
   ]
  },
  {
   "cell_type": "markdown",
   "id": "8485ee3a",
   "metadata": {
    "_cell_guid": "eec43616-1085-4305-a6e2-a431426253ab",
    "_uuid": "63bd25eb-a017-4b56-9f21-ae1227c1a4dc",
    "collapsed": false,
    "jupyter": {
     "outputs_hidden": false
    },
    "papermill": {
     "duration": 0.005001,
     "end_time": "2025-06-07T10:32:01.867918",
     "exception": false,
     "start_time": "2025-06-07T10:32:01.862917",
     "status": "completed"
    },
    "tags": []
   },
   "source": [
    "## 🔧 Definizione dei modelli\n",
    "#\n",
    "1. **BayesianLinear** e **BayesianNet** (Bayes by Backprop)  \n",
    "2. **FFNet** (Feedforward standard) e **FFNetDropout** (stessa architettura + Dropout)"
   ]
  },
  {
   "cell_type": "code",
   "execution_count": 3,
   "id": "ebb38acd",
   "metadata": {
    "_cell_guid": "10be5143-293d-407c-8a6c-74ddac84f893",
    "_uuid": "d4e04a7f-2fda-4c62-89fc-5e0675ba0312",
    "collapsed": false,
    "execution": {
     "iopub.execute_input": "2025-06-07T10:32:01.879363Z",
     "iopub.status.busy": "2025-06-07T10:32:01.878912Z",
     "iopub.status.idle": "2025-06-07T10:32:01.898492Z",
     "shell.execute_reply": "2025-06-07T10:32:01.897757Z"
    },
    "jupyter": {
     "outputs_hidden": false
    },
    "papermill": {
     "duration": 0.02673,
     "end_time": "2025-06-07T10:32:01.899663",
     "exception": false,
     "start_time": "2025-06-07T10:32:01.872933",
     "status": "completed"
    },
    "tags": []
   },
   "outputs": [],
   "source": [
    "# ------------------------------------------------------------\n",
    "# (1) Layer BayesianLinear e modello BayesianNet\n",
    "# ------------------------------------------------------------\n",
    "class BayesianLinear(nn.Module):\n",
    "    \"\"\"\n",
    "    Layer fully-connected bayesiano:\n",
    "     - parametri μ e ρ per pesi e bias\n",
    "     - σ = log(1 + exp(ρ))\n",
    "     - log_qw calcolato internamente ad ogni forward\n",
    "    \"\"\"\n",
    "    def __init__(self, in_features: int, out_features: int):\n",
    "        super().__init__()\n",
    "        self.in_features  = in_features\n",
    "        self.out_features = out_features\n",
    "\n",
    "        # Parametri μ e ρ\n",
    "        self.mu_weight  = nn.Parameter(torch.zeros(out_features, in_features))\n",
    "        self.rho_weight = nn.Parameter(torch.ones(out_features, in_features) * -3.0)\n",
    "        self.mu_bias    = nn.Parameter(torch.zeros(out_features))\n",
    "        self.rho_bias   = nn.Parameter(torch.ones(out_features) * -3.0)\n",
    "\n",
    "        # log_qw verrà memorizzato ad ogni campionamento\n",
    "        self.log_qw = None\n",
    "\n",
    "    def compute_log_qw(self, w: torch.Tensor, sigma_w: torch.Tensor) -> torch.Tensor:\n",
    "        \"\"\"\n",
    "        Calcola log q(w) = -0.5 * sum( log(2π σ_w^2) + ((w - μ_w)^2) / σ_w^2 )\n",
    "        \"\"\"\n",
    "        return -0.5 * torch.sum(torch.log(2 * torch.pi * sigma_w**2) +\n",
    "                                ((w - self.mu_weight) ** 2) / (sigma_w**2))\n",
    "\n",
    "    def sample_weight_and_bias(self) -> (torch.Tensor, torch.Tensor, torch.Tensor):\n",
    "        \"\"\"\n",
    "        Campiona (w, b) e restituisce anche log_qw per il calcolo del KL.\n",
    "        \"\"\"\n",
    "        sigma_w = torch.log1p(torch.exp(self.rho_weight))\n",
    "        sigma_b = torch.log1p(torch.exp(self.rho_bias))\n",
    "\n",
    "        eps_w = torch.randn_like(self.mu_weight)\n",
    "        eps_b = torch.randn_like(self.mu_bias)\n",
    "        w = self.mu_weight + sigma_w * eps_w\n",
    "        b = self.mu_bias   + sigma_b * eps_b\n",
    "\n",
    "        log_qw = self.compute_log_qw(w, sigma_w)\n",
    "        return w, b, log_qw\n",
    "\n",
    "    def forward(self, x: torch.Tensor, sample: bool = True) -> torch.Tensor:\n",
    "        \"\"\"\n",
    "        Se sample=True e modello in training, campiona w e b. Altrimenti usa μ.\n",
    "        Calcola internamente log_qw e restituisce F.linear(x, w, b).\n",
    "        \"\"\"\n",
    "        sigma_w = torch.log1p(torch.exp(self.rho_weight))\n",
    "        sigma_b = torch.log1p(torch.exp(self.rho_bias))\n",
    "\n",
    "        if self.training and sample:\n",
    "            eps_w = torch.randn_like(self.mu_weight)\n",
    "            eps_b = torch.randn_like(self.mu_bias)\n",
    "            w = self.mu_weight + sigma_w * eps_w\n",
    "            b = self.mu_bias   + sigma_b * eps_b\n",
    "        else:\n",
    "            w = self.mu_weight\n",
    "            b = self.mu_bias\n",
    "\n",
    "        # Calcolo log_qw (usando w campionato o µ se sample=False, ma in ogni caso sufficiente)\n",
    "        self.log_qw = -0.5 * torch.sum(torch.log(2 * torch.pi * sigma_w**2) +\n",
    "                                       ((w - self.mu_weight)**2) / (sigma_w**2))\n",
    "\n",
    "        return F.linear(x, w, b)\n",
    "\n",
    "\n",
    "def log_mixture_prior(w_flat: torch.Tensor, pi: float, sigma1: float, sigma2: float) -> torch.Tensor:\n",
    "    \"\"\"\n",
    "    Calcola log [ π N(0,σ1^2) + (1−π) N(0,σ2^2) ] per ogni elemento di w_flat e somma tutti i log-prob.\n",
    "    \"\"\"\n",
    "    # 1) costanti di log(2π σ^2) come scalari\n",
    "    log_const1 = 0.5 * math.log(2 * math.pi * sigma1**2)\n",
    "    log_const2 = 0.5 * math.log(2 * math.pi * sigma2**2)\n",
    "\n",
    "    # 2) log-densità per ogni elemento\n",
    "    log_prob1 = -0.5 * (w_flat ** 2) / (sigma1 ** 2) - log_const1\n",
    "    log_prob2 = -0.5 * (w_flat ** 2) / (sigma2 ** 2) - log_const2\n",
    "\n",
    "    # 3) log(π) e log(1−π) come scalari\n",
    "    log_pi         = math.log(pi)\n",
    "    log_1_minus_pi = math.log(1.0 - pi)\n",
    "\n",
    "    # 4) termini per log-sum-exp\n",
    "    t1 = log_prob1 + log_pi\n",
    "    t2 = log_prob2 + log_1_minus_pi\n",
    "\n",
    "    # 5) log-sum-exp stabile\n",
    "    max_log = torch.max(t1, t2)\n",
    "    log_mix = max_log + torch.log(torch.exp(t1 - max_log) + torch.exp(t2 - max_log))\n",
    "\n",
    "    # 6) somma finale\n",
    "    return log_mix.sum()\n",
    "\n",
    "\n",
    "class BayesianNet(nn.Module):\n",
    "    \"\"\"\n",
    "    Rete bayesiana fully-connected a 3 strati (2 hidden + output).\n",
    "    La dimensione dei layer hidden è hidden_dim.\n",
    "    \"\"\"\n",
    "    def __init__(self, input_dim, hidden_dim, output_dim, pi, sigma1, sigma2):\n",
    "        super().__init__()\n",
    "        # Parametri di prior\n",
    "        self.pi     = pi\n",
    "        self.sigma1 = sigma1\n",
    "        self.sigma2 = sigma2\n",
    "\n",
    "        # Tre layer bayesiani\n",
    "        self.bl1 = BayesianLinear(input_dim,  hidden_dim)\n",
    "        self.bl2 = BayesianLinear(hidden_dim, hidden_dim)\n",
    "        self.bl3 = BayesianLinear(hidden_dim, output_dim)\n",
    "\n",
    "        # Accumulatore di KL\n",
    "        self.kl = None\n",
    "\n",
    "    def forward(self, x: torch.Tensor) -> torch.Tensor:\n",
    "        # Azzero contatore KL\n",
    "        self.kl = 0.0\n",
    "\n",
    "        #######  LAYER 1  #######\n",
    "        w1, b1, log_qw1 = self.bl1.sample_weight_and_bias()\n",
    "        w1_flat = torch.cat([w1.view(-1), b1.view(-1)])\n",
    "        log_pw1 = log_mixture_prior(w1_flat, self.pi, self.sigma1, self.sigma2)\n",
    "        self.kl = self.kl + (log_qw1 - log_pw1)\n",
    "        x1 = F.linear(x, w1, b1)\n",
    "        x1 = F.relu(x1)\n",
    "\n",
    "        #######  LAYER 2  #######\n",
    "        w2, b2, log_qw2 = self.bl2.sample_weight_and_bias()\n",
    "        w2_flat = torch.cat([w2.view(-1), b2.view(-1)])\n",
    "        log_pw2 = log_mixture_prior(w2_flat, self.pi, self.sigma1, self.sigma2)\n",
    "        self.kl = self.kl + (log_qw2 - log_pw2)\n",
    "        x2 = F.linear(x1, w2, b2)\n",
    "        x2 = F.relu(x2)\n",
    "\n",
    "        #######  LAYER 3 (OUTPUT)  #######\n",
    "        w3, b3, log_qw3 = self.bl3.sample_weight_and_bias()\n",
    "        w3_flat = torch.cat([w3.view(-1), b3.view(-1)])\n",
    "        log_pw3 = log_mixture_prior(w3_flat, self.pi, self.sigma1, self.sigma2)\n",
    "        self.kl = self.kl + (log_qw3 - log_pw3)\n",
    "        logits = F.linear(x2, w3, b3)\n",
    "\n",
    "        return logits\n",
    "\n",
    "train_loader = DataLoader(\n",
    "    train_dataset_torch,\n",
    "    batch_size=BATCH_SIZE,\n",
    "    shuffle=True,\n",
    "    num_workers=4,\n",
    "    pin_memory=True\n",
    ")\n",
    "test_loader = DataLoader(\n",
    "    test_dataset_torch,\n",
    "    batch_size=BATCH_SIZE,\n",
    "    shuffle=False,\n",
    "    num_workers=2,\n",
    "    pin_memory=True\n",
    ")\n",
    "class FFNet(nn.Module):\n",
    "    \"\"\"\n",
    "    Rete feedforward standard con due hidden layer ReLU e output layer senza Dropout.\n",
    "    \"\"\"\n",
    "    def __init__(self, input_dim, hidden_dim, output_dim):\n",
    "        super().__init__()\n",
    "        self.fc1 = nn.Linear(input_dim,  hidden_dim)\n",
    "        self.fc2 = nn.Linear(hidden_dim, hidden_dim)\n",
    "        self.fc3 = nn.Linear(hidden_dim, output_dim)\n",
    "\n",
    "    def forward(self, x):\n",
    "        x = F.relu(self.fc1(x))\n",
    "        x = F.relu(self.fc2(x))\n",
    "        x = self.fc3(x)\n",
    "        return x\n",
    "\n",
    "class FFNetDropout(nn.Module):\n",
    "    \"\"\"\n",
    "    Stessa architettura di FFNet, ma con Dropout p=0.5 sui due hidden layer.\n",
    "    \"\"\"\n",
    "    def __init__(self, input_dim, hidden_dim, output_dim, p: float = 0.5):\n",
    "        super().__init__()\n",
    "        self.fc1 = nn.Linear(input_dim,  hidden_dim)\n",
    "        self.fc2 = nn.Linear(hidden_dim, hidden_dim)\n",
    "        self.fc3 = nn.Linear(hidden_dim, output_dim)\n",
    "        self.dropout = nn.Dropout(p)\n",
    "\n",
    "    def forward(self, x):\n",
    "        x = F.relu(self.fc1(x))\n",
    "        x = self.dropout(x)\n",
    "        x = F.relu(self.fc2(x))\n",
    "        x = self.dropout(x)\n",
    "        x = self.fc3(x)\n",
    "        return x\n",
    "\n",
    "criterion = nn.CrossEntropyLoss()"
   ]
  },
  {
   "cell_type": "markdown",
   "id": "5f765622",
   "metadata": {
    "_cell_guid": "fcd87bc7-f72a-405e-9ba8-9158db443fb7",
    "_uuid": "1aa96202-0c10-4eec-99f7-360f1a4f32b4",
    "collapsed": false,
    "jupyter": {
     "outputs_hidden": false
    },
    "papermill": {
     "duration": 0.004819,
     "end_time": "2025-06-07T10:32:01.909604",
     "exception": false,
     "start_time": "2025-06-07T10:32:01.904785",
     "status": "completed"
    },
    "tags": []
   },
   "source": [
    "## 🎯 Iperparametri di training"
   ]
  },
  {
   "cell_type": "code",
   "execution_count": 4,
   "id": "1a97634e",
   "metadata": {
    "_cell_guid": "a51fdcd4-789a-42e6-ba85-58948ca289b6",
    "_uuid": "ae8e9399-6218-4b5c-a7c1-654e4988954e",
    "collapsed": false,
    "execution": {
     "iopub.execute_input": "2025-06-07T10:32:01.920767Z",
     "iopub.status.busy": "2025-06-07T10:32:01.920123Z",
     "iopub.status.idle": "2025-06-07T10:32:01.925233Z",
     "shell.execute_reply": "2025-06-07T10:32:01.924682Z"
    },
    "jupyter": {
     "outputs_hidden": false
    },
    "papermill": {
     "duration": 0.011673,
     "end_time": "2025-06-07T10:32:01.926188",
     "exception": false,
     "start_time": "2025-06-07T10:32:01.914515",
     "status": "completed"
    },
    "tags": []
   },
   "outputs": [
    {
     "name": "stdout",
     "output_type": "stream",
     "text": [
      "ℹ️ Iperparametri:\n",
      "  Bayes by Backprop: NUM_EPOCHS = 600, LR = 0.001\n",
      "    PI_LIST     = [0.75]\n",
      "    SIGMA1_LIST = [0.1353352832366127]\n",
      "    SIGMA2_LIST = [0.0024787521766663585]\n",
      "\n",
      "  Baseline SGD: NUM_EPOCHS = 20, LR = 0.001\n",
      "\n"
     ]
    }
   ],
   "source": [
    "NUM_EPOCHS_BBB = 600\n",
    "LR_BBB = 1e-3\n",
    "PI_LIST = [0.75]\n",
    "SIGMA1_LIST = [np.exp(-2)]\n",
    "SIGMA2_LIST = [np.exp(-6)]\n",
    "\n",
    "# Per i modelli SGD baseline (nr di epoche e lr allineati a BBB)\n",
    "NUM_EPOCHS_SGD = 20\n",
    "LR_SGD = 1e-3\n",
    "\n",
    "criterion = nn.CrossEntropyLoss()\n",
    "\n",
    "print(\"ℹ️ Iperparametri:\")\n",
    "print(f\"  Bayes by Backprop: NUM_EPOCHS = {NUM_EPOCHS_BBB}, LR = {LR_BBB}\")\n",
    "print(f\"    PI_LIST     = {PI_LIST}\")\n",
    "print(f\"    SIGMA1_LIST = {SIGMA1_LIST}\")\n",
    "print(f\"    SIGMA2_LIST = {SIGMA2_LIST}\")\n",
    "print(f\"\\n  Baseline SGD: NUM_EPOCHS = {NUM_EPOCHS_SGD}, LR = {LR_SGD}\\n\")"
   ]
  },
  {
   "cell_type": "markdown",
   "id": "851703e8",
   "metadata": {
    "_cell_guid": "ff79a938-79ed-4ee9-adc5-83c3fd10131f",
    "_uuid": "465cb22e-34da-43f8-82e2-1209a3bfb3b9",
    "collapsed": false,
    "jupyter": {
     "outputs_hidden": false
    },
    "papermill": {
     "duration": 0.00509,
     "end_time": "2025-06-07T10:32:01.936435",
     "exception": false,
     "start_time": "2025-06-07T10:32:01.931345",
     "status": "completed"
    },
    "tags": []
   },
   "source": [
    "## SGD"
   ]
  },
  {
   "cell_type": "code",
   "execution_count": 5,
   "id": "32c33589",
   "metadata": {
    "_cell_guid": "485a254f-6f18-4aa8-96b3-19181ce4cb16",
    "_uuid": "1d556ac9-6cf1-4789-82eb-078c7e5fa052",
    "collapsed": false,
    "execution": {
     "iopub.execute_input": "2025-06-07T10:32:01.947269Z",
     "iopub.status.busy": "2025-06-07T10:32:01.947055Z",
     "iopub.status.idle": "2025-06-07T10:32:58.116111Z",
     "shell.execute_reply": "2025-06-07T10:32:58.115189Z"
    },
    "jupyter": {
     "outputs_hidden": false
    },
    "papermill": {
     "duration": 56.175785,
     "end_time": "2025-06-07T10:32:58.117257",
     "exception": false,
     "start_time": "2025-06-07T10:32:01.941472",
     "status": "completed"
    },
    "tags": []
   },
   "outputs": [
    {
     "name": "stderr",
     "output_type": "stream",
     "text": [
      "I0000 00:00:1749292325.003349      19 gpu_device.cc:2022] Created device /job:localhost/replica:0/task:0/device:GPU:0 with 15513 MB memory:  -> device: 0, name: Tesla P100-PCIE-16GB, pci bus id: 0000:00:04.0, compute capability: 6.0\n"
     ]
    },
    {
     "name": "stdout",
     "output_type": "stream",
     "text": [
      "\n",
      "🔧 Training SGD\n",
      "Epoch 1/20\n"
     ]
    },
    {
     "name": "stderr",
     "output_type": "stream",
     "text": [
      "WARNING: All log messages before absl::InitializeLog() is called are written to STDERR\n",
      "I0000 00:00:1749292326.984369      60 service.cc:148] XLA service 0x7ac0b4003060 initialized for platform CUDA (this does not guarantee that XLA will be used). Devices:\n",
      "I0000 00:00:1749292326.984837      60 service.cc:156]   StreamExecutor device (0): Tesla P100-PCIE-16GB, Compute Capability 6.0\n",
      "I0000 00:00:1749292327.258803      60 cuda_dnn.cc:529] Loaded cuDNN version 90300\n",
      "I0000 00:00:1749292328.118870      60 device_compiler.h:188] Compiled cluster using XLA!  This line is logged at most once for the lifetime of the process.\n"
     ]
    },
    {
     "name": "stdout",
     "output_type": "stream",
     "text": [
      "422/422 - 5s - 11ms/step - accuracy: 0.8984 - loss: 0.3518 - val_accuracy: 0.9610 - val_loss: 0.1459\n",
      "Epoch 2/20\n",
      "422/422 - 1s - 2ms/step - accuracy: 0.9583 - loss: 0.1454 - val_accuracy: 0.9717 - val_loss: 0.1050\n",
      "Epoch 3/20\n",
      "422/422 - 1s - 2ms/step - accuracy: 0.9686 - loss: 0.1016 - val_accuracy: 0.9712 - val_loss: 0.1041\n",
      "Epoch 4/20\n",
      "422/422 - 1s - 2ms/step - accuracy: 0.9768 - loss: 0.0783 - val_accuracy: 0.9778 - val_loss: 0.0819\n",
      "Epoch 5/20\n",
      "422/422 - 1s - 2ms/step - accuracy: 0.9815 - loss: 0.0609 - val_accuracy: 0.9750 - val_loss: 0.0866\n",
      "Epoch 6/20\n",
      "422/422 - 1s - 3ms/step - accuracy: 0.9851 - loss: 0.0488 - val_accuracy: 0.9763 - val_loss: 0.0892\n",
      "Epoch 7/20\n",
      "422/422 - 1s - 3ms/step - accuracy: 0.9878 - loss: 0.0401 - val_accuracy: 0.9770 - val_loss: 0.0878\n",
      "Epoch 8/20\n",
      "422/422 - 1s - 3ms/step - accuracy: 0.9907 - loss: 0.0317 - val_accuracy: 0.9762 - val_loss: 0.0888\n",
      "Epoch 9/20\n",
      "422/422 - 1s - 2ms/step - accuracy: 0.9923 - loss: 0.0262 - val_accuracy: 0.9778 - val_loss: 0.0856\n",
      "Epoch 10/20\n",
      "422/422 - 1s - 2ms/step - accuracy: 0.9930 - loss: 0.0237 - val_accuracy: 0.9790 - val_loss: 0.0911\n",
      "Epoch 11/20\n",
      "422/422 - 1s - 3ms/step - accuracy: 0.9946 - loss: 0.0184 - val_accuracy: 0.9793 - val_loss: 0.0877\n",
      "Epoch 12/20\n",
      "422/422 - 1s - 2ms/step - accuracy: 0.9961 - loss: 0.0134 - val_accuracy: 0.9797 - val_loss: 0.0874\n",
      "Epoch 13/20\n",
      "422/422 - 1s - 2ms/step - accuracy: 0.9961 - loss: 0.0131 - val_accuracy: 0.9787 - val_loss: 0.0985\n",
      "Epoch 14/20\n",
      "422/422 - 1s - 2ms/step - accuracy: 0.9956 - loss: 0.0140 - val_accuracy: 0.9793 - val_loss: 0.0978\n",
      "Epoch 15/20\n",
      "422/422 - 1s - 2ms/step - accuracy: 0.9963 - loss: 0.0119 - val_accuracy: 0.9758 - val_loss: 0.1238\n",
      "Epoch 16/20\n",
      "422/422 - 1s - 2ms/step - accuracy: 0.9966 - loss: 0.0114 - val_accuracy: 0.9800 - val_loss: 0.1047\n",
      "Epoch 17/20\n",
      "422/422 - 1s - 2ms/step - accuracy: 0.9983 - loss: 0.0063 - val_accuracy: 0.9808 - val_loss: 0.0957\n",
      "Epoch 18/20\n",
      "422/422 - 1s - 2ms/step - accuracy: 0.9980 - loss: 0.0065 - val_accuracy: 0.9782 - val_loss: 0.1089\n",
      "Epoch 19/20\n",
      "422/422 - 1s - 3ms/step - accuracy: 0.9957 - loss: 0.0121 - val_accuracy: 0.9792 - val_loss: 0.1125\n",
      "Epoch 20/20\n",
      "422/422 - 1s - 3ms/step - accuracy: 0.9972 - loss: 0.0085 - val_accuracy: 0.9792 - val_loss: 0.1152\n",
      "✅ Finished training SGD\n",
      "\n",
      "🔧 Training Dropout\n",
      "Epoch 1/20\n",
      "422/422 - 6s - 14ms/step - accuracy: 0.7472 - loss: 0.8020 - val_accuracy: 0.9432 - val_loss: 0.1969\n",
      "Epoch 2/20\n",
      "422/422 - 1s - 2ms/step - accuracy: 0.8913 - loss: 0.3844 - val_accuracy: 0.9585 - val_loss: 0.1484\n",
      "Epoch 3/20\n",
      "422/422 - 1s - 2ms/step - accuracy: 0.9111 - loss: 0.3176 - val_accuracy: 0.9627 - val_loss: 0.1280\n",
      "Epoch 4/20\n",
      "422/422 - 1s - 2ms/step - accuracy: 0.9226 - loss: 0.2771 - val_accuracy: 0.9673 - val_loss: 0.1146\n",
      "Epoch 5/20\n",
      "422/422 - 1s - 2ms/step - accuracy: 0.9291 - loss: 0.2497 - val_accuracy: 0.9698 - val_loss: 0.1056\n",
      "Epoch 6/20\n",
      "422/422 - 1s - 2ms/step - accuracy: 0.9349 - loss: 0.2347 - val_accuracy: 0.9723 - val_loss: 0.0980\n",
      "Epoch 7/20\n",
      "422/422 - 1s - 2ms/step - accuracy: 0.9394 - loss: 0.2159 - val_accuracy: 0.9738 - val_loss: 0.0949\n",
      "Epoch 8/20\n",
      "422/422 - 1s - 2ms/step - accuracy: 0.9424 - loss: 0.2044 - val_accuracy: 0.9727 - val_loss: 0.0909\n",
      "Epoch 9/20\n",
      "422/422 - 1s - 2ms/step - accuracy: 0.9453 - loss: 0.1941 - val_accuracy: 0.9728 - val_loss: 0.0954\n",
      "Epoch 10/20\n",
      "422/422 - 1s - 2ms/step - accuracy: 0.9454 - loss: 0.1882 - val_accuracy: 0.9747 - val_loss: 0.0883\n",
      "Epoch 11/20\n",
      "422/422 - 1s - 2ms/step - accuracy: 0.9484 - loss: 0.1834 - val_accuracy: 0.9752 - val_loss: 0.0885\n",
      "Epoch 12/20\n",
      "422/422 - 1s - 2ms/step - accuracy: 0.9497 - loss: 0.1766 - val_accuracy: 0.9762 - val_loss: 0.0849\n",
      "Epoch 13/20\n",
      "422/422 - 1s - 2ms/step - accuracy: 0.9521 - loss: 0.1695 - val_accuracy: 0.9762 - val_loss: 0.0844\n",
      "Epoch 14/20\n",
      "422/422 - 1s - 2ms/step - accuracy: 0.9527 - loss: 0.1655 - val_accuracy: 0.9748 - val_loss: 0.0919\n",
      "Epoch 15/20\n",
      "422/422 - 1s - 2ms/step - accuracy: 0.9539 - loss: 0.1588 - val_accuracy: 0.9757 - val_loss: 0.0820\n",
      "Epoch 16/20\n",
      "422/422 - 1s - 2ms/step - accuracy: 0.9534 - loss: 0.1596 - val_accuracy: 0.9767 - val_loss: 0.0849\n",
      "Epoch 17/20\n",
      "422/422 - 1s - 2ms/step - accuracy: 0.9557 - loss: 0.1559 - val_accuracy: 0.9748 - val_loss: 0.0857\n",
      "Epoch 18/20\n",
      "422/422 - 1s - 2ms/step - accuracy: 0.9560 - loss: 0.1533 - val_accuracy: 0.9773 - val_loss: 0.0834\n",
      "Epoch 19/20\n",
      "422/422 - 1s - 2ms/step - accuracy: 0.9569 - loss: 0.1514 - val_accuracy: 0.9780 - val_loss: 0.0823\n",
      "Epoch 20/20\n",
      "422/422 - 1s - 2ms/step - accuracy: 0.9572 - loss: 0.1503 - val_accuracy: 0.9753 - val_loss: 0.0845\n",
      "✅ Finished training Dropout\n",
      "📈 SGD senza regularizzazione Accuracy: 0.9790\n",
      "📈 SGD + Dropout (p=0.5) Accuracy: 0.9714\n"
     ]
    }
   ],
   "source": [
    "# %% [code]\n",
    "import tensorflow as tf\n",
    "import tensorflow_probability as tfp\n",
    "import numpy as np\n",
    "\n",
    "# ---- Copia delle funzioni dal primo notebook ----\n",
    "\n",
    "# 1️⃣ Costruzione dei modelli\n",
    "def build_sgd_model():\n",
    "    return tf.keras.Sequential([\n",
    "        tf.keras.layers.Dense(128, activation='relu'),\n",
    "        tf.keras.layers.Dense(64, activation='relu'),\n",
    "        tf.keras.layers.Dense(10)  # logits\n",
    "    ])\n",
    "\n",
    "def build_dropout_model():\n",
    "    return tf.keras.Sequential([\n",
    "        tf.keras.layers.Dense(128, activation='relu'),\n",
    "        tf.keras.layers.Dropout(0.5),\n",
    "        tf.keras.layers.Dense(64, activation='relu'),\n",
    "        tf.keras.layers.Dropout(0.5),\n",
    "        tf.keras.layers.Dense(10)\n",
    "    ])\n",
    "\n",
    "# 2️⃣ Funzione di training\n",
    "def train_model(model, name, x_train, y_train, epochs=10):\n",
    "    model.compile(\n",
    "        optimizer=tf.keras.optimizers.Adam(),\n",
    "        loss=tf.keras.losses.SparseCategoricalCrossentropy(from_logits=True),\n",
    "        metrics=['accuracy']\n",
    "    )\n",
    "    print(f\"\\n🔧 Training {name}\")\n",
    "    model.fit(x_train, y_train,\n",
    "              batch_size=128,\n",
    "              epochs=epochs,\n",
    "              validation_split=0.1,\n",
    "              verbose=2)\n",
    "    print(f\"✅ Finished training {name}\")\n",
    "    return model\n",
    "\n",
    "\n",
    "# Allenamento SGD puro\n",
    "sgd_model = train_model(build_sgd_model(), \"SGD\", x_train_tf, y_train_tf, epochs=NUM_EPOCHS_SGD)\n",
    "\n",
    "# %% [code]\n",
    "# %% [code]\n",
    "# Allenamento SGD + Dropout\n",
    "dropout_model = train_model(build_dropout_model(), \"Dropout\", x_train_tf, y_train_tf, epochs=NUM_EPOCHS_SGD)\n",
    "loss_sgd, acc_sgd = sgd_model.evaluate(x_test_tf, y_test_tf, verbose=0)\n",
    "loss_do,  acc_do  = dropout_model.evaluate(x_test_tf, y_test_tf, verbose=0)\n",
    "\n",
    "print(f\"📈 SGD senza regularizzazione Accuracy: {acc_sgd:.4f}\")\n",
    "print(f\"📈 SGD + Dropout (p=0.5) Accuracy: {acc_do:.4f}\")"
   ]
  },
  {
   "cell_type": "markdown",
   "id": "bad2c831",
   "metadata": {
    "_cell_guid": "e5297a43-d1fe-417b-85d9-585e8ea883cd",
    "_uuid": "bb7b7deb-33d3-4b7e-a426-076cc80c5923",
    "collapsed": false,
    "jupyter": {
     "outputs_hidden": false
    },
    "papermill": {
     "duration": 0.00802,
     "end_time": "2025-06-07T10:32:58.134786",
     "exception": false,
     "start_time": "2025-06-07T10:32:58.126766",
     "status": "completed"
    },
    "tags": []
   },
   "source": [
    "## SGD con Dropout"
   ]
  },
  {
   "cell_type": "code",
   "execution_count": 6,
   "id": "e6670cdd",
   "metadata": {
    "_cell_guid": "f98bae41-7c3b-4869-9ed7-115cd59e555c",
    "_uuid": "23abeb35-df4e-43d4-b4a2-37c3878f538a",
    "collapsed": false,
    "execution": {
     "iopub.execute_input": "2025-06-07T10:32:58.152599Z",
     "iopub.status.busy": "2025-06-07T10:32:58.152344Z",
     "iopub.status.idle": "2025-06-07T10:32:58.158349Z",
     "shell.execute_reply": "2025-06-07T10:32:58.157782Z"
    },
    "jupyter": {
     "outputs_hidden": false
    },
    "papermill": {
     "duration": 0.016486,
     "end_time": "2025-06-07T10:32:58.159424",
     "exception": false,
     "start_time": "2025-06-07T10:32:58.142938",
     "status": "completed"
    },
    "tags": []
   },
   "outputs": [
    {
     "data": {
      "text/plain": [
       "'model_do = FFNetDropout(INPUT_DIM, HIDDEN_DIM, OUTPUT_DIM, p=0.5).to(device)\\noptimizer_do = optim.SGD(model_do.parameters(), lr=LR)\\nbest_test_acc_do = 0.0\\n\\nfor epoch in trange(NUM_EPOCHS, desc=\"SGD + Dropout\", leave=True):\\n    model_do.train()\\n    running_loss = 0.0\\n    total_train = 0\\n    correct_train = 0\\n    num_batches = len(train_loader)\\n\\n    # --- Fase di training ---\\n    for data, target in tqdm(train_loader, desc=f\"Epoca {epoch+1}/{NUM_EPOCHS}\", leave=False):\\n        data = data.to(device, non_blocking=True)\\n        target = target.to(device, non_blocking=True)\\n\\n        optimizer_do.zero_grad()\\n        output = model_do(data)\\n        loss = criterion(output, target)\\n        loss.backward()\\n        optimizer_do.step()\\n\\n        running_loss += loss.item()\\n        preds = output.argmax(dim=1)\\n        correct_train += (preds == target).sum().item()\\n        total_train += target.size(0)\\n\\n    train_acc = correct_train / total_train * 100\\n\\n    # --- Valutazione su test (Dropout disabilitato in eval) ---\\n    model_do.eval()\\n    correct_test = 0\\n    total_test = 0\\n    with torch.no_grad():\\n        for data, target in test_loader:\\n            data = data.to(device, non_blocking=True)\\n            target = target.to(device, non_blocking=True)\\n            logits = model_do(data)\\n            preds = logits.argmax(dim=1)\\n            correct_test += (preds == target).sum().item()\\n            total_test += target.size(0)\\n\\n    test_acc = correct_test / total_test * 100\\n    if test_acc > best_test_acc_do:\\n        best_test_acc_do = test_acc\\n\\n    # Stampa delle metriche a fine epoca\\n    print(\\n        f\"Epoch {epoch+1:03d}/{NUM_EPOCHS} | \"\\n        f\"Train Loss = {running_loss/num_batches:.4f} | \"\\n        f\"Train Acc = {train_acc:.2f}% | \"\\n        f\"Test Acc = {test_acc:.2f}%\"\\n    )\\n\\nprint(f\"\\n✅ SGD + Dropout (p=0.5) → Best Test Acc = {best_test_acc_do:.2f}%\")'"
      ]
     },
     "execution_count": 6,
     "metadata": {},
     "output_type": "execute_result"
    }
   ],
   "source": [
    "# ------------------------------------------------------------\n",
    "# 🎯 Allenamento: SGD con Dropout p=0.5\n",
    "# ------------------------------------------------------------\n",
    "'''model_do = FFNetDropout(INPUT_DIM, HIDDEN_DIM, OUTPUT_DIM, p=0.5).to(device)\n",
    "optimizer_do = optim.SGD(model_do.parameters(), lr=LR)\n",
    "best_test_acc_do = 0.0\n",
    "\n",
    "for epoch in trange(NUM_EPOCHS, desc=\"SGD + Dropout\", leave=True):\n",
    "    model_do.train()\n",
    "    running_loss = 0.0\n",
    "    total_train = 0\n",
    "    correct_train = 0\n",
    "    num_batches = len(train_loader)\n",
    "\n",
    "    # --- Fase di training ---\n",
    "    for data, target in tqdm(train_loader, desc=f\"Epoca {epoch+1}/{NUM_EPOCHS}\", leave=False):\n",
    "        data = data.to(device, non_blocking=True)\n",
    "        target = target.to(device, non_blocking=True)\n",
    "\n",
    "        optimizer_do.zero_grad()\n",
    "        output = model_do(data)\n",
    "        loss = criterion(output, target)\n",
    "        loss.backward()\n",
    "        optimizer_do.step()\n",
    "\n",
    "        running_loss += loss.item()\n",
    "        preds = output.argmax(dim=1)\n",
    "        correct_train += (preds == target).sum().item()\n",
    "        total_train += target.size(0)\n",
    "\n",
    "    train_acc = correct_train / total_train * 100\n",
    "\n",
    "    # --- Valutazione su test (Dropout disabilitato in eval) ---\n",
    "    model_do.eval()\n",
    "    correct_test = 0\n",
    "    total_test = 0\n",
    "    with torch.no_grad():\n",
    "        for data, target in test_loader:\n",
    "            data = data.to(device, non_blocking=True)\n",
    "            target = target.to(device, non_blocking=True)\n",
    "            logits = model_do(data)\n",
    "            preds = logits.argmax(dim=1)\n",
    "            correct_test += (preds == target).sum().item()\n",
    "            total_test += target.size(0)\n",
    "\n",
    "    test_acc = correct_test / total_test * 100\n",
    "    if test_acc > best_test_acc_do:\n",
    "        best_test_acc_do = test_acc\n",
    "\n",
    "    # Stampa delle metriche a fine epoca\n",
    "    print(\n",
    "        f\"Epoch {epoch+1:03d}/{NUM_EPOCHS} | \"\n",
    "        f\"Train Loss = {running_loss/num_batches:.4f} | \"\n",
    "        f\"Train Acc = {train_acc:.2f}% | \"\n",
    "        f\"Test Acc = {test_acc:.2f}%\"\n",
    "    )\n",
    "\n",
    "print(f\"\\n✅ SGD + Dropout (p=0.5) → Best Test Acc = {best_test_acc_do:.2f}%\")'''"
   ]
  },
  {
   "cell_type": "markdown",
   "id": "8cd886dc",
   "metadata": {
    "_cell_guid": "0bd0afe3-19cd-4dab-9f9c-0a1324c71de7",
    "_uuid": "93c6ae86-7736-4407-85f1-cb3edb71a6f4",
    "collapsed": false,
    "jupyter": {
     "outputs_hidden": false
    },
    "papermill": {
     "duration": 0.008105,
     "end_time": "2025-06-07T10:32:58.176078",
     "exception": false,
     "start_time": "2025-06-07T10:32:58.167973",
     "status": "completed"
    },
    "tags": []
   },
   "source": [
    "## 🔄 Allenamento Bayes by Backprop per ogni combinazione di (π, σ₁, σ₂)\n",
    "Qui usiamo barre di avanzamento con tqdm sia per le epoche che per i batch."
   ]
  },
  {
   "cell_type": "code",
   "execution_count": 7,
   "id": "e9684744",
   "metadata": {
    "_cell_guid": "15c08c1b-6fa4-4b51-bc88-889a1d341f53",
    "_uuid": "5137ae04-770b-45ae-adb6-ff26b7b03d1f",
    "collapsed": false,
    "execution": {
     "iopub.execute_input": "2025-06-07T10:32:58.193847Z",
     "iopub.status.busy": "2025-06-07T10:32:58.193279Z",
     "iopub.status.idle": "2025-06-07T11:10:07.998733Z",
     "shell.execute_reply": "2025-06-07T11:10:07.997634Z"
    },
    "jupyter": {
     "outputs_hidden": false
    },
    "papermill": {
     "duration": 2229.815846,
     "end_time": "2025-06-07T11:10:08.000279",
     "exception": false,
     "start_time": "2025-06-07T10:32:58.184433",
     "status": "completed"
    },
    "tags": []
   },
   "outputs": [
    {
     "name": "stderr",
     "output_type": "stream",
     "text": [
      "BBB π=0.75 σ₁=1.4e-01 σ₂=2.5e-03:   0%|          | 1/600 [00:04<48:25,  4.85s/it]"
     ]
    },
    {
     "name": "stdout",
     "output_type": "stream",
     "text": [
      "  Epoca 01/600 | Train Loss=7.4942 | Train Acc=10.27% | Test Acc=17.64%\n"
     ]
    },
    {
     "name": "stderr",
     "output_type": "stream",
     "text": [
      "BBB π=0.75 σ₁=1.4e-01 σ₂=2.5e-03:   0%|          | 2/600 [00:08<41:12,  4.13s/it]"
     ]
    },
    {
     "name": "stdout",
     "output_type": "stream",
     "text": [
      "  Epoca 02/600 | Train Loss=7.3670 | Train Acc=12.12% | Test Acc=31.57%\n"
     ]
    },
    {
     "name": "stderr",
     "output_type": "stream",
     "text": [
      "BBB π=0.75 σ₁=1.4e-01 σ₂=2.5e-03:   0%|          | 3/600 [00:12<39:03,  3.93s/it]"
     ]
    },
    {
     "name": "stdout",
     "output_type": "stream",
     "text": [
      "  Epoca 03/600 | Train Loss=6.8498 | Train Acc=32.39% | Test Acc=59.31%\n"
     ]
    },
    {
     "name": "stderr",
     "output_type": "stream",
     "text": [
      "BBB π=0.75 σ₁=1.4e-01 σ₂=2.5e-03:   1%|          | 4/600 [00:15<38:04,  3.83s/it]"
     ]
    },
    {
     "name": "stdout",
     "output_type": "stream",
     "text": [
      "  Epoca 04/600 | Train Loss=6.0920 | Train Acc=57.55% | Test Acc=73.08%\n"
     ]
    },
    {
     "name": "stderr",
     "output_type": "stream",
     "text": [
      "BBB π=0.75 σ₁=1.4e-01 σ₂=2.5e-03:   1%|          | 5/600 [00:19<37:10,  3.75s/it]"
     ]
    },
    {
     "name": "stdout",
     "output_type": "stream",
     "text": [
      "  Epoca 05/600 | Train Loss=5.7439 | Train Acc=70.81% | Test Acc=83.62%\n"
     ]
    },
    {
     "name": "stderr",
     "output_type": "stream",
     "text": [
      "BBB π=0.75 σ₁=1.4e-01 σ₂=2.5e-03:   1%|          | 6/600 [00:23<37:13,  3.76s/it]"
     ]
    },
    {
     "name": "stdout",
     "output_type": "stream",
     "text": [
      "  Epoca 06/600 | Train Loss=5.5026 | Train Acc=78.50% | Test Acc=86.83%\n"
     ]
    },
    {
     "name": "stderr",
     "output_type": "stream",
     "text": [
      "BBB π=0.75 σ₁=1.4e-01 σ₂=2.5e-03:   1%|          | 7/600 [00:26<36:42,  3.71s/it]"
     ]
    },
    {
     "name": "stdout",
     "output_type": "stream",
     "text": [
      "  Epoca 07/600 | Train Loss=5.3240 | Train Acc=82.89% | Test Acc=88.76%\n"
     ]
    },
    {
     "name": "stderr",
     "output_type": "stream",
     "text": [
      "BBB π=0.75 σ₁=1.4e-01 σ₂=2.5e-03:   1%|▏         | 8/600 [00:30<36:44,  3.72s/it]"
     ]
    },
    {
     "name": "stdout",
     "output_type": "stream",
     "text": [
      "  Epoca 08/600 | Train Loss=5.1885 | Train Acc=85.50% | Test Acc=89.84%\n"
     ]
    },
    {
     "name": "stderr",
     "output_type": "stream",
     "text": [
      "BBB π=0.75 σ₁=1.4e-01 σ₂=2.5e-03:   2%|▏         | 9/600 [00:34<37:20,  3.79s/it]"
     ]
    },
    {
     "name": "stdout",
     "output_type": "stream",
     "text": [
      "  Epoca 09/600 | Train Loss=5.0769 | Train Acc=86.80% | Test Acc=90.37%\n"
     ]
    },
    {
     "name": "stderr",
     "output_type": "stream",
     "text": [
      "BBB π=0.75 σ₁=1.4e-01 σ₂=2.5e-03:   2%|▏         | 10/600 [00:38<37:55,  3.86s/it]"
     ]
    },
    {
     "name": "stdout",
     "output_type": "stream",
     "text": [
      "  Epoca 10/600 | Train Loss=4.9757 | Train Acc=87.81% | Test Acc=91.33%\n"
     ]
    },
    {
     "name": "stderr",
     "output_type": "stream",
     "text": [
      "BBB π=0.75 σ₁=1.4e-01 σ₂=2.5e-03:   2%|▏         | 11/600 [00:42<37:19,  3.80s/it]"
     ]
    },
    {
     "name": "stdout",
     "output_type": "stream",
     "text": [
      "  Epoca 11/600 | Train Loss=4.8845 | Train Acc=88.89% | Test Acc=91.75%\n"
     ]
    },
    {
     "name": "stderr",
     "output_type": "stream",
     "text": [
      "BBB π=0.75 σ₁=1.4e-01 σ₂=2.5e-03:   2%|▏         | 12/600 [00:45<36:53,  3.77s/it]"
     ]
    },
    {
     "name": "stdout",
     "output_type": "stream",
     "text": [
      "  Epoca 12/600 | Train Loss=4.7910 | Train Acc=89.71% | Test Acc=92.79%\n"
     ]
    },
    {
     "name": "stderr",
     "output_type": "stream",
     "text": [
      "BBB π=0.75 σ₁=1.4e-01 σ₂=2.5e-03:   2%|▏         | 13/600 [00:49<36:27,  3.73s/it]"
     ]
    },
    {
     "name": "stdout",
     "output_type": "stream",
     "text": [
      "  Epoca 13/600 | Train Loss=4.7046 | Train Acc=90.27% | Test Acc=92.80%\n"
     ]
    },
    {
     "name": "stderr",
     "output_type": "stream",
     "text": [
      "BBB π=0.75 σ₁=1.4e-01 σ₂=2.5e-03:   2%|▏         | 14/600 [00:53<36:21,  3.72s/it]"
     ]
    },
    {
     "name": "stdout",
     "output_type": "stream",
     "text": [
      "  Epoca 14/600 | Train Loss=4.6148 | Train Acc=91.11% | Test Acc=93.43%\n"
     ]
    },
    {
     "name": "stderr",
     "output_type": "stream",
     "text": [
      "BBB π=0.75 σ₁=1.4e-01 σ₂=2.5e-03:   2%|▎         | 15/600 [00:56<35:56,  3.69s/it]"
     ]
    },
    {
     "name": "stdout",
     "output_type": "stream",
     "text": [
      "  Epoca 15/600 | Train Loss=4.5443 | Train Acc=91.40% | Test Acc=93.47%\n"
     ]
    },
    {
     "name": "stderr",
     "output_type": "stream",
     "text": [
      "BBB π=0.75 σ₁=1.4e-01 σ₂=2.5e-03:   3%|▎         | 16/600 [01:00<35:43,  3.67s/it]"
     ]
    },
    {
     "name": "stdout",
     "output_type": "stream",
     "text": [
      "  Epoca 16/600 | Train Loss=4.4671 | Train Acc=91.70% | Test Acc=94.47%\n"
     ]
    },
    {
     "name": "stderr",
     "output_type": "stream",
     "text": [
      "BBB π=0.75 σ₁=1.4e-01 σ₂=2.5e-03:   3%|▎         | 17/600 [01:04<35:52,  3.69s/it]"
     ]
    },
    {
     "name": "stdout",
     "output_type": "stream",
     "text": [
      "  Epoca 17/600 | Train Loss=4.3972 | Train Acc=92.03% | Test Acc=94.37%\n"
     ]
    },
    {
     "name": "stderr",
     "output_type": "stream",
     "text": [
      "BBB π=0.75 σ₁=1.4e-01 σ₂=2.5e-03:   3%|▎         | 18/600 [01:07<35:50,  3.70s/it]"
     ]
    },
    {
     "name": "stdout",
     "output_type": "stream",
     "text": [
      "  Epoca 18/600 | Train Loss=4.3277 | Train Acc=92.41% | Test Acc=94.47%\n"
     ]
    },
    {
     "name": "stderr",
     "output_type": "stream",
     "text": [
      "BBB π=0.75 σ₁=1.4e-01 σ₂=2.5e-03:   3%|▎         | 19/600 [01:11<36:40,  3.79s/it]"
     ]
    },
    {
     "name": "stdout",
     "output_type": "stream",
     "text": [
      "  Epoca 19/600 | Train Loss=4.2541 | Train Acc=92.73% | Test Acc=94.73%\n"
     ]
    },
    {
     "name": "stderr",
     "output_type": "stream",
     "text": [
      "BBB π=0.75 σ₁=1.4e-01 σ₂=2.5e-03:   3%|▎         | 20/600 [01:15<36:10,  3.74s/it]"
     ]
    },
    {
     "name": "stdout",
     "output_type": "stream",
     "text": [
      "  Epoca 20/600 | Train Loss=4.1910 | Train Acc=92.81% | Test Acc=94.40%\n"
     ]
    },
    {
     "name": "stderr",
     "output_type": "stream",
     "text": [
      "BBB π=0.75 σ₁=1.4e-01 σ₂=2.5e-03:   4%|▎         | 21/600 [01:19<35:45,  3.71s/it]"
     ]
    },
    {
     "name": "stdout",
     "output_type": "stream",
     "text": [
      "  Epoca 21/600 | Train Loss=4.1303 | Train Acc=93.00% | Test Acc=95.30%\n"
     ]
    },
    {
     "name": "stderr",
     "output_type": "stream",
     "text": [
      "BBB π=0.75 σ₁=1.4e-01 σ₂=2.5e-03:   4%|▎         | 22/600 [01:22<35:46,  3.71s/it]"
     ]
    },
    {
     "name": "stdout",
     "output_type": "stream",
     "text": [
      "  Epoca 22/600 | Train Loss=4.0662 | Train Acc=93.25% | Test Acc=95.14%\n"
     ]
    },
    {
     "name": "stderr",
     "output_type": "stream",
     "text": [
      "BBB π=0.75 σ₁=1.4e-01 σ₂=2.5e-03:   4%|▍         | 23/600 [01:26<35:22,  3.68s/it]"
     ]
    },
    {
     "name": "stdout",
     "output_type": "stream",
     "text": [
      "  Epoca 23/600 | Train Loss=4.0131 | Train Acc=93.24% | Test Acc=95.28%\n"
     ]
    },
    {
     "name": "stderr",
     "output_type": "stream",
     "text": [
      "BBB π=0.75 σ₁=1.4e-01 σ₂=2.5e-03:   4%|▍         | 24/600 [01:30<35:05,  3.66s/it]"
     ]
    },
    {
     "name": "stdout",
     "output_type": "stream",
     "text": [
      "  Epoca 24/600 | Train Loss=3.9497 | Train Acc=93.64% | Test Acc=95.43%\n"
     ]
    },
    {
     "name": "stderr",
     "output_type": "stream",
     "text": [
      "BBB π=0.75 σ₁=1.4e-01 σ₂=2.5e-03:   4%|▍         | 25/600 [01:33<35:22,  3.69s/it]"
     ]
    },
    {
     "name": "stdout",
     "output_type": "stream",
     "text": [
      "  Epoca 25/600 | Train Loss=3.8897 | Train Acc=93.82% | Test Acc=95.66%\n"
     ]
    },
    {
     "name": "stderr",
     "output_type": "stream",
     "text": [
      "BBB π=0.75 σ₁=1.4e-01 σ₂=2.5e-03:   4%|▍         | 26/600 [01:37<35:04,  3.67s/it]"
     ]
    },
    {
     "name": "stdout",
     "output_type": "stream",
     "text": [
      "  Epoca 26/600 | Train Loss=3.8374 | Train Acc=93.89% | Test Acc=95.84%\n"
     ]
    },
    {
     "name": "stderr",
     "output_type": "stream",
     "text": [
      "BBB π=0.75 σ₁=1.4e-01 σ₂=2.5e-03:   4%|▍         | 27/600 [01:41<35:46,  3.75s/it]"
     ]
    },
    {
     "name": "stdout",
     "output_type": "stream",
     "text": [
      "  Epoca 27/600 | Train Loss=3.7876 | Train Acc=93.95% | Test Acc=95.39%\n"
     ]
    },
    {
     "name": "stderr",
     "output_type": "stream",
     "text": [
      "BBB π=0.75 σ₁=1.4e-01 σ₂=2.5e-03:   5%|▍         | 28/600 [01:45<35:50,  3.76s/it]"
     ]
    },
    {
     "name": "stdout",
     "output_type": "stream",
     "text": [
      "  Epoca 28/600 | Train Loss=3.7392 | Train Acc=93.84% | Test Acc=96.05%\n"
     ]
    },
    {
     "name": "stderr",
     "output_type": "stream",
     "text": [
      "BBB π=0.75 σ₁=1.4e-01 σ₂=2.5e-03:   5%|▍         | 29/600 [01:48<35:20,  3.71s/it]"
     ]
    },
    {
     "name": "stdout",
     "output_type": "stream",
     "text": [
      "  Epoca 29/600 | Train Loss=3.6846 | Train Acc=94.21% | Test Acc=96.08%\n"
     ]
    },
    {
     "name": "stderr",
     "output_type": "stream",
     "text": [
      "BBB π=0.75 σ₁=1.4e-01 σ₂=2.5e-03:   5%|▌         | 30/600 [01:52<35:15,  3.71s/it]"
     ]
    },
    {
     "name": "stdout",
     "output_type": "stream",
     "text": [
      "  Epoca 30/600 | Train Loss=3.6383 | Train Acc=94.25% | Test Acc=96.39%\n"
     ]
    },
    {
     "name": "stderr",
     "output_type": "stream",
     "text": [
      "BBB π=0.75 σ₁=1.4e-01 σ₂=2.5e-03:   5%|▌         | 31/600 [01:56<34:57,  3.69s/it]"
     ]
    },
    {
     "name": "stdout",
     "output_type": "stream",
     "text": [
      "  Epoca 31/600 | Train Loss=3.5889 | Train Acc=94.35% | Test Acc=95.98%\n"
     ]
    },
    {
     "name": "stderr",
     "output_type": "stream",
     "text": [
      "BBB π=0.75 σ₁=1.4e-01 σ₂=2.5e-03:   5%|▌         | 32/600 [01:59<34:48,  3.68s/it]"
     ]
    },
    {
     "name": "stdout",
     "output_type": "stream",
     "text": [
      "  Epoca 32/600 | Train Loss=3.5474 | Train Acc=94.30% | Test Acc=96.19%\n"
     ]
    },
    {
     "name": "stderr",
     "output_type": "stream",
     "text": [
      "BBB π=0.75 σ₁=1.4e-01 σ₂=2.5e-03:   6%|▌         | 33/600 [02:03<35:00,  3.71s/it]"
     ]
    },
    {
     "name": "stdout",
     "output_type": "stream",
     "text": [
      "  Epoca 33/600 | Train Loss=3.5014 | Train Acc=94.52% | Test Acc=96.34%\n"
     ]
    },
    {
     "name": "stderr",
     "output_type": "stream",
     "text": [
      "BBB π=0.75 σ₁=1.4e-01 σ₂=2.5e-03:   6%|▌         | 34/600 [02:07<35:01,  3.71s/it]"
     ]
    },
    {
     "name": "stdout",
     "output_type": "stream",
     "text": [
      "  Epoca 34/600 | Train Loss=3.4566 | Train Acc=94.64% | Test Acc=96.47%\n"
     ]
    },
    {
     "name": "stderr",
     "output_type": "stream",
     "text": [
      "BBB π=0.75 σ₁=1.4e-01 σ₂=2.5e-03:   6%|▌         | 35/600 [02:11<34:53,  3.71s/it]"
     ]
    },
    {
     "name": "stdout",
     "output_type": "stream",
     "text": [
      "  Epoca 35/600 | Train Loss=3.4145 | Train Acc=94.72% | Test Acc=96.46%\n"
     ]
    },
    {
     "name": "stderr",
     "output_type": "stream",
     "text": [
      "BBB π=0.75 σ₁=1.4e-01 σ₂=2.5e-03:   6%|▌         | 36/600 [02:15<36:17,  3.86s/it]"
     ]
    },
    {
     "name": "stdout",
     "output_type": "stream",
     "text": [
      "  Epoca 36/600 | Train Loss=3.3789 | Train Acc=94.56% | Test Acc=96.55%\n"
     ]
    },
    {
     "name": "stderr",
     "output_type": "stream",
     "text": [
      "BBB π=0.75 σ₁=1.4e-01 σ₂=2.5e-03:   6%|▌         | 37/600 [02:18<35:27,  3.78s/it]"
     ]
    },
    {
     "name": "stdout",
     "output_type": "stream",
     "text": [
      "  Epoca 37/600 | Train Loss=3.3374 | Train Acc=94.77% | Test Acc=96.57%\n"
     ]
    },
    {
     "name": "stderr",
     "output_type": "stream",
     "text": [
      "BBB π=0.75 σ₁=1.4e-01 σ₂=2.5e-03:   6%|▋         | 38/600 [02:22<35:22,  3.78s/it]"
     ]
    },
    {
     "name": "stdout",
     "output_type": "stream",
     "text": [
      "  Epoca 38/600 | Train Loss=3.3004 | Train Acc=94.76% | Test Acc=96.13%\n"
     ]
    },
    {
     "name": "stderr",
     "output_type": "stream",
     "text": [
      "BBB π=0.75 σ₁=1.4e-01 σ₂=2.5e-03:   6%|▋         | 39/600 [02:26<34:57,  3.74s/it]"
     ]
    },
    {
     "name": "stdout",
     "output_type": "stream",
     "text": [
      "  Epoca 39/600 | Train Loss=3.2621 | Train Acc=94.77% | Test Acc=96.73%\n"
     ]
    },
    {
     "name": "stderr",
     "output_type": "stream",
     "text": [
      "BBB π=0.75 σ₁=1.4e-01 σ₂=2.5e-03:   7%|▋         | 40/600 [02:29<34:39,  3.71s/it]"
     ]
    },
    {
     "name": "stdout",
     "output_type": "stream",
     "text": [
      "  Epoca 40/600 | Train Loss=3.2273 | Train Acc=94.82% | Test Acc=96.42%\n"
     ]
    },
    {
     "name": "stderr",
     "output_type": "stream",
     "text": [
      "BBB π=0.75 σ₁=1.4e-01 σ₂=2.5e-03:   7%|▋         | 41/600 [02:33<34:44,  3.73s/it]"
     ]
    },
    {
     "name": "stdout",
     "output_type": "stream",
     "text": [
      "  Epoca 41/600 | Train Loss=3.1952 | Train Acc=94.91% | Test Acc=96.67%\n"
     ]
    },
    {
     "name": "stderr",
     "output_type": "stream",
     "text": [
      "BBB π=0.75 σ₁=1.4e-01 σ₂=2.5e-03:   7%|▋         | 42/600 [02:37<34:23,  3.70s/it]"
     ]
    },
    {
     "name": "stdout",
     "output_type": "stream",
     "text": [
      "  Epoca 42/600 | Train Loss=3.1566 | Train Acc=95.05% | Test Acc=96.62%\n"
     ]
    },
    {
     "name": "stderr",
     "output_type": "stream",
     "text": [
      "BBB π=0.75 σ₁=1.4e-01 σ₂=2.5e-03:   7%|▋         | 43/600 [02:40<34:11,  3.68s/it]"
     ]
    },
    {
     "name": "stdout",
     "output_type": "stream",
     "text": [
      "  Epoca 43/600 | Train Loss=3.1225 | Train Acc=95.19% | Test Acc=96.40%\n"
     ]
    },
    {
     "name": "stderr",
     "output_type": "stream",
     "text": [
      "BBB π=0.75 σ₁=1.4e-01 σ₂=2.5e-03:   7%|▋         | 44/600 [02:44<34:24,  3.71s/it]"
     ]
    },
    {
     "name": "stdout",
     "output_type": "stream",
     "text": [
      "  Epoca 44/600 | Train Loss=3.0979 | Train Acc=94.95% | Test Acc=96.80%\n"
     ]
    },
    {
     "name": "stderr",
     "output_type": "stream",
     "text": [
      "BBB π=0.75 σ₁=1.4e-01 σ₂=2.5e-03:   8%|▊         | 45/600 [02:48<35:26,  3.83s/it]"
     ]
    },
    {
     "name": "stdout",
     "output_type": "stream",
     "text": [
      "  Epoca 45/600 | Train Loss=3.0645 | Train Acc=95.10% | Test Acc=96.75%\n"
     ]
    },
    {
     "name": "stderr",
     "output_type": "stream",
     "text": [
      "BBB π=0.75 σ₁=1.4e-01 σ₂=2.5e-03:   8%|▊         | 46/600 [02:52<35:07,  3.80s/it]"
     ]
    },
    {
     "name": "stdout",
     "output_type": "stream",
     "text": [
      "  Epoca 46/600 | Train Loss=3.0404 | Train Acc=95.04% | Test Acc=96.80%\n"
     ]
    },
    {
     "name": "stderr",
     "output_type": "stream",
     "text": [
      "BBB π=0.75 σ₁=1.4e-01 σ₂=2.5e-03:   8%|▊         | 47/600 [02:56<34:30,  3.74s/it]"
     ]
    },
    {
     "name": "stdout",
     "output_type": "stream",
     "text": [
      "  Epoca 47/600 | Train Loss=3.0065 | Train Acc=95.22% | Test Acc=97.05%\n"
     ]
    },
    {
     "name": "stderr",
     "output_type": "stream",
     "text": [
      "BBB π=0.75 σ₁=1.4e-01 σ₂=2.5e-03:   8%|▊         | 48/600 [02:59<34:05,  3.71s/it]"
     ]
    },
    {
     "name": "stdout",
     "output_type": "stream",
     "text": [
      "  Epoca 48/600 | Train Loss=2.9799 | Train Acc=95.21% | Test Acc=96.88%\n"
     ]
    },
    {
     "name": "stderr",
     "output_type": "stream",
     "text": [
      "BBB π=0.75 σ₁=1.4e-01 σ₂=2.5e-03:   8%|▊         | 49/600 [03:03<34:04,  3.71s/it]"
     ]
    },
    {
     "name": "stdout",
     "output_type": "stream",
     "text": [
      "  Epoca 49/600 | Train Loss=2.9559 | Train Acc=95.20% | Test Acc=96.86%\n"
     ]
    },
    {
     "name": "stderr",
     "output_type": "stream",
     "text": [
      "BBB π=0.75 σ₁=1.4e-01 σ₂=2.5e-03:   8%|▊         | 50/600 [03:07<33:48,  3.69s/it]"
     ]
    },
    {
     "name": "stdout",
     "output_type": "stream",
     "text": [
      "  Epoca 50/600 | Train Loss=2.9216 | Train Acc=95.35% | Test Acc=96.98%\n"
     ]
    },
    {
     "name": "stderr",
     "output_type": "stream",
     "text": [
      "BBB π=0.75 σ₁=1.4e-01 σ₂=2.5e-03:   8%|▊         | 51/600 [03:10<33:32,  3.67s/it]"
     ]
    },
    {
     "name": "stdout",
     "output_type": "stream",
     "text": [
      "  Epoca 51/600 | Train Loss=2.9007 | Train Acc=95.26% | Test Acc=97.01%\n"
     ]
    },
    {
     "name": "stderr",
     "output_type": "stream",
     "text": [
      "BBB π=0.75 σ₁=1.4e-01 σ₂=2.5e-03:   9%|▊         | 52/600 [03:14<33:42,  3.69s/it]"
     ]
    },
    {
     "name": "stdout",
     "output_type": "stream",
     "text": [
      "  Epoca 52/600 | Train Loss=2.8765 | Train Acc=95.39% | Test Acc=97.05%\n"
     ]
    },
    {
     "name": "stderr",
     "output_type": "stream",
     "text": [
      "BBB π=0.75 σ₁=1.4e-01 σ₂=2.5e-03:   9%|▉         | 53/600 [03:18<33:31,  3.68s/it]"
     ]
    },
    {
     "name": "stdout",
     "output_type": "stream",
     "text": [
      "  Epoca 53/600 | Train Loss=2.8514 | Train Acc=95.41% | Test Acc=97.17%\n"
     ]
    },
    {
     "name": "stderr",
     "output_type": "stream",
     "text": [
      "BBB π=0.75 σ₁=1.4e-01 σ₂=2.5e-03:   9%|▉         | 54/600 [03:22<34:47,  3.82s/it]"
     ]
    },
    {
     "name": "stdout",
     "output_type": "stream",
     "text": [
      "  Epoca 54/600 | Train Loss=2.8354 | Train Acc=95.18% | Test Acc=97.06%\n"
     ]
    },
    {
     "name": "stderr",
     "output_type": "stream",
     "text": [
      "BBB π=0.75 σ₁=1.4e-01 σ₂=2.5e-03:   9%|▉         | 55/600 [03:25<34:11,  3.76s/it]"
     ]
    },
    {
     "name": "stdout",
     "output_type": "stream",
     "text": [
      "  Epoca 55/600 | Train Loss=2.8112 | Train Acc=95.32% | Test Acc=97.16%\n"
     ]
    },
    {
     "name": "stderr",
     "output_type": "stream",
     "text": [
      "BBB π=0.75 σ₁=1.4e-01 σ₂=2.5e-03:   9%|▉         | 56/600 [03:29<33:48,  3.73s/it]"
     ]
    },
    {
     "name": "stdout",
     "output_type": "stream",
     "text": [
      "  Epoca 56/600 | Train Loss=2.7855 | Train Acc=95.48% | Test Acc=97.18%\n"
     ]
    },
    {
     "name": "stderr",
     "output_type": "stream",
     "text": [
      "BBB π=0.75 σ₁=1.4e-01 σ₂=2.5e-03:  10%|▉         | 57/600 [03:33<33:44,  3.73s/it]"
     ]
    },
    {
     "name": "stdout",
     "output_type": "stream",
     "text": [
      "  Epoca 57/600 | Train Loss=2.7665 | Train Acc=95.39% | Test Acc=97.01%\n"
     ]
    },
    {
     "name": "stderr",
     "output_type": "stream",
     "text": [
      "BBB π=0.75 σ₁=1.4e-01 σ₂=2.5e-03:  10%|▉         | 58/600 [03:36<33:19,  3.69s/it]"
     ]
    },
    {
     "name": "stdout",
     "output_type": "stream",
     "text": [
      "  Epoca 58/600 | Train Loss=2.7457 | Train Acc=95.42% | Test Acc=97.18%\n"
     ]
    },
    {
     "name": "stderr",
     "output_type": "stream",
     "text": [
      "BBB π=0.75 σ₁=1.4e-01 σ₂=2.5e-03:  10%|▉         | 59/600 [03:40<33:03,  3.67s/it]"
     ]
    },
    {
     "name": "stdout",
     "output_type": "stream",
     "text": [
      "  Epoca 59/600 | Train Loss=2.7310 | Train Acc=95.29% | Test Acc=97.12%\n"
     ]
    },
    {
     "name": "stderr",
     "output_type": "stream",
     "text": [
      "BBB π=0.75 σ₁=1.4e-01 σ₂=2.5e-03:  10%|█         | 60/600 [03:44<33:08,  3.68s/it]"
     ]
    },
    {
     "name": "stdout",
     "output_type": "stream",
     "text": [
      "  Epoca 60/600 | Train Loss=2.7047 | Train Acc=95.64% | Test Acc=97.31%\n"
     ]
    },
    {
     "name": "stderr",
     "output_type": "stream",
     "text": [
      "BBB π=0.75 σ₁=1.4e-01 σ₂=2.5e-03:  10%|█         | 61/600 [03:47<32:59,  3.67s/it]"
     ]
    },
    {
     "name": "stdout",
     "output_type": "stream",
     "text": [
      "  Epoca 61/600 | Train Loss=2.6975 | Train Acc=95.34% | Test Acc=97.27%\n"
     ]
    },
    {
     "name": "stderr",
     "output_type": "stream",
     "text": [
      "BBB π=0.75 σ₁=1.4e-01 σ₂=2.5e-03:  10%|█         | 62/600 [03:51<33:21,  3.72s/it]"
     ]
    },
    {
     "name": "stdout",
     "output_type": "stream",
     "text": [
      "  Epoca 62/600 | Train Loss=2.6745 | Train Acc=95.50% | Test Acc=97.23%\n"
     ]
    },
    {
     "name": "stderr",
     "output_type": "stream",
     "text": [
      "BBB π=0.75 σ₁=1.4e-01 σ₂=2.5e-03:  10%|█         | 63/600 [03:55<33:37,  3.76s/it]"
     ]
    },
    {
     "name": "stdout",
     "output_type": "stream",
     "text": [
      "  Epoca 63/600 | Train Loss=2.6578 | Train Acc=95.50% | Test Acc=97.37%\n"
     ]
    },
    {
     "name": "stderr",
     "output_type": "stream",
     "text": [
      "BBB π=0.75 σ₁=1.4e-01 σ₂=2.5e-03:  11%|█         | 64/600 [03:59<33:08,  3.71s/it]"
     ]
    },
    {
     "name": "stdout",
     "output_type": "stream",
     "text": [
      "  Epoca 64/600 | Train Loss=2.6462 | Train Acc=95.40% | Test Acc=97.21%\n"
     ]
    },
    {
     "name": "stderr",
     "output_type": "stream",
     "text": [
      "BBB π=0.75 σ₁=1.4e-01 σ₂=2.5e-03:  11%|█         | 65/600 [04:02<33:12,  3.72s/it]"
     ]
    },
    {
     "name": "stdout",
     "output_type": "stream",
     "text": [
      "  Epoca 65/600 | Train Loss=2.6286 | Train Acc=95.39% | Test Acc=97.20%\n"
     ]
    },
    {
     "name": "stderr",
     "output_type": "stream",
     "text": [
      "BBB π=0.75 σ₁=1.4e-01 σ₂=2.5e-03:  11%|█         | 66/600 [04:06<32:53,  3.70s/it]"
     ]
    },
    {
     "name": "stdout",
     "output_type": "stream",
     "text": [
      "  Epoca 66/600 | Train Loss=2.6095 | Train Acc=95.63% | Test Acc=97.22%\n"
     ]
    },
    {
     "name": "stderr",
     "output_type": "stream",
     "text": [
      "BBB π=0.75 σ₁=1.4e-01 σ₂=2.5e-03:  11%|█         | 67/600 [04:10<32:41,  3.68s/it]"
     ]
    },
    {
     "name": "stdout",
     "output_type": "stream",
     "text": [
      "  Epoca 67/600 | Train Loss=2.5946 | Train Acc=95.59% | Test Acc=97.30%\n"
     ]
    },
    {
     "name": "stderr",
     "output_type": "stream",
     "text": [
      "BBB π=0.75 σ₁=1.4e-01 σ₂=2.5e-03:  11%|█▏        | 68/600 [04:13<32:45,  3.69s/it]"
     ]
    },
    {
     "name": "stdout",
     "output_type": "stream",
     "text": [
      "  Epoca 68/600 | Train Loss=2.5866 | Train Acc=95.37% | Test Acc=97.35%\n"
     ]
    },
    {
     "name": "stderr",
     "output_type": "stream",
     "text": [
      "BBB π=0.75 σ₁=1.4e-01 σ₂=2.5e-03:  12%|█▏        | 69/600 [04:17<32:30,  3.67s/it]"
     ]
    },
    {
     "name": "stdout",
     "output_type": "stream",
     "text": [
      "  Epoca 69/600 | Train Loss=2.5697 | Train Acc=95.54% | Test Acc=97.22%\n"
     ]
    },
    {
     "name": "stderr",
     "output_type": "stream",
     "text": [
      "BBB π=0.75 σ₁=1.4e-01 σ₂=2.5e-03:  12%|█▏        | 70/600 [04:21<32:15,  3.65s/it]"
     ]
    },
    {
     "name": "stdout",
     "output_type": "stream",
     "text": [
      "  Epoca 70/600 | Train Loss=2.5509 | Train Acc=95.79% | Test Acc=97.36%\n"
     ]
    },
    {
     "name": "stderr",
     "output_type": "stream",
     "text": [
      "BBB π=0.75 σ₁=1.4e-01 σ₂=2.5e-03:  12%|█▏        | 71/600 [04:25<33:40,  3.82s/it]"
     ]
    },
    {
     "name": "stdout",
     "output_type": "stream",
     "text": [
      "  Epoca 71/600 | Train Loss=2.5428 | Train Acc=95.64% | Test Acc=97.43%\n"
     ]
    },
    {
     "name": "stderr",
     "output_type": "stream",
     "text": [
      "BBB π=0.75 σ₁=1.4e-01 σ₂=2.5e-03:  12%|█▏        | 72/600 [04:29<33:08,  3.77s/it]"
     ]
    },
    {
     "name": "stdout",
     "output_type": "stream",
     "text": [
      "  Epoca 72/600 | Train Loss=2.5291 | Train Acc=95.65% | Test Acc=97.46%\n"
     ]
    },
    {
     "name": "stderr",
     "output_type": "stream",
     "text": [
      "BBB π=0.75 σ₁=1.4e-01 σ₂=2.5e-03:  12%|█▏        | 73/600 [04:32<32:55,  3.75s/it]"
     ]
    },
    {
     "name": "stdout",
     "output_type": "stream",
     "text": [
      "  Epoca 73/600 | Train Loss=2.5194 | Train Acc=95.55% | Test Acc=97.45%\n"
     ]
    },
    {
     "name": "stderr",
     "output_type": "stream",
     "text": [
      "BBB π=0.75 σ₁=1.4e-01 σ₂=2.5e-03:  12%|█▏        | 74/600 [04:36<32:35,  3.72s/it]"
     ]
    },
    {
     "name": "stdout",
     "output_type": "stream",
     "text": [
      "  Epoca 74/600 | Train Loss=2.5054 | Train Acc=95.73% | Test Acc=97.37%\n"
     ]
    },
    {
     "name": "stderr",
     "output_type": "stream",
     "text": [
      "BBB π=0.75 σ₁=1.4e-01 σ₂=2.5e-03:  12%|█▎        | 75/600 [04:40<32:23,  3.70s/it]"
     ]
    },
    {
     "name": "stdout",
     "output_type": "stream",
     "text": [
      "  Epoca 75/600 | Train Loss=2.4938 | Train Acc=95.61% | Test Acc=97.41%\n"
     ]
    },
    {
     "name": "stderr",
     "output_type": "stream",
     "text": [
      "BBB π=0.75 σ₁=1.4e-01 σ₂=2.5e-03:  13%|█▎        | 76/600 [04:43<32:13,  3.69s/it]"
     ]
    },
    {
     "name": "stdout",
     "output_type": "stream",
     "text": [
      "  Epoca 76/600 | Train Loss=2.4844 | Train Acc=95.64% | Test Acc=97.54%\n"
     ]
    },
    {
     "name": "stderr",
     "output_type": "stream",
     "text": [
      "BBB π=0.75 σ₁=1.4e-01 σ₂=2.5e-03:  13%|█▎        | 77/600 [04:47<32:04,  3.68s/it]"
     ]
    },
    {
     "name": "stdout",
     "output_type": "stream",
     "text": [
      "  Epoca 77/600 | Train Loss=2.4733 | Train Acc=95.74% | Test Acc=97.44%\n"
     ]
    },
    {
     "name": "stderr",
     "output_type": "stream",
     "text": [
      "BBB π=0.75 σ₁=1.4e-01 σ₂=2.5e-03:  13%|█▎        | 78/600 [04:50<31:50,  3.66s/it]"
     ]
    },
    {
     "name": "stdout",
     "output_type": "stream",
     "text": [
      "  Epoca 78/600 | Train Loss=2.4623 | Train Acc=95.69% | Test Acc=97.50%\n"
     ]
    },
    {
     "name": "stderr",
     "output_type": "stream",
     "text": [
      "BBB π=0.75 σ₁=1.4e-01 σ₂=2.5e-03:  13%|█▎        | 79/600 [04:54<31:51,  3.67s/it]"
     ]
    },
    {
     "name": "stdout",
     "output_type": "stream",
     "text": [
      "  Epoca 79/600 | Train Loss=2.4544 | Train Acc=95.67% | Test Acc=97.49%\n"
     ]
    },
    {
     "name": "stderr",
     "output_type": "stream",
     "text": [
      "BBB π=0.75 σ₁=1.4e-01 σ₂=2.5e-03:  13%|█▎        | 80/600 [04:58<32:50,  3.79s/it]"
     ]
    },
    {
     "name": "stdout",
     "output_type": "stream",
     "text": [
      "  Epoca 80/600 | Train Loss=2.4436 | Train Acc=95.67% | Test Acc=97.43%\n"
     ]
    },
    {
     "name": "stderr",
     "output_type": "stream",
     "text": [
      "BBB π=0.75 σ₁=1.4e-01 σ₂=2.5e-03:  14%|█▎        | 81/600 [05:02<32:31,  3.76s/it]"
     ]
    },
    {
     "name": "stdout",
     "output_type": "stream",
     "text": [
      "  Epoca 81/600 | Train Loss=2.4377 | Train Acc=95.63% | Test Acc=97.43%\n"
     ]
    },
    {
     "name": "stderr",
     "output_type": "stream",
     "text": [
      "BBB π=0.75 σ₁=1.4e-01 σ₂=2.5e-03:  14%|█▎        | 82/600 [05:06<32:07,  3.72s/it]"
     ]
    },
    {
     "name": "stdout",
     "output_type": "stream",
     "text": [
      "  Epoca 82/600 | Train Loss=2.4271 | Train Acc=95.65% | Test Acc=97.39%\n"
     ]
    },
    {
     "name": "stderr",
     "output_type": "stream",
     "text": [
      "BBB π=0.75 σ₁=1.4e-01 σ₂=2.5e-03:  14%|█▍        | 83/600 [05:09<31:53,  3.70s/it]"
     ]
    },
    {
     "name": "stdout",
     "output_type": "stream",
     "text": [
      "  Epoca 83/600 | Train Loss=2.4166 | Train Acc=95.69% | Test Acc=97.57%\n"
     ]
    },
    {
     "name": "stderr",
     "output_type": "stream",
     "text": [
      "BBB π=0.75 σ₁=1.4e-01 σ₂=2.5e-03:  14%|█▍        | 84/600 [05:13<31:47,  3.70s/it]"
     ]
    },
    {
     "name": "stdout",
     "output_type": "stream",
     "text": [
      "  Epoca 84/600 | Train Loss=2.4098 | Train Acc=95.65% | Test Acc=97.34%\n"
     ]
    },
    {
     "name": "stderr",
     "output_type": "stream",
     "text": [
      "BBB π=0.75 σ₁=1.4e-01 σ₂=2.5e-03:  14%|█▍        | 85/600 [05:17<31:34,  3.68s/it]"
     ]
    },
    {
     "name": "stdout",
     "output_type": "stream",
     "text": [
      "  Epoca 85/600 | Train Loss=2.3977 | Train Acc=95.87% | Test Acc=97.25%\n"
     ]
    },
    {
     "name": "stderr",
     "output_type": "stream",
     "text": [
      "BBB π=0.75 σ₁=1.4e-01 σ₂=2.5e-03:  14%|█▍        | 86/600 [05:20<31:25,  3.67s/it]"
     ]
    },
    {
     "name": "stdout",
     "output_type": "stream",
     "text": [
      "  Epoca 86/600 | Train Loss=2.3932 | Train Acc=95.73% | Test Acc=97.39%\n"
     ]
    },
    {
     "name": "stderr",
     "output_type": "stream",
     "text": [
      "BBB π=0.75 σ₁=1.4e-01 σ₂=2.5e-03:  14%|█▍        | 87/600 [05:24<31:27,  3.68s/it]"
     ]
    },
    {
     "name": "stdout",
     "output_type": "stream",
     "text": [
      "  Epoca 87/600 | Train Loss=2.3873 | Train Acc=95.75% | Test Acc=97.45%\n"
     ]
    },
    {
     "name": "stderr",
     "output_type": "stream",
     "text": [
      "BBB π=0.75 σ₁=1.4e-01 σ₂=2.5e-03:  15%|█▍        | 88/600 [05:28<31:17,  3.67s/it]"
     ]
    },
    {
     "name": "stdout",
     "output_type": "stream",
     "text": [
      "  Epoca 88/600 | Train Loss=2.3736 | Train Acc=95.85% | Test Acc=97.50%\n"
     ]
    },
    {
     "name": "stderr",
     "output_type": "stream",
     "text": [
      "BBB π=0.75 σ₁=1.4e-01 σ₂=2.5e-03:  15%|█▍        | 89/600 [05:32<32:22,  3.80s/it]"
     ]
    },
    {
     "name": "stdout",
     "output_type": "stream",
     "text": [
      "  Epoca 89/600 | Train Loss=2.3672 | Train Acc=95.73% | Test Acc=97.51%\n"
     ]
    },
    {
     "name": "stderr",
     "output_type": "stream",
     "text": [
      "BBB π=0.75 σ₁=1.4e-01 σ₂=2.5e-03:  15%|█▌        | 90/600 [05:35<31:53,  3.75s/it]"
     ]
    },
    {
     "name": "stdout",
     "output_type": "stream",
     "text": [
      "  Epoca 90/600 | Train Loss=2.3649 | Train Acc=95.78% | Test Acc=97.62%\n"
     ]
    },
    {
     "name": "stderr",
     "output_type": "stream",
     "text": [
      "BBB π=0.75 σ₁=1.4e-01 σ₂=2.5e-03:  15%|█▌        | 91/600 [05:39<31:29,  3.71s/it]"
     ]
    },
    {
     "name": "stdout",
     "output_type": "stream",
     "text": [
      "  Epoca 91/600 | Train Loss=2.3588 | Train Acc=95.69% | Test Acc=97.58%\n"
     ]
    },
    {
     "name": "stderr",
     "output_type": "stream",
     "text": [
      "BBB π=0.75 σ₁=1.4e-01 σ₂=2.5e-03:  15%|█▌        | 92/600 [05:43<31:20,  3.70s/it]"
     ]
    },
    {
     "name": "stdout",
     "output_type": "stream",
     "text": [
      "  Epoca 92/600 | Train Loss=2.3562 | Train Acc=95.55% | Test Acc=97.57%\n"
     ]
    },
    {
     "name": "stderr",
     "output_type": "stream",
     "text": [
      "BBB π=0.75 σ₁=1.4e-01 σ₂=2.5e-03:  16%|█▌        | 93/600 [05:46<31:03,  3.67s/it]"
     ]
    },
    {
     "name": "stdout",
     "output_type": "stream",
     "text": [
      "  Epoca 93/600 | Train Loss=2.3486 | Train Acc=95.79% | Test Acc=97.54%\n"
     ]
    },
    {
     "name": "stderr",
     "output_type": "stream",
     "text": [
      "BBB π=0.75 σ₁=1.4e-01 σ₂=2.5e-03:  16%|█▌        | 94/600 [05:50<30:48,  3.65s/it]"
     ]
    },
    {
     "name": "stdout",
     "output_type": "stream",
     "text": [
      "  Epoca 94/600 | Train Loss=2.3413 | Train Acc=95.70% | Test Acc=97.60%\n"
     ]
    },
    {
     "name": "stderr",
     "output_type": "stream",
     "text": [
      "BBB π=0.75 σ₁=1.4e-01 σ₂=2.5e-03:  16%|█▌        | 95/600 [05:53<30:42,  3.65s/it]"
     ]
    },
    {
     "name": "stdout",
     "output_type": "stream",
     "text": [
      "  Epoca 95/600 | Train Loss=2.3354 | Train Acc=95.69% | Test Acc=97.49%\n"
     ]
    },
    {
     "name": "stderr",
     "output_type": "stream",
     "text": [
      "BBB π=0.75 σ₁=1.4e-01 σ₂=2.5e-03:  16%|█▌        | 96/600 [05:57<30:33,  3.64s/it]"
     ]
    },
    {
     "name": "stdout",
     "output_type": "stream",
     "text": [
      "  Epoca 96/600 | Train Loss=2.3261 | Train Acc=95.84% | Test Acc=97.53%\n"
     ]
    },
    {
     "name": "stderr",
     "output_type": "stream",
     "text": [
      "BBB π=0.75 σ₁=1.4e-01 σ₂=2.5e-03:  16%|█▌        | 97/600 [06:01<31:04,  3.71s/it]"
     ]
    },
    {
     "name": "stdout",
     "output_type": "stream",
     "text": [
      "  Epoca 97/600 | Train Loss=2.3219 | Train Acc=95.86% | Test Acc=97.61%\n"
     ]
    },
    {
     "name": "stderr",
     "output_type": "stream",
     "text": [
      "BBB π=0.75 σ₁=1.4e-01 σ₂=2.5e-03:  16%|█▋        | 98/600 [06:05<31:28,  3.76s/it]"
     ]
    },
    {
     "name": "stdout",
     "output_type": "stream",
     "text": [
      "  Epoca 98/600 | Train Loss=2.3231 | Train Acc=95.66% | Test Acc=97.66%\n"
     ]
    },
    {
     "name": "stderr",
     "output_type": "stream",
     "text": [
      "BBB π=0.75 σ₁=1.4e-01 σ₂=2.5e-03:  16%|█▋        | 99/600 [06:08<31:12,  3.74s/it]"
     ]
    },
    {
     "name": "stdout",
     "output_type": "stream",
     "text": [
      "  Epoca 99/600 | Train Loss=2.3126 | Train Acc=95.85% | Test Acc=97.46%\n"
     ]
    },
    {
     "name": "stderr",
     "output_type": "stream",
     "text": [
      "BBB π=0.75 σ₁=1.4e-01 σ₂=2.5e-03:  17%|█▋        | 100/600 [06:12<31:05,  3.73s/it]"
     ]
    },
    {
     "name": "stdout",
     "output_type": "stream",
     "text": [
      "  Epoca 100/600 | Train Loss=2.3094 | Train Acc=95.71% | Test Acc=97.48%\n"
     ]
    },
    {
     "name": "stderr",
     "output_type": "stream",
     "text": [
      "BBB π=0.75 σ₁=1.4e-01 σ₂=2.5e-03:  17%|█▋        | 101/600 [06:16<30:50,  3.71s/it]"
     ]
    },
    {
     "name": "stdout",
     "output_type": "stream",
     "text": [
      "  Epoca 101/600 | Train Loss=2.3020 | Train Acc=95.84% | Test Acc=97.52%\n"
     ]
    },
    {
     "name": "stderr",
     "output_type": "stream",
     "text": [
      "BBB π=0.75 σ₁=1.4e-01 σ₂=2.5e-03:  17%|█▋        | 102/600 [06:19<30:35,  3.69s/it]"
     ]
    },
    {
     "name": "stdout",
     "output_type": "stream",
     "text": [
      "  Epoca 102/600 | Train Loss=2.3025 | Train Acc=95.66% | Test Acc=97.43%\n"
     ]
    },
    {
     "name": "stderr",
     "output_type": "stream",
     "text": [
      "BBB π=0.75 σ₁=1.4e-01 σ₂=2.5e-03:  17%|█▋        | 103/600 [06:23<30:30,  3.68s/it]"
     ]
    },
    {
     "name": "stdout",
     "output_type": "stream",
     "text": [
      "  Epoca 103/600 | Train Loss=2.2948 | Train Acc=95.78% | Test Acc=97.37%\n"
     ]
    },
    {
     "name": "stderr",
     "output_type": "stream",
     "text": [
      "BBB π=0.75 σ₁=1.4e-01 σ₂=2.5e-03:  17%|█▋        | 104/600 [06:27<30:17,  3.66s/it]"
     ]
    },
    {
     "name": "stdout",
     "output_type": "stream",
     "text": [
      "  Epoca 104/600 | Train Loss=2.2993 | Train Acc=95.58% | Test Acc=97.39%\n"
     ]
    },
    {
     "name": "stderr",
     "output_type": "stream",
     "text": [
      "BBB π=0.75 σ₁=1.4e-01 σ₂=2.5e-03:  18%|█▊        | 105/600 [06:30<30:11,  3.66s/it]"
     ]
    },
    {
     "name": "stdout",
     "output_type": "stream",
     "text": [
      "  Epoca 105/600 | Train Loss=2.2910 | Train Acc=95.74% | Test Acc=97.53%\n"
     ]
    },
    {
     "name": "stderr",
     "output_type": "stream",
     "text": [
      "BBB π=0.75 σ₁=1.4e-01 σ₂=2.5e-03:  18%|█▊        | 106/600 [06:35<31:19,  3.80s/it]"
     ]
    },
    {
     "name": "stdout",
     "output_type": "stream",
     "text": [
      "  Epoca 106/600 | Train Loss=2.2806 | Train Acc=95.69% | Test Acc=97.47%\n"
     ]
    },
    {
     "name": "stderr",
     "output_type": "stream",
     "text": [
      "BBB π=0.75 σ₁=1.4e-01 σ₂=2.5e-03:  18%|█▊        | 107/600 [06:38<30:52,  3.76s/it]"
     ]
    },
    {
     "name": "stdout",
     "output_type": "stream",
     "text": [
      "  Epoca 107/600 | Train Loss=2.2805 | Train Acc=95.75% | Test Acc=97.53%\n"
     ]
    },
    {
     "name": "stderr",
     "output_type": "stream",
     "text": [
      "BBB π=0.75 σ₁=1.4e-01 σ₂=2.5e-03:  18%|█▊        | 108/600 [06:42<30:44,  3.75s/it]"
     ]
    },
    {
     "name": "stdout",
     "output_type": "stream",
     "text": [
      "  Epoca 108/600 | Train Loss=2.2730 | Train Acc=95.88% | Test Acc=97.44%\n"
     ]
    },
    {
     "name": "stderr",
     "output_type": "stream",
     "text": [
      "BBB π=0.75 σ₁=1.4e-01 σ₂=2.5e-03:  18%|█▊        | 109/600 [06:46<30:21,  3.71s/it]"
     ]
    },
    {
     "name": "stdout",
     "output_type": "stream",
     "text": [
      "  Epoca 109/600 | Train Loss=2.2737 | Train Acc=95.63% | Test Acc=97.54%\n"
     ]
    },
    {
     "name": "stderr",
     "output_type": "stream",
     "text": [
      "BBB π=0.75 σ₁=1.4e-01 σ₂=2.5e-03:  18%|█▊        | 110/600 [06:49<30:14,  3.70s/it]"
     ]
    },
    {
     "name": "stdout",
     "output_type": "stream",
     "text": [
      "  Epoca 110/600 | Train Loss=2.2710 | Train Acc=95.76% | Test Acc=97.49%\n"
     ]
    },
    {
     "name": "stderr",
     "output_type": "stream",
     "text": [
      "BBB π=0.75 σ₁=1.4e-01 σ₂=2.5e-03:  18%|█▊        | 111/600 [06:53<30:11,  3.70s/it]"
     ]
    },
    {
     "name": "stdout",
     "output_type": "stream",
     "text": [
      "  Epoca 111/600 | Train Loss=2.2677 | Train Acc=95.84% | Test Acc=97.49%\n"
     ]
    },
    {
     "name": "stderr",
     "output_type": "stream",
     "text": [
      "BBB π=0.75 σ₁=1.4e-01 σ₂=2.5e-03:  19%|█▊        | 112/600 [06:57<29:59,  3.69s/it]"
     ]
    },
    {
     "name": "stdout",
     "output_type": "stream",
     "text": [
      "  Epoca 112/600 | Train Loss=2.2660 | Train Acc=95.78% | Test Acc=97.69%\n"
     ]
    },
    {
     "name": "stderr",
     "output_type": "stream",
     "text": [
      "BBB π=0.75 σ₁=1.4e-01 σ₂=2.5e-03:  19%|█▉        | 113/600 [07:00<29:48,  3.67s/it]"
     ]
    },
    {
     "name": "stdout",
     "output_type": "stream",
     "text": [
      "  Epoca 113/600 | Train Loss=2.2596 | Train Acc=95.82% | Test Acc=97.64%\n"
     ]
    },
    {
     "name": "stderr",
     "output_type": "stream",
     "text": [
      "BBB π=0.75 σ₁=1.4e-01 σ₂=2.5e-03:  19%|█▉        | 114/600 [07:04<29:48,  3.68s/it]"
     ]
    },
    {
     "name": "stdout",
     "output_type": "stream",
     "text": [
      "  Epoca 114/600 | Train Loss=2.2514 | Train Acc=96.02% | Test Acc=97.68%\n"
     ]
    },
    {
     "name": "stderr",
     "output_type": "stream",
     "text": [
      "BBB π=0.75 σ₁=1.4e-01 σ₂=2.5e-03:  19%|█▉        | 115/600 [07:08<30:45,  3.81s/it]"
     ]
    },
    {
     "name": "stdout",
     "output_type": "stream",
     "text": [
      "  Epoca 115/600 | Train Loss=2.2483 | Train Acc=95.99% | Test Acc=97.56%\n"
     ]
    },
    {
     "name": "stderr",
     "output_type": "stream",
     "text": [
      "BBB π=0.75 σ₁=1.4e-01 σ₂=2.5e-03:  19%|█▉        | 116/600 [07:12<30:29,  3.78s/it]"
     ]
    },
    {
     "name": "stdout",
     "output_type": "stream",
     "text": [
      "  Epoca 116/600 | Train Loss=2.2500 | Train Acc=95.86% | Test Acc=97.53%\n"
     ]
    },
    {
     "name": "stderr",
     "output_type": "stream",
     "text": [
      "BBB π=0.75 σ₁=1.4e-01 σ₂=2.5e-03:  20%|█▉        | 117/600 [07:15<30:04,  3.74s/it]"
     ]
    },
    {
     "name": "stdout",
     "output_type": "stream",
     "text": [
      "  Epoca 117/600 | Train Loss=2.2457 | Train Acc=95.90% | Test Acc=97.78%\n"
     ]
    },
    {
     "name": "stderr",
     "output_type": "stream",
     "text": [
      "BBB π=0.75 σ₁=1.4e-01 σ₂=2.5e-03:  20%|█▉        | 118/600 [07:19<29:43,  3.70s/it]"
     ]
    },
    {
     "name": "stdout",
     "output_type": "stream",
     "text": [
      "  Epoca 118/600 | Train Loss=2.2484 | Train Acc=95.66% | Test Acc=97.63%\n"
     ]
    },
    {
     "name": "stderr",
     "output_type": "stream",
     "text": [
      "BBB π=0.75 σ₁=1.4e-01 σ₂=2.5e-03:  20%|█▉        | 119/600 [07:23<29:41,  3.70s/it]"
     ]
    },
    {
     "name": "stdout",
     "output_type": "stream",
     "text": [
      "  Epoca 119/600 | Train Loss=2.2468 | Train Acc=95.69% | Test Acc=97.67%\n"
     ]
    },
    {
     "name": "stderr",
     "output_type": "stream",
     "text": [
      "BBB π=0.75 σ₁=1.4e-01 σ₂=2.5e-03:  20%|██        | 120/600 [07:26<29:24,  3.68s/it]"
     ]
    },
    {
     "name": "stdout",
     "output_type": "stream",
     "text": [
      "  Epoca 120/600 | Train Loss=2.2435 | Train Acc=95.63% | Test Acc=97.54%\n"
     ]
    },
    {
     "name": "stderr",
     "output_type": "stream",
     "text": [
      "BBB π=0.75 σ₁=1.4e-01 σ₂=2.5e-03:  20%|██        | 121/600 [07:30<29:09,  3.65s/it]"
     ]
    },
    {
     "name": "stdout",
     "output_type": "stream",
     "text": [
      "  Epoca 121/600 | Train Loss=2.2430 | Train Acc=95.75% | Test Acc=97.65%\n"
     ]
    },
    {
     "name": "stderr",
     "output_type": "stream",
     "text": [
      "BBB π=0.75 σ₁=1.4e-01 σ₂=2.5e-03:  20%|██        | 122/600 [07:34<29:09,  3.66s/it]"
     ]
    },
    {
     "name": "stdout",
     "output_type": "stream",
     "text": [
      "  Epoca 122/600 | Train Loss=2.2389 | Train Acc=95.75% | Test Acc=97.53%\n"
     ]
    },
    {
     "name": "stderr",
     "output_type": "stream",
     "text": [
      "BBB π=0.75 σ₁=1.4e-01 σ₂=2.5e-03:  20%|██        | 123/600 [07:37<29:05,  3.66s/it]"
     ]
    },
    {
     "name": "stdout",
     "output_type": "stream",
     "text": [
      "  Epoca 123/600 | Train Loss=2.2326 | Train Acc=95.84% | Test Acc=97.64%\n"
     ]
    },
    {
     "name": "stderr",
     "output_type": "stream",
     "text": [
      "BBB π=0.75 σ₁=1.4e-01 σ₂=2.5e-03:  21%|██        | 124/600 [07:41<29:55,  3.77s/it]"
     ]
    },
    {
     "name": "stdout",
     "output_type": "stream",
     "text": [
      "  Epoca 124/600 | Train Loss=2.2318 | Train Acc=95.77% | Test Acc=97.62%\n"
     ]
    },
    {
     "name": "stderr",
     "output_type": "stream",
     "text": [
      "BBB π=0.75 σ₁=1.4e-01 σ₂=2.5e-03:  21%|██        | 125/600 [07:45<29:33,  3.73s/it]"
     ]
    },
    {
     "name": "stdout",
     "output_type": "stream",
     "text": [
      "  Epoca 125/600 | Train Loss=2.2279 | Train Acc=95.89% | Test Acc=97.69%\n"
     ]
    },
    {
     "name": "stderr",
     "output_type": "stream",
     "text": [
      "BBB π=0.75 σ₁=1.4e-01 σ₂=2.5e-03:  21%|██        | 126/600 [07:49<29:17,  3.71s/it]"
     ]
    },
    {
     "name": "stdout",
     "output_type": "stream",
     "text": [
      "  Epoca 126/600 | Train Loss=2.2276 | Train Acc=95.86% | Test Acc=97.79%\n"
     ]
    },
    {
     "name": "stderr",
     "output_type": "stream",
     "text": [
      "BBB π=0.75 σ₁=1.4e-01 σ₂=2.5e-03:  21%|██        | 127/600 [07:52<29:10,  3.70s/it]"
     ]
    },
    {
     "name": "stdout",
     "output_type": "stream",
     "text": [
      "  Epoca 127/600 | Train Loss=2.2288 | Train Acc=95.72% | Test Acc=97.63%\n"
     ]
    },
    {
     "name": "stderr",
     "output_type": "stream",
     "text": [
      "BBB π=0.75 σ₁=1.4e-01 σ₂=2.5e-03:  21%|██▏       | 128/600 [07:56<28:51,  3.67s/it]"
     ]
    },
    {
     "name": "stdout",
     "output_type": "stream",
     "text": [
      "  Epoca 128/600 | Train Loss=2.2276 | Train Acc=95.78% | Test Acc=97.63%\n"
     ]
    },
    {
     "name": "stderr",
     "output_type": "stream",
     "text": [
      "BBB π=0.75 σ₁=1.4e-01 σ₂=2.5e-03:  22%|██▏       | 129/600 [07:59<28:42,  3.66s/it]"
     ]
    },
    {
     "name": "stdout",
     "output_type": "stream",
     "text": [
      "  Epoca 129/600 | Train Loss=2.2258 | Train Acc=95.72% | Test Acc=97.71%\n"
     ]
    },
    {
     "name": "stderr",
     "output_type": "stream",
     "text": [
      "BBB π=0.75 σ₁=1.4e-01 σ₂=2.5e-03:  22%|██▏       | 130/600 [08:03<28:42,  3.67s/it]"
     ]
    },
    {
     "name": "stdout",
     "output_type": "stream",
     "text": [
      "  Epoca 130/600 | Train Loss=2.2198 | Train Acc=95.83% | Test Acc=97.59%\n"
     ]
    },
    {
     "name": "stderr",
     "output_type": "stream",
     "text": [
      "BBB π=0.75 σ₁=1.4e-01 σ₂=2.5e-03:  22%|██▏       | 131/600 [08:07<28:31,  3.65s/it]"
     ]
    },
    {
     "name": "stdout",
     "output_type": "stream",
     "text": [
      "  Epoca 131/600 | Train Loss=2.2119 | Train Acc=95.99% | Test Acc=97.57%\n"
     ]
    },
    {
     "name": "stderr",
     "output_type": "stream",
     "text": [
      "BBB π=0.75 σ₁=1.4e-01 σ₂=2.5e-03:  22%|██▏       | 132/600 [08:11<28:38,  3.67s/it]"
     ]
    },
    {
     "name": "stdout",
     "output_type": "stream",
     "text": [
      "  Epoca 132/600 | Train Loss=2.2174 | Train Acc=95.70% | Test Acc=97.75%\n"
     ]
    },
    {
     "name": "stderr",
     "output_type": "stream",
     "text": [
      "BBB π=0.75 σ₁=1.4e-01 σ₂=2.5e-03:  22%|██▏       | 133/600 [08:15<29:19,  3.77s/it]"
     ]
    },
    {
     "name": "stdout",
     "output_type": "stream",
     "text": [
      "  Epoca 133/600 | Train Loss=2.2162 | Train Acc=95.80% | Test Acc=97.62%\n"
     ]
    },
    {
     "name": "stderr",
     "output_type": "stream",
     "text": [
      "BBB π=0.75 σ₁=1.4e-01 σ₂=2.5e-03:  22%|██▏       | 134/600 [08:18<28:57,  3.73s/it]"
     ]
    },
    {
     "name": "stdout",
     "output_type": "stream",
     "text": [
      "  Epoca 134/600 | Train Loss=2.2130 | Train Acc=95.78% | Test Acc=97.59%\n"
     ]
    },
    {
     "name": "stderr",
     "output_type": "stream",
     "text": [
      "BBB π=0.75 σ₁=1.4e-01 σ₂=2.5e-03:  22%|██▎       | 135/600 [08:22<28:48,  3.72s/it]"
     ]
    },
    {
     "name": "stdout",
     "output_type": "stream",
     "text": [
      "  Epoca 135/600 | Train Loss=2.2136 | Train Acc=95.77% | Test Acc=97.63%\n"
     ]
    },
    {
     "name": "stderr",
     "output_type": "stream",
     "text": [
      "BBB π=0.75 σ₁=1.4e-01 σ₂=2.5e-03:  23%|██▎       | 136/600 [08:25<28:28,  3.68s/it]"
     ]
    },
    {
     "name": "stdout",
     "output_type": "stream",
     "text": [
      "  Epoca 136/600 | Train Loss=2.2142 | Train Acc=95.71% | Test Acc=97.47%\n"
     ]
    },
    {
     "name": "stderr",
     "output_type": "stream",
     "text": [
      "BBB π=0.75 σ₁=1.4e-01 σ₂=2.5e-03:  23%|██▎       | 137/600 [08:29<28:21,  3.67s/it]"
     ]
    },
    {
     "name": "stdout",
     "output_type": "stream",
     "text": [
      "  Epoca 137/600 | Train Loss=2.2102 | Train Acc=95.79% | Test Acc=97.65%\n"
     ]
    },
    {
     "name": "stderr",
     "output_type": "stream",
     "text": [
      "BBB π=0.75 σ₁=1.4e-01 σ₂=2.5e-03:  23%|██▎       | 138/600 [08:33<28:19,  3.68s/it]"
     ]
    },
    {
     "name": "stdout",
     "output_type": "stream",
     "text": [
      "  Epoca 138/600 | Train Loss=2.2057 | Train Acc=95.88% | Test Acc=97.65%\n"
     ]
    },
    {
     "name": "stderr",
     "output_type": "stream",
     "text": [
      "BBB π=0.75 σ₁=1.4e-01 σ₂=2.5e-03:  23%|██▎       | 139/600 [08:36<28:11,  3.67s/it]"
     ]
    },
    {
     "name": "stdout",
     "output_type": "stream",
     "text": [
      "  Epoca 139/600 | Train Loss=2.2068 | Train Acc=95.80% | Test Acc=97.64%\n"
     ]
    },
    {
     "name": "stderr",
     "output_type": "stream",
     "text": [
      "BBB π=0.75 σ₁=1.4e-01 σ₂=2.5e-03:  23%|██▎       | 140/600 [08:40<28:08,  3.67s/it]"
     ]
    },
    {
     "name": "stdout",
     "output_type": "stream",
     "text": [
      "  Epoca 140/600 | Train Loss=2.2006 | Train Acc=95.90% | Test Acc=97.56%\n"
     ]
    },
    {
     "name": "stderr",
     "output_type": "stream",
     "text": [
      "BBB π=0.75 σ₁=1.4e-01 σ₂=2.5e-03:  24%|██▎       | 141/600 [08:44<29:02,  3.80s/it]"
     ]
    },
    {
     "name": "stdout",
     "output_type": "stream",
     "text": [
      "  Epoca 141/600 | Train Loss=2.2051 | Train Acc=95.80% | Test Acc=97.54%\n"
     ]
    },
    {
     "name": "stderr",
     "output_type": "stream",
     "text": [
      "BBB π=0.75 σ₁=1.4e-01 σ₂=2.5e-03:  24%|██▎       | 142/600 [08:48<28:39,  3.75s/it]"
     ]
    },
    {
     "name": "stdout",
     "output_type": "stream",
     "text": [
      "  Epoca 142/600 | Train Loss=2.2012 | Train Acc=95.86% | Test Acc=97.71%\n"
     ]
    },
    {
     "name": "stderr",
     "output_type": "stream",
     "text": [
      "BBB π=0.75 σ₁=1.4e-01 σ₂=2.5e-03:  24%|██▍       | 143/600 [08:52<28:34,  3.75s/it]"
     ]
    },
    {
     "name": "stdout",
     "output_type": "stream",
     "text": [
      "  Epoca 143/600 | Train Loss=2.2010 | Train Acc=95.81% | Test Acc=97.71%\n"
     ]
    },
    {
     "name": "stderr",
     "output_type": "stream",
     "text": [
      "BBB π=0.75 σ₁=1.4e-01 σ₂=2.5e-03:  24%|██▍       | 144/600 [08:55<28:13,  3.71s/it]"
     ]
    },
    {
     "name": "stdout",
     "output_type": "stream",
     "text": [
      "  Epoca 144/600 | Train Loss=2.1977 | Train Acc=95.89% | Test Acc=97.62%\n"
     ]
    },
    {
     "name": "stderr",
     "output_type": "stream",
     "text": [
      "BBB π=0.75 σ₁=1.4e-01 σ₂=2.5e-03:  24%|██▍       | 145/600 [08:59<27:55,  3.68s/it]"
     ]
    },
    {
     "name": "stdout",
     "output_type": "stream",
     "text": [
      "  Epoca 145/600 | Train Loss=2.1968 | Train Acc=95.88% | Test Acc=97.57%\n"
     ]
    },
    {
     "name": "stderr",
     "output_type": "stream",
     "text": [
      "BBB π=0.75 σ₁=1.4e-01 σ₂=2.5e-03:  24%|██▍       | 146/600 [09:02<27:47,  3.67s/it]"
     ]
    },
    {
     "name": "stdout",
     "output_type": "stream",
     "text": [
      "  Epoca 146/600 | Train Loss=2.1995 | Train Acc=95.68% | Test Acc=97.64%\n"
     ]
    },
    {
     "name": "stderr",
     "output_type": "stream",
     "text": [
      "BBB π=0.75 σ₁=1.4e-01 σ₂=2.5e-03:  24%|██▍       | 147/600 [09:06<27:41,  3.67s/it]"
     ]
    },
    {
     "name": "stdout",
     "output_type": "stream",
     "text": [
      "  Epoca 147/600 | Train Loss=2.1931 | Train Acc=95.93% | Test Acc=97.73%\n"
     ]
    },
    {
     "name": "stderr",
     "output_type": "stream",
     "text": [
      "BBB π=0.75 σ₁=1.4e-01 σ₂=2.5e-03:  25%|██▍       | 148/600 [09:10<27:37,  3.67s/it]"
     ]
    },
    {
     "name": "stdout",
     "output_type": "stream",
     "text": [
      "  Epoca 148/600 | Train Loss=2.1914 | Train Acc=95.97% | Test Acc=97.74%\n"
     ]
    },
    {
     "name": "stderr",
     "output_type": "stream",
     "text": [
      "BBB π=0.75 σ₁=1.4e-01 σ₂=2.5e-03:  25%|██▍       | 149/600 [09:14<27:40,  3.68s/it]"
     ]
    },
    {
     "name": "stdout",
     "output_type": "stream",
     "text": [
      "  Epoca 149/600 | Train Loss=2.1944 | Train Acc=95.67% | Test Acc=97.65%\n"
     ]
    },
    {
     "name": "stderr",
     "output_type": "stream",
     "text": [
      "BBB π=0.75 σ₁=1.4e-01 σ₂=2.5e-03:  25%|██▌       | 150/600 [09:18<28:29,  3.80s/it]"
     ]
    },
    {
     "name": "stdout",
     "output_type": "stream",
     "text": [
      "  Epoca 150/600 | Train Loss=2.1910 | Train Acc=95.98% | Test Acc=97.60%\n"
     ]
    },
    {
     "name": "stderr",
     "output_type": "stream",
     "text": [
      "BBB π=0.75 σ₁=1.4e-01 σ₂=2.5e-03:  25%|██▌       | 151/600 [09:21<28:04,  3.75s/it]"
     ]
    },
    {
     "name": "stdout",
     "output_type": "stream",
     "text": [
      "  Epoca 151/600 | Train Loss=2.1906 | Train Acc=95.86% | Test Acc=97.76%\n"
     ]
    },
    {
     "name": "stderr",
     "output_type": "stream",
     "text": [
      "BBB π=0.75 σ₁=1.4e-01 σ₂=2.5e-03:  25%|██▌       | 152/600 [09:25<27:49,  3.73s/it]"
     ]
    },
    {
     "name": "stdout",
     "output_type": "stream",
     "text": [
      "  Epoca 152/600 | Train Loss=2.1914 | Train Acc=95.74% | Test Acc=97.61%\n"
     ]
    },
    {
     "name": "stderr",
     "output_type": "stream",
     "text": [
      "BBB π=0.75 σ₁=1.4e-01 σ₂=2.5e-03:  26%|██▌       | 153/600 [09:29<27:32,  3.70s/it]"
     ]
    },
    {
     "name": "stdout",
     "output_type": "stream",
     "text": [
      "  Epoca 153/600 | Train Loss=2.1896 | Train Acc=95.82% | Test Acc=97.72%\n"
     ]
    },
    {
     "name": "stderr",
     "output_type": "stream",
     "text": [
      "BBB π=0.75 σ₁=1.4e-01 σ₂=2.5e-03:  26%|██▌       | 154/600 [09:32<27:23,  3.69s/it]"
     ]
    },
    {
     "name": "stdout",
     "output_type": "stream",
     "text": [
      "  Epoca 154/600 | Train Loss=2.1830 | Train Acc=95.94% | Test Acc=97.67%\n"
     ]
    },
    {
     "name": "stderr",
     "output_type": "stream",
     "text": [
      "BBB π=0.75 σ₁=1.4e-01 σ₂=2.5e-03:  26%|██▌       | 155/600 [09:36<27:16,  3.68s/it]"
     ]
    },
    {
     "name": "stdout",
     "output_type": "stream",
     "text": [
      "  Epoca 155/600 | Train Loss=2.1888 | Train Acc=95.72% | Test Acc=97.73%\n"
     ]
    },
    {
     "name": "stderr",
     "output_type": "stream",
     "text": [
      "BBB π=0.75 σ₁=1.4e-01 σ₂=2.5e-03:  26%|██▌       | 156/600 [09:40<27:10,  3.67s/it]"
     ]
    },
    {
     "name": "stdout",
     "output_type": "stream",
     "text": [
      "  Epoca 156/600 | Train Loss=2.1845 | Train Acc=95.90% | Test Acc=97.69%\n"
     ]
    },
    {
     "name": "stderr",
     "output_type": "stream",
     "text": [
      "BBB π=0.75 σ₁=1.4e-01 σ₂=2.5e-03:  26%|██▌       | 157/600 [09:43<27:11,  3.68s/it]"
     ]
    },
    {
     "name": "stdout",
     "output_type": "stream",
     "text": [
      "  Epoca 157/600 | Train Loss=2.1846 | Train Acc=95.87% | Test Acc=97.83%\n"
     ]
    },
    {
     "name": "stderr",
     "output_type": "stream",
     "text": [
      "BBB π=0.75 σ₁=1.4e-01 σ₂=2.5e-03:  26%|██▋       | 158/600 [09:47<27:04,  3.68s/it]"
     ]
    },
    {
     "name": "stdout",
     "output_type": "stream",
     "text": [
      "  Epoca 158/600 | Train Loss=2.1940 | Train Acc=95.48% | Test Acc=97.66%\n"
     ]
    },
    {
     "name": "stderr",
     "output_type": "stream",
     "text": [
      "BBB π=0.75 σ₁=1.4e-01 σ₂=2.5e-03:  26%|██▋       | 159/600 [09:51<27:57,  3.80s/it]"
     ]
    },
    {
     "name": "stdout",
     "output_type": "stream",
     "text": [
      "  Epoca 159/600 | Train Loss=2.1870 | Train Acc=95.80% | Test Acc=97.56%\n"
     ]
    },
    {
     "name": "stderr",
     "output_type": "stream",
     "text": [
      "BBB π=0.75 σ₁=1.4e-01 σ₂=2.5e-03:  27%|██▋       | 160/600 [09:55<27:41,  3.78s/it]"
     ]
    },
    {
     "name": "stdout",
     "output_type": "stream",
     "text": [
      "  Epoca 160/600 | Train Loss=2.1859 | Train Acc=95.77% | Test Acc=97.62%\n"
     ]
    },
    {
     "name": "stderr",
     "output_type": "stream",
     "text": [
      "BBB π=0.75 σ₁=1.4e-01 σ₂=2.5e-03:  27%|██▋       | 161/600 [09:58<27:16,  3.73s/it]"
     ]
    },
    {
     "name": "stdout",
     "output_type": "stream",
     "text": [
      "  Epoca 161/600 | Train Loss=2.1789 | Train Acc=95.95% | Test Acc=97.63%\n"
     ]
    },
    {
     "name": "stderr",
     "output_type": "stream",
     "text": [
      "BBB π=0.75 σ₁=1.4e-01 σ₂=2.5e-03:  27%|██▋       | 162/600 [10:02<27:03,  3.71s/it]"
     ]
    },
    {
     "name": "stdout",
     "output_type": "stream",
     "text": [
      "  Epoca 162/600 | Train Loss=2.1850 | Train Acc=95.79% | Test Acc=97.65%\n"
     ]
    },
    {
     "name": "stderr",
     "output_type": "stream",
     "text": [
      "BBB π=0.75 σ₁=1.4e-01 σ₂=2.5e-03:  27%|██▋       | 163/600 [10:06<26:52,  3.69s/it]"
     ]
    },
    {
     "name": "stdout",
     "output_type": "stream",
     "text": [
      "  Epoca 163/600 | Train Loss=2.1801 | Train Acc=95.81% | Test Acc=97.68%\n"
     ]
    },
    {
     "name": "stderr",
     "output_type": "stream",
     "text": [
      "BBB π=0.75 σ₁=1.4e-01 σ₂=2.5e-03:  27%|██▋       | 164/600 [10:09<26:40,  3.67s/it]"
     ]
    },
    {
     "name": "stdout",
     "output_type": "stream",
     "text": [
      "  Epoca 164/600 | Train Loss=2.1747 | Train Acc=95.92% | Test Acc=97.66%\n"
     ]
    },
    {
     "name": "stderr",
     "output_type": "stream",
     "text": [
      "BBB π=0.75 σ₁=1.4e-01 σ₂=2.5e-03:  28%|██▊       | 165/600 [10:13<26:40,  3.68s/it]"
     ]
    },
    {
     "name": "stdout",
     "output_type": "stream",
     "text": [
      "  Epoca 165/600 | Train Loss=2.1810 | Train Acc=95.78% | Test Acc=97.62%\n"
     ]
    },
    {
     "name": "stderr",
     "output_type": "stream",
     "text": [
      "BBB π=0.75 σ₁=1.4e-01 σ₂=2.5e-03:  28%|██▊       | 166/600 [10:17<26:32,  3.67s/it]"
     ]
    },
    {
     "name": "stdout",
     "output_type": "stream",
     "text": [
      "  Epoca 166/600 | Train Loss=2.1777 | Train Acc=95.87% | Test Acc=97.65%\n"
     ]
    },
    {
     "name": "stderr",
     "output_type": "stream",
     "text": [
      "BBB π=0.75 σ₁=1.4e-01 σ₂=2.5e-03:  28%|██▊       | 167/600 [10:20<26:44,  3.71s/it]"
     ]
    },
    {
     "name": "stdout",
     "output_type": "stream",
     "text": [
      "  Epoca 167/600 | Train Loss=2.1779 | Train Acc=95.92% | Test Acc=97.68%\n"
     ]
    },
    {
     "name": "stderr",
     "output_type": "stream",
     "text": [
      "BBB π=0.75 σ₁=1.4e-01 σ₂=2.5e-03:  28%|██▊       | 168/600 [10:24<27:17,  3.79s/it]"
     ]
    },
    {
     "name": "stdout",
     "output_type": "stream",
     "text": [
      "  Epoca 168/600 | Train Loss=2.1781 | Train Acc=95.88% | Test Acc=97.69%\n"
     ]
    },
    {
     "name": "stderr",
     "output_type": "stream",
     "text": [
      "BBB π=0.75 σ₁=1.4e-01 σ₂=2.5e-03:  28%|██▊       | 169/600 [10:28<26:48,  3.73s/it]"
     ]
    },
    {
     "name": "stdout",
     "output_type": "stream",
     "text": [
      "  Epoca 169/600 | Train Loss=2.1789 | Train Acc=95.77% | Test Acc=97.64%\n"
     ]
    },
    {
     "name": "stderr",
     "output_type": "stream",
     "text": [
      "BBB π=0.75 σ₁=1.4e-01 σ₂=2.5e-03:  28%|██▊       | 170/600 [10:32<26:39,  3.72s/it]"
     ]
    },
    {
     "name": "stdout",
     "output_type": "stream",
     "text": [
      "  Epoca 170/600 | Train Loss=2.1773 | Train Acc=95.81% | Test Acc=97.58%\n"
     ]
    },
    {
     "name": "stderr",
     "output_type": "stream",
     "text": [
      "BBB π=0.75 σ₁=1.4e-01 σ₂=2.5e-03:  28%|██▊       | 171/600 [10:35<26:28,  3.70s/it]"
     ]
    },
    {
     "name": "stdout",
     "output_type": "stream",
     "text": [
      "  Epoca 171/600 | Train Loss=2.1753 | Train Acc=95.91% | Test Acc=97.55%\n"
     ]
    },
    {
     "name": "stderr",
     "output_type": "stream",
     "text": [
      "BBB π=0.75 σ₁=1.4e-01 σ₂=2.5e-03:  29%|██▊       | 172/600 [10:39<26:13,  3.68s/it]"
     ]
    },
    {
     "name": "stdout",
     "output_type": "stream",
     "text": [
      "  Epoca 172/600 | Train Loss=2.1830 | Train Acc=95.66% | Test Acc=97.77%\n"
     ]
    },
    {
     "name": "stderr",
     "output_type": "stream",
     "text": [
      "BBB π=0.75 σ₁=1.4e-01 σ₂=2.5e-03:  29%|██▉       | 173/600 [10:43<26:11,  3.68s/it]"
     ]
    },
    {
     "name": "stdout",
     "output_type": "stream",
     "text": [
      "  Epoca 173/600 | Train Loss=2.1697 | Train Acc=95.89% | Test Acc=97.71%\n"
     ]
    },
    {
     "name": "stderr",
     "output_type": "stream",
     "text": [
      "BBB π=0.75 σ₁=1.4e-01 σ₂=2.5e-03:  29%|██▉       | 174/600 [10:46<26:10,  3.69s/it]"
     ]
    },
    {
     "name": "stdout",
     "output_type": "stream",
     "text": [
      "  Epoca 174/600 | Train Loss=2.1734 | Train Acc=95.73% | Test Acc=97.74%\n"
     ]
    },
    {
     "name": "stderr",
     "output_type": "stream",
     "text": [
      "BBB π=0.75 σ₁=1.4e-01 σ₂=2.5e-03:  29%|██▉       | 175/600 [10:50<26:01,  3.68s/it]"
     ]
    },
    {
     "name": "stdout",
     "output_type": "stream",
     "text": [
      "  Epoca 175/600 | Train Loss=2.1742 | Train Acc=95.72% | Test Acc=97.62%\n"
     ]
    },
    {
     "name": "stderr",
     "output_type": "stream",
     "text": [
      "BBB π=0.75 σ₁=1.4e-01 σ₂=2.5e-03:  29%|██▉       | 176/600 [10:54<26:54,  3.81s/it]"
     ]
    },
    {
     "name": "stdout",
     "output_type": "stream",
     "text": [
      "  Epoca 176/600 | Train Loss=2.1705 | Train Acc=95.88% | Test Acc=97.54%\n"
     ]
    },
    {
     "name": "stderr",
     "output_type": "stream",
     "text": [
      "BBB π=0.75 σ₁=1.4e-01 σ₂=2.5e-03:  30%|██▉       | 177/600 [10:58<26:37,  3.78s/it]"
     ]
    },
    {
     "name": "stdout",
     "output_type": "stream",
     "text": [
      "  Epoca 177/600 | Train Loss=2.1738 | Train Acc=95.75% | Test Acc=97.59%\n"
     ]
    },
    {
     "name": "stderr",
     "output_type": "stream",
     "text": [
      "BBB π=0.75 σ₁=1.4e-01 σ₂=2.5e-03:  30%|██▉       | 178/600 [11:01<26:24,  3.75s/it]"
     ]
    },
    {
     "name": "stdout",
     "output_type": "stream",
     "text": [
      "  Epoca 178/600 | Train Loss=2.1667 | Train Acc=95.87% | Test Acc=97.63%\n"
     ]
    },
    {
     "name": "stderr",
     "output_type": "stream",
     "text": [
      "BBB π=0.75 σ₁=1.4e-01 σ₂=2.5e-03:  30%|██▉       | 179/600 [11:05<26:08,  3.73s/it]"
     ]
    },
    {
     "name": "stdout",
     "output_type": "stream",
     "text": [
      "  Epoca 179/600 | Train Loss=2.1676 | Train Acc=95.84% | Test Acc=97.73%\n"
     ]
    },
    {
     "name": "stderr",
     "output_type": "stream",
     "text": [
      "BBB π=0.75 σ₁=1.4e-01 σ₂=2.5e-03:  30%|███       | 180/600 [11:09<26:02,  3.72s/it]"
     ]
    },
    {
     "name": "stdout",
     "output_type": "stream",
     "text": [
      "  Epoca 180/600 | Train Loss=2.1681 | Train Acc=95.88% | Test Acc=97.58%\n"
     ]
    },
    {
     "name": "stderr",
     "output_type": "stream",
     "text": [
      "BBB π=0.75 σ₁=1.4e-01 σ₂=2.5e-03:  30%|███       | 181/600 [11:13<25:56,  3.72s/it]"
     ]
    },
    {
     "name": "stdout",
     "output_type": "stream",
     "text": [
      "  Epoca 181/600 | Train Loss=2.1709 | Train Acc=95.77% | Test Acc=97.67%\n"
     ]
    },
    {
     "name": "stderr",
     "output_type": "stream",
     "text": [
      "BBB π=0.75 σ₁=1.4e-01 σ₂=2.5e-03:  30%|███       | 182/600 [11:16<25:45,  3.70s/it]"
     ]
    },
    {
     "name": "stdout",
     "output_type": "stream",
     "text": [
      "  Epoca 182/600 | Train Loss=2.1704 | Train Acc=95.77% | Test Acc=97.53%\n"
     ]
    },
    {
     "name": "stderr",
     "output_type": "stream",
     "text": [
      "BBB π=0.75 σ₁=1.4e-01 σ₂=2.5e-03:  30%|███       | 183/600 [11:20<25:39,  3.69s/it]"
     ]
    },
    {
     "name": "stdout",
     "output_type": "stream",
     "text": [
      "  Epoca 183/600 | Train Loss=2.1683 | Train Acc=95.94% | Test Acc=97.60%\n"
     ]
    },
    {
     "name": "stderr",
     "output_type": "stream",
     "text": [
      "BBB π=0.75 σ₁=1.4e-01 σ₂=2.5e-03:  31%|███       | 184/600 [11:24<25:38,  3.70s/it]"
     ]
    },
    {
     "name": "stdout",
     "output_type": "stream",
     "text": [
      "  Epoca 184/600 | Train Loss=2.1683 | Train Acc=95.90% | Test Acc=97.67%\n"
     ]
    },
    {
     "name": "stderr",
     "output_type": "stream",
     "text": [
      "BBB π=0.75 σ₁=1.4e-01 σ₂=2.5e-03:  31%|███       | 185/600 [11:28<26:25,  3.82s/it]"
     ]
    },
    {
     "name": "stdout",
     "output_type": "stream",
     "text": [
      "  Epoca 185/600 | Train Loss=2.1679 | Train Acc=95.90% | Test Acc=97.55%\n"
     ]
    },
    {
     "name": "stderr",
     "output_type": "stream",
     "text": [
      "BBB π=0.75 σ₁=1.4e-01 σ₂=2.5e-03:  31%|███       | 186/600 [11:31<26:04,  3.78s/it]"
     ]
    },
    {
     "name": "stdout",
     "output_type": "stream",
     "text": [
      "  Epoca 186/600 | Train Loss=2.1665 | Train Acc=95.92% | Test Acc=97.54%\n"
     ]
    },
    {
     "name": "stderr",
     "output_type": "stream",
     "text": [
      "BBB π=0.75 σ₁=1.4e-01 σ₂=2.5e-03:  31%|███       | 187/600 [11:35<25:50,  3.75s/it]"
     ]
    },
    {
     "name": "stdout",
     "output_type": "stream",
     "text": [
      "  Epoca 187/600 | Train Loss=2.1687 | Train Acc=95.71% | Test Acc=97.74%\n"
     ]
    },
    {
     "name": "stderr",
     "output_type": "stream",
     "text": [
      "BBB π=0.75 σ₁=1.4e-01 σ₂=2.5e-03:  31%|███▏      | 188/600 [11:39<25:34,  3.72s/it]"
     ]
    },
    {
     "name": "stdout",
     "output_type": "stream",
     "text": [
      "  Epoca 188/600 | Train Loss=2.1653 | Train Acc=95.81% | Test Acc=97.70%\n"
     ]
    },
    {
     "name": "stderr",
     "output_type": "stream",
     "text": [
      "BBB π=0.75 σ₁=1.4e-01 σ₂=2.5e-03:  32%|███▏      | 189/600 [11:42<25:29,  3.72s/it]"
     ]
    },
    {
     "name": "stdout",
     "output_type": "stream",
     "text": [
      "  Epoca 189/600 | Train Loss=2.1627 | Train Acc=95.95% | Test Acc=97.54%\n"
     ]
    },
    {
     "name": "stderr",
     "output_type": "stream",
     "text": [
      "BBB π=0.75 σ₁=1.4e-01 σ₂=2.5e-03:  32%|███▏      | 190/600 [11:46<25:13,  3.69s/it]"
     ]
    },
    {
     "name": "stdout",
     "output_type": "stream",
     "text": [
      "  Epoca 190/600 | Train Loss=2.1590 | Train Acc=95.90% | Test Acc=97.64%\n"
     ]
    },
    {
     "name": "stderr",
     "output_type": "stream",
     "text": [
      "BBB π=0.75 σ₁=1.4e-01 σ₂=2.5e-03:  32%|███▏      | 191/600 [11:50<25:03,  3.68s/it]"
     ]
    },
    {
     "name": "stdout",
     "output_type": "stream",
     "text": [
      "  Epoca 191/600 | Train Loss=2.1629 | Train Acc=95.81% | Test Acc=97.74%\n"
     ]
    },
    {
     "name": "stderr",
     "output_type": "stream",
     "text": [
      "BBB π=0.75 σ₁=1.4e-01 σ₂=2.5e-03:  32%|███▏      | 192/600 [11:53<25:06,  3.69s/it]"
     ]
    },
    {
     "name": "stdout",
     "output_type": "stream",
     "text": [
      "  Epoca 192/600 | Train Loss=2.1583 | Train Acc=95.92% | Test Acc=97.71%\n"
     ]
    },
    {
     "name": "stderr",
     "output_type": "stream",
     "text": [
      "BBB π=0.75 σ₁=1.4e-01 σ₂=2.5e-03:  32%|███▏      | 193/600 [11:57<24:59,  3.68s/it]"
     ]
    },
    {
     "name": "stdout",
     "output_type": "stream",
     "text": [
      "  Epoca 193/600 | Train Loss=2.1650 | Train Acc=95.75% | Test Acc=97.72%\n"
     ]
    },
    {
     "name": "stderr",
     "output_type": "stream",
     "text": [
      "BBB π=0.75 σ₁=1.4e-01 σ₂=2.5e-03:  32%|███▏      | 194/600 [12:01<25:42,  3.80s/it]"
     ]
    },
    {
     "name": "stdout",
     "output_type": "stream",
     "text": [
      "  Epoca 194/600 | Train Loss=2.1638 | Train Acc=95.81% | Test Acc=97.47%\n"
     ]
    },
    {
     "name": "stderr",
     "output_type": "stream",
     "text": [
      "BBB π=0.75 σ₁=1.4e-01 σ₂=2.5e-03:  32%|███▎      | 195/600 [12:05<25:29,  3.78s/it]"
     ]
    },
    {
     "name": "stdout",
     "output_type": "stream",
     "text": [
      "  Epoca 195/600 | Train Loss=2.1656 | Train Acc=95.74% | Test Acc=97.54%\n"
     ]
    },
    {
     "name": "stderr",
     "output_type": "stream",
     "text": [
      "BBB π=0.75 σ₁=1.4e-01 σ₂=2.5e-03:  33%|███▎      | 196/600 [12:09<25:11,  3.74s/it]"
     ]
    },
    {
     "name": "stdout",
     "output_type": "stream",
     "text": [
      "  Epoca 196/600 | Train Loss=2.1660 | Train Acc=95.68% | Test Acc=97.58%\n"
     ]
    },
    {
     "name": "stderr",
     "output_type": "stream",
     "text": [
      "BBB π=0.75 σ₁=1.4e-01 σ₂=2.5e-03:  33%|███▎      | 197/600 [12:12<25:04,  3.73s/it]"
     ]
    },
    {
     "name": "stdout",
     "output_type": "stream",
     "text": [
      "  Epoca 197/600 | Train Loss=2.1606 | Train Acc=95.85% | Test Acc=97.67%\n"
     ]
    },
    {
     "name": "stderr",
     "output_type": "stream",
     "text": [
      "BBB π=0.75 σ₁=1.4e-01 σ₂=2.5e-03:  33%|███▎      | 198/600 [12:16<24:50,  3.71s/it]"
     ]
    },
    {
     "name": "stdout",
     "output_type": "stream",
     "text": [
      "  Epoca 198/600 | Train Loss=2.1606 | Train Acc=95.83% | Test Acc=97.47%\n"
     ]
    },
    {
     "name": "stderr",
     "output_type": "stream",
     "text": [
      "BBB π=0.75 σ₁=1.4e-01 σ₂=2.5e-03:  33%|███▎      | 199/600 [12:20<24:34,  3.68s/it]"
     ]
    },
    {
     "name": "stdout",
     "output_type": "stream",
     "text": [
      "  Epoca 199/600 | Train Loss=2.1574 | Train Acc=95.88% | Test Acc=97.77%\n"
     ]
    },
    {
     "name": "stderr",
     "output_type": "stream",
     "text": [
      "BBB π=0.75 σ₁=1.4e-01 σ₂=2.5e-03:  33%|███▎      | 200/600 [12:23<24:36,  3.69s/it]"
     ]
    },
    {
     "name": "stdout",
     "output_type": "stream",
     "text": [
      "  Epoca 200/600 | Train Loss=2.1545 | Train Acc=95.94% | Test Acc=97.71%\n"
     ]
    },
    {
     "name": "stderr",
     "output_type": "stream",
     "text": [
      "BBB π=0.75 σ₁=1.4e-01 σ₂=2.5e-03:  34%|███▎      | 201/600 [12:27<24:23,  3.67s/it]"
     ]
    },
    {
     "name": "stdout",
     "output_type": "stream",
     "text": [
      "  Epoca 201/600 | Train Loss=2.1602 | Train Acc=95.72% | Test Acc=97.55%\n"
     ]
    },
    {
     "name": "stderr",
     "output_type": "stream",
     "text": [
      "BBB π=0.75 σ₁=1.4e-01 σ₂=2.5e-03:  34%|███▎      | 202/600 [12:31<24:43,  3.73s/it]"
     ]
    },
    {
     "name": "stdout",
     "output_type": "stream",
     "text": [
      "  Epoca 202/600 | Train Loss=2.1632 | Train Acc=95.79% | Test Acc=97.79%\n"
     ]
    },
    {
     "name": "stderr",
     "output_type": "stream",
     "text": [
      "BBB π=0.75 σ₁=1.4e-01 σ₂=2.5e-03:  34%|███▍      | 203/600 [12:35<24:54,  3.76s/it]"
     ]
    },
    {
     "name": "stdout",
     "output_type": "stream",
     "text": [
      "  Epoca 203/600 | Train Loss=2.1553 | Train Acc=95.89% | Test Acc=97.70%\n"
     ]
    },
    {
     "name": "stderr",
     "output_type": "stream",
     "text": [
      "BBB π=0.75 σ₁=1.4e-01 σ₂=2.5e-03:  34%|███▍      | 204/600 [12:38<24:35,  3.73s/it]"
     ]
    },
    {
     "name": "stdout",
     "output_type": "stream",
     "text": [
      "  Epoca 204/600 | Train Loss=2.1613 | Train Acc=95.71% | Test Acc=97.56%\n"
     ]
    },
    {
     "name": "stderr",
     "output_type": "stream",
     "text": [
      "BBB π=0.75 σ₁=1.4e-01 σ₂=2.5e-03:  34%|███▍      | 205/600 [12:42<24:27,  3.72s/it]"
     ]
    },
    {
     "name": "stdout",
     "output_type": "stream",
     "text": [
      "  Epoca 205/600 | Train Loss=2.1555 | Train Acc=95.95% | Test Acc=97.54%\n"
     ]
    },
    {
     "name": "stderr",
     "output_type": "stream",
     "text": [
      "BBB π=0.75 σ₁=1.4e-01 σ₂=2.5e-03:  34%|███▍      | 206/600 [12:46<24:15,  3.69s/it]"
     ]
    },
    {
     "name": "stdout",
     "output_type": "stream",
     "text": [
      "  Epoca 206/600 | Train Loss=2.1548 | Train Acc=95.87% | Test Acc=97.79%\n"
     ]
    },
    {
     "name": "stderr",
     "output_type": "stream",
     "text": [
      "BBB π=0.75 σ₁=1.4e-01 σ₂=2.5e-03:  34%|███▍      | 207/600 [12:49<24:05,  3.68s/it]"
     ]
    },
    {
     "name": "stdout",
     "output_type": "stream",
     "text": [
      "  Epoca 207/600 | Train Loss=2.1525 | Train Acc=95.95% | Test Acc=97.52%\n"
     ]
    },
    {
     "name": "stderr",
     "output_type": "stream",
     "text": [
      "BBB π=0.75 σ₁=1.4e-01 σ₂=2.5e-03:  35%|███▍      | 208/600 [12:53<24:11,  3.70s/it]"
     ]
    },
    {
     "name": "stdout",
     "output_type": "stream",
     "text": [
      "  Epoca 208/600 | Train Loss=2.1579 | Train Acc=95.81% | Test Acc=97.51%\n"
     ]
    },
    {
     "name": "stderr",
     "output_type": "stream",
     "text": [
      "BBB π=0.75 σ₁=1.4e-01 σ₂=2.5e-03:  35%|███▍      | 209/600 [12:57<24:01,  3.69s/it]"
     ]
    },
    {
     "name": "stdout",
     "output_type": "stream",
     "text": [
      "  Epoca 209/600 | Train Loss=2.1567 | Train Acc=95.76% | Test Acc=97.47%\n"
     ]
    },
    {
     "name": "stderr",
     "output_type": "stream",
     "text": [
      "BBB π=0.75 σ₁=1.4e-01 σ₂=2.5e-03:  35%|███▌      | 210/600 [13:00<23:51,  3.67s/it]"
     ]
    },
    {
     "name": "stdout",
     "output_type": "stream",
     "text": [
      "  Epoca 210/600 | Train Loss=2.1561 | Train Acc=95.80% | Test Acc=97.59%\n"
     ]
    },
    {
     "name": "stderr",
     "output_type": "stream",
     "text": [
      "BBB π=0.75 σ₁=1.4e-01 σ₂=2.5e-03:  35%|███▌      | 211/600 [13:04<24:38,  3.80s/it]"
     ]
    },
    {
     "name": "stdout",
     "output_type": "stream",
     "text": [
      "  Epoca 211/600 | Train Loss=2.1604 | Train Acc=95.68% | Test Acc=97.74%\n"
     ]
    },
    {
     "name": "stderr",
     "output_type": "stream",
     "text": [
      "BBB π=0.75 σ₁=1.4e-01 σ₂=2.5e-03:  35%|███▌      | 212/600 [13:08<24:18,  3.76s/it]"
     ]
    },
    {
     "name": "stdout",
     "output_type": "stream",
     "text": [
      "  Epoca 212/600 | Train Loss=2.1551 | Train Acc=95.78% | Test Acc=97.59%\n"
     ]
    },
    {
     "name": "stderr",
     "output_type": "stream",
     "text": [
      "BBB π=0.75 σ₁=1.4e-01 σ₂=2.5e-03:  36%|███▌      | 213/600 [13:12<24:09,  3.75s/it]"
     ]
    },
    {
     "name": "stdout",
     "output_type": "stream",
     "text": [
      "  Epoca 213/600 | Train Loss=2.1585 | Train Acc=95.72% | Test Acc=97.65%\n"
     ]
    },
    {
     "name": "stderr",
     "output_type": "stream",
     "text": [
      "BBB π=0.75 σ₁=1.4e-01 σ₂=2.5e-03:  36%|███▌      | 214/600 [13:15<23:51,  3.71s/it]"
     ]
    },
    {
     "name": "stdout",
     "output_type": "stream",
     "text": [
      "  Epoca 214/600 | Train Loss=2.1516 | Train Acc=95.95% | Test Acc=97.63%\n"
     ]
    },
    {
     "name": "stderr",
     "output_type": "stream",
     "text": [
      "BBB π=0.75 σ₁=1.4e-01 σ₂=2.5e-03:  36%|███▌      | 215/600 [13:19<23:41,  3.69s/it]"
     ]
    },
    {
     "name": "stdout",
     "output_type": "stream",
     "text": [
      "  Epoca 215/600 | Train Loss=2.1503 | Train Acc=95.91% | Test Acc=97.64%\n"
     ]
    },
    {
     "name": "stderr",
     "output_type": "stream",
     "text": [
      "BBB π=0.75 σ₁=1.4e-01 σ₂=2.5e-03:  36%|███▌      | 216/600 [13:23<23:41,  3.70s/it]"
     ]
    },
    {
     "name": "stdout",
     "output_type": "stream",
     "text": [
      "  Epoca 216/600 | Train Loss=2.1505 | Train Acc=95.85% | Test Acc=97.73%\n"
     ]
    },
    {
     "name": "stderr",
     "output_type": "stream",
     "text": [
      "BBB π=0.75 σ₁=1.4e-01 σ₂=2.5e-03:  36%|███▌      | 217/600 [13:26<23:30,  3.68s/it]"
     ]
    },
    {
     "name": "stdout",
     "output_type": "stream",
     "text": [
      "  Epoca 217/600 | Train Loss=2.1472 | Train Acc=95.94% | Test Acc=97.76%\n"
     ]
    },
    {
     "name": "stderr",
     "output_type": "stream",
     "text": [
      "BBB π=0.75 σ₁=1.4e-01 σ₂=2.5e-03:  36%|███▋      | 218/600 [13:30<23:18,  3.66s/it]"
     ]
    },
    {
     "name": "stdout",
     "output_type": "stream",
     "text": [
      "  Epoca 218/600 | Train Loss=2.1439 | Train Acc=96.05% | Test Acc=97.57%\n"
     ]
    },
    {
     "name": "stderr",
     "output_type": "stream",
     "text": [
      "BBB π=0.75 σ₁=1.4e-01 σ₂=2.5e-03:  36%|███▋      | 219/600 [13:34<23:16,  3.66s/it]"
     ]
    },
    {
     "name": "stdout",
     "output_type": "stream",
     "text": [
      "  Epoca 219/600 | Train Loss=2.1463 | Train Acc=95.90% | Test Acc=97.65%\n"
     ]
    },
    {
     "name": "stderr",
     "output_type": "stream",
     "text": [
      "BBB π=0.75 σ₁=1.4e-01 σ₂=2.5e-03:  37%|███▋      | 220/600 [13:38<23:58,  3.79s/it]"
     ]
    },
    {
     "name": "stdout",
     "output_type": "stream",
     "text": [
      "  Epoca 220/600 | Train Loss=2.1510 | Train Acc=95.73% | Test Acc=97.65%\n"
     ]
    },
    {
     "name": "stderr",
     "output_type": "stream",
     "text": [
      "BBB π=0.75 σ₁=1.4e-01 σ₂=2.5e-03:  37%|███▋      | 221/600 [13:41<23:47,  3.77s/it]"
     ]
    },
    {
     "name": "stdout",
     "output_type": "stream",
     "text": [
      "  Epoca 221/600 | Train Loss=2.1531 | Train Acc=95.75% | Test Acc=97.73%\n"
     ]
    },
    {
     "name": "stderr",
     "output_type": "stream",
     "text": [
      "BBB π=0.75 σ₁=1.4e-01 σ₂=2.5e-03:  37%|███▋      | 222/600 [13:45<23:34,  3.74s/it]"
     ]
    },
    {
     "name": "stdout",
     "output_type": "stream",
     "text": [
      "  Epoca 222/600 | Train Loss=2.1505 | Train Acc=95.86% | Test Acc=97.60%\n"
     ]
    },
    {
     "name": "stderr",
     "output_type": "stream",
     "text": [
      "BBB π=0.75 σ₁=1.4e-01 σ₂=2.5e-03:  37%|███▋      | 223/600 [13:49<23:20,  3.71s/it]"
     ]
    },
    {
     "name": "stdout",
     "output_type": "stream",
     "text": [
      "  Epoca 223/600 | Train Loss=2.1478 | Train Acc=95.85% | Test Acc=97.79%\n"
     ]
    },
    {
     "name": "stderr",
     "output_type": "stream",
     "text": [
      "BBB π=0.75 σ₁=1.4e-01 σ₂=2.5e-03:  37%|███▋      | 224/600 [13:52<23:17,  3.72s/it]"
     ]
    },
    {
     "name": "stdout",
     "output_type": "stream",
     "text": [
      "  Epoca 224/600 | Train Loss=2.1418 | Train Acc=95.98% | Test Acc=97.64%\n"
     ]
    },
    {
     "name": "stderr",
     "output_type": "stream",
     "text": [
      "BBB π=0.75 σ₁=1.4e-01 σ₂=2.5e-03:  38%|███▊      | 225/600 [13:56<23:06,  3.70s/it]"
     ]
    },
    {
     "name": "stdout",
     "output_type": "stream",
     "text": [
      "  Epoca 225/600 | Train Loss=2.1487 | Train Acc=95.80% | Test Acc=97.50%\n"
     ]
    },
    {
     "name": "stderr",
     "output_type": "stream",
     "text": [
      "BBB π=0.75 σ₁=1.4e-01 σ₂=2.5e-03:  38%|███▊      | 226/600 [14:00<22:57,  3.68s/it]"
     ]
    },
    {
     "name": "stdout",
     "output_type": "stream",
     "text": [
      "  Epoca 226/600 | Train Loss=2.1490 | Train Acc=95.79% | Test Acc=97.68%\n"
     ]
    },
    {
     "name": "stderr",
     "output_type": "stream",
     "text": [
      "BBB π=0.75 σ₁=1.4e-01 σ₂=2.5e-03:  38%|███▊      | 227/600 [14:03<22:54,  3.68s/it]"
     ]
    },
    {
     "name": "stdout",
     "output_type": "stream",
     "text": [
      "  Epoca 227/600 | Train Loss=2.1466 | Train Acc=95.83% | Test Acc=97.60%\n"
     ]
    },
    {
     "name": "stderr",
     "output_type": "stream",
     "text": [
      "BBB π=0.75 σ₁=1.4e-01 σ₂=2.5e-03:  38%|███▊      | 228/600 [14:07<22:47,  3.68s/it]"
     ]
    },
    {
     "name": "stdout",
     "output_type": "stream",
     "text": [
      "  Epoca 228/600 | Train Loss=2.1447 | Train Acc=95.87% | Test Acc=97.61%\n"
     ]
    },
    {
     "name": "stderr",
     "output_type": "stream",
     "text": [
      "BBB π=0.75 σ₁=1.4e-01 σ₂=2.5e-03:  38%|███▊      | 229/600 [14:11<23:26,  3.79s/it]"
     ]
    },
    {
     "name": "stdout",
     "output_type": "stream",
     "text": [
      "  Epoca 229/600 | Train Loss=2.1485 | Train Acc=95.72% | Test Acc=97.60%\n"
     ]
    },
    {
     "name": "stderr",
     "output_type": "stream",
     "text": [
      "BBB π=0.75 σ₁=1.4e-01 σ₂=2.5e-03:  38%|███▊      | 230/600 [14:15<23:17,  3.78s/it]"
     ]
    },
    {
     "name": "stdout",
     "output_type": "stream",
     "text": [
      "  Epoca 230/600 | Train Loss=2.1487 | Train Acc=95.80% | Test Acc=97.58%\n"
     ]
    },
    {
     "name": "stderr",
     "output_type": "stream",
     "text": [
      "BBB π=0.75 σ₁=1.4e-01 σ₂=2.5e-03:  38%|███▊      | 231/600 [14:19<22:56,  3.73s/it]"
     ]
    },
    {
     "name": "stdout",
     "output_type": "stream",
     "text": [
      "  Epoca 231/600 | Train Loss=2.1464 | Train Acc=95.83% | Test Acc=97.72%\n"
     ]
    },
    {
     "name": "stderr",
     "output_type": "stream",
     "text": [
      "BBB π=0.75 σ₁=1.4e-01 σ₂=2.5e-03:  39%|███▊      | 232/600 [14:22<22:50,  3.72s/it]"
     ]
    },
    {
     "name": "stdout",
     "output_type": "stream",
     "text": [
      "  Epoca 232/600 | Train Loss=2.1434 | Train Acc=95.95% | Test Acc=97.75%\n"
     ]
    },
    {
     "name": "stderr",
     "output_type": "stream",
     "text": [
      "BBB π=0.75 σ₁=1.4e-01 σ₂=2.5e-03:  39%|███▉      | 233/600 [14:26<22:38,  3.70s/it]"
     ]
    },
    {
     "name": "stdout",
     "output_type": "stream",
     "text": [
      "  Epoca 233/600 | Train Loss=2.1430 | Train Acc=95.88% | Test Acc=97.55%\n"
     ]
    },
    {
     "name": "stderr",
     "output_type": "stream",
     "text": [
      "BBB π=0.75 σ₁=1.4e-01 σ₂=2.5e-03:  39%|███▉      | 234/600 [14:30<22:24,  3.67s/it]"
     ]
    },
    {
     "name": "stdout",
     "output_type": "stream",
     "text": [
      "  Epoca 234/600 | Train Loss=2.1420 | Train Acc=95.94% | Test Acc=97.53%\n"
     ]
    },
    {
     "name": "stderr",
     "output_type": "stream",
     "text": [
      "BBB π=0.75 σ₁=1.4e-01 σ₂=2.5e-03:  39%|███▉      | 235/600 [14:33<22:21,  3.67s/it]"
     ]
    },
    {
     "name": "stdout",
     "output_type": "stream",
     "text": [
      "  Epoca 235/600 | Train Loss=2.1424 | Train Acc=95.89% | Test Acc=97.62%\n"
     ]
    },
    {
     "name": "stderr",
     "output_type": "stream",
     "text": [
      "BBB π=0.75 σ₁=1.4e-01 σ₂=2.5e-03:  39%|███▉      | 236/600 [14:37<22:16,  3.67s/it]"
     ]
    },
    {
     "name": "stdout",
     "output_type": "stream",
     "text": [
      "  Epoca 236/600 | Train Loss=2.1435 | Train Acc=95.85% | Test Acc=97.52%\n"
     ]
    },
    {
     "name": "stderr",
     "output_type": "stream",
     "text": [
      "BBB π=0.75 σ₁=1.4e-01 σ₂=2.5e-03:  40%|███▉      | 237/600 [14:41<22:34,  3.73s/it]"
     ]
    },
    {
     "name": "stdout",
     "output_type": "stream",
     "text": [
      "  Epoca 237/600 | Train Loss=2.1444 | Train Acc=95.70% | Test Acc=97.60%\n"
     ]
    },
    {
     "name": "stderr",
     "output_type": "stream",
     "text": [
      "BBB π=0.75 σ₁=1.4e-01 σ₂=2.5e-03:  40%|███▉      | 238/600 [14:45<22:43,  3.77s/it]"
     ]
    },
    {
     "name": "stdout",
     "output_type": "stream",
     "text": [
      "  Epoca 238/600 | Train Loss=2.1414 | Train Acc=95.91% | Test Acc=97.50%\n"
     ]
    },
    {
     "name": "stderr",
     "output_type": "stream",
     "text": [
      "BBB π=0.75 σ₁=1.4e-01 σ₂=2.5e-03:  40%|███▉      | 239/600 [14:48<22:25,  3.73s/it]"
     ]
    },
    {
     "name": "stdout",
     "output_type": "stream",
     "text": [
      "  Epoca 239/600 | Train Loss=2.1437 | Train Acc=95.82% | Test Acc=97.49%\n"
     ]
    },
    {
     "name": "stderr",
     "output_type": "stream",
     "text": [
      "BBB π=0.75 σ₁=1.4e-01 σ₂=2.5e-03:  40%|████      | 240/600 [14:52<22:22,  3.73s/it]"
     ]
    },
    {
     "name": "stdout",
     "output_type": "stream",
     "text": [
      "  Epoca 240/600 | Train Loss=2.1399 | Train Acc=95.91% | Test Acc=97.44%\n"
     ]
    },
    {
     "name": "stderr",
     "output_type": "stream",
     "text": [
      "BBB π=0.75 σ₁=1.4e-01 σ₂=2.5e-03:  40%|████      | 241/600 [14:56<22:12,  3.71s/it]"
     ]
    },
    {
     "name": "stdout",
     "output_type": "stream",
     "text": [
      "  Epoca 241/600 | Train Loss=2.1374 | Train Acc=95.90% | Test Acc=97.65%\n"
     ]
    },
    {
     "name": "stderr",
     "output_type": "stream",
     "text": [
      "BBB π=0.75 σ₁=1.4e-01 σ₂=2.5e-03:  40%|████      | 242/600 [14:59<22:11,  3.72s/it]"
     ]
    },
    {
     "name": "stdout",
     "output_type": "stream",
     "text": [
      "  Epoca 242/600 | Train Loss=2.1363 | Train Acc=95.91% | Test Acc=97.51%\n"
     ]
    },
    {
     "name": "stderr",
     "output_type": "stream",
     "text": [
      "BBB π=0.75 σ₁=1.4e-01 σ₂=2.5e-03:  40%|████      | 243/600 [15:03<22:14,  3.74s/it]"
     ]
    },
    {
     "name": "stdout",
     "output_type": "stream",
     "text": [
      "  Epoca 243/600 | Train Loss=2.1428 | Train Acc=95.80% | Test Acc=97.66%\n"
     ]
    },
    {
     "name": "stderr",
     "output_type": "stream",
     "text": [
      "BBB π=0.75 σ₁=1.4e-01 σ₂=2.5e-03:  41%|████      | 244/600 [15:07<22:06,  3.73s/it]"
     ]
    },
    {
     "name": "stdout",
     "output_type": "stream",
     "text": [
      "  Epoca 244/600 | Train Loss=2.1361 | Train Acc=95.95% | Test Acc=97.73%\n"
     ]
    },
    {
     "name": "stderr",
     "output_type": "stream",
     "text": [
      "BBB π=0.75 σ₁=1.4e-01 σ₂=2.5e-03:  41%|████      | 245/600 [15:11<21:56,  3.71s/it]"
     ]
    },
    {
     "name": "stdout",
     "output_type": "stream",
     "text": [
      "  Epoca 245/600 | Train Loss=2.1400 | Train Acc=95.85% | Test Acc=97.72%\n"
     ]
    },
    {
     "name": "stderr",
     "output_type": "stream",
     "text": [
      "BBB π=0.75 σ₁=1.4e-01 σ₂=2.5e-03:  41%|████      | 246/600 [15:15<22:37,  3.83s/it]"
     ]
    },
    {
     "name": "stdout",
     "output_type": "stream",
     "text": [
      "  Epoca 246/600 | Train Loss=2.1340 | Train Acc=95.98% | Test Acc=97.57%\n"
     ]
    },
    {
     "name": "stderr",
     "output_type": "stream",
     "text": [
      "BBB π=0.75 σ₁=1.4e-01 σ₂=2.5e-03:  41%|████      | 247/600 [15:18<22:12,  3.78s/it]"
     ]
    },
    {
     "name": "stdout",
     "output_type": "stream",
     "text": [
      "  Epoca 247/600 | Train Loss=2.1336 | Train Acc=95.94% | Test Acc=97.49%\n"
     ]
    },
    {
     "name": "stderr",
     "output_type": "stream",
     "text": [
      "BBB π=0.75 σ₁=1.4e-01 σ₂=2.5e-03:  41%|████▏     | 248/600 [15:22<22:01,  3.75s/it]"
     ]
    },
    {
     "name": "stdout",
     "output_type": "stream",
     "text": [
      "  Epoca 248/600 | Train Loss=2.1404 | Train Acc=95.78% | Test Acc=97.71%\n"
     ]
    },
    {
     "name": "stderr",
     "output_type": "stream",
     "text": [
      "BBB π=0.75 σ₁=1.4e-01 σ₂=2.5e-03:  42%|████▏     | 249/600 [15:26<21:45,  3.72s/it]"
     ]
    },
    {
     "name": "stdout",
     "output_type": "stream",
     "text": [
      "  Epoca 249/600 | Train Loss=2.1416 | Train Acc=95.76% | Test Acc=97.58%\n"
     ]
    },
    {
     "name": "stderr",
     "output_type": "stream",
     "text": [
      "BBB π=0.75 σ₁=1.4e-01 σ₂=2.5e-03:  42%|████▏     | 250/600 [15:29<21:36,  3.70s/it]"
     ]
    },
    {
     "name": "stdout",
     "output_type": "stream",
     "text": [
      "  Epoca 250/600 | Train Loss=2.1382 | Train Acc=95.91% | Test Acc=97.45%\n"
     ]
    },
    {
     "name": "stderr",
     "output_type": "stream",
     "text": [
      "BBB π=0.75 σ₁=1.4e-01 σ₂=2.5e-03:  42%|████▏     | 251/600 [15:33<21:36,  3.72s/it]"
     ]
    },
    {
     "name": "stdout",
     "output_type": "stream",
     "text": [
      "  Epoca 251/600 | Train Loss=2.1353 | Train Acc=95.96% | Test Acc=97.67%\n"
     ]
    },
    {
     "name": "stderr",
     "output_type": "stream",
     "text": [
      "BBB π=0.75 σ₁=1.4e-01 σ₂=2.5e-03:  42%|████▏     | 252/600 [15:37<21:26,  3.70s/it]"
     ]
    },
    {
     "name": "stdout",
     "output_type": "stream",
     "text": [
      "  Epoca 252/600 | Train Loss=2.1363 | Train Acc=95.90% | Test Acc=97.56%\n"
     ]
    },
    {
     "name": "stderr",
     "output_type": "stream",
     "text": [
      "BBB π=0.75 σ₁=1.4e-01 σ₂=2.5e-03:  42%|████▏     | 253/600 [15:40<21:21,  3.69s/it]"
     ]
    },
    {
     "name": "stdout",
     "output_type": "stream",
     "text": [
      "  Epoca 253/600 | Train Loss=2.1307 | Train Acc=95.97% | Test Acc=97.61%\n"
     ]
    },
    {
     "name": "stderr",
     "output_type": "stream",
     "text": [
      "BBB π=0.75 σ₁=1.4e-01 σ₂=2.5e-03:  42%|████▏     | 254/600 [15:44<21:18,  3.70s/it]"
     ]
    },
    {
     "name": "stdout",
     "output_type": "stream",
     "text": [
      "  Epoca 254/600 | Train Loss=2.1407 | Train Acc=95.67% | Test Acc=97.64%\n"
     ]
    },
    {
     "name": "stderr",
     "output_type": "stream",
     "text": [
      "BBB π=0.75 σ₁=1.4e-01 σ₂=2.5e-03:  42%|████▎     | 255/600 [15:48<21:53,  3.81s/it]"
     ]
    },
    {
     "name": "stdout",
     "output_type": "stream",
     "text": [
      "  Epoca 255/600 | Train Loss=2.1377 | Train Acc=95.74% | Test Acc=97.66%\n"
     ]
    },
    {
     "name": "stderr",
     "output_type": "stream",
     "text": [
      "BBB π=0.75 σ₁=1.4e-01 σ₂=2.5e-03:  43%|████▎     | 256/600 [15:52<21:38,  3.78s/it]"
     ]
    },
    {
     "name": "stdout",
     "output_type": "stream",
     "text": [
      "  Epoca 256/600 | Train Loss=2.1338 | Train Acc=95.95% | Test Acc=97.60%\n"
     ]
    },
    {
     "name": "stderr",
     "output_type": "stream",
     "text": [
      "BBB π=0.75 σ₁=1.4e-01 σ₂=2.5e-03:  43%|████▎     | 257/600 [15:56<21:24,  3.74s/it]"
     ]
    },
    {
     "name": "stdout",
     "output_type": "stream",
     "text": [
      "  Epoca 257/600 | Train Loss=2.1340 | Train Acc=95.91% | Test Acc=97.74%\n"
     ]
    },
    {
     "name": "stderr",
     "output_type": "stream",
     "text": [
      "BBB π=0.75 σ₁=1.4e-01 σ₂=2.5e-03:  43%|████▎     | 258/600 [15:59<21:13,  3.72s/it]"
     ]
    },
    {
     "name": "stdout",
     "output_type": "stream",
     "text": [
      "  Epoca 258/600 | Train Loss=2.1359 | Train Acc=95.86% | Test Acc=97.52%\n"
     ]
    },
    {
     "name": "stderr",
     "output_type": "stream",
     "text": [
      "BBB π=0.75 σ₁=1.4e-01 σ₂=2.5e-03:  43%|████▎     | 259/600 [16:03<21:09,  3.72s/it]"
     ]
    },
    {
     "name": "stdout",
     "output_type": "stream",
     "text": [
      "  Epoca 259/600 | Train Loss=2.1312 | Train Acc=95.91% | Test Acc=97.55%\n"
     ]
    },
    {
     "name": "stderr",
     "output_type": "stream",
     "text": [
      "BBB π=0.75 σ₁=1.4e-01 σ₂=2.5e-03:  43%|████▎     | 260/600 [16:07<20:55,  3.69s/it]"
     ]
    },
    {
     "name": "stdout",
     "output_type": "stream",
     "text": [
      "  Epoca 260/600 | Train Loss=2.1325 | Train Acc=95.85% | Test Acc=97.43%\n"
     ]
    },
    {
     "name": "stderr",
     "output_type": "stream",
     "text": [
      "BBB π=0.75 σ₁=1.4e-01 σ₂=2.5e-03:  44%|████▎     | 261/600 [16:10<20:48,  3.68s/it]"
     ]
    },
    {
     "name": "stdout",
     "output_type": "stream",
     "text": [
      "  Epoca 261/600 | Train Loss=2.1315 | Train Acc=95.80% | Test Acc=97.68%\n"
     ]
    },
    {
     "name": "stderr",
     "output_type": "stream",
     "text": [
      "BBB π=0.75 σ₁=1.4e-01 σ₂=2.5e-03:  44%|████▎     | 262/600 [16:14<20:48,  3.69s/it]"
     ]
    },
    {
     "name": "stdout",
     "output_type": "stream",
     "text": [
      "  Epoca 262/600 | Train Loss=2.1343 | Train Acc=95.86% | Test Acc=97.40%\n"
     ]
    },
    {
     "name": "stderr",
     "output_type": "stream",
     "text": [
      "BBB π=0.75 σ₁=1.4e-01 σ₂=2.5e-03:  44%|████▍     | 263/600 [16:18<20:57,  3.73s/it]"
     ]
    },
    {
     "name": "stdout",
     "output_type": "stream",
     "text": [
      "  Epoca 263/600 | Train Loss=2.1280 | Train Acc=95.96% | Test Acc=97.37%\n"
     ]
    },
    {
     "name": "stderr",
     "output_type": "stream",
     "text": [
      "BBB π=0.75 σ₁=1.4e-01 σ₂=2.5e-03:  44%|████▍     | 264/600 [16:22<21:13,  3.79s/it]"
     ]
    },
    {
     "name": "stdout",
     "output_type": "stream",
     "text": [
      "  Epoca 264/600 | Train Loss=2.1317 | Train Acc=95.80% | Test Acc=97.63%\n"
     ]
    },
    {
     "name": "stderr",
     "output_type": "stream",
     "text": [
      "BBB π=0.75 σ₁=1.4e-01 σ₂=2.5e-03:  44%|████▍     | 265/600 [16:25<20:56,  3.75s/it]"
     ]
    },
    {
     "name": "stdout",
     "output_type": "stream",
     "text": [
      "  Epoca 265/600 | Train Loss=2.1290 | Train Acc=95.91% | Test Acc=97.59%\n"
     ]
    },
    {
     "name": "stderr",
     "output_type": "stream",
     "text": [
      "BBB π=0.75 σ₁=1.4e-01 σ₂=2.5e-03:  44%|████▍     | 266/600 [16:29<20:42,  3.72s/it]"
     ]
    },
    {
     "name": "stdout",
     "output_type": "stream",
     "text": [
      "  Epoca 266/600 | Train Loss=2.1289 | Train Acc=95.83% | Test Acc=97.57%\n"
     ]
    },
    {
     "name": "stderr",
     "output_type": "stream",
     "text": [
      "BBB π=0.75 σ₁=1.4e-01 σ₂=2.5e-03:  44%|████▍     | 267/600 [16:33<20:35,  3.71s/it]"
     ]
    },
    {
     "name": "stdout",
     "output_type": "stream",
     "text": [
      "  Epoca 267/600 | Train Loss=2.1314 | Train Acc=95.69% | Test Acc=97.31%\n"
     ]
    },
    {
     "name": "stderr",
     "output_type": "stream",
     "text": [
      "BBB π=0.75 σ₁=1.4e-01 σ₂=2.5e-03:  45%|████▍     | 268/600 [16:36<20:24,  3.69s/it]"
     ]
    },
    {
     "name": "stdout",
     "output_type": "stream",
     "text": [
      "  Epoca 268/600 | Train Loss=2.1278 | Train Acc=95.92% | Test Acc=97.46%\n"
     ]
    },
    {
     "name": "stderr",
     "output_type": "stream",
     "text": [
      "BBB π=0.75 σ₁=1.4e-01 σ₂=2.5e-03:  45%|████▍     | 269/600 [16:40<20:19,  3.69s/it]"
     ]
    },
    {
     "name": "stdout",
     "output_type": "stream",
     "text": [
      "  Epoca 269/600 | Train Loss=2.1290 | Train Acc=95.89% | Test Acc=97.43%\n"
     ]
    },
    {
     "name": "stderr",
     "output_type": "stream",
     "text": [
      "BBB π=0.75 σ₁=1.4e-01 σ₂=2.5e-03:  45%|████▌     | 270/600 [16:44<20:15,  3.68s/it]"
     ]
    },
    {
     "name": "stdout",
     "output_type": "stream",
     "text": [
      "  Epoca 270/600 | Train Loss=2.1286 | Train Acc=95.90% | Test Acc=97.47%\n"
     ]
    },
    {
     "name": "stderr",
     "output_type": "stream",
     "text": [
      "BBB π=0.75 σ₁=1.4e-01 σ₂=2.5e-03:  45%|████▌     | 271/600 [16:47<20:04,  3.66s/it]"
     ]
    },
    {
     "name": "stdout",
     "output_type": "stream",
     "text": [
      "  Epoca 271/600 | Train Loss=2.1267 | Train Acc=95.96% | Test Acc=97.54%\n"
     ]
    },
    {
     "name": "stderr",
     "output_type": "stream",
     "text": [
      "BBB π=0.75 σ₁=1.4e-01 σ₂=2.5e-03:  45%|████▌     | 272/600 [16:51<20:47,  3.80s/it]"
     ]
    },
    {
     "name": "stdout",
     "output_type": "stream",
     "text": [
      "  Epoca 272/600 | Train Loss=2.1259 | Train Acc=95.95% | Test Acc=97.52%\n"
     ]
    },
    {
     "name": "stderr",
     "output_type": "stream",
     "text": [
      "BBB π=0.75 σ₁=1.4e-01 σ₂=2.5e-03:  46%|████▌     | 273/600 [16:55<20:29,  3.76s/it]"
     ]
    },
    {
     "name": "stdout",
     "output_type": "stream",
     "text": [
      "  Epoca 273/600 | Train Loss=2.1248 | Train Acc=95.91% | Test Acc=97.57%\n"
     ]
    },
    {
     "name": "stderr",
     "output_type": "stream",
     "text": [
      "BBB π=0.75 σ₁=1.4e-01 σ₂=2.5e-03:  46%|████▌     | 274/600 [16:59<20:13,  3.72s/it]"
     ]
    },
    {
     "name": "stdout",
     "output_type": "stream",
     "text": [
      "  Epoca 274/600 | Train Loss=2.1281 | Train Acc=95.85% | Test Acc=97.59%\n"
     ]
    },
    {
     "name": "stderr",
     "output_type": "stream",
     "text": [
      "BBB π=0.75 σ₁=1.4e-01 σ₂=2.5e-03:  46%|████▌     | 275/600 [17:02<20:15,  3.74s/it]"
     ]
    },
    {
     "name": "stdout",
     "output_type": "stream",
     "text": [
      "  Epoca 275/600 | Train Loss=2.1218 | Train Acc=95.93% | Test Acc=97.53%\n"
     ]
    },
    {
     "name": "stderr",
     "output_type": "stream",
     "text": [
      "BBB π=0.75 σ₁=1.4e-01 σ₂=2.5e-03:  46%|████▌     | 276/600 [17:06<20:09,  3.73s/it]"
     ]
    },
    {
     "name": "stdout",
     "output_type": "stream",
     "text": [
      "  Epoca 276/600 | Train Loss=2.1228 | Train Acc=95.89% | Test Acc=97.49%\n"
     ]
    },
    {
     "name": "stderr",
     "output_type": "stream",
     "text": [
      "BBB π=0.75 σ₁=1.4e-01 σ₂=2.5e-03:  46%|████▌     | 277/600 [17:10<19:59,  3.71s/it]"
     ]
    },
    {
     "name": "stdout",
     "output_type": "stream",
     "text": [
      "  Epoca 277/600 | Train Loss=2.1275 | Train Acc=95.88% | Test Acc=97.53%\n"
     ]
    },
    {
     "name": "stderr",
     "output_type": "stream",
     "text": [
      "BBB π=0.75 σ₁=1.4e-01 σ₂=2.5e-03:  46%|████▋     | 278/600 [17:14<19:58,  3.72s/it]"
     ]
    },
    {
     "name": "stdout",
     "output_type": "stream",
     "text": [
      "  Epoca 278/600 | Train Loss=2.1249 | Train Acc=95.89% | Test Acc=97.51%\n"
     ]
    },
    {
     "name": "stderr",
     "output_type": "stream",
     "text": [
      "BBB π=0.75 σ₁=1.4e-01 σ₂=2.5e-03:  46%|████▋     | 279/600 [17:17<19:48,  3.70s/it]"
     ]
    },
    {
     "name": "stdout",
     "output_type": "stream",
     "text": [
      "  Epoca 279/600 | Train Loss=2.1241 | Train Acc=95.86% | Test Acc=97.45%\n"
     ]
    },
    {
     "name": "stderr",
     "output_type": "stream",
     "text": [
      "BBB π=0.75 σ₁=1.4e-01 σ₂=2.5e-03:  47%|████▋     | 280/600 [17:21<19:40,  3.69s/it]"
     ]
    },
    {
     "name": "stdout",
     "output_type": "stream",
     "text": [
      "  Epoca 280/600 | Train Loss=2.1267 | Train Acc=95.85% | Test Acc=97.64%\n"
     ]
    },
    {
     "name": "stderr",
     "output_type": "stream",
     "text": [
      "BBB π=0.75 σ₁=1.4e-01 σ₂=2.5e-03:  47%|████▋     | 281/600 [17:25<20:22,  3.83s/it]"
     ]
    },
    {
     "name": "stdout",
     "output_type": "stream",
     "text": [
      "  Epoca 281/600 | Train Loss=2.1263 | Train Acc=95.81% | Test Acc=97.52%\n"
     ]
    },
    {
     "name": "stderr",
     "output_type": "stream",
     "text": [
      "BBB π=0.75 σ₁=1.4e-01 σ₂=2.5e-03:  47%|████▋     | 282/600 [17:29<20:01,  3.78s/it]"
     ]
    },
    {
     "name": "stdout",
     "output_type": "stream",
     "text": [
      "  Epoca 282/600 | Train Loss=2.1243 | Train Acc=95.78% | Test Acc=97.58%\n"
     ]
    },
    {
     "name": "stderr",
     "output_type": "stream",
     "text": [
      "BBB π=0.75 σ₁=1.4e-01 σ₂=2.5e-03:  47%|████▋     | 283/600 [17:32<19:50,  3.76s/it]"
     ]
    },
    {
     "name": "stdout",
     "output_type": "stream",
     "text": [
      "  Epoca 283/600 | Train Loss=2.1223 | Train Acc=95.91% | Test Acc=97.58%\n"
     ]
    },
    {
     "name": "stderr",
     "output_type": "stream",
     "text": [
      "BBB π=0.75 σ₁=1.4e-01 σ₂=2.5e-03:  47%|████▋     | 284/600 [17:36<19:38,  3.73s/it]"
     ]
    },
    {
     "name": "stdout",
     "output_type": "stream",
     "text": [
      "  Epoca 284/600 | Train Loss=2.1217 | Train Acc=95.88% | Test Acc=97.69%\n"
     ]
    },
    {
     "name": "stderr",
     "output_type": "stream",
     "text": [
      "BBB π=0.75 σ₁=1.4e-01 σ₂=2.5e-03:  48%|████▊     | 285/600 [17:40<19:25,  3.70s/it]"
     ]
    },
    {
     "name": "stdout",
     "output_type": "stream",
     "text": [
      "  Epoca 285/600 | Train Loss=2.1204 | Train Acc=95.94% | Test Acc=97.55%\n"
     ]
    },
    {
     "name": "stderr",
     "output_type": "stream",
     "text": [
      "BBB π=0.75 σ₁=1.4e-01 σ₂=2.5e-03:  48%|████▊     | 286/600 [17:43<19:23,  3.71s/it]"
     ]
    },
    {
     "name": "stdout",
     "output_type": "stream",
     "text": [
      "  Epoca 286/600 | Train Loss=2.1217 | Train Acc=95.90% | Test Acc=97.43%\n"
     ]
    },
    {
     "name": "stderr",
     "output_type": "stream",
     "text": [
      "BBB π=0.75 σ₁=1.4e-01 σ₂=2.5e-03:  48%|████▊     | 287/600 [17:47<19:12,  3.68s/it]"
     ]
    },
    {
     "name": "stdout",
     "output_type": "stream",
     "text": [
      "  Epoca 287/600 | Train Loss=2.1223 | Train Acc=95.85% | Test Acc=97.65%\n"
     ]
    },
    {
     "name": "stderr",
     "output_type": "stream",
     "text": [
      "BBB π=0.75 σ₁=1.4e-01 σ₂=2.5e-03:  48%|████▊     | 288/600 [17:51<19:06,  3.67s/it]"
     ]
    },
    {
     "name": "stdout",
     "output_type": "stream",
     "text": [
      "  Epoca 288/600 | Train Loss=2.1157 | Train Acc=95.99% | Test Acc=97.47%\n"
     ]
    },
    {
     "name": "stderr",
     "output_type": "stream",
     "text": [
      "BBB π=0.75 σ₁=1.4e-01 σ₂=2.5e-03:  48%|████▊     | 289/600 [17:54<19:09,  3.70s/it]"
     ]
    },
    {
     "name": "stdout",
     "output_type": "stream",
     "text": [
      "  Epoca 289/600 | Train Loss=2.1206 | Train Acc=95.88% | Test Acc=97.42%\n"
     ]
    },
    {
     "name": "stderr",
     "output_type": "stream",
     "text": [
      "BBB π=0.75 σ₁=1.4e-01 σ₂=2.5e-03:  48%|████▊     | 290/600 [17:58<19:34,  3.79s/it]"
     ]
    },
    {
     "name": "stdout",
     "output_type": "stream",
     "text": [
      "  Epoca 290/600 | Train Loss=2.1155 | Train Acc=96.05% | Test Acc=97.59%\n"
     ]
    },
    {
     "name": "stderr",
     "output_type": "stream",
     "text": [
      "BBB π=0.75 σ₁=1.4e-01 σ₂=2.5e-03:  48%|████▊     | 291/600 [18:02<19:21,  3.76s/it]"
     ]
    },
    {
     "name": "stdout",
     "output_type": "stream",
     "text": [
      "  Epoca 291/600 | Train Loss=2.1177 | Train Acc=95.93% | Test Acc=97.50%\n"
     ]
    },
    {
     "name": "stderr",
     "output_type": "stream",
     "text": [
      "BBB π=0.75 σ₁=1.4e-01 σ₂=2.5e-03:  49%|████▊     | 292/600 [18:06<19:08,  3.73s/it]"
     ]
    },
    {
     "name": "stdout",
     "output_type": "stream",
     "text": [
      "  Epoca 292/600 | Train Loss=2.1177 | Train Acc=96.08% | Test Acc=97.42%\n"
     ]
    },
    {
     "name": "stderr",
     "output_type": "stream",
     "text": [
      "BBB π=0.75 σ₁=1.4e-01 σ₂=2.5e-03:  49%|████▉     | 293/600 [18:09<18:55,  3.70s/it]"
     ]
    },
    {
     "name": "stdout",
     "output_type": "stream",
     "text": [
      "  Epoca 293/600 | Train Loss=2.1095 | Train Acc=96.17% | Test Acc=97.48%\n"
     ]
    },
    {
     "name": "stderr",
     "output_type": "stream",
     "text": [
      "BBB π=0.75 σ₁=1.4e-01 σ₂=2.5e-03:  49%|████▉     | 294/600 [18:13<18:52,  3.70s/it]"
     ]
    },
    {
     "name": "stdout",
     "output_type": "stream",
     "text": [
      "  Epoca 294/600 | Train Loss=2.1195 | Train Acc=95.84% | Test Acc=97.42%\n"
     ]
    },
    {
     "name": "stderr",
     "output_type": "stream",
     "text": [
      "BBB π=0.75 σ₁=1.4e-01 σ₂=2.5e-03:  49%|████▉     | 295/600 [18:17<18:42,  3.68s/it]"
     ]
    },
    {
     "name": "stdout",
     "output_type": "stream",
     "text": [
      "  Epoca 295/600 | Train Loss=2.1141 | Train Acc=96.02% | Test Acc=97.56%\n"
     ]
    },
    {
     "name": "stderr",
     "output_type": "stream",
     "text": [
      "BBB π=0.75 σ₁=1.4e-01 σ₂=2.5e-03:  49%|████▉     | 296/600 [18:20<18:35,  3.67s/it]"
     ]
    },
    {
     "name": "stdout",
     "output_type": "stream",
     "text": [
      "  Epoca 296/600 | Train Loss=2.1147 | Train Acc=95.93% | Test Acc=97.50%\n"
     ]
    },
    {
     "name": "stderr",
     "output_type": "stream",
     "text": [
      "BBB π=0.75 σ₁=1.4e-01 σ₂=2.5e-03:  50%|████▉     | 297/600 [18:24<18:38,  3.69s/it]"
     ]
    },
    {
     "name": "stdout",
     "output_type": "stream",
     "text": [
      "  Epoca 297/600 | Train Loss=2.1190 | Train Acc=95.84% | Test Acc=97.61%\n"
     ]
    },
    {
     "name": "stderr",
     "output_type": "stream",
     "text": [
      "BBB π=0.75 σ₁=1.4e-01 σ₂=2.5e-03:  50%|████▉     | 298/600 [18:28<18:56,  3.76s/it]"
     ]
    },
    {
     "name": "stdout",
     "output_type": "stream",
     "text": [
      "  Epoca 298/600 | Train Loss=2.1164 | Train Acc=95.90% | Test Acc=97.41%\n"
     ]
    },
    {
     "name": "stderr",
     "output_type": "stream",
     "text": [
      "BBB π=0.75 σ₁=1.4e-01 σ₂=2.5e-03:  50%|████▉     | 299/600 [18:32<18:54,  3.77s/it]"
     ]
    },
    {
     "name": "stdout",
     "output_type": "stream",
     "text": [
      "  Epoca 299/600 | Train Loss=2.1125 | Train Acc=96.03% | Test Acc=97.51%\n"
     ]
    },
    {
     "name": "stderr",
     "output_type": "stream",
     "text": [
      "BBB π=0.75 σ₁=1.4e-01 σ₂=2.5e-03:  50%|█████     | 300/600 [18:36<18:45,  3.75s/it]"
     ]
    },
    {
     "name": "stdout",
     "output_type": "stream",
     "text": [
      "  Epoca 300/600 | Train Loss=2.1180 | Train Acc=95.81% | Test Acc=97.49%\n"
     ]
    },
    {
     "name": "stderr",
     "output_type": "stream",
     "text": [
      "BBB π=0.75 σ₁=1.4e-01 σ₂=2.5e-03:  50%|█████     | 301/600 [18:39<18:34,  3.73s/it]"
     ]
    },
    {
     "name": "stdout",
     "output_type": "stream",
     "text": [
      "  Epoca 301/600 | Train Loss=2.1169 | Train Acc=95.81% | Test Acc=97.46%\n"
     ]
    },
    {
     "name": "stderr",
     "output_type": "stream",
     "text": [
      "BBB π=0.75 σ₁=1.4e-01 σ₂=2.5e-03:  50%|█████     | 302/600 [18:43<18:26,  3.71s/it]"
     ]
    },
    {
     "name": "stdout",
     "output_type": "stream",
     "text": [
      "  Epoca 302/600 | Train Loss=2.1197 | Train Acc=95.77% | Test Acc=97.36%\n"
     ]
    },
    {
     "name": "stderr",
     "output_type": "stream",
     "text": [
      "BBB π=0.75 σ₁=1.4e-01 σ₂=2.5e-03:  50%|█████     | 303/600 [18:47<18:15,  3.69s/it]"
     ]
    },
    {
     "name": "stdout",
     "output_type": "stream",
     "text": [
      "  Epoca 303/600 | Train Loss=2.1215 | Train Acc=95.72% | Test Acc=97.40%\n"
     ]
    },
    {
     "name": "stderr",
     "output_type": "stream",
     "text": [
      "BBB π=0.75 σ₁=1.4e-01 σ₂=2.5e-03:  51%|█████     | 304/600 [18:50<18:07,  3.67s/it]"
     ]
    },
    {
     "name": "stdout",
     "output_type": "stream",
     "text": [
      "  Epoca 304/600 | Train Loss=2.1156 | Train Acc=95.86% | Test Acc=97.41%\n"
     ]
    },
    {
     "name": "stderr",
     "output_type": "stream",
     "text": [
      "BBB π=0.75 σ₁=1.4e-01 σ₂=2.5e-03:  51%|█████     | 305/600 [18:54<18:05,  3.68s/it]"
     ]
    },
    {
     "name": "stdout",
     "output_type": "stream",
     "text": [
      "  Epoca 305/600 | Train Loss=2.1146 | Train Acc=95.93% | Test Acc=97.44%\n"
     ]
    },
    {
     "name": "stderr",
     "output_type": "stream",
     "text": [
      "BBB π=0.75 σ₁=1.4e-01 σ₂=2.5e-03:  51%|█████     | 306/600 [18:58<18:01,  3.68s/it]"
     ]
    },
    {
     "name": "stdout",
     "output_type": "stream",
     "text": [
      "  Epoca 306/600 | Train Loss=2.1134 | Train Acc=95.97% | Test Acc=97.35%\n"
     ]
    },
    {
     "name": "stderr",
     "output_type": "stream",
     "text": [
      "BBB π=0.75 σ₁=1.4e-01 σ₂=2.5e-03:  51%|█████     | 307/600 [19:02<18:35,  3.81s/it]"
     ]
    },
    {
     "name": "stdout",
     "output_type": "stream",
     "text": [
      "  Epoca 307/600 | Train Loss=2.1129 | Train Acc=95.83% | Test Acc=97.45%\n"
     ]
    },
    {
     "name": "stderr",
     "output_type": "stream",
     "text": [
      "BBB π=0.75 σ₁=1.4e-01 σ₂=2.5e-03:  51%|█████▏    | 308/600 [19:05<18:14,  3.75s/it]"
     ]
    },
    {
     "name": "stdout",
     "output_type": "stream",
     "text": [
      "  Epoca 308/600 | Train Loss=2.1121 | Train Acc=95.92% | Test Acc=97.29%\n"
     ]
    },
    {
     "name": "stderr",
     "output_type": "stream",
     "text": [
      "BBB π=0.75 σ₁=1.4e-01 σ₂=2.5e-03:  52%|█████▏    | 309/600 [19:09<18:07,  3.74s/it]"
     ]
    },
    {
     "name": "stdout",
     "output_type": "stream",
     "text": [
      "  Epoca 309/600 | Train Loss=2.1110 | Train Acc=96.01% | Test Acc=97.44%\n"
     ]
    },
    {
     "name": "stderr",
     "output_type": "stream",
     "text": [
      "BBB π=0.75 σ₁=1.4e-01 σ₂=2.5e-03:  52%|█████▏    | 310/600 [19:13<17:58,  3.72s/it]"
     ]
    },
    {
     "name": "stdout",
     "output_type": "stream",
     "text": [
      "  Epoca 310/600 | Train Loss=2.1129 | Train Acc=95.91% | Test Acc=97.50%\n"
     ]
    },
    {
     "name": "stderr",
     "output_type": "stream",
     "text": [
      "BBB π=0.75 σ₁=1.4e-01 σ₂=2.5e-03:  52%|█████▏    | 311/600 [19:16<17:48,  3.70s/it]"
     ]
    },
    {
     "name": "stdout",
     "output_type": "stream",
     "text": [
      "  Epoca 311/600 | Train Loss=2.1150 | Train Acc=95.90% | Test Acc=97.44%\n"
     ]
    },
    {
     "name": "stderr",
     "output_type": "stream",
     "text": [
      "BBB π=0.75 σ₁=1.4e-01 σ₂=2.5e-03:  52%|█████▏    | 312/600 [19:20<17:40,  3.68s/it]"
     ]
    },
    {
     "name": "stdout",
     "output_type": "stream",
     "text": [
      "  Epoca 312/600 | Train Loss=2.1120 | Train Acc=95.90% | Test Acc=97.51%\n"
     ]
    },
    {
     "name": "stderr",
     "output_type": "stream",
     "text": [
      "BBB π=0.75 σ₁=1.4e-01 σ₂=2.5e-03:  52%|█████▏    | 313/600 [19:24<17:38,  3.69s/it]"
     ]
    },
    {
     "name": "stdout",
     "output_type": "stream",
     "text": [
      "  Epoca 313/600 | Train Loss=2.1096 | Train Acc=96.02% | Test Acc=97.60%\n"
     ]
    },
    {
     "name": "stderr",
     "output_type": "stream",
     "text": [
      "BBB π=0.75 σ₁=1.4e-01 σ₂=2.5e-03:  52%|█████▏    | 314/600 [19:27<17:32,  3.68s/it]"
     ]
    },
    {
     "name": "stdout",
     "output_type": "stream",
     "text": [
      "  Epoca 314/600 | Train Loss=2.1129 | Train Acc=95.93% | Test Acc=97.49%\n"
     ]
    },
    {
     "name": "stderr",
     "output_type": "stream",
     "text": [
      "BBB π=0.75 σ₁=1.4e-01 σ₂=2.5e-03:  52%|█████▎    | 315/600 [19:31<17:28,  3.68s/it]"
     ]
    },
    {
     "name": "stdout",
     "output_type": "stream",
     "text": [
      "  Epoca 315/600 | Train Loss=2.1125 | Train Acc=95.89% | Test Acc=97.37%\n"
     ]
    },
    {
     "name": "stderr",
     "output_type": "stream",
     "text": [
      "BBB π=0.75 σ₁=1.4e-01 σ₂=2.5e-03:  53%|█████▎    | 316/600 [19:35<18:00,  3.81s/it]"
     ]
    },
    {
     "name": "stdout",
     "output_type": "stream",
     "text": [
      "  Epoca 316/600 | Train Loss=2.1102 | Train Acc=95.91% | Test Acc=97.34%\n"
     ]
    },
    {
     "name": "stderr",
     "output_type": "stream",
     "text": [
      "BBB π=0.75 σ₁=1.4e-01 σ₂=2.5e-03:  53%|█████▎    | 317/600 [19:39<17:46,  3.77s/it]"
     ]
    },
    {
     "name": "stdout",
     "output_type": "stream",
     "text": [
      "  Epoca 317/600 | Train Loss=2.1067 | Train Acc=95.95% | Test Acc=97.59%\n"
     ]
    },
    {
     "name": "stderr",
     "output_type": "stream",
     "text": [
      "BBB π=0.75 σ₁=1.4e-01 σ₂=2.5e-03:  53%|█████▎    | 318/600 [19:43<17:35,  3.74s/it]"
     ]
    },
    {
     "name": "stdout",
     "output_type": "stream",
     "text": [
      "  Epoca 318/600 | Train Loss=2.1103 | Train Acc=95.95% | Test Acc=97.42%\n"
     ]
    },
    {
     "name": "stderr",
     "output_type": "stream",
     "text": [
      "BBB π=0.75 σ₁=1.4e-01 σ₂=2.5e-03:  53%|█████▎    | 319/600 [19:46<17:22,  3.71s/it]"
     ]
    },
    {
     "name": "stdout",
     "output_type": "stream",
     "text": [
      "  Epoca 319/600 | Train Loss=2.1109 | Train Acc=95.89% | Test Acc=97.48%\n"
     ]
    },
    {
     "name": "stderr",
     "output_type": "stream",
     "text": [
      "BBB π=0.75 σ₁=1.4e-01 σ₂=2.5e-03:  53%|█████▎    | 320/600 [19:50<17:12,  3.69s/it]"
     ]
    },
    {
     "name": "stdout",
     "output_type": "stream",
     "text": [
      "  Epoca 320/600 | Train Loss=2.1092 | Train Acc=95.88% | Test Acc=97.40%\n"
     ]
    },
    {
     "name": "stderr",
     "output_type": "stream",
     "text": [
      "BBB π=0.75 σ₁=1.4e-01 σ₂=2.5e-03:  54%|█████▎    | 321/600 [19:53<17:10,  3.69s/it]"
     ]
    },
    {
     "name": "stdout",
     "output_type": "stream",
     "text": [
      "  Epoca 321/600 | Train Loss=2.1092 | Train Acc=95.81% | Test Acc=97.48%\n"
     ]
    },
    {
     "name": "stderr",
     "output_type": "stream",
     "text": [
      "BBB π=0.75 σ₁=1.4e-01 σ₂=2.5e-03:  54%|█████▎    | 322/600 [19:57<17:05,  3.69s/it]"
     ]
    },
    {
     "name": "stdout",
     "output_type": "stream",
     "text": [
      "  Epoca 322/600 | Train Loss=2.1088 | Train Acc=95.88% | Test Acc=97.49%\n"
     ]
    },
    {
     "name": "stderr",
     "output_type": "stream",
     "text": [
      "BBB π=0.75 σ₁=1.4e-01 σ₂=2.5e-03:  54%|█████▍    | 323/600 [20:01<16:57,  3.67s/it]"
     ]
    },
    {
     "name": "stdout",
     "output_type": "stream",
     "text": [
      "  Epoca 323/600 | Train Loss=2.1085 | Train Acc=95.98% | Test Acc=97.54%\n"
     ]
    },
    {
     "name": "stderr",
     "output_type": "stream",
     "text": [
      "BBB π=0.75 σ₁=1.4e-01 σ₂=2.5e-03:  54%|█████▍    | 324/600 [20:05<17:08,  3.73s/it]"
     ]
    },
    {
     "name": "stdout",
     "output_type": "stream",
     "text": [
      "  Epoca 324/600 | Train Loss=2.1028 | Train Acc=96.03% | Test Acc=97.50%\n"
     ]
    },
    {
     "name": "stderr",
     "output_type": "stream",
     "text": [
      "BBB π=0.75 σ₁=1.4e-01 σ₂=2.5e-03:  54%|█████▍    | 325/600 [20:09<17:24,  3.80s/it]"
     ]
    },
    {
     "name": "stdout",
     "output_type": "stream",
     "text": [
      "  Epoca 325/600 | Train Loss=2.1093 | Train Acc=95.93% | Test Acc=97.58%\n"
     ]
    },
    {
     "name": "stderr",
     "output_type": "stream",
     "text": [
      "BBB π=0.75 σ₁=1.4e-01 σ₂=2.5e-03:  54%|█████▍    | 326/600 [20:12<17:15,  3.78s/it]"
     ]
    },
    {
     "name": "stdout",
     "output_type": "stream",
     "text": [
      "  Epoca 326/600 | Train Loss=2.1088 | Train Acc=95.95% | Test Acc=97.53%\n"
     ]
    },
    {
     "name": "stderr",
     "output_type": "stream",
     "text": [
      "BBB π=0.75 σ₁=1.4e-01 σ₂=2.5e-03:  55%|█████▍    | 327/600 [20:16<17:05,  3.76s/it]"
     ]
    },
    {
     "name": "stdout",
     "output_type": "stream",
     "text": [
      "  Epoca 327/600 | Train Loss=2.1072 | Train Acc=95.93% | Test Acc=97.52%\n"
     ]
    },
    {
     "name": "stderr",
     "output_type": "stream",
     "text": [
      "BBB π=0.75 σ₁=1.4e-01 σ₂=2.5e-03:  55%|█████▍    | 328/600 [20:20<16:54,  3.73s/it]"
     ]
    },
    {
     "name": "stdout",
     "output_type": "stream",
     "text": [
      "  Epoca 328/600 | Train Loss=2.1032 | Train Acc=96.10% | Test Acc=97.39%\n"
     ]
    },
    {
     "name": "stderr",
     "output_type": "stream",
     "text": [
      "BBB π=0.75 σ₁=1.4e-01 σ₂=2.5e-03:  55%|█████▍    | 329/600 [20:23<16:49,  3.73s/it]"
     ]
    },
    {
     "name": "stdout",
     "output_type": "stream",
     "text": [
      "  Epoca 329/600 | Train Loss=2.1088 | Train Acc=95.93% | Test Acc=97.27%\n"
     ]
    },
    {
     "name": "stderr",
     "output_type": "stream",
     "text": [
      "BBB π=0.75 σ₁=1.4e-01 σ₂=2.5e-03:  55%|█████▌    | 330/600 [20:27<16:40,  3.70s/it]"
     ]
    },
    {
     "name": "stdout",
     "output_type": "stream",
     "text": [
      "  Epoca 330/600 | Train Loss=2.1037 | Train Acc=95.99% | Test Acc=97.49%\n"
     ]
    },
    {
     "name": "stderr",
     "output_type": "stream",
     "text": [
      "BBB π=0.75 σ₁=1.4e-01 σ₂=2.5e-03:  55%|█████▌    | 331/600 [20:31<16:29,  3.68s/it]"
     ]
    },
    {
     "name": "stdout",
     "output_type": "stream",
     "text": [
      "  Epoca 331/600 | Train Loss=2.1095 | Train Acc=95.76% | Test Acc=97.43%\n"
     ]
    },
    {
     "name": "stderr",
     "output_type": "stream",
     "text": [
      "BBB π=0.75 σ₁=1.4e-01 σ₂=2.5e-03:  55%|█████▌    | 332/600 [20:34<16:27,  3.68s/it]"
     ]
    },
    {
     "name": "stdout",
     "output_type": "stream",
     "text": [
      "  Epoca 332/600 | Train Loss=2.1057 | Train Acc=95.98% | Test Acc=97.59%\n"
     ]
    },
    {
     "name": "stderr",
     "output_type": "stream",
     "text": [
      "BBB π=0.75 σ₁=1.4e-01 σ₂=2.5e-03:  56%|█████▌    | 333/600 [20:38<16:51,  3.79s/it]"
     ]
    },
    {
     "name": "stdout",
     "output_type": "stream",
     "text": [
      "  Epoca 333/600 | Train Loss=2.1063 | Train Acc=95.95% | Test Acc=97.25%\n"
     ]
    },
    {
     "name": "stderr",
     "output_type": "stream",
     "text": [
      "BBB π=0.75 σ₁=1.4e-01 σ₂=2.5e-03:  56%|█████▌    | 334/600 [20:42<16:41,  3.76s/it]"
     ]
    },
    {
     "name": "stdout",
     "output_type": "stream",
     "text": [
      "  Epoca 334/600 | Train Loss=2.1007 | Train Acc=96.07% | Test Acc=97.66%\n"
     ]
    },
    {
     "name": "stderr",
     "output_type": "stream",
     "text": [
      "BBB π=0.75 σ₁=1.4e-01 σ₂=2.5e-03:  56%|█████▌    | 335/600 [20:46<16:28,  3.73s/it]"
     ]
    },
    {
     "name": "stdout",
     "output_type": "stream",
     "text": [
      "  Epoca 335/600 | Train Loss=2.1000 | Train Acc=96.05% | Test Acc=97.60%\n"
     ]
    },
    {
     "name": "stderr",
     "output_type": "stream",
     "text": [
      "BBB π=0.75 σ₁=1.4e-01 σ₂=2.5e-03:  56%|█████▌    | 336/600 [20:49<16:21,  3.72s/it]"
     ]
    },
    {
     "name": "stdout",
     "output_type": "stream",
     "text": [
      "  Epoca 336/600 | Train Loss=2.1040 | Train Acc=95.97% | Test Acc=97.51%\n"
     ]
    },
    {
     "name": "stderr",
     "output_type": "stream",
     "text": [
      "BBB π=0.75 σ₁=1.4e-01 σ₂=2.5e-03:  56%|█████▌    | 337/600 [20:53<16:16,  3.71s/it]"
     ]
    },
    {
     "name": "stdout",
     "output_type": "stream",
     "text": [
      "  Epoca 337/600 | Train Loss=2.1065 | Train Acc=95.85% | Test Acc=97.45%\n"
     ]
    },
    {
     "name": "stderr",
     "output_type": "stream",
     "text": [
      "BBB π=0.75 σ₁=1.4e-01 σ₂=2.5e-03:  56%|█████▋    | 338/600 [20:57<16:09,  3.70s/it]"
     ]
    },
    {
     "name": "stdout",
     "output_type": "stream",
     "text": [
      "  Epoca 338/600 | Train Loss=2.1064 | Train Acc=95.89% | Test Acc=97.56%\n"
     ]
    },
    {
     "name": "stderr",
     "output_type": "stream",
     "text": [
      "BBB π=0.75 σ₁=1.4e-01 σ₂=2.5e-03:  56%|█████▋    | 339/600 [21:01<16:02,  3.69s/it]"
     ]
    },
    {
     "name": "stdout",
     "output_type": "stream",
     "text": [
      "  Epoca 339/600 | Train Loss=2.1073 | Train Acc=95.98% | Test Acc=97.57%\n"
     ]
    },
    {
     "name": "stderr",
     "output_type": "stream",
     "text": [
      "BBB π=0.75 σ₁=1.4e-01 σ₂=2.5e-03:  57%|█████▋    | 340/600 [21:04<15:57,  3.68s/it]"
     ]
    },
    {
     "name": "stdout",
     "output_type": "stream",
     "text": [
      "  Epoca 340/600 | Train Loss=2.1022 | Train Acc=95.99% | Test Acc=97.52%\n"
     ]
    },
    {
     "name": "stderr",
     "output_type": "stream",
     "text": [
      "BBB π=0.75 σ₁=1.4e-01 σ₂=2.5e-03:  57%|█████▋    | 341/600 [21:08<15:51,  3.67s/it]"
     ]
    },
    {
     "name": "stdout",
     "output_type": "stream",
     "text": [
      "  Epoca 341/600 | Train Loss=2.1040 | Train Acc=95.90% | Test Acc=97.46%\n"
     ]
    },
    {
     "name": "stderr",
     "output_type": "stream",
     "text": [
      "BBB π=0.75 σ₁=1.4e-01 σ₂=2.5e-03:  57%|█████▋    | 342/600 [21:12<16:22,  3.81s/it]"
     ]
    },
    {
     "name": "stdout",
     "output_type": "stream",
     "text": [
      "  Epoca 342/600 | Train Loss=2.1043 | Train Acc=95.83% | Test Acc=97.56%\n"
     ]
    },
    {
     "name": "stderr",
     "output_type": "stream",
     "text": [
      "BBB π=0.75 σ₁=1.4e-01 σ₂=2.5e-03:  57%|█████▋    | 343/600 [21:16<16:07,  3.76s/it]"
     ]
    },
    {
     "name": "stdout",
     "output_type": "stream",
     "text": [
      "  Epoca 343/600 | Train Loss=2.1034 | Train Acc=95.93% | Test Acc=97.55%\n"
     ]
    },
    {
     "name": "stderr",
     "output_type": "stream",
     "text": [
      "BBB π=0.75 σ₁=1.4e-01 σ₂=2.5e-03:  57%|█████▋    | 344/600 [21:19<15:54,  3.73s/it]"
     ]
    },
    {
     "name": "stdout",
     "output_type": "stream",
     "text": [
      "  Epoca 344/600 | Train Loss=2.1049 | Train Acc=95.92% | Test Acc=97.53%\n"
     ]
    },
    {
     "name": "stderr",
     "output_type": "stream",
     "text": [
      "BBB π=0.75 σ₁=1.4e-01 σ₂=2.5e-03:  57%|█████▊    | 345/600 [21:23<15:52,  3.73s/it]"
     ]
    },
    {
     "name": "stdout",
     "output_type": "stream",
     "text": [
      "  Epoca 345/600 | Train Loss=2.1018 | Train Acc=96.06% | Test Acc=97.53%\n"
     ]
    },
    {
     "name": "stderr",
     "output_type": "stream",
     "text": [
      "BBB π=0.75 σ₁=1.4e-01 σ₂=2.5e-03:  58%|█████▊    | 346/600 [21:27<15:42,  3.71s/it]"
     ]
    },
    {
     "name": "stdout",
     "output_type": "stream",
     "text": [
      "  Epoca 346/600 | Train Loss=2.0991 | Train Acc=96.06% | Test Acc=97.62%\n"
     ]
    },
    {
     "name": "stderr",
     "output_type": "stream",
     "text": [
      "BBB π=0.75 σ₁=1.4e-01 σ₂=2.5e-03:  58%|█████▊    | 347/600 [21:30<15:32,  3.69s/it]"
     ]
    },
    {
     "name": "stdout",
     "output_type": "stream",
     "text": [
      "  Epoca 347/600 | Train Loss=2.1040 | Train Acc=95.92% | Test Acc=97.49%\n"
     ]
    },
    {
     "name": "stderr",
     "output_type": "stream",
     "text": [
      "BBB π=0.75 σ₁=1.4e-01 σ₂=2.5e-03:  58%|█████▊    | 348/600 [21:34<15:29,  3.69s/it]"
     ]
    },
    {
     "name": "stdout",
     "output_type": "stream",
     "text": [
      "  Epoca 348/600 | Train Loss=2.0992 | Train Acc=95.97% | Test Acc=97.60%\n"
     ]
    },
    {
     "name": "stderr",
     "output_type": "stream",
     "text": [
      "BBB π=0.75 σ₁=1.4e-01 σ₂=2.5e-03:  58%|█████▊    | 349/600 [21:38<15:21,  3.67s/it]"
     ]
    },
    {
     "name": "stdout",
     "output_type": "stream",
     "text": [
      "  Epoca 349/600 | Train Loss=2.1053 | Train Acc=95.86% | Test Acc=97.52%\n"
     ]
    },
    {
     "name": "stderr",
     "output_type": "stream",
     "text": [
      "BBB π=0.75 σ₁=1.4e-01 σ₂=2.5e-03:  58%|█████▊    | 350/600 [21:41<15:15,  3.66s/it]"
     ]
    },
    {
     "name": "stdout",
     "output_type": "stream",
     "text": [
      "  Epoca 350/600 | Train Loss=2.1041 | Train Acc=95.86% | Test Acc=97.45%\n"
     ]
    },
    {
     "name": "stderr",
     "output_type": "stream",
     "text": [
      "BBB π=0.75 σ₁=1.4e-01 σ₂=2.5e-03:  58%|█████▊    | 351/600 [21:45<15:44,  3.79s/it]"
     ]
    },
    {
     "name": "stdout",
     "output_type": "stream",
     "text": [
      "  Epoca 351/600 | Train Loss=2.1013 | Train Acc=96.04% | Test Acc=97.54%\n"
     ]
    },
    {
     "name": "stderr",
     "output_type": "stream",
     "text": [
      "BBB π=0.75 σ₁=1.4e-01 σ₂=2.5e-03:  59%|█████▊    | 352/600 [21:49<15:31,  3.75s/it]"
     ]
    },
    {
     "name": "stdout",
     "output_type": "stream",
     "text": [
      "  Epoca 352/600 | Train Loss=2.1016 | Train Acc=95.97% | Test Acc=97.51%\n"
     ]
    },
    {
     "name": "stderr",
     "output_type": "stream",
     "text": [
      "BBB π=0.75 σ₁=1.4e-01 σ₂=2.5e-03:  59%|█████▉    | 353/600 [21:53<15:23,  3.74s/it]"
     ]
    },
    {
     "name": "stdout",
     "output_type": "stream",
     "text": [
      "  Epoca 353/600 | Train Loss=2.1017 | Train Acc=96.04% | Test Acc=97.47%\n"
     ]
    },
    {
     "name": "stderr",
     "output_type": "stream",
     "text": [
      "BBB π=0.75 σ₁=1.4e-01 σ₂=2.5e-03:  59%|█████▉    | 354/600 [21:56<15:15,  3.72s/it]"
     ]
    },
    {
     "name": "stdout",
     "output_type": "stream",
     "text": [
      "  Epoca 354/600 | Train Loss=2.0977 | Train Acc=96.07% | Test Acc=97.38%\n"
     ]
    },
    {
     "name": "stderr",
     "output_type": "stream",
     "text": [
      "BBB π=0.75 σ₁=1.4e-01 σ₂=2.5e-03:  59%|█████▉    | 355/600 [22:00<15:08,  3.71s/it]"
     ]
    },
    {
     "name": "stdout",
     "output_type": "stream",
     "text": [
      "  Epoca 355/600 | Train Loss=2.1020 | Train Acc=95.95% | Test Acc=97.39%\n"
     ]
    },
    {
     "name": "stderr",
     "output_type": "stream",
     "text": [
      "BBB π=0.75 σ₁=1.4e-01 σ₂=2.5e-03:  59%|█████▉    | 356/600 [22:04<15:04,  3.71s/it]"
     ]
    },
    {
     "name": "stdout",
     "output_type": "stream",
     "text": [
      "  Epoca 356/600 | Train Loss=2.1049 | Train Acc=95.89% | Test Acc=97.41%\n"
     ]
    },
    {
     "name": "stderr",
     "output_type": "stream",
     "text": [
      "BBB π=0.75 σ₁=1.4e-01 σ₂=2.5e-03:  60%|█████▉    | 357/600 [22:07<14:57,  3.69s/it]"
     ]
    },
    {
     "name": "stdout",
     "output_type": "stream",
     "text": [
      "  Epoca 357/600 | Train Loss=2.1020 | Train Acc=95.95% | Test Acc=97.49%\n"
     ]
    },
    {
     "name": "stderr",
     "output_type": "stream",
     "text": [
      "BBB π=0.75 σ₁=1.4e-01 σ₂=2.5e-03:  60%|█████▉    | 358/600 [22:11<14:53,  3.69s/it]"
     ]
    },
    {
     "name": "stdout",
     "output_type": "stream",
     "text": [
      "  Epoca 358/600 | Train Loss=2.0991 | Train Acc=95.99% | Test Acc=97.54%\n"
     ]
    },
    {
     "name": "stderr",
     "output_type": "stream",
     "text": [
      "BBB π=0.75 σ₁=1.4e-01 σ₂=2.5e-03:  60%|█████▉    | 359/600 [22:15<15:12,  3.78s/it]"
     ]
    },
    {
     "name": "stdout",
     "output_type": "stream",
     "text": [
      "  Epoca 359/600 | Train Loss=2.0991 | Train Acc=95.98% | Test Acc=97.24%\n"
     ]
    },
    {
     "name": "stderr",
     "output_type": "stream",
     "text": [
      "BBB π=0.75 σ₁=1.4e-01 σ₂=2.5e-03:  60%|██████    | 360/600 [22:19<15:03,  3.77s/it]"
     ]
    },
    {
     "name": "stdout",
     "output_type": "stream",
     "text": [
      "  Epoca 360/600 | Train Loss=2.0982 | Train Acc=96.04% | Test Acc=97.45%\n"
     ]
    },
    {
     "name": "stderr",
     "output_type": "stream",
     "text": [
      "BBB π=0.75 σ₁=1.4e-01 σ₂=2.5e-03:  60%|██████    | 361/600 [22:23<14:58,  3.76s/it]"
     ]
    },
    {
     "name": "stdout",
     "output_type": "stream",
     "text": [
      "  Epoca 361/600 | Train Loss=2.0999 | Train Acc=95.92% | Test Acc=97.47%\n"
     ]
    },
    {
     "name": "stderr",
     "output_type": "stream",
     "text": [
      "BBB π=0.75 σ₁=1.4e-01 σ₂=2.5e-03:  60%|██████    | 362/600 [22:26<14:47,  3.73s/it]"
     ]
    },
    {
     "name": "stdout",
     "output_type": "stream",
     "text": [
      "  Epoca 362/600 | Train Loss=2.1039 | Train Acc=95.88% | Test Acc=97.39%\n"
     ]
    },
    {
     "name": "stderr",
     "output_type": "stream",
     "text": [
      "BBB π=0.75 σ₁=1.4e-01 σ₂=2.5e-03:  60%|██████    | 363/600 [22:30<14:38,  3.70s/it]"
     ]
    },
    {
     "name": "stdout",
     "output_type": "stream",
     "text": [
      "  Epoca 363/600 | Train Loss=2.1006 | Train Acc=96.03% | Test Acc=97.37%\n"
     ]
    },
    {
     "name": "stderr",
     "output_type": "stream",
     "text": [
      "BBB π=0.75 σ₁=1.4e-01 σ₂=2.5e-03:  61%|██████    | 364/600 [22:34<14:34,  3.71s/it]"
     ]
    },
    {
     "name": "stdout",
     "output_type": "stream",
     "text": [
      "  Epoca 364/600 | Train Loss=2.0979 | Train Acc=96.02% | Test Acc=97.46%\n"
     ]
    },
    {
     "name": "stderr",
     "output_type": "stream",
     "text": [
      "BBB π=0.75 σ₁=1.4e-01 σ₂=2.5e-03:  61%|██████    | 365/600 [22:37<14:25,  3.68s/it]"
     ]
    },
    {
     "name": "stdout",
     "output_type": "stream",
     "text": [
      "  Epoca 365/600 | Train Loss=2.0981 | Train Acc=95.96% | Test Acc=97.49%\n"
     ]
    },
    {
     "name": "stderr",
     "output_type": "stream",
     "text": [
      "BBB π=0.75 σ₁=1.4e-01 σ₂=2.5e-03:  61%|██████    | 366/600 [22:41<14:19,  3.67s/it]"
     ]
    },
    {
     "name": "stdout",
     "output_type": "stream",
     "text": [
      "  Epoca 366/600 | Train Loss=2.0982 | Train Acc=95.94% | Test Acc=97.58%\n"
     ]
    },
    {
     "name": "stderr",
     "output_type": "stream",
     "text": [
      "BBB π=0.75 σ₁=1.4e-01 σ₂=2.5e-03:  61%|██████    | 367/600 [22:45<14:17,  3.68s/it]"
     ]
    },
    {
     "name": "stdout",
     "output_type": "stream",
     "text": [
      "  Epoca 367/600 | Train Loss=2.0968 | Train Acc=96.02% | Test Acc=97.50%\n"
     ]
    },
    {
     "name": "stderr",
     "output_type": "stream",
     "text": [
      "BBB π=0.75 σ₁=1.4e-01 σ₂=2.5e-03:  61%|██████▏   | 368/600 [22:49<14:40,  3.80s/it]"
     ]
    },
    {
     "name": "stdout",
     "output_type": "stream",
     "text": [
      "  Epoca 368/600 | Train Loss=2.1007 | Train Acc=95.87% | Test Acc=97.57%\n"
     ]
    },
    {
     "name": "stderr",
     "output_type": "stream",
     "text": [
      "BBB π=0.75 σ₁=1.4e-01 σ₂=2.5e-03:  62%|██████▏   | 369/600 [22:52<14:29,  3.76s/it]"
     ]
    },
    {
     "name": "stdout",
     "output_type": "stream",
     "text": [
      "  Epoca 369/600 | Train Loss=2.0987 | Train Acc=96.02% | Test Acc=97.35%\n"
     ]
    },
    {
     "name": "stderr",
     "output_type": "stream",
     "text": [
      "BBB π=0.75 σ₁=1.4e-01 σ₂=2.5e-03:  62%|██████▏   | 370/600 [22:56<14:17,  3.73s/it]"
     ]
    },
    {
     "name": "stdout",
     "output_type": "stream",
     "text": [
      "  Epoca 370/600 | Train Loss=2.0961 | Train Acc=96.07% | Test Acc=97.62%\n"
     ]
    },
    {
     "name": "stderr",
     "output_type": "stream",
     "text": [
      "BBB π=0.75 σ₁=1.4e-01 σ₂=2.5e-03:  62%|██████▏   | 371/600 [23:00<14:09,  3.71s/it]"
     ]
    },
    {
     "name": "stdout",
     "output_type": "stream",
     "text": [
      "  Epoca 371/600 | Train Loss=2.0927 | Train Acc=96.08% | Test Acc=97.56%\n"
     ]
    },
    {
     "name": "stderr",
     "output_type": "stream",
     "text": [
      "BBB π=0.75 σ₁=1.4e-01 σ₂=2.5e-03:  62%|██████▏   | 372/600 [23:03<14:05,  3.71s/it]"
     ]
    },
    {
     "name": "stdout",
     "output_type": "stream",
     "text": [
      "  Epoca 372/600 | Train Loss=2.0983 | Train Acc=96.00% | Test Acc=97.46%\n"
     ]
    },
    {
     "name": "stderr",
     "output_type": "stream",
     "text": [
      "BBB π=0.75 σ₁=1.4e-01 σ₂=2.5e-03:  62%|██████▏   | 373/600 [23:07<13:57,  3.69s/it]"
     ]
    },
    {
     "name": "stdout",
     "output_type": "stream",
     "text": [
      "  Epoca 373/600 | Train Loss=2.0918 | Train Acc=96.13% | Test Acc=97.45%\n"
     ]
    },
    {
     "name": "stderr",
     "output_type": "stream",
     "text": [
      "BBB π=0.75 σ₁=1.4e-01 σ₂=2.5e-03:  62%|██████▏   | 374/600 [23:11<13:49,  3.67s/it]"
     ]
    },
    {
     "name": "stdout",
     "output_type": "stream",
     "text": [
      "  Epoca 374/600 | Train Loss=2.0959 | Train Acc=95.96% | Test Acc=97.51%\n"
     ]
    },
    {
     "name": "stderr",
     "output_type": "stream",
     "text": [
      "BBB π=0.75 σ₁=1.4e-01 σ₂=2.5e-03:  62%|██████▎   | 375/600 [23:14<13:48,  3.68s/it]"
     ]
    },
    {
     "name": "stdout",
     "output_type": "stream",
     "text": [
      "  Epoca 375/600 | Train Loss=2.0948 | Train Acc=96.11% | Test Acc=97.41%\n"
     ]
    },
    {
     "name": "stderr",
     "output_type": "stream",
     "text": [
      "BBB π=0.75 σ₁=1.4e-01 σ₂=2.5e-03:  63%|██████▎   | 376/600 [23:18<13:41,  3.67s/it]"
     ]
    },
    {
     "name": "stdout",
     "output_type": "stream",
     "text": [
      "  Epoca 376/600 | Train Loss=2.0951 | Train Acc=96.02% | Test Acc=97.40%\n"
     ]
    },
    {
     "name": "stderr",
     "output_type": "stream",
     "text": [
      "BBB π=0.75 σ₁=1.4e-01 σ₂=2.5e-03:  63%|██████▎   | 377/600 [23:22<14:09,  3.81s/it]"
     ]
    },
    {
     "name": "stdout",
     "output_type": "stream",
     "text": [
      "  Epoca 377/600 | Train Loss=2.0983 | Train Acc=95.92% | Test Acc=97.57%\n"
     ]
    },
    {
     "name": "stderr",
     "output_type": "stream",
     "text": [
      "BBB π=0.75 σ₁=1.4e-01 σ₂=2.5e-03:  63%|██████▎   | 378/600 [23:26<13:56,  3.77s/it]"
     ]
    },
    {
     "name": "stdout",
     "output_type": "stream",
     "text": [
      "  Epoca 378/600 | Train Loss=2.1001 | Train Acc=95.87% | Test Acc=97.52%\n"
     ]
    },
    {
     "name": "stderr",
     "output_type": "stream",
     "text": [
      "BBB π=0.75 σ₁=1.4e-01 σ₂=2.5e-03:  63%|██████▎   | 379/600 [23:29<13:42,  3.72s/it]"
     ]
    },
    {
     "name": "stdout",
     "output_type": "stream",
     "text": [
      "  Epoca 379/600 | Train Loss=2.0946 | Train Acc=95.95% | Test Acc=97.23%\n"
     ]
    },
    {
     "name": "stderr",
     "output_type": "stream",
     "text": [
      "BBB π=0.75 σ₁=1.4e-01 σ₂=2.5e-03:  63%|██████▎   | 380/600 [23:33<13:38,  3.72s/it]"
     ]
    },
    {
     "name": "stdout",
     "output_type": "stream",
     "text": [
      "  Epoca 380/600 | Train Loss=2.0972 | Train Acc=95.99% | Test Acc=97.57%\n"
     ]
    },
    {
     "name": "stderr",
     "output_type": "stream",
     "text": [
      "BBB π=0.75 σ₁=1.4e-01 σ₂=2.5e-03:  64%|██████▎   | 381/600 [23:37<13:30,  3.70s/it]"
     ]
    },
    {
     "name": "stdout",
     "output_type": "stream",
     "text": [
      "  Epoca 381/600 | Train Loss=2.0927 | Train Acc=96.04% | Test Acc=97.43%\n"
     ]
    },
    {
     "name": "stderr",
     "output_type": "stream",
     "text": [
      "BBB π=0.75 σ₁=1.4e-01 σ₂=2.5e-03:  64%|██████▎   | 382/600 [23:40<13:25,  3.69s/it]"
     ]
    },
    {
     "name": "stdout",
     "output_type": "stream",
     "text": [
      "  Epoca 382/600 | Train Loss=2.0971 | Train Acc=95.96% | Test Acc=97.32%\n"
     ]
    },
    {
     "name": "stderr",
     "output_type": "stream",
     "text": [
      "BBB π=0.75 σ₁=1.4e-01 σ₂=2.5e-03:  64%|██████▍   | 383/600 [23:44<13:23,  3.70s/it]"
     ]
    },
    {
     "name": "stdout",
     "output_type": "stream",
     "text": [
      "  Epoca 383/600 | Train Loss=2.0920 | Train Acc=96.14% | Test Acc=97.46%\n"
     ]
    },
    {
     "name": "stderr",
     "output_type": "stream",
     "text": [
      "BBB π=0.75 σ₁=1.4e-01 σ₂=2.5e-03:  64%|██████▍   | 384/600 [23:48<13:16,  3.69s/it]"
     ]
    },
    {
     "name": "stdout",
     "output_type": "stream",
     "text": [
      "  Epoca 384/600 | Train Loss=2.0950 | Train Acc=95.97% | Test Acc=97.43%\n"
     ]
    },
    {
     "name": "stderr",
     "output_type": "stream",
     "text": [
      "BBB π=0.75 σ₁=1.4e-01 σ₂=2.5e-03:  64%|██████▍   | 385/600 [23:52<13:19,  3.72s/it]"
     ]
    },
    {
     "name": "stdout",
     "output_type": "stream",
     "text": [
      "  Epoca 385/600 | Train Loss=2.0921 | Train Acc=96.08% | Test Acc=97.35%\n"
     ]
    },
    {
     "name": "stderr",
     "output_type": "stream",
     "text": [
      "BBB π=0.75 σ₁=1.4e-01 σ₂=2.5e-03:  64%|██████▍   | 386/600 [23:56<13:28,  3.78s/it]"
     ]
    },
    {
     "name": "stdout",
     "output_type": "stream",
     "text": [
      "  Epoca 386/600 | Train Loss=2.0941 | Train Acc=95.89% | Test Acc=97.48%\n"
     ]
    },
    {
     "name": "stderr",
     "output_type": "stream",
     "text": [
      "BBB π=0.75 σ₁=1.4e-01 σ₂=2.5e-03:  64%|██████▍   | 387/600 [23:59<13:18,  3.75s/it]"
     ]
    },
    {
     "name": "stdout",
     "output_type": "stream",
     "text": [
      "  Epoca 387/600 | Train Loss=2.0997 | Train Acc=95.78% | Test Acc=97.18%\n"
     ]
    },
    {
     "name": "stderr",
     "output_type": "stream",
     "text": [
      "BBB π=0.75 σ₁=1.4e-01 σ₂=2.5e-03:  65%|██████▍   | 388/600 [24:03<13:11,  3.73s/it]"
     ]
    },
    {
     "name": "stdout",
     "output_type": "stream",
     "text": [
      "  Epoca 388/600 | Train Loss=2.0936 | Train Acc=96.05% | Test Acc=97.60%\n"
     ]
    },
    {
     "name": "stderr",
     "output_type": "stream",
     "text": [
      "BBB π=0.75 σ₁=1.4e-01 σ₂=2.5e-03:  65%|██████▍   | 389/600 [24:07<13:01,  3.70s/it]"
     ]
    },
    {
     "name": "stdout",
     "output_type": "stream",
     "text": [
      "  Epoca 389/600 | Train Loss=2.0938 | Train Acc=95.99% | Test Acc=97.41%\n"
     ]
    },
    {
     "name": "stderr",
     "output_type": "stream",
     "text": [
      "BBB π=0.75 σ₁=1.4e-01 σ₂=2.5e-03:  65%|██████▌   | 390/600 [24:10<12:56,  3.70s/it]"
     ]
    },
    {
     "name": "stdout",
     "output_type": "stream",
     "text": [
      "  Epoca 390/600 | Train Loss=2.0956 | Train Acc=96.00% | Test Acc=97.30%\n"
     ]
    },
    {
     "name": "stderr",
     "output_type": "stream",
     "text": [
      "BBB π=0.75 σ₁=1.4e-01 σ₂=2.5e-03:  65%|██████▌   | 391/600 [24:14<12:51,  3.69s/it]"
     ]
    },
    {
     "name": "stdout",
     "output_type": "stream",
     "text": [
      "  Epoca 391/600 | Train Loss=2.0959 | Train Acc=95.98% | Test Acc=97.22%\n"
     ]
    },
    {
     "name": "stderr",
     "output_type": "stream",
     "text": [
      "BBB π=0.75 σ₁=1.4e-01 σ₂=2.5e-03:  65%|██████▌   | 392/600 [24:18<12:45,  3.68s/it]"
     ]
    },
    {
     "name": "stdout",
     "output_type": "stream",
     "text": [
      "  Epoca 392/600 | Train Loss=2.0930 | Train Acc=95.95% | Test Acc=97.49%\n"
     ]
    },
    {
     "name": "stderr",
     "output_type": "stream",
     "text": [
      "BBB π=0.75 σ₁=1.4e-01 σ₂=2.5e-03:  66%|██████▌   | 393/600 [24:21<12:43,  3.69s/it]"
     ]
    },
    {
     "name": "stdout",
     "output_type": "stream",
     "text": [
      "  Epoca 393/600 | Train Loss=2.0945 | Train Acc=95.98% | Test Acc=97.43%\n"
     ]
    },
    {
     "name": "stderr",
     "output_type": "stream",
     "text": [
      "BBB π=0.75 σ₁=1.4e-01 σ₂=2.5e-03:  66%|██████▌   | 394/600 [24:25<13:03,  3.80s/it]"
     ]
    },
    {
     "name": "stdout",
     "output_type": "stream",
     "text": [
      "  Epoca 394/600 | Train Loss=2.0887 | Train Acc=96.22% | Test Acc=97.36%\n"
     ]
    },
    {
     "name": "stderr",
     "output_type": "stream",
     "text": [
      "BBB π=0.75 σ₁=1.4e-01 σ₂=2.5e-03:  66%|██████▌   | 395/600 [24:29<12:48,  3.75s/it]"
     ]
    },
    {
     "name": "stdout",
     "output_type": "stream",
     "text": [
      "  Epoca 395/600 | Train Loss=2.0978 | Train Acc=95.95% | Test Acc=97.45%\n"
     ]
    },
    {
     "name": "stderr",
     "output_type": "stream",
     "text": [
      "BBB π=0.75 σ₁=1.4e-01 σ₂=2.5e-03:  66%|██████▌   | 396/600 [24:33<12:41,  3.73s/it]"
     ]
    },
    {
     "name": "stdout",
     "output_type": "stream",
     "text": [
      "  Epoca 396/600 | Train Loss=2.0914 | Train Acc=96.03% | Test Acc=97.51%\n"
     ]
    },
    {
     "name": "stderr",
     "output_type": "stream",
     "text": [
      "BBB π=0.75 σ₁=1.4e-01 σ₂=2.5e-03:  66%|██████▌   | 397/600 [24:36<12:30,  3.70s/it]"
     ]
    },
    {
     "name": "stdout",
     "output_type": "stream",
     "text": [
      "  Epoca 397/600 | Train Loss=2.0907 | Train Acc=96.13% | Test Acc=97.09%\n"
     ]
    },
    {
     "name": "stderr",
     "output_type": "stream",
     "text": [
      "BBB π=0.75 σ₁=1.4e-01 σ₂=2.5e-03:  66%|██████▋   | 398/600 [24:40<12:25,  3.69s/it]"
     ]
    },
    {
     "name": "stdout",
     "output_type": "stream",
     "text": [
      "  Epoca 398/600 | Train Loss=2.0956 | Train Acc=95.88% | Test Acc=97.30%\n"
     ]
    },
    {
     "name": "stderr",
     "output_type": "stream",
     "text": [
      "BBB π=0.75 σ₁=1.4e-01 σ₂=2.5e-03:  66%|██████▋   | 399/600 [24:44<12:21,  3.69s/it]"
     ]
    },
    {
     "name": "stdout",
     "output_type": "stream",
     "text": [
      "  Epoca 399/600 | Train Loss=2.0930 | Train Acc=96.05% | Test Acc=97.20%\n"
     ]
    },
    {
     "name": "stderr",
     "output_type": "stream",
     "text": [
      "BBB π=0.75 σ₁=1.4e-01 σ₂=2.5e-03:  67%|██████▋   | 400/600 [24:47<12:17,  3.69s/it]"
     ]
    },
    {
     "name": "stdout",
     "output_type": "stream",
     "text": [
      "  Epoca 400/600 | Train Loss=2.0915 | Train Acc=96.05% | Test Acc=97.37%\n"
     ]
    },
    {
     "name": "stderr",
     "output_type": "stream",
     "text": [
      "BBB π=0.75 σ₁=1.4e-01 σ₂=2.5e-03:  67%|██████▋   | 401/600 [24:51<12:11,  3.68s/it]"
     ]
    },
    {
     "name": "stdout",
     "output_type": "stream",
     "text": [
      "  Epoca 401/600 | Train Loss=2.0885 | Train Acc=96.09% | Test Acc=97.47%\n"
     ]
    },
    {
     "name": "stderr",
     "output_type": "stream",
     "text": [
      "BBB π=0.75 σ₁=1.4e-01 σ₂=2.5e-03:  67%|██████▋   | 402/600 [24:55<12:09,  3.69s/it]"
     ]
    },
    {
     "name": "stdout",
     "output_type": "stream",
     "text": [
      "  Epoca 402/600 | Train Loss=2.0959 | Train Acc=95.92% | Test Acc=97.37%\n"
     ]
    },
    {
     "name": "stderr",
     "output_type": "stream",
     "text": [
      "BBB π=0.75 σ₁=1.4e-01 σ₂=2.5e-03:  67%|██████▋   | 403/600 [24:59<12:29,  3.81s/it]"
     ]
    },
    {
     "name": "stdout",
     "output_type": "stream",
     "text": [
      "  Epoca 403/600 | Train Loss=2.0928 | Train Acc=96.00% | Test Acc=97.61%\n"
     ]
    },
    {
     "name": "stderr",
     "output_type": "stream",
     "text": [
      "BBB π=0.75 σ₁=1.4e-01 σ₂=2.5e-03:  67%|██████▋   | 404/600 [25:02<12:18,  3.77s/it]"
     ]
    },
    {
     "name": "stdout",
     "output_type": "stream",
     "text": [
      "  Epoca 404/600 | Train Loss=2.0909 | Train Acc=96.07% | Test Acc=97.33%\n"
     ]
    },
    {
     "name": "stderr",
     "output_type": "stream",
     "text": [
      "BBB π=0.75 σ₁=1.4e-01 σ₂=2.5e-03:  68%|██████▊   | 405/600 [25:06<12:07,  3.73s/it]"
     ]
    },
    {
     "name": "stdout",
     "output_type": "stream",
     "text": [
      "  Epoca 405/600 | Train Loss=2.0936 | Train Acc=95.96% | Test Acc=97.50%\n"
     ]
    },
    {
     "name": "stderr",
     "output_type": "stream",
     "text": [
      "BBB π=0.75 σ₁=1.4e-01 σ₂=2.5e-03:  68%|██████▊   | 406/600 [25:10<12:02,  3.73s/it]"
     ]
    },
    {
     "name": "stdout",
     "output_type": "stream",
     "text": [
      "  Epoca 406/600 | Train Loss=2.0876 | Train Acc=96.14% | Test Acc=97.39%\n"
     ]
    },
    {
     "name": "stderr",
     "output_type": "stream",
     "text": [
      "BBB π=0.75 σ₁=1.4e-01 σ₂=2.5e-03:  68%|██████▊   | 407/600 [25:14<12:01,  3.74s/it]"
     ]
    },
    {
     "name": "stdout",
     "output_type": "stream",
     "text": [
      "  Epoca 407/600 | Train Loss=2.0888 | Train Acc=96.06% | Test Acc=97.52%\n"
     ]
    },
    {
     "name": "stderr",
     "output_type": "stream",
     "text": [
      "BBB π=0.75 σ₁=1.4e-01 σ₂=2.5e-03:  68%|██████▊   | 408/600 [25:17<11:55,  3.72s/it]"
     ]
    },
    {
     "name": "stdout",
     "output_type": "stream",
     "text": [
      "  Epoca 408/600 | Train Loss=2.0898 | Train Acc=96.04% | Test Acc=97.41%\n"
     ]
    },
    {
     "name": "stderr",
     "output_type": "stream",
     "text": [
      "BBB π=0.75 σ₁=1.4e-01 σ₂=2.5e-03:  68%|██████▊   | 409/600 [25:21<11:51,  3.73s/it]"
     ]
    },
    {
     "name": "stdout",
     "output_type": "stream",
     "text": [
      "  Epoca 409/600 | Train Loss=2.0935 | Train Acc=96.02% | Test Acc=97.40%\n"
     ]
    },
    {
     "name": "stderr",
     "output_type": "stream",
     "text": [
      "BBB π=0.75 σ₁=1.4e-01 σ₂=2.5e-03:  68%|██████▊   | 410/600 [25:25<11:48,  3.73s/it]"
     ]
    },
    {
     "name": "stdout",
     "output_type": "stream",
     "text": [
      "  Epoca 410/600 | Train Loss=2.0896 | Train Acc=96.08% | Test Acc=97.35%\n"
     ]
    },
    {
     "name": "stderr",
     "output_type": "stream",
     "text": [
      "BBB π=0.75 σ₁=1.4e-01 σ₂=2.5e-03:  68%|██████▊   | 411/600 [25:28<11:40,  3.71s/it]"
     ]
    },
    {
     "name": "stdout",
     "output_type": "stream",
     "text": [
      "  Epoca 411/600 | Train Loss=2.0944 | Train Acc=95.89% | Test Acc=97.30%\n"
     ]
    },
    {
     "name": "stderr",
     "output_type": "stream",
     "text": [
      "BBB π=0.75 σ₁=1.4e-01 σ₂=2.5e-03:  69%|██████▊   | 412/600 [25:32<11:58,  3.82s/it]"
     ]
    },
    {
     "name": "stdout",
     "output_type": "stream",
     "text": [
      "  Epoca 412/600 | Train Loss=2.0933 | Train Acc=95.90% | Test Acc=97.39%\n"
     ]
    },
    {
     "name": "stderr",
     "output_type": "stream",
     "text": [
      "BBB π=0.75 σ₁=1.4e-01 σ₂=2.5e-03:  69%|██████▉   | 413/600 [25:36<11:45,  3.77s/it]"
     ]
    },
    {
     "name": "stdout",
     "output_type": "stream",
     "text": [
      "  Epoca 413/600 | Train Loss=2.0897 | Train Acc=96.16% | Test Acc=97.33%\n"
     ]
    },
    {
     "name": "stderr",
     "output_type": "stream",
     "text": [
      "BBB π=0.75 σ₁=1.4e-01 σ₂=2.5e-03:  69%|██████▉   | 414/600 [25:40<11:36,  3.74s/it]"
     ]
    },
    {
     "name": "stdout",
     "output_type": "stream",
     "text": [
      "  Epoca 414/600 | Train Loss=2.0852 | Train Acc=96.20% | Test Acc=97.52%\n"
     ]
    },
    {
     "name": "stderr",
     "output_type": "stream",
     "text": [
      "BBB π=0.75 σ₁=1.4e-01 σ₂=2.5e-03:  69%|██████▉   | 415/600 [25:44<11:31,  3.74s/it]"
     ]
    },
    {
     "name": "stdout",
     "output_type": "stream",
     "text": [
      "  Epoca 415/600 | Train Loss=2.0884 | Train Acc=96.05% | Test Acc=97.50%\n"
     ]
    },
    {
     "name": "stderr",
     "output_type": "stream",
     "text": [
      "BBB π=0.75 σ₁=1.4e-01 σ₂=2.5e-03:  69%|██████▉   | 416/600 [25:47<11:23,  3.71s/it]"
     ]
    },
    {
     "name": "stdout",
     "output_type": "stream",
     "text": [
      "  Epoca 416/600 | Train Loss=2.0901 | Train Acc=96.03% | Test Acc=97.39%\n"
     ]
    },
    {
     "name": "stderr",
     "output_type": "stream",
     "text": [
      "BBB π=0.75 σ₁=1.4e-01 σ₂=2.5e-03:  70%|██████▉   | 417/600 [25:51<11:16,  3.69s/it]"
     ]
    },
    {
     "name": "stdout",
     "output_type": "stream",
     "text": [
      "  Epoca 417/600 | Train Loss=2.0892 | Train Acc=95.99% | Test Acc=97.52%\n"
     ]
    },
    {
     "name": "stderr",
     "output_type": "stream",
     "text": [
      "BBB π=0.75 σ₁=1.4e-01 σ₂=2.5e-03:  70%|██████▉   | 418/600 [25:55<11:12,  3.70s/it]"
     ]
    },
    {
     "name": "stdout",
     "output_type": "stream",
     "text": [
      "  Epoca 418/600 | Train Loss=2.0896 | Train Acc=96.07% | Test Acc=97.11%\n"
     ]
    },
    {
     "name": "stderr",
     "output_type": "stream",
     "text": [
      "BBB π=0.75 σ₁=1.4e-01 σ₂=2.5e-03:  70%|██████▉   | 419/600 [25:58<11:05,  3.68s/it]"
     ]
    },
    {
     "name": "stdout",
     "output_type": "stream",
     "text": [
      "  Epoca 419/600 | Train Loss=2.0871 | Train Acc=96.06% | Test Acc=97.43%\n"
     ]
    },
    {
     "name": "stderr",
     "output_type": "stream",
     "text": [
      "BBB π=0.75 σ₁=1.4e-01 σ₂=2.5e-03:  70%|███████   | 420/600 [26:02<11:18,  3.77s/it]"
     ]
    },
    {
     "name": "stdout",
     "output_type": "stream",
     "text": [
      "  Epoca 420/600 | Train Loss=2.0854 | Train Acc=96.15% | Test Acc=97.41%\n"
     ]
    },
    {
     "name": "stderr",
     "output_type": "stream",
     "text": [
      "BBB π=0.75 σ₁=1.4e-01 σ₂=2.5e-03:  70%|███████   | 421/600 [26:06<11:13,  3.76s/it]"
     ]
    },
    {
     "name": "stdout",
     "output_type": "stream",
     "text": [
      "  Epoca 421/600 | Train Loss=2.0868 | Train Acc=96.09% | Test Acc=97.59%\n"
     ]
    },
    {
     "name": "stderr",
     "output_type": "stream",
     "text": [
      "BBB π=0.75 σ₁=1.4e-01 σ₂=2.5e-03:  70%|███████   | 422/600 [26:10<11:05,  3.74s/it]"
     ]
    },
    {
     "name": "stdout",
     "output_type": "stream",
     "text": [
      "  Epoca 422/600 | Train Loss=2.0852 | Train Acc=96.12% | Test Acc=97.66%\n"
     ]
    },
    {
     "name": "stderr",
     "output_type": "stream",
     "text": [
      "BBB π=0.75 σ₁=1.4e-01 σ₂=2.5e-03:  70%|███████   | 423/600 [26:13<10:59,  3.72s/it]"
     ]
    },
    {
     "name": "stdout",
     "output_type": "stream",
     "text": [
      "  Epoca 423/600 | Train Loss=2.0855 | Train Acc=96.13% | Test Acc=97.33%\n"
     ]
    },
    {
     "name": "stderr",
     "output_type": "stream",
     "text": [
      "BBB π=0.75 σ₁=1.4e-01 σ₂=2.5e-03:  71%|███████   | 424/600 [26:17<10:53,  3.71s/it]"
     ]
    },
    {
     "name": "stdout",
     "output_type": "stream",
     "text": [
      "  Epoca 424/600 | Train Loss=2.0910 | Train Acc=95.88% | Test Acc=97.37%\n"
     ]
    },
    {
     "name": "stderr",
     "output_type": "stream",
     "text": [
      "BBB π=0.75 σ₁=1.4e-01 σ₂=2.5e-03:  71%|███████   | 425/600 [26:21<10:45,  3.69s/it]"
     ]
    },
    {
     "name": "stdout",
     "output_type": "stream",
     "text": [
      "  Epoca 425/600 | Train Loss=2.0858 | Train Acc=96.10% | Test Acc=97.56%\n"
     ]
    },
    {
     "name": "stderr",
     "output_type": "stream",
     "text": [
      "BBB π=0.75 σ₁=1.4e-01 σ₂=2.5e-03:  71%|███████   | 426/600 [26:24<10:45,  3.71s/it]"
     ]
    },
    {
     "name": "stdout",
     "output_type": "stream",
     "text": [
      "  Epoca 426/600 | Train Loss=2.0897 | Train Acc=95.96% | Test Acc=97.39%\n"
     ]
    },
    {
     "name": "stderr",
     "output_type": "stream",
     "text": [
      "BBB π=0.75 σ₁=1.4e-01 σ₂=2.5e-03:  71%|███████   | 427/600 [26:28<10:38,  3.69s/it]"
     ]
    },
    {
     "name": "stdout",
     "output_type": "stream",
     "text": [
      "  Epoca 427/600 | Train Loss=2.0889 | Train Acc=95.99% | Test Acc=97.45%\n"
     ]
    },
    {
     "name": "stderr",
     "output_type": "stream",
     "text": [
      "BBB π=0.75 σ₁=1.4e-01 σ₂=2.5e-03:  71%|███████▏  | 428/600 [26:32<10:35,  3.69s/it]"
     ]
    },
    {
     "name": "stdout",
     "output_type": "stream",
     "text": [
      "  Epoca 428/600 | Train Loss=2.0874 | Train Acc=95.99% | Test Acc=97.53%\n"
     ]
    },
    {
     "name": "stderr",
     "output_type": "stream",
     "text": [
      "BBB π=0.75 σ₁=1.4e-01 σ₂=2.5e-03:  72%|███████▏  | 429/600 [26:36<10:49,  3.80s/it]"
     ]
    },
    {
     "name": "stdout",
     "output_type": "stream",
     "text": [
      "  Epoca 429/600 | Train Loss=2.0888 | Train Acc=95.91% | Test Acc=97.47%\n"
     ]
    },
    {
     "name": "stderr",
     "output_type": "stream",
     "text": [
      "BBB π=0.75 σ₁=1.4e-01 σ₂=2.5e-03:  72%|███████▏  | 430/600 [26:39<10:38,  3.76s/it]"
     ]
    },
    {
     "name": "stdout",
     "output_type": "stream",
     "text": [
      "  Epoca 430/600 | Train Loss=2.0852 | Train Acc=96.10% | Test Acc=97.47%\n"
     ]
    },
    {
     "name": "stderr",
     "output_type": "stream",
     "text": [
      "BBB π=0.75 σ₁=1.4e-01 σ₂=2.5e-03:  72%|███████▏  | 431/600 [26:43<10:34,  3.75s/it]"
     ]
    },
    {
     "name": "stdout",
     "output_type": "stream",
     "text": [
      "  Epoca 431/600 | Train Loss=2.0867 | Train Acc=96.08% | Test Acc=97.44%\n"
     ]
    },
    {
     "name": "stderr",
     "output_type": "stream",
     "text": [
      "BBB π=0.75 σ₁=1.4e-01 σ₂=2.5e-03:  72%|███████▏  | 432/600 [26:47<10:26,  3.73s/it]"
     ]
    },
    {
     "name": "stdout",
     "output_type": "stream",
     "text": [
      "  Epoca 432/600 | Train Loss=2.0882 | Train Acc=96.01% | Test Acc=97.41%\n"
     ]
    },
    {
     "name": "stderr",
     "output_type": "stream",
     "text": [
      "BBB π=0.75 σ₁=1.4e-01 σ₂=2.5e-03:  72%|███████▏  | 433/600 [26:51<10:20,  3.72s/it]"
     ]
    },
    {
     "name": "stdout",
     "output_type": "stream",
     "text": [
      "  Epoca 433/600 | Train Loss=2.0846 | Train Acc=96.13% | Test Acc=97.37%\n"
     ]
    },
    {
     "name": "stderr",
     "output_type": "stream",
     "text": [
      "BBB π=0.75 σ₁=1.4e-01 σ₂=2.5e-03:  72%|███████▏  | 434/600 [26:54<10:16,  3.71s/it]"
     ]
    },
    {
     "name": "stdout",
     "output_type": "stream",
     "text": [
      "  Epoca 434/600 | Train Loss=2.0865 | Train Acc=96.08% | Test Acc=97.46%\n"
     ]
    },
    {
     "name": "stderr",
     "output_type": "stream",
     "text": [
      "BBB π=0.75 σ₁=1.4e-01 σ₂=2.5e-03:  72%|███████▎  | 435/600 [26:58<10:09,  3.70s/it]"
     ]
    },
    {
     "name": "stdout",
     "output_type": "stream",
     "text": [
      "  Epoca 435/600 | Train Loss=2.0871 | Train Acc=95.99% | Test Acc=97.42%\n"
     ]
    },
    {
     "name": "stderr",
     "output_type": "stream",
     "text": [
      "BBB π=0.75 σ₁=1.4e-01 σ₂=2.5e-03:  73%|███████▎  | 436/600 [27:02<10:05,  3.69s/it]"
     ]
    },
    {
     "name": "stdout",
     "output_type": "stream",
     "text": [
      "  Epoca 436/600 | Train Loss=2.0903 | Train Acc=95.85% | Test Acc=97.58%\n"
     ]
    },
    {
     "name": "stderr",
     "output_type": "stream",
     "text": [
      "BBB π=0.75 σ₁=1.4e-01 σ₂=2.5e-03:  73%|███████▎  | 437/600 [27:05<10:00,  3.68s/it]"
     ]
    },
    {
     "name": "stdout",
     "output_type": "stream",
     "text": [
      "  Epoca 437/600 | Train Loss=2.0882 | Train Acc=96.11% | Test Acc=97.43%\n"
     ]
    },
    {
     "name": "stderr",
     "output_type": "stream",
     "text": [
      "BBB π=0.75 σ₁=1.4e-01 σ₂=2.5e-03:  73%|███████▎  | 438/600 [27:09<10:14,  3.79s/it]"
     ]
    },
    {
     "name": "stdout",
     "output_type": "stream",
     "text": [
      "  Epoca 438/600 | Train Loss=2.0893 | Train Acc=95.93% | Test Acc=97.55%\n"
     ]
    },
    {
     "name": "stderr",
     "output_type": "stream",
     "text": [
      "BBB π=0.75 σ₁=1.4e-01 σ₂=2.5e-03:  73%|███████▎  | 439/600 [27:13<10:05,  3.76s/it]"
     ]
    },
    {
     "name": "stdout",
     "output_type": "stream",
     "text": [
      "  Epoca 439/600 | Train Loss=2.0875 | Train Acc=96.02% | Test Acc=97.49%\n"
     ]
    },
    {
     "name": "stderr",
     "output_type": "stream",
     "text": [
      "BBB π=0.75 σ₁=1.4e-01 σ₂=2.5e-03:  73%|███████▎  | 440/600 [27:17<09:57,  3.73s/it]"
     ]
    },
    {
     "name": "stdout",
     "output_type": "stream",
     "text": [
      "  Epoca 440/600 | Train Loss=2.0871 | Train Acc=95.99% | Test Acc=97.54%\n"
     ]
    },
    {
     "name": "stderr",
     "output_type": "stream",
     "text": [
      "BBB π=0.75 σ₁=1.4e-01 σ₂=2.5e-03:  74%|███████▎  | 441/600 [27:20<09:51,  3.72s/it]"
     ]
    },
    {
     "name": "stdout",
     "output_type": "stream",
     "text": [
      "  Epoca 441/600 | Train Loss=2.0838 | Train Acc=96.14% | Test Acc=97.39%\n"
     ]
    },
    {
     "name": "stderr",
     "output_type": "stream",
     "text": [
      "BBB π=0.75 σ₁=1.4e-01 σ₂=2.5e-03:  74%|███████▎  | 442/600 [27:24<09:47,  3.72s/it]"
     ]
    },
    {
     "name": "stdout",
     "output_type": "stream",
     "text": [
      "  Epoca 442/600 | Train Loss=2.0863 | Train Acc=96.00% | Test Acc=97.57%\n"
     ]
    },
    {
     "name": "stderr",
     "output_type": "stream",
     "text": [
      "BBB π=0.75 σ₁=1.4e-01 σ₂=2.5e-03:  74%|███████▍  | 443/600 [27:28<09:41,  3.70s/it]"
     ]
    },
    {
     "name": "stdout",
     "output_type": "stream",
     "text": [
      "  Epoca 443/600 | Train Loss=2.0877 | Train Acc=96.08% | Test Acc=97.41%\n"
     ]
    },
    {
     "name": "stderr",
     "output_type": "stream",
     "text": [
      "BBB π=0.75 σ₁=1.4e-01 σ₂=2.5e-03:  74%|███████▍  | 444/600 [27:31<09:36,  3.70s/it]"
     ]
    },
    {
     "name": "stdout",
     "output_type": "stream",
     "text": [
      "  Epoca 444/600 | Train Loss=2.0890 | Train Acc=96.02% | Test Acc=97.52%\n"
     ]
    },
    {
     "name": "stderr",
     "output_type": "stream",
     "text": [
      "BBB π=0.75 σ₁=1.4e-01 σ₂=2.5e-03:  74%|███████▍  | 445/600 [27:35<09:32,  3.69s/it]"
     ]
    },
    {
     "name": "stdout",
     "output_type": "stream",
     "text": [
      "  Epoca 445/600 | Train Loss=2.0848 | Train Acc=96.10% | Test Acc=97.64%\n"
     ]
    },
    {
     "name": "stderr",
     "output_type": "stream",
     "text": [
      "BBB π=0.75 σ₁=1.4e-01 σ₂=2.5e-03:  74%|███████▍  | 446/600 [27:39<09:37,  3.75s/it]"
     ]
    },
    {
     "name": "stdout",
     "output_type": "stream",
     "text": [
      "  Epoca 446/600 | Train Loss=2.0872 | Train Acc=96.07% | Test Acc=97.34%\n"
     ]
    },
    {
     "name": "stderr",
     "output_type": "stream",
     "text": [
      "BBB π=0.75 σ₁=1.4e-01 σ₂=2.5e-03:  74%|███████▍  | 447/600 [27:43<09:41,  3.80s/it]"
     ]
    },
    {
     "name": "stdout",
     "output_type": "stream",
     "text": [
      "  Epoca 447/600 | Train Loss=2.0820 | Train Acc=96.14% | Test Acc=97.43%\n"
     ]
    },
    {
     "name": "stderr",
     "output_type": "stream",
     "text": [
      "BBB π=0.75 σ₁=1.4e-01 σ₂=2.5e-03:  75%|███████▍  | 448/600 [27:46<09:29,  3.75s/it]"
     ]
    },
    {
     "name": "stdout",
     "output_type": "stream",
     "text": [
      "  Epoca 448/600 | Train Loss=2.0853 | Train Acc=96.19% | Test Acc=97.20%\n"
     ]
    },
    {
     "name": "stderr",
     "output_type": "stream",
     "text": [
      "BBB π=0.75 σ₁=1.4e-01 σ₂=2.5e-03:  75%|███████▍  | 449/600 [27:50<09:20,  3.71s/it]"
     ]
    },
    {
     "name": "stdout",
     "output_type": "stream",
     "text": [
      "  Epoca 449/600 | Train Loss=2.0828 | Train Acc=96.15% | Test Acc=97.54%\n"
     ]
    },
    {
     "name": "stderr",
     "output_type": "stream",
     "text": [
      "BBB π=0.75 σ₁=1.4e-01 σ₂=2.5e-03:  75%|███████▌  | 450/600 [27:54<09:15,  3.70s/it]"
     ]
    },
    {
     "name": "stdout",
     "output_type": "stream",
     "text": [
      "  Epoca 450/600 | Train Loss=2.0868 | Train Acc=96.11% | Test Acc=97.58%\n"
     ]
    },
    {
     "name": "stderr",
     "output_type": "stream",
     "text": [
      "BBB π=0.75 σ₁=1.4e-01 σ₂=2.5e-03:  75%|███████▌  | 451/600 [27:57<09:11,  3.70s/it]"
     ]
    },
    {
     "name": "stdout",
     "output_type": "stream",
     "text": [
      "  Epoca 451/600 | Train Loss=2.0841 | Train Acc=96.06% | Test Acc=97.43%\n"
     ]
    },
    {
     "name": "stderr",
     "output_type": "stream",
     "text": [
      "BBB π=0.75 σ₁=1.4e-01 σ₂=2.5e-03:  75%|███████▌  | 452/600 [28:01<09:06,  3.69s/it]"
     ]
    },
    {
     "name": "stdout",
     "output_type": "stream",
     "text": [
      "  Epoca 452/600 | Train Loss=2.0823 | Train Acc=96.02% | Test Acc=97.36%\n"
     ]
    },
    {
     "name": "stderr",
     "output_type": "stream",
     "text": [
      "BBB π=0.75 σ₁=1.4e-01 σ₂=2.5e-03:  76%|███████▌  | 453/600 [28:05<09:04,  3.70s/it]"
     ]
    },
    {
     "name": "stdout",
     "output_type": "stream",
     "text": [
      "  Epoca 453/600 | Train Loss=2.0826 | Train Acc=96.11% | Test Acc=97.36%\n"
     ]
    },
    {
     "name": "stderr",
     "output_type": "stream",
     "text": [
      "BBB π=0.75 σ₁=1.4e-01 σ₂=2.5e-03:  76%|███████▌  | 454/600 [28:09<08:59,  3.70s/it]"
     ]
    },
    {
     "name": "stdout",
     "output_type": "stream",
     "text": [
      "  Epoca 454/600 | Train Loss=2.0807 | Train Acc=96.20% | Test Acc=97.29%\n"
     ]
    },
    {
     "name": "stderr",
     "output_type": "stream",
     "text": [
      "BBB π=0.75 σ₁=1.4e-01 σ₂=2.5e-03:  76%|███████▌  | 455/600 [28:13<09:15,  3.83s/it]"
     ]
    },
    {
     "name": "stdout",
     "output_type": "stream",
     "text": [
      "  Epoca 455/600 | Train Loss=2.0862 | Train Acc=96.05% | Test Acc=97.22%\n"
     ]
    },
    {
     "name": "stderr",
     "output_type": "stream",
     "text": [
      "BBB π=0.75 σ₁=1.4e-01 σ₂=2.5e-03:  76%|███████▌  | 456/600 [28:16<09:03,  3.77s/it]"
     ]
    },
    {
     "name": "stdout",
     "output_type": "stream",
     "text": [
      "  Epoca 456/600 | Train Loss=2.0848 | Train Acc=95.96% | Test Acc=97.29%\n"
     ]
    },
    {
     "name": "stderr",
     "output_type": "stream",
     "text": [
      "BBB π=0.75 σ₁=1.4e-01 σ₂=2.5e-03:  76%|███████▌  | 457/600 [28:20<08:54,  3.74s/it]"
     ]
    },
    {
     "name": "stdout",
     "output_type": "stream",
     "text": [
      "  Epoca 457/600 | Train Loss=2.0815 | Train Acc=96.14% | Test Acc=97.56%\n"
     ]
    },
    {
     "name": "stderr",
     "output_type": "stream",
     "text": [
      "BBB π=0.75 σ₁=1.4e-01 σ₂=2.5e-03:  76%|███████▋  | 458/600 [28:24<08:49,  3.73s/it]"
     ]
    },
    {
     "name": "stdout",
     "output_type": "stream",
     "text": [
      "  Epoca 458/600 | Train Loss=2.0851 | Train Acc=95.99% | Test Acc=97.45%\n"
     ]
    },
    {
     "name": "stderr",
     "output_type": "stream",
     "text": [
      "BBB π=0.75 σ₁=1.4e-01 σ₂=2.5e-03:  76%|███████▋  | 459/600 [28:27<08:42,  3.71s/it]"
     ]
    },
    {
     "name": "stdout",
     "output_type": "stream",
     "text": [
      "  Epoca 459/600 | Train Loss=2.0805 | Train Acc=96.14% | Test Acc=97.41%\n"
     ]
    },
    {
     "name": "stderr",
     "output_type": "stream",
     "text": [
      "BBB π=0.75 σ₁=1.4e-01 σ₂=2.5e-03:  77%|███████▋  | 460/600 [28:31<08:36,  3.69s/it]"
     ]
    },
    {
     "name": "stdout",
     "output_type": "stream",
     "text": [
      "  Epoca 460/600 | Train Loss=2.0887 | Train Acc=95.95% | Test Acc=97.62%\n"
     ]
    },
    {
     "name": "stderr",
     "output_type": "stream",
     "text": [
      "BBB π=0.75 σ₁=1.4e-01 σ₂=2.5e-03:  77%|███████▋  | 461/600 [28:35<08:33,  3.69s/it]"
     ]
    },
    {
     "name": "stdout",
     "output_type": "stream",
     "text": [
      "  Epoca 461/600 | Train Loss=2.0821 | Train Acc=96.07% | Test Acc=97.65%\n"
     ]
    },
    {
     "name": "stderr",
     "output_type": "stream",
     "text": [
      "BBB π=0.75 σ₁=1.4e-01 σ₂=2.5e-03:  77%|███████▋  | 462/600 [28:38<08:28,  3.69s/it]"
     ]
    },
    {
     "name": "stdout",
     "output_type": "stream",
     "text": [
      "  Epoca 462/600 | Train Loss=2.0819 | Train Acc=96.14% | Test Acc=97.61%\n"
     ]
    },
    {
     "name": "stderr",
     "output_type": "stream",
     "text": [
      "BBB π=0.75 σ₁=1.4e-01 σ₂=2.5e-03:  77%|███████▋  | 463/600 [28:42<08:25,  3.69s/it]"
     ]
    },
    {
     "name": "stdout",
     "output_type": "stream",
     "text": [
      "  Epoca 463/600 | Train Loss=2.0827 | Train Acc=95.99% | Test Acc=97.50%\n"
     ]
    },
    {
     "name": "stderr",
     "output_type": "stream",
     "text": [
      "BBB π=0.75 σ₁=1.4e-01 σ₂=2.5e-03:  77%|███████▋  | 464/600 [28:46<08:36,  3.80s/it]"
     ]
    },
    {
     "name": "stdout",
     "output_type": "stream",
     "text": [
      "  Epoca 464/600 | Train Loss=2.0799 | Train Acc=96.19% | Test Acc=97.51%\n"
     ]
    },
    {
     "name": "stderr",
     "output_type": "stream",
     "text": [
      "BBB π=0.75 σ₁=1.4e-01 σ₂=2.5e-03:  78%|███████▊  | 465/600 [28:50<08:25,  3.75s/it]"
     ]
    },
    {
     "name": "stdout",
     "output_type": "stream",
     "text": [
      "  Epoca 465/600 | Train Loss=2.0823 | Train Acc=96.07% | Test Acc=97.34%\n"
     ]
    },
    {
     "name": "stderr",
     "output_type": "stream",
     "text": [
      "BBB π=0.75 σ₁=1.4e-01 σ₂=2.5e-03:  78%|███████▊  | 466/600 [28:53<08:18,  3.72s/it]"
     ]
    },
    {
     "name": "stdout",
     "output_type": "stream",
     "text": [
      "  Epoca 466/600 | Train Loss=2.0842 | Train Acc=96.04% | Test Acc=97.40%\n"
     ]
    },
    {
     "name": "stderr",
     "output_type": "stream",
     "text": [
      "BBB π=0.75 σ₁=1.4e-01 σ₂=2.5e-03:  78%|███████▊  | 467/600 [28:57<08:09,  3.68s/it]"
     ]
    },
    {
     "name": "stdout",
     "output_type": "stream",
     "text": [
      "  Epoca 467/600 | Train Loss=2.0862 | Train Acc=96.01% | Test Acc=97.37%\n"
     ]
    },
    {
     "name": "stderr",
     "output_type": "stream",
     "text": [
      "BBB π=0.75 σ₁=1.4e-01 σ₂=2.5e-03:  78%|███████▊  | 468/600 [29:01<08:03,  3.66s/it]"
     ]
    },
    {
     "name": "stdout",
     "output_type": "stream",
     "text": [
      "  Epoca 468/600 | Train Loss=2.0839 | Train Acc=96.01% | Test Acc=97.49%\n"
     ]
    },
    {
     "name": "stderr",
     "output_type": "stream",
     "text": [
      "BBB π=0.75 σ₁=1.4e-01 σ₂=2.5e-03:  78%|███████▊  | 469/600 [29:04<07:58,  3.65s/it]"
     ]
    },
    {
     "name": "stdout",
     "output_type": "stream",
     "text": [
      "  Epoca 469/600 | Train Loss=2.0810 | Train Acc=96.12% | Test Acc=97.30%\n"
     ]
    },
    {
     "name": "stderr",
     "output_type": "stream",
     "text": [
      "BBB π=0.75 σ₁=1.4e-01 σ₂=2.5e-03:  78%|███████▊  | 470/600 [29:08<07:53,  3.64s/it]"
     ]
    },
    {
     "name": "stdout",
     "output_type": "stream",
     "text": [
      "  Epoca 470/600 | Train Loss=2.0875 | Train Acc=95.84% | Test Acc=97.31%\n"
     ]
    },
    {
     "name": "stderr",
     "output_type": "stream",
     "text": [
      "BBB π=0.75 σ₁=1.4e-01 σ₂=2.5e-03:  78%|███████▊  | 471/600 [29:12<07:50,  3.65s/it]"
     ]
    },
    {
     "name": "stdout",
     "output_type": "stream",
     "text": [
      "  Epoca 471/600 | Train Loss=2.0807 | Train Acc=96.19% | Test Acc=97.44%\n"
     ]
    },
    {
     "name": "stderr",
     "output_type": "stream",
     "text": [
      "BBB π=0.75 σ₁=1.4e-01 σ₂=2.5e-03:  79%|███████▊  | 472/600 [29:15<07:44,  3.63s/it]"
     ]
    },
    {
     "name": "stdout",
     "output_type": "stream",
     "text": [
      "  Epoca 472/600 | Train Loss=2.0836 | Train Acc=96.04% | Test Acc=97.56%\n"
     ]
    },
    {
     "name": "stderr",
     "output_type": "stream",
     "text": [
      "BBB π=0.75 σ₁=1.4e-01 σ₂=2.5e-03:  79%|███████▉  | 473/600 [29:19<07:56,  3.75s/it]"
     ]
    },
    {
     "name": "stdout",
     "output_type": "stream",
     "text": [
      "  Epoca 473/600 | Train Loss=2.0834 | Train Acc=96.03% | Test Acc=97.45%\n"
     ]
    },
    {
     "name": "stderr",
     "output_type": "stream",
     "text": [
      "BBB π=0.75 σ₁=1.4e-01 σ₂=2.5e-03:  79%|███████▉  | 474/600 [29:23<07:51,  3.74s/it]"
     ]
    },
    {
     "name": "stdout",
     "output_type": "stream",
     "text": [
      "  Epoca 474/600 | Train Loss=2.0780 | Train Acc=96.11% | Test Acc=97.71%\n"
     ]
    },
    {
     "name": "stderr",
     "output_type": "stream",
     "text": [
      "BBB π=0.75 σ₁=1.4e-01 σ₂=2.5e-03:  79%|███████▉  | 475/600 [29:27<07:43,  3.71s/it]"
     ]
    },
    {
     "name": "stdout",
     "output_type": "stream",
     "text": [
      "  Epoca 475/600 | Train Loss=2.0797 | Train Acc=96.16% | Test Acc=97.40%\n"
     ]
    },
    {
     "name": "stderr",
     "output_type": "stream",
     "text": [
      "BBB π=0.75 σ₁=1.4e-01 σ₂=2.5e-03:  79%|███████▉  | 476/600 [29:30<07:36,  3.68s/it]"
     ]
    },
    {
     "name": "stdout",
     "output_type": "stream",
     "text": [
      "  Epoca 476/600 | Train Loss=2.0819 | Train Acc=96.06% | Test Acc=97.43%\n"
     ]
    },
    {
     "name": "stderr",
     "output_type": "stream",
     "text": [
      "BBB π=0.75 σ₁=1.4e-01 σ₂=2.5e-03:  80%|███████▉  | 477/600 [29:34<07:31,  3.67s/it]"
     ]
    },
    {
     "name": "stdout",
     "output_type": "stream",
     "text": [
      "  Epoca 477/600 | Train Loss=2.0816 | Train Acc=96.13% | Test Acc=97.57%\n"
     ]
    },
    {
     "name": "stderr",
     "output_type": "stream",
     "text": [
      "BBB π=0.75 σ₁=1.4e-01 σ₂=2.5e-03:  80%|███████▉  | 478/600 [29:37<07:25,  3.65s/it]"
     ]
    },
    {
     "name": "stdout",
     "output_type": "stream",
     "text": [
      "  Epoca 478/600 | Train Loss=2.0788 | Train Acc=96.12% | Test Acc=97.49%\n"
     ]
    },
    {
     "name": "stderr",
     "output_type": "stream",
     "text": [
      "BBB π=0.75 σ₁=1.4e-01 σ₂=2.5e-03:  80%|███████▉  | 479/600 [29:41<07:21,  3.65s/it]"
     ]
    },
    {
     "name": "stdout",
     "output_type": "stream",
     "text": [
      "  Epoca 479/600 | Train Loss=2.0839 | Train Acc=96.04% | Test Acc=97.51%\n"
     ]
    },
    {
     "name": "stderr",
     "output_type": "stream",
     "text": [
      "BBB π=0.75 σ₁=1.4e-01 σ₂=2.5e-03:  80%|████████  | 480/600 [29:45<07:18,  3.66s/it]"
     ]
    },
    {
     "name": "stdout",
     "output_type": "stream",
     "text": [
      "  Epoca 480/600 | Train Loss=2.0822 | Train Acc=96.06% | Test Acc=97.30%\n"
     ]
    },
    {
     "name": "stderr",
     "output_type": "stream",
     "text": [
      "BBB π=0.75 σ₁=1.4e-01 σ₂=2.5e-03:  80%|████████  | 481/600 [29:49<07:19,  3.69s/it]"
     ]
    },
    {
     "name": "stdout",
     "output_type": "stream",
     "text": [
      "  Epoca 481/600 | Train Loss=2.0787 | Train Acc=96.17% | Test Acc=97.25%\n"
     ]
    },
    {
     "name": "stderr",
     "output_type": "stream",
     "text": [
      "BBB π=0.75 σ₁=1.4e-01 σ₂=2.5e-03:  80%|████████  | 482/600 [29:52<07:21,  3.74s/it]"
     ]
    },
    {
     "name": "stdout",
     "output_type": "stream",
     "text": [
      "  Epoca 482/600 | Train Loss=2.0813 | Train Acc=96.11% | Test Acc=97.44%\n"
     ]
    },
    {
     "name": "stderr",
     "output_type": "stream",
     "text": [
      "BBB π=0.75 σ₁=1.4e-01 σ₂=2.5e-03:  80%|████████  | 483/600 [29:56<07:14,  3.72s/it]"
     ]
    },
    {
     "name": "stdout",
     "output_type": "stream",
     "text": [
      "  Epoca 483/600 | Train Loss=2.0800 | Train Acc=96.01% | Test Acc=97.48%\n"
     ]
    },
    {
     "name": "stderr",
     "output_type": "stream",
     "text": [
      "BBB π=0.75 σ₁=1.4e-01 σ₂=2.5e-03:  81%|████████  | 484/600 [30:00<07:08,  3.69s/it]"
     ]
    },
    {
     "name": "stdout",
     "output_type": "stream",
     "text": [
      "  Epoca 484/600 | Train Loss=2.0817 | Train Acc=96.10% | Test Acc=97.41%\n"
     ]
    },
    {
     "name": "stderr",
     "output_type": "stream",
     "text": [
      "BBB π=0.75 σ₁=1.4e-01 σ₂=2.5e-03:  81%|████████  | 485/600 [30:03<07:05,  3.70s/it]"
     ]
    },
    {
     "name": "stdout",
     "output_type": "stream",
     "text": [
      "  Epoca 485/600 | Train Loss=2.0809 | Train Acc=96.11% | Test Acc=97.57%\n"
     ]
    },
    {
     "name": "stderr",
     "output_type": "stream",
     "text": [
      "BBB π=0.75 σ₁=1.4e-01 σ₂=2.5e-03:  81%|████████  | 486/600 [30:07<06:58,  3.67s/it]"
     ]
    },
    {
     "name": "stdout",
     "output_type": "stream",
     "text": [
      "  Epoca 486/600 | Train Loss=2.0825 | Train Acc=96.08% | Test Acc=97.37%\n"
     ]
    },
    {
     "name": "stderr",
     "output_type": "stream",
     "text": [
      "BBB π=0.75 σ₁=1.4e-01 σ₂=2.5e-03:  81%|████████  | 487/600 [30:11<06:54,  3.67s/it]"
     ]
    },
    {
     "name": "stdout",
     "output_type": "stream",
     "text": [
      "  Epoca 487/600 | Train Loss=2.0785 | Train Acc=96.10% | Test Acc=97.55%\n"
     ]
    },
    {
     "name": "stderr",
     "output_type": "stream",
     "text": [
      "BBB π=0.75 σ₁=1.4e-01 σ₂=2.5e-03:  81%|████████▏ | 488/600 [30:14<06:50,  3.66s/it]"
     ]
    },
    {
     "name": "stdout",
     "output_type": "stream",
     "text": [
      "  Epoca 488/600 | Train Loss=2.0812 | Train Acc=96.06% | Test Acc=97.38%\n"
     ]
    },
    {
     "name": "stderr",
     "output_type": "stream",
     "text": [
      "BBB π=0.75 σ₁=1.4e-01 σ₂=2.5e-03:  82%|████████▏ | 489/600 [30:18<06:43,  3.64s/it]"
     ]
    },
    {
     "name": "stdout",
     "output_type": "stream",
     "text": [
      "  Epoca 489/600 | Train Loss=2.0822 | Train Acc=96.07% | Test Acc=97.40%\n"
     ]
    },
    {
     "name": "stderr",
     "output_type": "stream",
     "text": [
      "BBB π=0.75 σ₁=1.4e-01 σ₂=2.5e-03:  82%|████████▏ | 490/600 [30:22<06:57,  3.79s/it]"
     ]
    },
    {
     "name": "stdout",
     "output_type": "stream",
     "text": [
      "  Epoca 490/600 | Train Loss=2.0812 | Train Acc=96.06% | Test Acc=97.41%\n"
     ]
    },
    {
     "name": "stderr",
     "output_type": "stream",
     "text": [
      "BBB π=0.75 σ₁=1.4e-01 σ₂=2.5e-03:  82%|████████▏ | 491/600 [30:26<06:46,  3.73s/it]"
     ]
    },
    {
     "name": "stdout",
     "output_type": "stream",
     "text": [
      "  Epoca 491/600 | Train Loss=2.0841 | Train Acc=96.06% | Test Acc=97.47%\n"
     ]
    },
    {
     "name": "stderr",
     "output_type": "stream",
     "text": [
      "BBB π=0.75 σ₁=1.4e-01 σ₂=2.5e-03:  82%|████████▏ | 492/600 [30:29<06:39,  3.70s/it]"
     ]
    },
    {
     "name": "stdout",
     "output_type": "stream",
     "text": [
      "  Epoca 492/600 | Train Loss=2.0820 | Train Acc=96.03% | Test Acc=97.29%\n"
     ]
    },
    {
     "name": "stderr",
     "output_type": "stream",
     "text": [
      "BBB π=0.75 σ₁=1.4e-01 σ₂=2.5e-03:  82%|████████▏ | 493/600 [30:33<06:37,  3.71s/it]"
     ]
    },
    {
     "name": "stdout",
     "output_type": "stream",
     "text": [
      "  Epoca 493/600 | Train Loss=2.0808 | Train Acc=96.08% | Test Acc=97.35%\n"
     ]
    },
    {
     "name": "stderr",
     "output_type": "stream",
     "text": [
      "BBB π=0.75 σ₁=1.4e-01 σ₂=2.5e-03:  82%|████████▏ | 494/600 [30:37<06:32,  3.70s/it]"
     ]
    },
    {
     "name": "stdout",
     "output_type": "stream",
     "text": [
      "  Epoca 494/600 | Train Loss=2.0780 | Train Acc=96.19% | Test Acc=97.31%\n"
     ]
    },
    {
     "name": "stderr",
     "output_type": "stream",
     "text": [
      "BBB π=0.75 σ₁=1.4e-01 σ₂=2.5e-03:  82%|████████▎ | 495/600 [30:40<06:27,  3.69s/it]"
     ]
    },
    {
     "name": "stdout",
     "output_type": "stream",
     "text": [
      "  Epoca 495/600 | Train Loss=2.0798 | Train Acc=96.06% | Test Acc=97.61%\n"
     ]
    },
    {
     "name": "stderr",
     "output_type": "stream",
     "text": [
      "BBB π=0.75 σ₁=1.4e-01 σ₂=2.5e-03:  83%|████████▎ | 496/600 [30:44<06:22,  3.68s/it]"
     ]
    },
    {
     "name": "stdout",
     "output_type": "stream",
     "text": [
      "  Epoca 496/600 | Train Loss=2.0818 | Train Acc=96.07% | Test Acc=97.48%\n"
     ]
    },
    {
     "name": "stderr",
     "output_type": "stream",
     "text": [
      "BBB π=0.75 σ₁=1.4e-01 σ₂=2.5e-03:  83%|████████▎ | 497/600 [30:48<06:23,  3.72s/it]"
     ]
    },
    {
     "name": "stdout",
     "output_type": "stream",
     "text": [
      "  Epoca 497/600 | Train Loss=2.0828 | Train Acc=95.94% | Test Acc=97.47%\n"
     ]
    },
    {
     "name": "stderr",
     "output_type": "stream",
     "text": [
      "BBB π=0.75 σ₁=1.4e-01 σ₂=2.5e-03:  83%|████████▎ | 498/600 [30:51<06:17,  3.70s/it]"
     ]
    },
    {
     "name": "stdout",
     "output_type": "stream",
     "text": [
      "  Epoca 498/600 | Train Loss=2.0811 | Train Acc=96.07% | Test Acc=97.46%\n"
     ]
    },
    {
     "name": "stderr",
     "output_type": "stream",
     "text": [
      "BBB π=0.75 σ₁=1.4e-01 σ₂=2.5e-03:  83%|████████▎ | 499/600 [30:55<06:23,  3.80s/it]"
     ]
    },
    {
     "name": "stdout",
     "output_type": "stream",
     "text": [
      "  Epoca 499/600 | Train Loss=2.0828 | Train Acc=96.00% | Test Acc=97.36%\n"
     ]
    },
    {
     "name": "stderr",
     "output_type": "stream",
     "text": [
      "BBB π=0.75 σ₁=1.4e-01 σ₂=2.5e-03:  83%|████████▎ | 500/600 [30:59<06:14,  3.75s/it]"
     ]
    },
    {
     "name": "stdout",
     "output_type": "stream",
     "text": [
      "  Epoca 500/600 | Train Loss=2.0813 | Train Acc=96.01% | Test Acc=97.41%\n"
     ]
    },
    {
     "name": "stderr",
     "output_type": "stream",
     "text": [
      "BBB π=0.75 σ₁=1.4e-01 σ₂=2.5e-03:  84%|████████▎ | 501/600 [31:03<06:09,  3.73s/it]"
     ]
    },
    {
     "name": "stdout",
     "output_type": "stream",
     "text": [
      "  Epoca 501/600 | Train Loss=2.0789 | Train Acc=96.19% | Test Acc=97.54%\n"
     ]
    },
    {
     "name": "stderr",
     "output_type": "stream",
     "text": [
      "BBB π=0.75 σ₁=1.4e-01 σ₂=2.5e-03:  84%|████████▎ | 502/600 [31:06<06:02,  3.70s/it]"
     ]
    },
    {
     "name": "stdout",
     "output_type": "stream",
     "text": [
      "  Epoca 502/600 | Train Loss=2.0789 | Train Acc=96.16% | Test Acc=97.32%\n"
     ]
    },
    {
     "name": "stderr",
     "output_type": "stream",
     "text": [
      "BBB π=0.75 σ₁=1.4e-01 σ₂=2.5e-03:  84%|████████▍ | 503/600 [31:10<05:57,  3.69s/it]"
     ]
    },
    {
     "name": "stdout",
     "output_type": "stream",
     "text": [
      "  Epoca 503/600 | Train Loss=2.0752 | Train Acc=96.12% | Test Acc=97.43%\n"
     ]
    },
    {
     "name": "stderr",
     "output_type": "stream",
     "text": [
      "BBB π=0.75 σ₁=1.4e-01 σ₂=2.5e-03:  84%|████████▍ | 504/600 [31:14<05:53,  3.68s/it]"
     ]
    },
    {
     "name": "stdout",
     "output_type": "stream",
     "text": [
      "  Epoca 504/600 | Train Loss=2.0777 | Train Acc=96.12% | Test Acc=97.41%\n"
     ]
    },
    {
     "name": "stderr",
     "output_type": "stream",
     "text": [
      "BBB π=0.75 σ₁=1.4e-01 σ₂=2.5e-03:  84%|████████▍ | 505/600 [31:17<05:48,  3.67s/it]"
     ]
    },
    {
     "name": "stdout",
     "output_type": "stream",
     "text": [
      "  Epoca 505/600 | Train Loss=2.0758 | Train Acc=96.24% | Test Acc=97.32%\n"
     ]
    },
    {
     "name": "stderr",
     "output_type": "stream",
     "text": [
      "BBB π=0.75 σ₁=1.4e-01 σ₂=2.5e-03:  84%|████████▍ | 506/600 [31:21<05:43,  3.66s/it]"
     ]
    },
    {
     "name": "stdout",
     "output_type": "stream",
     "text": [
      "  Epoca 506/600 | Train Loss=2.0780 | Train Acc=96.16% | Test Acc=97.38%\n"
     ]
    },
    {
     "name": "stderr",
     "output_type": "stream",
     "text": [
      "BBB π=0.75 σ₁=1.4e-01 σ₂=2.5e-03:  84%|████████▍ | 507/600 [31:25<05:40,  3.66s/it]"
     ]
    },
    {
     "name": "stdout",
     "output_type": "stream",
     "text": [
      "  Epoca 507/600 | Train Loss=2.0825 | Train Acc=96.03% | Test Acc=97.52%\n"
     ]
    },
    {
     "name": "stderr",
     "output_type": "stream",
     "text": [
      "BBB π=0.75 σ₁=1.4e-01 σ₂=2.5e-03:  85%|████████▍ | 508/600 [31:29<05:47,  3.78s/it]"
     ]
    },
    {
     "name": "stdout",
     "output_type": "stream",
     "text": [
      "  Epoca 508/600 | Train Loss=2.0792 | Train Acc=96.12% | Test Acc=97.45%\n"
     ]
    },
    {
     "name": "stderr",
     "output_type": "stream",
     "text": [
      "BBB π=0.75 σ₁=1.4e-01 σ₂=2.5e-03:  85%|████████▍ | 509/600 [31:32<05:40,  3.74s/it]"
     ]
    },
    {
     "name": "stdout",
     "output_type": "stream",
     "text": [
      "  Epoca 509/600 | Train Loss=2.0802 | Train Acc=96.06% | Test Acc=97.55%\n"
     ]
    },
    {
     "name": "stderr",
     "output_type": "stream",
     "text": [
      "BBB π=0.75 σ₁=1.4e-01 σ₂=2.5e-03:  85%|████████▌ | 510/600 [31:36<05:34,  3.71s/it]"
     ]
    },
    {
     "name": "stdout",
     "output_type": "stream",
     "text": [
      "  Epoca 510/600 | Train Loss=2.0738 | Train Acc=96.31% | Test Acc=97.56%\n"
     ]
    },
    {
     "name": "stderr",
     "output_type": "stream",
     "text": [
      "BBB π=0.75 σ₁=1.4e-01 σ₂=2.5e-03:  85%|████████▌ | 511/600 [31:40<05:28,  3.69s/it]"
     ]
    },
    {
     "name": "stdout",
     "output_type": "stream",
     "text": [
      "  Epoca 511/600 | Train Loss=2.0835 | Train Acc=95.98% | Test Acc=97.25%\n"
     ]
    },
    {
     "name": "stderr",
     "output_type": "stream",
     "text": [
      "BBB π=0.75 σ₁=1.4e-01 σ₂=2.5e-03:  85%|████████▌ | 512/600 [31:43<05:24,  3.68s/it]"
     ]
    },
    {
     "name": "stdout",
     "output_type": "stream",
     "text": [
      "  Epoca 512/600 | Train Loss=2.0757 | Train Acc=96.19% | Test Acc=97.53%\n"
     ]
    },
    {
     "name": "stderr",
     "output_type": "stream",
     "text": [
      "BBB π=0.75 σ₁=1.4e-01 σ₂=2.5e-03:  86%|████████▌ | 513/600 [31:47<05:20,  3.68s/it]"
     ]
    },
    {
     "name": "stdout",
     "output_type": "stream",
     "text": [
      "  Epoca 513/600 | Train Loss=2.0791 | Train Acc=96.17% | Test Acc=97.46%\n"
     ]
    },
    {
     "name": "stderr",
     "output_type": "stream",
     "text": [
      "BBB π=0.75 σ₁=1.4e-01 σ₂=2.5e-03:  86%|████████▌ | 514/600 [31:51<05:16,  3.68s/it]"
     ]
    },
    {
     "name": "stdout",
     "output_type": "stream",
     "text": [
      "  Epoca 514/600 | Train Loss=2.0810 | Train Acc=96.03% | Test Acc=97.38%\n"
     ]
    },
    {
     "name": "stderr",
     "output_type": "stream",
     "text": [
      "BBB π=0.75 σ₁=1.4e-01 σ₂=2.5e-03:  86%|████████▌ | 515/600 [31:54<05:12,  3.67s/it]"
     ]
    },
    {
     "name": "stdout",
     "output_type": "stream",
     "text": [
      "  Epoca 515/600 | Train Loss=2.0813 | Train Acc=95.99% | Test Acc=97.63%\n"
     ]
    },
    {
     "name": "stderr",
     "output_type": "stream",
     "text": [
      "BBB π=0.75 σ₁=1.4e-01 σ₂=2.5e-03:  86%|████████▌ | 516/600 [31:58<05:11,  3.71s/it]"
     ]
    },
    {
     "name": "stdout",
     "output_type": "stream",
     "text": [
      "  Epoca 516/600 | Train Loss=2.0788 | Train Acc=96.11% | Test Acc=97.66%\n"
     ]
    },
    {
     "name": "stderr",
     "output_type": "stream",
     "text": [
      "BBB π=0.75 σ₁=1.4e-01 σ₂=2.5e-03:  86%|████████▌ | 517/600 [32:02<05:11,  3.75s/it]"
     ]
    },
    {
     "name": "stdout",
     "output_type": "stream",
     "text": [
      "  Epoca 517/600 | Train Loss=2.0750 | Train Acc=96.17% | Test Acc=97.49%\n"
     ]
    },
    {
     "name": "stderr",
     "output_type": "stream",
     "text": [
      "BBB π=0.75 σ₁=1.4e-01 σ₂=2.5e-03:  86%|████████▋ | 518/600 [32:06<05:04,  3.72s/it]"
     ]
    },
    {
     "name": "stdout",
     "output_type": "stream",
     "text": [
      "  Epoca 518/600 | Train Loss=2.0803 | Train Acc=96.10% | Test Acc=97.36%\n"
     ]
    },
    {
     "name": "stderr",
     "output_type": "stream",
     "text": [
      "BBB π=0.75 σ₁=1.4e-01 σ₂=2.5e-03:  86%|████████▋ | 519/600 [32:09<04:59,  3.69s/it]"
     ]
    },
    {
     "name": "stdout",
     "output_type": "stream",
     "text": [
      "  Epoca 519/600 | Train Loss=2.0801 | Train Acc=96.17% | Test Acc=97.61%\n"
     ]
    },
    {
     "name": "stderr",
     "output_type": "stream",
     "text": [
      "BBB π=0.75 σ₁=1.4e-01 σ₂=2.5e-03:  87%|████████▋ | 520/600 [32:13<04:55,  3.69s/it]"
     ]
    },
    {
     "name": "stdout",
     "output_type": "stream",
     "text": [
      "  Epoca 520/600 | Train Loss=2.0802 | Train Acc=95.98% | Test Acc=97.49%\n"
     ]
    },
    {
     "name": "stderr",
     "output_type": "stream",
     "text": [
      "BBB π=0.75 σ₁=1.4e-01 σ₂=2.5e-03:  87%|████████▋ | 521/600 [32:17<04:50,  3.68s/it]"
     ]
    },
    {
     "name": "stdout",
     "output_type": "stream",
     "text": [
      "  Epoca 521/600 | Train Loss=2.0790 | Train Acc=96.16% | Test Acc=97.49%\n"
     ]
    },
    {
     "name": "stderr",
     "output_type": "stream",
     "text": [
      "BBB π=0.75 σ₁=1.4e-01 σ₂=2.5e-03:  87%|████████▋ | 522/600 [32:20<04:45,  3.66s/it]"
     ]
    },
    {
     "name": "stdout",
     "output_type": "stream",
     "text": [
      "  Epoca 522/600 | Train Loss=2.0804 | Train Acc=96.10% | Test Acc=97.45%\n"
     ]
    },
    {
     "name": "stderr",
     "output_type": "stream",
     "text": [
      "BBB π=0.75 σ₁=1.4e-01 σ₂=2.5e-03:  87%|████████▋ | 523/600 [32:24<04:42,  3.67s/it]"
     ]
    },
    {
     "name": "stdout",
     "output_type": "stream",
     "text": [
      "  Epoca 523/600 | Train Loss=2.0837 | Train Acc=95.98% | Test Acc=97.39%\n"
     ]
    },
    {
     "name": "stderr",
     "output_type": "stream",
     "text": [
      "BBB π=0.75 σ₁=1.4e-01 σ₂=2.5e-03:  87%|████████▋ | 524/600 [32:28<04:37,  3.65s/it]"
     ]
    },
    {
     "name": "stdout",
     "output_type": "stream",
     "text": [
      "  Epoca 524/600 | Train Loss=2.0768 | Train Acc=96.19% | Test Acc=97.46%\n"
     ]
    },
    {
     "name": "stderr",
     "output_type": "stream",
     "text": [
      "BBB π=0.75 σ₁=1.4e-01 σ₂=2.5e-03:  88%|████████▊ | 525/600 [32:32<04:43,  3.78s/it]"
     ]
    },
    {
     "name": "stdout",
     "output_type": "stream",
     "text": [
      "  Epoca 525/600 | Train Loss=2.0779 | Train Acc=96.13% | Test Acc=97.46%\n"
     ]
    },
    {
     "name": "stderr",
     "output_type": "stream",
     "text": [
      "BBB π=0.75 σ₁=1.4e-01 σ₂=2.5e-03:  88%|████████▊ | 526/600 [32:35<04:36,  3.73s/it]"
     ]
    },
    {
     "name": "stdout",
     "output_type": "stream",
     "text": [
      "  Epoca 526/600 | Train Loss=2.0814 | Train Acc=96.05% | Test Acc=97.52%\n"
     ]
    },
    {
     "name": "stderr",
     "output_type": "stream",
     "text": [
      "BBB π=0.75 σ₁=1.4e-01 σ₂=2.5e-03:  88%|████████▊ | 527/600 [32:39<04:30,  3.70s/it]"
     ]
    },
    {
     "name": "stdout",
     "output_type": "stream",
     "text": [
      "  Epoca 527/600 | Train Loss=2.0784 | Train Acc=96.23% | Test Acc=97.35%\n"
     ]
    },
    {
     "name": "stderr",
     "output_type": "stream",
     "text": [
      "BBB π=0.75 σ₁=1.4e-01 σ₂=2.5e-03:  88%|████████▊ | 528/600 [32:43<04:25,  3.69s/it]"
     ]
    },
    {
     "name": "stdout",
     "output_type": "stream",
     "text": [
      "  Epoca 528/600 | Train Loss=2.0809 | Train Acc=96.06% | Test Acc=97.60%\n"
     ]
    },
    {
     "name": "stderr",
     "output_type": "stream",
     "text": [
      "BBB π=0.75 σ₁=1.4e-01 σ₂=2.5e-03:  88%|████████▊ | 529/600 [32:46<04:20,  3.66s/it]"
     ]
    },
    {
     "name": "stdout",
     "output_type": "stream",
     "text": [
      "  Epoca 529/600 | Train Loss=2.0800 | Train Acc=96.20% | Test Acc=97.44%\n"
     ]
    },
    {
     "name": "stderr",
     "output_type": "stream",
     "text": [
      "BBB π=0.75 σ₁=1.4e-01 σ₂=2.5e-03:  88%|████████▊ | 530/600 [32:50<04:15,  3.65s/it]"
     ]
    },
    {
     "name": "stdout",
     "output_type": "stream",
     "text": [
      "  Epoca 530/600 | Train Loss=2.0761 | Train Acc=96.17% | Test Acc=97.49%\n"
     ]
    },
    {
     "name": "stderr",
     "output_type": "stream",
     "text": [
      "BBB π=0.75 σ₁=1.4e-01 σ₂=2.5e-03:  88%|████████▊ | 531/600 [32:53<04:12,  3.66s/it]"
     ]
    },
    {
     "name": "stdout",
     "output_type": "stream",
     "text": [
      "  Epoca 531/600 | Train Loss=2.0825 | Train Acc=95.99% | Test Acc=97.57%\n"
     ]
    },
    {
     "name": "stderr",
     "output_type": "stream",
     "text": [
      "BBB π=0.75 σ₁=1.4e-01 σ₂=2.5e-03:  89%|████████▊ | 532/600 [32:57<04:07,  3.64s/it]"
     ]
    },
    {
     "name": "stdout",
     "output_type": "stream",
     "text": [
      "  Epoca 532/600 | Train Loss=2.0761 | Train Acc=96.31% | Test Acc=97.51%\n"
     ]
    },
    {
     "name": "stderr",
     "output_type": "stream",
     "text": [
      "BBB π=0.75 σ₁=1.4e-01 σ₂=2.5e-03:  89%|████████▉ | 533/600 [33:01<04:03,  3.63s/it]"
     ]
    },
    {
     "name": "stdout",
     "output_type": "stream",
     "text": [
      "  Epoca 533/600 | Train Loss=2.0749 | Train Acc=96.20% | Test Acc=97.62%\n"
     ]
    },
    {
     "name": "stderr",
     "output_type": "stream",
     "text": [
      "BBB π=0.75 σ₁=1.4e-01 σ₂=2.5e-03:  89%|████████▉ | 534/600 [33:05<04:07,  3.75s/it]"
     ]
    },
    {
     "name": "stdout",
     "output_type": "stream",
     "text": [
      "  Epoca 534/600 | Train Loss=2.0786 | Train Acc=96.15% | Test Acc=97.74%\n"
     ]
    },
    {
     "name": "stderr",
     "output_type": "stream",
     "text": [
      "BBB π=0.75 σ₁=1.4e-01 σ₂=2.5e-03:  89%|████████▉ | 535/600 [33:08<04:02,  3.73s/it]"
     ]
    },
    {
     "name": "stdout",
     "output_type": "stream",
     "text": [
      "  Epoca 535/600 | Train Loss=2.0783 | Train Acc=96.11% | Test Acc=97.64%\n"
     ]
    },
    {
     "name": "stderr",
     "output_type": "stream",
     "text": [
      "BBB π=0.75 σ₁=1.4e-01 σ₂=2.5e-03:  89%|████████▉ | 536/600 [33:12<03:57,  3.71s/it]"
     ]
    },
    {
     "name": "stdout",
     "output_type": "stream",
     "text": [
      "  Epoca 536/600 | Train Loss=2.0786 | Train Acc=96.06% | Test Acc=97.46%\n"
     ]
    },
    {
     "name": "stderr",
     "output_type": "stream",
     "text": [
      "BBB π=0.75 σ₁=1.4e-01 σ₂=2.5e-03:  90%|████████▉ | 537/600 [33:16<03:51,  3.67s/it]"
     ]
    },
    {
     "name": "stdout",
     "output_type": "stream",
     "text": [
      "  Epoca 537/600 | Train Loss=2.0766 | Train Acc=96.12% | Test Acc=97.37%\n"
     ]
    },
    {
     "name": "stderr",
     "output_type": "stream",
     "text": [
      "BBB π=0.75 σ₁=1.4e-01 σ₂=2.5e-03:  90%|████████▉ | 538/600 [33:19<03:46,  3.65s/it]"
     ]
    },
    {
     "name": "stdout",
     "output_type": "stream",
     "text": [
      "  Epoca 538/600 | Train Loss=2.0761 | Train Acc=96.14% | Test Acc=97.38%\n"
     ]
    },
    {
     "name": "stderr",
     "output_type": "stream",
     "text": [
      "BBB π=0.75 σ₁=1.4e-01 σ₂=2.5e-03:  90%|████████▉ | 539/600 [33:23<03:43,  3.66s/it]"
     ]
    },
    {
     "name": "stdout",
     "output_type": "stream",
     "text": [
      "  Epoca 539/600 | Train Loss=2.0780 | Train Acc=96.09% | Test Acc=97.56%\n"
     ]
    },
    {
     "name": "stderr",
     "output_type": "stream",
     "text": [
      "BBB π=0.75 σ₁=1.4e-01 σ₂=2.5e-03:  90%|█████████ | 540/600 [33:27<03:38,  3.65s/it]"
     ]
    },
    {
     "name": "stdout",
     "output_type": "stream",
     "text": [
      "  Epoca 540/600 | Train Loss=2.0817 | Train Acc=96.04% | Test Acc=97.55%\n"
     ]
    },
    {
     "name": "stderr",
     "output_type": "stream",
     "text": [
      "BBB π=0.75 σ₁=1.4e-01 σ₂=2.5e-03:  90%|█████████ | 541/600 [33:30<03:35,  3.66s/it]"
     ]
    },
    {
     "name": "stdout",
     "output_type": "stream",
     "text": [
      "  Epoca 541/600 | Train Loss=2.0730 | Train Acc=96.26% | Test Acc=97.51%\n"
     ]
    },
    {
     "name": "stderr",
     "output_type": "stream",
     "text": [
      "BBB π=0.75 σ₁=1.4e-01 σ₂=2.5e-03:  90%|█████████ | 542/600 [33:34<03:31,  3.65s/it]"
     ]
    },
    {
     "name": "stdout",
     "output_type": "stream",
     "text": [
      "  Epoca 542/600 | Train Loss=2.0744 | Train Acc=96.16% | Test Acc=97.60%\n"
     ]
    },
    {
     "name": "stderr",
     "output_type": "stream",
     "text": [
      "BBB π=0.75 σ₁=1.4e-01 σ₂=2.5e-03:  90%|█████████ | 543/600 [33:38<03:34,  3.77s/it]"
     ]
    },
    {
     "name": "stdout",
     "output_type": "stream",
     "text": [
      "  Epoca 543/600 | Train Loss=2.0778 | Train Acc=96.05% | Test Acc=97.55%\n"
     ]
    },
    {
     "name": "stderr",
     "output_type": "stream",
     "text": [
      "BBB π=0.75 σ₁=1.4e-01 σ₂=2.5e-03:  91%|█████████ | 544/600 [33:42<03:29,  3.75s/it]"
     ]
    },
    {
     "name": "stdout",
     "output_type": "stream",
     "text": [
      "  Epoca 544/600 | Train Loss=2.0753 | Train Acc=96.23% | Test Acc=97.53%\n"
     ]
    },
    {
     "name": "stderr",
     "output_type": "stream",
     "text": [
      "BBB π=0.75 σ₁=1.4e-01 σ₂=2.5e-03:  91%|█████████ | 545/600 [33:45<03:23,  3.70s/it]"
     ]
    },
    {
     "name": "stdout",
     "output_type": "stream",
     "text": [
      "  Epoca 545/600 | Train Loss=2.0719 | Train Acc=96.27% | Test Acc=97.39%\n"
     ]
    },
    {
     "name": "stderr",
     "output_type": "stream",
     "text": [
      "BBB π=0.75 σ₁=1.4e-01 σ₂=2.5e-03:  91%|█████████ | 546/600 [33:49<03:18,  3.67s/it]"
     ]
    },
    {
     "name": "stdout",
     "output_type": "stream",
     "text": [
      "  Epoca 546/600 | Train Loss=2.0732 | Train Acc=96.19% | Test Acc=97.67%\n"
     ]
    },
    {
     "name": "stderr",
     "output_type": "stream",
     "text": [
      "BBB π=0.75 σ₁=1.4e-01 σ₂=2.5e-03:  91%|█████████ | 547/600 [33:52<03:14,  3.66s/it]"
     ]
    },
    {
     "name": "stdout",
     "output_type": "stream",
     "text": [
      "  Epoca 547/600 | Train Loss=2.0732 | Train Acc=96.16% | Test Acc=97.58%\n"
     ]
    },
    {
     "name": "stderr",
     "output_type": "stream",
     "text": [
      "BBB π=0.75 σ₁=1.4e-01 σ₂=2.5e-03:  91%|█████████▏| 548/600 [33:56<03:09,  3.65s/it]"
     ]
    },
    {
     "name": "stdout",
     "output_type": "stream",
     "text": [
      "  Epoca 548/600 | Train Loss=2.0771 | Train Acc=96.05% | Test Acc=97.50%\n"
     ]
    },
    {
     "name": "stderr",
     "output_type": "stream",
     "text": [
      "BBB π=0.75 σ₁=1.4e-01 σ₂=2.5e-03:  92%|█████████▏| 549/600 [34:00<03:05,  3.64s/it]"
     ]
    },
    {
     "name": "stdout",
     "output_type": "stream",
     "text": [
      "  Epoca 549/600 | Train Loss=2.0790 | Train Acc=96.07% | Test Acc=97.57%\n"
     ]
    },
    {
     "name": "stderr",
     "output_type": "stream",
     "text": [
      "BBB π=0.75 σ₁=1.4e-01 σ₂=2.5e-03:  92%|█████████▏| 550/600 [34:03<03:02,  3.64s/it]"
     ]
    },
    {
     "name": "stdout",
     "output_type": "stream",
     "text": [
      "  Epoca 550/600 | Train Loss=2.0739 | Train Acc=96.19% | Test Acc=97.61%\n"
     ]
    },
    {
     "name": "stderr",
     "output_type": "stream",
     "text": [
      "BBB π=0.75 σ₁=1.4e-01 σ₂=2.5e-03:  92%|█████████▏| 551/600 [34:07<02:57,  3.63s/it]"
     ]
    },
    {
     "name": "stdout",
     "output_type": "stream",
     "text": [
      "  Epoca 551/600 | Train Loss=2.0780 | Train Acc=96.17% | Test Acc=97.54%\n"
     ]
    },
    {
     "name": "stderr",
     "output_type": "stream",
     "text": [
      "BBB π=0.75 σ₁=1.4e-01 σ₂=2.5e-03:  92%|█████████▏| 552/600 [34:11<03:00,  3.77s/it]"
     ]
    },
    {
     "name": "stdout",
     "output_type": "stream",
     "text": [
      "  Epoca 552/600 | Train Loss=2.0729 | Train Acc=96.26% | Test Acc=97.47%\n"
     ]
    },
    {
     "name": "stderr",
     "output_type": "stream",
     "text": [
      "BBB π=0.75 σ₁=1.4e-01 σ₂=2.5e-03:  92%|█████████▏| 553/600 [34:15<02:56,  3.75s/it]"
     ]
    },
    {
     "name": "stdout",
     "output_type": "stream",
     "text": [
      "  Epoca 553/600 | Train Loss=2.0764 | Train Acc=96.18% | Test Acc=97.58%\n"
     ]
    },
    {
     "name": "stderr",
     "output_type": "stream",
     "text": [
      "BBB π=0.75 σ₁=1.4e-01 σ₂=2.5e-03:  92%|█████████▏| 554/600 [34:18<02:51,  3.72s/it]"
     ]
    },
    {
     "name": "stdout",
     "output_type": "stream",
     "text": [
      "  Epoca 554/600 | Train Loss=2.0768 | Train Acc=96.15% | Test Acc=97.69%\n"
     ]
    },
    {
     "name": "stderr",
     "output_type": "stream",
     "text": [
      "BBB π=0.75 σ₁=1.4e-01 σ₂=2.5e-03:  92%|█████████▎| 555/600 [34:22<02:47,  3.72s/it]"
     ]
    },
    {
     "name": "stdout",
     "output_type": "stream",
     "text": [
      "  Epoca 555/600 | Train Loss=2.0760 | Train Acc=96.04% | Test Acc=97.51%\n"
     ]
    },
    {
     "name": "stderr",
     "output_type": "stream",
     "text": [
      "BBB π=0.75 σ₁=1.4e-01 σ₂=2.5e-03:  93%|█████████▎| 556/600 [34:26<02:42,  3.70s/it]"
     ]
    },
    {
     "name": "stdout",
     "output_type": "stream",
     "text": [
      "  Epoca 556/600 | Train Loss=2.0764 | Train Acc=96.12% | Test Acc=97.38%\n"
     ]
    },
    {
     "name": "stderr",
     "output_type": "stream",
     "text": [
      "BBB π=0.75 σ₁=1.4e-01 σ₂=2.5e-03:  93%|█████████▎| 557/600 [34:29<02:38,  3.68s/it]"
     ]
    },
    {
     "name": "stdout",
     "output_type": "stream",
     "text": [
      "  Epoca 557/600 | Train Loss=2.0772 | Train Acc=96.08% | Test Acc=97.50%\n"
     ]
    },
    {
     "name": "stderr",
     "output_type": "stream",
     "text": [
      "BBB π=0.75 σ₁=1.4e-01 σ₂=2.5e-03:  93%|█████████▎| 558/600 [34:33<02:35,  3.71s/it]"
     ]
    },
    {
     "name": "stdout",
     "output_type": "stream",
     "text": [
      "  Epoca 558/600 | Train Loss=2.0767 | Train Acc=96.18% | Test Acc=97.65%\n"
     ]
    },
    {
     "name": "stderr",
     "output_type": "stream",
     "text": [
      "BBB π=0.75 σ₁=1.4e-01 σ₂=2.5e-03:  93%|█████████▎| 559/600 [34:37<02:31,  3.69s/it]"
     ]
    },
    {
     "name": "stdout",
     "output_type": "stream",
     "text": [
      "  Epoca 559/600 | Train Loss=2.0738 | Train Acc=96.16% | Test Acc=97.40%\n"
     ]
    },
    {
     "name": "stderr",
     "output_type": "stream",
     "text": [
      "BBB π=0.75 σ₁=1.4e-01 σ₂=2.5e-03:  93%|█████████▎| 560/600 [34:41<02:29,  3.74s/it]"
     ]
    },
    {
     "name": "stdout",
     "output_type": "stream",
     "text": [
      "  Epoca 560/600 | Train Loss=2.0760 | Train Acc=96.11% | Test Acc=97.40%\n"
     ]
    },
    {
     "name": "stderr",
     "output_type": "stream",
     "text": [
      "BBB π=0.75 σ₁=1.4e-01 σ₂=2.5e-03:  94%|█████████▎| 561/600 [34:45<02:27,  3.79s/it]"
     ]
    },
    {
     "name": "stdout",
     "output_type": "stream",
     "text": [
      "  Epoca 561/600 | Train Loss=2.0759 | Train Acc=96.11% | Test Acc=97.48%\n"
     ]
    },
    {
     "name": "stderr",
     "output_type": "stream",
     "text": [
      "BBB π=0.75 σ₁=1.4e-01 σ₂=2.5e-03:  94%|█████████▎| 562/600 [34:48<02:22,  3.74s/it]"
     ]
    },
    {
     "name": "stdout",
     "output_type": "stream",
     "text": [
      "  Epoca 562/600 | Train Loss=2.0751 | Train Acc=96.23% | Test Acc=97.43%\n"
     ]
    },
    {
     "name": "stderr",
     "output_type": "stream",
     "text": [
      "BBB π=0.75 σ₁=1.4e-01 σ₂=2.5e-03:  94%|█████████▍| 563/600 [34:52<02:17,  3.73s/it]"
     ]
    },
    {
     "name": "stdout",
     "output_type": "stream",
     "text": [
      "  Epoca 563/600 | Train Loss=2.0702 | Train Acc=96.26% | Test Acc=97.45%\n"
     ]
    },
    {
     "name": "stderr",
     "output_type": "stream",
     "text": [
      "BBB π=0.75 σ₁=1.4e-01 σ₂=2.5e-03:  94%|█████████▍| 564/600 [34:55<02:13,  3.70s/it]"
     ]
    },
    {
     "name": "stdout",
     "output_type": "stream",
     "text": [
      "  Epoca 564/600 | Train Loss=2.0740 | Train Acc=96.25% | Test Acc=97.56%\n"
     ]
    },
    {
     "name": "stderr",
     "output_type": "stream",
     "text": [
      "BBB π=0.75 σ₁=1.4e-01 σ₂=2.5e-03:  94%|█████████▍| 565/600 [34:59<02:08,  3.68s/it]"
     ]
    },
    {
     "name": "stdout",
     "output_type": "stream",
     "text": [
      "  Epoca 565/600 | Train Loss=2.0766 | Train Acc=96.17% | Test Acc=97.40%\n"
     ]
    },
    {
     "name": "stderr",
     "output_type": "stream",
     "text": [
      "BBB π=0.75 σ₁=1.4e-01 σ₂=2.5e-03:  94%|█████████▍| 566/600 [35:03<02:05,  3.68s/it]"
     ]
    },
    {
     "name": "stdout",
     "output_type": "stream",
     "text": [
      "  Epoca 566/600 | Train Loss=2.0789 | Train Acc=96.06% | Test Acc=97.37%\n"
     ]
    },
    {
     "name": "stderr",
     "output_type": "stream",
     "text": [
      "BBB π=0.75 σ₁=1.4e-01 σ₂=2.5e-03:  94%|█████████▍| 567/600 [35:07<02:01,  3.68s/it]"
     ]
    },
    {
     "name": "stdout",
     "output_type": "stream",
     "text": [
      "  Epoca 567/600 | Train Loss=2.0782 | Train Acc=96.07% | Test Acc=97.58%\n"
     ]
    },
    {
     "name": "stderr",
     "output_type": "stream",
     "text": [
      "BBB π=0.75 σ₁=1.4e-01 σ₂=2.5e-03:  95%|█████████▍| 568/600 [35:10<01:57,  3.68s/it]"
     ]
    },
    {
     "name": "stdout",
     "output_type": "stream",
     "text": [
      "  Epoca 568/600 | Train Loss=2.0779 | Train Acc=96.10% | Test Acc=97.36%\n"
     ]
    },
    {
     "name": "stderr",
     "output_type": "stream",
     "text": [
      "BBB π=0.75 σ₁=1.4e-01 σ₂=2.5e-03:  95%|█████████▍| 569/600 [35:14<01:58,  3.81s/it]"
     ]
    },
    {
     "name": "stdout",
     "output_type": "stream",
     "text": [
      "  Epoca 569/600 | Train Loss=2.0746 | Train Acc=96.12% | Test Acc=97.46%\n"
     ]
    },
    {
     "name": "stderr",
     "output_type": "stream",
     "text": [
      "BBB π=0.75 σ₁=1.4e-01 σ₂=2.5e-03:  95%|█████████▌| 570/600 [35:18<01:52,  3.77s/it]"
     ]
    },
    {
     "name": "stdout",
     "output_type": "stream",
     "text": [
      "  Epoca 570/600 | Train Loss=2.0807 | Train Acc=95.99% | Test Acc=97.24%\n"
     ]
    },
    {
     "name": "stderr",
     "output_type": "stream",
     "text": [
      "BBB π=0.75 σ₁=1.4e-01 σ₂=2.5e-03:  95%|█████████▌| 571/600 [35:22<01:48,  3.76s/it]"
     ]
    },
    {
     "name": "stdout",
     "output_type": "stream",
     "text": [
      "  Epoca 571/600 | Train Loss=2.0783 | Train Acc=96.08% | Test Acc=97.48%\n"
     ]
    },
    {
     "name": "stderr",
     "output_type": "stream",
     "text": [
      "BBB π=0.75 σ₁=1.4e-01 σ₂=2.5e-03:  95%|█████████▌| 572/600 [35:25<01:44,  3.72s/it]"
     ]
    },
    {
     "name": "stdout",
     "output_type": "stream",
     "text": [
      "  Epoca 572/600 | Train Loss=2.0746 | Train Acc=96.19% | Test Acc=97.49%\n"
     ]
    },
    {
     "name": "stderr",
     "output_type": "stream",
     "text": [
      "BBB π=0.75 σ₁=1.4e-01 σ₂=2.5e-03:  96%|█████████▌| 573/600 [35:29<01:39,  3.70s/it]"
     ]
    },
    {
     "name": "stdout",
     "output_type": "stream",
     "text": [
      "  Epoca 573/600 | Train Loss=2.0751 | Train Acc=96.13% | Test Acc=97.52%\n"
     ]
    },
    {
     "name": "stderr",
     "output_type": "stream",
     "text": [
      "BBB π=0.75 σ₁=1.4e-01 σ₂=2.5e-03:  96%|█████████▌| 574/600 [35:33<01:36,  3.70s/it]"
     ]
    },
    {
     "name": "stdout",
     "output_type": "stream",
     "text": [
      "  Epoca 574/600 | Train Loss=2.0785 | Train Acc=96.10% | Test Acc=97.36%\n"
     ]
    },
    {
     "name": "stderr",
     "output_type": "stream",
     "text": [
      "BBB π=0.75 σ₁=1.4e-01 σ₂=2.5e-03:  96%|█████████▌| 575/600 [35:36<01:32,  3.69s/it]"
     ]
    },
    {
     "name": "stdout",
     "output_type": "stream",
     "text": [
      "  Epoca 575/600 | Train Loss=2.0742 | Train Acc=96.21% | Test Acc=97.50%\n"
     ]
    },
    {
     "name": "stderr",
     "output_type": "stream",
     "text": [
      "BBB π=0.75 σ₁=1.4e-01 σ₂=2.5e-03:  96%|█████████▌| 576/600 [35:40<01:28,  3.69s/it]"
     ]
    },
    {
     "name": "stdout",
     "output_type": "stream",
     "text": [
      "  Epoca 576/600 | Train Loss=2.0805 | Train Acc=96.09% | Test Acc=97.60%\n"
     ]
    },
    {
     "name": "stderr",
     "output_type": "stream",
     "text": [
      "BBB π=0.75 σ₁=1.4e-01 σ₂=2.5e-03:  96%|█████████▌| 577/600 [35:44<01:25,  3.70s/it]"
     ]
    },
    {
     "name": "stdout",
     "output_type": "stream",
     "text": [
      "  Epoca 577/600 | Train Loss=2.0755 | Train Acc=96.09% | Test Acc=97.46%\n"
     ]
    },
    {
     "name": "stderr",
     "output_type": "stream",
     "text": [
      "BBB π=0.75 σ₁=1.4e-01 σ₂=2.5e-03:  96%|█████████▋| 578/600 [35:48<01:23,  3.81s/it]"
     ]
    },
    {
     "name": "stdout",
     "output_type": "stream",
     "text": [
      "  Epoca 578/600 | Train Loss=2.0800 | Train Acc=95.99% | Test Acc=97.55%\n"
     ]
    },
    {
     "name": "stderr",
     "output_type": "stream",
     "text": [
      "BBB π=0.75 σ₁=1.4e-01 σ₂=2.5e-03:  96%|█████████▋| 579/600 [35:51<01:19,  3.77s/it]"
     ]
    },
    {
     "name": "stdout",
     "output_type": "stream",
     "text": [
      "  Epoca 579/600 | Train Loss=2.0759 | Train Acc=96.11% | Test Acc=97.50%\n"
     ]
    },
    {
     "name": "stderr",
     "output_type": "stream",
     "text": [
      "BBB π=0.75 σ₁=1.4e-01 σ₂=2.5e-03:  97%|█████████▋| 580/600 [35:55<01:14,  3.74s/it]"
     ]
    },
    {
     "name": "stdout",
     "output_type": "stream",
     "text": [
      "  Epoca 580/600 | Train Loss=2.0757 | Train Acc=96.16% | Test Acc=97.38%\n"
     ]
    },
    {
     "name": "stderr",
     "output_type": "stream",
     "text": [
      "BBB π=0.75 σ₁=1.4e-01 σ₂=2.5e-03:  97%|█████████▋| 581/600 [35:59<01:10,  3.71s/it]"
     ]
    },
    {
     "name": "stdout",
     "output_type": "stream",
     "text": [
      "  Epoca 581/600 | Train Loss=2.0751 | Train Acc=96.28% | Test Acc=97.49%\n"
     ]
    },
    {
     "name": "stderr",
     "output_type": "stream",
     "text": [
      "BBB π=0.75 σ₁=1.4e-01 σ₂=2.5e-03:  97%|█████████▋| 582/600 [36:02<01:06,  3.71s/it]"
     ]
    },
    {
     "name": "stdout",
     "output_type": "stream",
     "text": [
      "  Epoca 582/600 | Train Loss=2.0734 | Train Acc=96.15% | Test Acc=97.52%\n"
     ]
    },
    {
     "name": "stderr",
     "output_type": "stream",
     "text": [
      "BBB π=0.75 σ₁=1.4e-01 σ₂=2.5e-03:  97%|█████████▋| 583/600 [36:06<01:02,  3.69s/it]"
     ]
    },
    {
     "name": "stdout",
     "output_type": "stream",
     "text": [
      "  Epoca 583/600 | Train Loss=2.0704 | Train Acc=96.30% | Test Acc=97.58%\n"
     ]
    },
    {
     "name": "stderr",
     "output_type": "stream",
     "text": [
      "BBB π=0.75 σ₁=1.4e-01 σ₂=2.5e-03:  97%|█████████▋| 584/600 [36:10<00:58,  3.67s/it]"
     ]
    },
    {
     "name": "stdout",
     "output_type": "stream",
     "text": [
      "  Epoca 584/600 | Train Loss=2.0720 | Train Acc=96.19% | Test Acc=97.39%\n"
     ]
    },
    {
     "name": "stderr",
     "output_type": "stream",
     "text": [
      "BBB π=0.75 σ₁=1.4e-01 σ₂=2.5e-03:  98%|█████████▊| 585/600 [36:13<00:55,  3.68s/it]"
     ]
    },
    {
     "name": "stdout",
     "output_type": "stream",
     "text": [
      "  Epoca 585/600 | Train Loss=2.0764 | Train Acc=96.14% | Test Acc=97.45%\n"
     ]
    },
    {
     "name": "stderr",
     "output_type": "stream",
     "text": [
      "BBB π=0.75 σ₁=1.4e-01 σ₂=2.5e-03:  98%|█████████▊| 586/600 [36:17<00:51,  3.69s/it]"
     ]
    },
    {
     "name": "stdout",
     "output_type": "stream",
     "text": [
      "  Epoca 586/600 | Train Loss=2.0743 | Train Acc=96.27% | Test Acc=97.33%\n"
     ]
    },
    {
     "name": "stderr",
     "output_type": "stream",
     "text": [
      "BBB π=0.75 σ₁=1.4e-01 σ₂=2.5e-03:  98%|█████████▊| 587/600 [36:21<00:49,  3.79s/it]"
     ]
    },
    {
     "name": "stdout",
     "output_type": "stream",
     "text": [
      "  Epoca 587/600 | Train Loss=2.0733 | Train Acc=96.29% | Test Acc=97.59%\n"
     ]
    },
    {
     "name": "stderr",
     "output_type": "stream",
     "text": [
      "BBB π=0.75 σ₁=1.4e-01 σ₂=2.5e-03:  98%|█████████▊| 588/600 [36:25<00:45,  3.77s/it]"
     ]
    },
    {
     "name": "stdout",
     "output_type": "stream",
     "text": [
      "  Epoca 588/600 | Train Loss=2.0750 | Train Acc=96.17% | Test Acc=97.59%\n"
     ]
    },
    {
     "name": "stderr",
     "output_type": "stream",
     "text": [
      "BBB π=0.75 σ₁=1.4e-01 σ₂=2.5e-03:  98%|█████████▊| 589/600 [36:29<00:41,  3.73s/it]"
     ]
    },
    {
     "name": "stdout",
     "output_type": "stream",
     "text": [
      "  Epoca 589/600 | Train Loss=2.0756 | Train Acc=96.10% | Test Acc=97.30%\n"
     ]
    },
    {
     "name": "stderr",
     "output_type": "stream",
     "text": [
      "BBB π=0.75 σ₁=1.4e-01 σ₂=2.5e-03:  98%|█████████▊| 590/600 [36:32<00:37,  3.71s/it]"
     ]
    },
    {
     "name": "stdout",
     "output_type": "stream",
     "text": [
      "  Epoca 590/600 | Train Loss=2.0818 | Train Acc=95.93% | Test Acc=97.54%\n"
     ]
    },
    {
     "name": "stderr",
     "output_type": "stream",
     "text": [
      "BBB π=0.75 σ₁=1.4e-01 σ₂=2.5e-03:  98%|█████████▊| 591/600 [36:36<00:33,  3.70s/it]"
     ]
    },
    {
     "name": "stdout",
     "output_type": "stream",
     "text": [
      "  Epoca 591/600 | Train Loss=2.0749 | Train Acc=96.13% | Test Acc=97.55%\n"
     ]
    },
    {
     "name": "stderr",
     "output_type": "stream",
     "text": [
      "BBB π=0.75 σ₁=1.4e-01 σ₂=2.5e-03:  99%|█████████▊| 592/600 [36:40<00:29,  3.67s/it]"
     ]
    },
    {
     "name": "stdout",
     "output_type": "stream",
     "text": [
      "  Epoca 592/600 | Train Loss=2.0742 | Train Acc=96.24% | Test Acc=97.57%\n"
     ]
    },
    {
     "name": "stderr",
     "output_type": "stream",
     "text": [
      "BBB π=0.75 σ₁=1.4e-01 σ₂=2.5e-03:  99%|█████████▉| 593/600 [36:43<00:25,  3.68s/it]"
     ]
    },
    {
     "name": "stdout",
     "output_type": "stream",
     "text": [
      "  Epoca 593/600 | Train Loss=2.0781 | Train Acc=96.08% | Test Acc=97.54%\n"
     ]
    },
    {
     "name": "stderr",
     "output_type": "stream",
     "text": [
      "BBB π=0.75 σ₁=1.4e-01 σ₂=2.5e-03:  99%|█████████▉| 594/600 [36:47<00:22,  3.68s/it]"
     ]
    },
    {
     "name": "stdout",
     "output_type": "stream",
     "text": [
      "  Epoca 594/600 | Train Loss=2.0739 | Train Acc=96.16% | Test Acc=97.39%\n"
     ]
    },
    {
     "name": "stderr",
     "output_type": "stream",
     "text": [
      "BBB π=0.75 σ₁=1.4e-01 σ₂=2.5e-03:  99%|█████████▉| 595/600 [36:51<00:18,  3.76s/it]"
     ]
    },
    {
     "name": "stdout",
     "output_type": "stream",
     "text": [
      "  Epoca 595/600 | Train Loss=2.0776 | Train Acc=96.01% | Test Acc=97.47%\n"
     ]
    },
    {
     "name": "stderr",
     "output_type": "stream",
     "text": [
      "BBB π=0.75 σ₁=1.4e-01 σ₂=2.5e-03:  99%|█████████▉| 596/600 [36:55<00:15,  3.77s/it]"
     ]
    },
    {
     "name": "stdout",
     "output_type": "stream",
     "text": [
      "  Epoca 596/600 | Train Loss=2.0759 | Train Acc=96.16% | Test Acc=97.61%\n"
     ]
    },
    {
     "name": "stderr",
     "output_type": "stream",
     "text": [
      "BBB π=0.75 σ₁=1.4e-01 σ₂=2.5e-03: 100%|█████████▉| 597/600 [36:58<00:11,  3.73s/it]"
     ]
    },
    {
     "name": "stdout",
     "output_type": "stream",
     "text": [
      "  Epoca 597/600 | Train Loss=2.0716 | Train Acc=96.33% | Test Acc=97.59%\n"
     ]
    },
    {
     "name": "stderr",
     "output_type": "stream",
     "text": [
      "BBB π=0.75 σ₁=1.4e-01 σ₂=2.5e-03: 100%|█████████▉| 598/600 [37:02<00:07,  3.71s/it]"
     ]
    },
    {
     "name": "stdout",
     "output_type": "stream",
     "text": [
      "  Epoca 598/600 | Train Loss=2.0714 | Train Acc=96.19% | Test Acc=97.71%\n"
     ]
    },
    {
     "name": "stderr",
     "output_type": "stream",
     "text": [
      "BBB π=0.75 σ₁=1.4e-01 σ₂=2.5e-03: 100%|█████████▉| 599/600 [37:06<00:03,  3.68s/it]"
     ]
    },
    {
     "name": "stdout",
     "output_type": "stream",
     "text": [
      "  Epoca 599/600 | Train Loss=2.0765 | Train Acc=96.15% | Test Acc=97.47%\n"
     ]
    },
    {
     "name": "stderr",
     "output_type": "stream",
     "text": [
      "BBB π=0.75 σ₁=1.4e-01 σ₂=2.5e-03: 100%|██████████| 600/600 [37:09<00:00,  3.72s/it]"
     ]
    },
    {
     "name": "stdout",
     "output_type": "stream",
     "text": [
      "  Epoca 600/600 | Train Loss=2.0757 | Train Acc=96.16% | Test Acc=97.29%\n",
      "✅ BBB π=0.75, σ₁=1.4e-01, σ₂=2.5e-03 → Best Test Acc = 97.83%\n"
     ]
    },
    {
     "name": "stderr",
     "output_type": "stream",
     "text": [
      "\n"
     ]
    }
   ],
   "source": [
    "results_bbb = []  # memorizza (pi, sigma1, sigma2, best_test_acc)\n",
    "\n",
    "for pi in PI_LIST:\n",
    "    for sigma1 in SIGMA1_LIST:\n",
    "        for sigma2 in SIGMA2_LIST:\n",
    "            model = BayesianNet(INPUT_DIM, hidden_dim=400, output_dim=10,\n",
    "                                pi=pi, sigma1=sigma1, sigma2=sigma2).to(device)\n",
    "            optimizer = optim.Adam(model.parameters(), lr=LR_BBB)\n",
    "            best_test_acc = 0.0\n",
    "\n",
    "            # Barra di avanzamento per le epoche\n",
    "            epoch_desc = f\"BBB π={pi:.2f} σ₁={sigma1:.1e} σ₂={sigma2:.1e}\"\n",
    "            for epoch in trange(NUM_EPOCHS_BBB, desc=epoch_desc, leave=True):\n",
    "                model.train()\n",
    "                running_loss = 0.0\n",
    "                total = 0\n",
    "                correct = 0\n",
    "                num_batches = len(train_loader)\n",
    "\n",
    "                # Training loop senza tqdm sui batch\n",
    "                for data, target in train_loader:\n",
    "                    data, target = data.to(device), target.to(device)\n",
    "                    optimizer.zero_grad()\n",
    "                    output = model(data)                              # forward bayesiano\n",
    "                    nll = criterion(output, target)                   # negative log-likelihood\n",
    "                    kl_loss = model.kl / N_TRAIN                      # KL normalizzato\n",
    "                    loss = nll + kl_loss\n",
    "                    loss.backward()\n",
    "                    optimizer.step()\n",
    "\n",
    "                    running_loss += loss.item()\n",
    "                    preds = output.argmax(dim=1)\n",
    "                    correct += (preds == target).sum().item()\n",
    "                    total += target.size(0)\n",
    "\n",
    "                train_acc = correct / total * 100\n",
    "\n",
    "                # Valutazione su test (usando i pesi μ, sample=False)\n",
    "                model.eval()\n",
    "                correct_test = 0\n",
    "                total_test = 0\n",
    "                with torch.no_grad():\n",
    "                    for data, target in test_loader:\n",
    "                        data, target = data.to(device), target.to(device)\n",
    "                        x = F.relu(model.bl1(data, sample=False))\n",
    "                        x = F.relu(model.bl2(x, sample=False))\n",
    "                        logits = model.bl3(x, sample=False)\n",
    "                        preds = logits.argmax(dim=1)\n",
    "                        correct_test += (preds == target).sum().item()\n",
    "                        total_test += target.size(0)\n",
    "                test_acc = correct_test / total_test * 100\n",
    "                if test_acc > best_test_acc:\n",
    "                    best_test_acc = test_acc\n",
    "\n",
    "                # Print delle metriche a fine epoca\n",
    "                print(\n",
    "                    f\"  Epoca {epoch+1:02d}/{NUM_EPOCHS_BBB} | \"\n",
    "                    f\"Train Loss={running_loss/num_batches:.4f} | \"\n",
    "                    f\"Train Acc={train_acc:.2f}% | \"\n",
    "                    f\"Test Acc={test_acc:.2f}%\"\n",
    "                )\n",
    "\n",
    "            print(f\"✅ BBB π={pi:.2f}, σ₁={sigma1:.1e}, σ₂={sigma2:.1e} → \"\n",
    "                  f\"Best Test Acc = {best_test_acc:.2f}%\")\n",
    "            results_bbb.append((pi, sigma1, sigma2, best_test_acc))\n"
   ]
  },
  {
   "cell_type": "markdown",
   "id": "d00eb838",
   "metadata": {
    "_cell_guid": "8e334925-6487-4b48-b788-053db55e3ce8",
    "_uuid": "3f3cfe84-772d-4660-9d7b-1ea379dbc6dc",
    "collapsed": false,
    "jupyter": {
     "outputs_hidden": false
    },
    "papermill": {
     "duration": 0.053213,
     "end_time": "2025-06-07T11:10:08.108704",
     "exception": false,
     "start_time": "2025-06-07T11:10:08.055491",
     "status": "completed"
    },
    "tags": []
   },
   "source": [
    "## 📋 Risultati Aggregati"
   ]
  },
  {
   "cell_type": "code",
   "execution_count": 8,
   "id": "795cd339",
   "metadata": {
    "_cell_guid": "ec1e5eb7-6516-4a2e-9ab7-e75219a57a80",
    "_uuid": "f78d6706-9a7e-48d7-b700-73ce51109a0e",
    "collapsed": false,
    "execution": {
     "iopub.execute_input": "2025-06-07T11:10:08.216476Z",
     "iopub.status.busy": "2025-06-07T11:10:08.216125Z",
     "iopub.status.idle": "2025-06-07T11:10:08.222676Z",
     "shell.execute_reply": "2025-06-07T11:10:08.221746Z"
    },
    "jupyter": {
     "outputs_hidden": false
    },
    "papermill": {
     "duration": 0.061935,
     "end_time": "2025-06-07T11:10:08.223793",
     "exception": false,
     "start_time": "2025-06-07T11:10:08.161858",
     "status": "completed"
    },
    "tags": []
   },
   "outputs": [
    {
     "name": "stdout",
     "output_type": "stream",
     "text": [
      "\n",
      "📊 Risultati Bayes by Backprop (π, σ₁, σ₂, Best Test Accuracy):\n",
      "  π=0.75, σ₁=1.3534e-01, σ₂=2.4788e-03  →  Best Test Acc = 97.83%\n",
      "\n",
      "📊 Risultati Baseline TF:\n",
      "  SGD senza regularizzazione       → Best Test Acc = 97.90%\n",
      "  SGD + Dropout (p=0.5)             → Best Test Acc = 97.14%\n"
     ]
    }
   ],
   "source": [
    "print(\"\\n📊 Risultati Bayes by Backprop (π, σ₁, σ₂, Best Test Accuracy):\")\n",
    "for pi, s1, s2, acc in results_bbb:\n",
    "    print(f\"  π={pi:.2f}, σ₁={s1:.4e}, σ₂={s2:.4e}  →  Best Test Acc = {acc:.2f}%\")\n",
    "\n",
    "acc_baseline_sgd = acc_sgd * 100\n",
    "acc_baseline_do  = acc_do  * 100\n",
    "\n",
    "print(\"\\n📊 Risultati Baseline TF:\")\n",
    "print(f\"  SGD senza regularizzazione       → Best Test Acc = {acc_baseline_sgd:.2f}%\")\n",
    "print(f\"  SGD + Dropout (p=0.5)             → Best Test Acc = {acc_baseline_do:.2f}%\")\n"
   ]
  }
 ],
 "metadata": {
  "kaggle": {
   "accelerator": "gpu",
   "dataSources": [],
   "dockerImageVersionId": 31041,
   "isGpuEnabled": true,
   "isInternetEnabled": true,
   "language": "python",
   "sourceType": "notebook"
  },
  "kernelspec": {
   "display_name": "Python 3",
   "language": "python",
   "name": "python3"
  },
  "language_info": {
   "codemirror_mode": {
    "name": "ipython",
    "version": 3
   },
   "file_extension": ".py",
   "mimetype": "text/x-python",
   "name": "python",
   "nbconvert_exporter": "python",
   "pygments_lexer": "ipython3",
   "version": "3.11.11"
  },
  "papermill": {
   "default_parameters": {},
   "duration": 2328.808872,
   "end_time": "2025-06-07T11:10:11.222721",
   "environment_variables": {},
   "exception": null,
   "input_path": "__notebook__.ipynb",
   "output_path": "__notebook__.ipynb",
   "parameters": {},
   "start_time": "2025-06-07T10:31:22.413849",
   "version": "2.6.0"
  }
 },
 "nbformat": 4,
 "nbformat_minor": 5
}
